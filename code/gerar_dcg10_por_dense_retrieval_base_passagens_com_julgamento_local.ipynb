{
  "nbformat": 4,
  "nbformat_minor": 0,
  "metadata": {
    "colab": {
      "name": "gerar_dcg10_por_dense_retrieval_base_passagens_com_julgamento_local.ipynb",
      "provenance": [],
      "collapsed_sections": [],
      "machine_shape": "hm",
      "include_colab_link": true
    },
    "kernelspec": {
      "name": "python3",
      "display_name": "Python 3"
    },
    "language_info": {
      "name": "python"
    },
    "accelerator": "GPU",
    "widgets": {
      "application/vnd.jupyter.widget-state+json": {
        "e4d3578552cd4aa2b780fc64d09f7f8f": {
          "model_module": "@jupyter-widgets/controls",
          "model_name": "HBoxModel",
          "model_module_version": "1.5.0",
          "state": {
            "_view_name": "HBoxView",
            "_dom_classes": [],
            "_model_name": "HBoxModel",
            "_view_module": "@jupyter-widgets/controls",
            "_model_module_version": "1.5.0",
            "_view_count": null,
            "_view_module_version": "1.5.0",
            "box_style": "",
            "layout": "IPY_MODEL_372a6b8c099b4fb8b6fa51ffe76e6673",
            "_model_module": "@jupyter-widgets/controls",
            "children": [
              "IPY_MODEL_90286cfd68c140b095a57ff5f8177632",
              "IPY_MODEL_5fafb0bde3a745a99a66ff37775325c8",
              "IPY_MODEL_e057724fdf2d426e91742b4b8ddb9b3f"
            ]
          }
        },
        "372a6b8c099b4fb8b6fa51ffe76e6673": {
          "model_module": "@jupyter-widgets/base",
          "model_name": "LayoutModel",
          "model_module_version": "1.2.0",
          "state": {
            "_view_name": "LayoutView",
            "grid_template_rows": null,
            "right": null,
            "justify_content": null,
            "_view_module": "@jupyter-widgets/base",
            "overflow": null,
            "_model_module_version": "1.2.0",
            "_view_count": null,
            "flex_flow": null,
            "width": null,
            "min_width": null,
            "border": null,
            "align_items": null,
            "bottom": null,
            "_model_module": "@jupyter-widgets/base",
            "top": null,
            "grid_column": null,
            "overflow_y": null,
            "overflow_x": null,
            "grid_auto_flow": null,
            "grid_area": null,
            "grid_template_columns": null,
            "flex": null,
            "_model_name": "LayoutModel",
            "justify_items": null,
            "grid_row": null,
            "max_height": null,
            "align_content": null,
            "visibility": null,
            "align_self": null,
            "height": null,
            "min_height": null,
            "padding": null,
            "grid_auto_rows": null,
            "grid_gap": null,
            "max_width": null,
            "order": null,
            "_view_module_version": "1.2.0",
            "grid_template_areas": null,
            "object_position": null,
            "object_fit": null,
            "grid_auto_columns": null,
            "margin": null,
            "display": null,
            "left": null
          }
        },
        "90286cfd68c140b095a57ff5f8177632": {
          "model_module": "@jupyter-widgets/controls",
          "model_name": "HTMLModel",
          "model_module_version": "1.5.0",
          "state": {
            "_view_name": "HTMLView",
            "style": "IPY_MODEL_d5ebbeb4d2624c6eb5a8c0e1dda2ab95",
            "_dom_classes": [],
            "description": "",
            "_model_name": "HTMLModel",
            "placeholder": "​",
            "_view_module": "@jupyter-widgets/controls",
            "_model_module_version": "1.5.0",
            "value": "Downloading: 100%",
            "_view_count": null,
            "_view_module_version": "1.5.0",
            "description_tooltip": null,
            "_model_module": "@jupyter-widgets/controls",
            "layout": "IPY_MODEL_43b88bcd5a314f3583d23ec2d6ddaf7b"
          }
        },
        "5fafb0bde3a745a99a66ff37775325c8": {
          "model_module": "@jupyter-widgets/controls",
          "model_name": "FloatProgressModel",
          "model_module_version": "1.5.0",
          "state": {
            "_view_name": "ProgressView",
            "style": "IPY_MODEL_5405b31e9ce24823a85dcf0ff3d9b0c4",
            "_dom_classes": [],
            "description": "",
            "_model_name": "FloatProgressModel",
            "bar_style": "success",
            "max": 231508,
            "_view_module": "@jupyter-widgets/controls",
            "_model_module_version": "1.5.0",
            "value": 231508,
            "_view_count": null,
            "_view_module_version": "1.5.0",
            "orientation": "horizontal",
            "min": 0,
            "description_tooltip": null,
            "_model_module": "@jupyter-widgets/controls",
            "layout": "IPY_MODEL_7f5b40afc74440ffafcf00967545d143"
          }
        },
        "e057724fdf2d426e91742b4b8ddb9b3f": {
          "model_module": "@jupyter-widgets/controls",
          "model_name": "HTMLModel",
          "model_module_version": "1.5.0",
          "state": {
            "_view_name": "HTMLView",
            "style": "IPY_MODEL_ce92c19131ac42caa9a18bc19e5abdc7",
            "_dom_classes": [],
            "description": "",
            "_model_name": "HTMLModel",
            "placeholder": "​",
            "_view_module": "@jupyter-widgets/controls",
            "_model_module_version": "1.5.0",
            "value": " 232k/232k [00:00&lt;00:00, 2.48MB/s]",
            "_view_count": null,
            "_view_module_version": "1.5.0",
            "description_tooltip": null,
            "_model_module": "@jupyter-widgets/controls",
            "layout": "IPY_MODEL_dc2745ab0a5a4820b7860e7e709c6197"
          }
        },
        "d5ebbeb4d2624c6eb5a8c0e1dda2ab95": {
          "model_module": "@jupyter-widgets/controls",
          "model_name": "DescriptionStyleModel",
          "model_module_version": "1.5.0",
          "state": {
            "_view_name": "StyleView",
            "_model_name": "DescriptionStyleModel",
            "description_width": "",
            "_view_module": "@jupyter-widgets/base",
            "_model_module_version": "1.5.0",
            "_view_count": null,
            "_view_module_version": "1.2.0",
            "_model_module": "@jupyter-widgets/controls"
          }
        },
        "43b88bcd5a314f3583d23ec2d6ddaf7b": {
          "model_module": "@jupyter-widgets/base",
          "model_name": "LayoutModel",
          "model_module_version": "1.2.0",
          "state": {
            "_view_name": "LayoutView",
            "grid_template_rows": null,
            "right": null,
            "justify_content": null,
            "_view_module": "@jupyter-widgets/base",
            "overflow": null,
            "_model_module_version": "1.2.0",
            "_view_count": null,
            "flex_flow": null,
            "width": null,
            "min_width": null,
            "border": null,
            "align_items": null,
            "bottom": null,
            "_model_module": "@jupyter-widgets/base",
            "top": null,
            "grid_column": null,
            "overflow_y": null,
            "overflow_x": null,
            "grid_auto_flow": null,
            "grid_area": null,
            "grid_template_columns": null,
            "flex": null,
            "_model_name": "LayoutModel",
            "justify_items": null,
            "grid_row": null,
            "max_height": null,
            "align_content": null,
            "visibility": null,
            "align_self": null,
            "height": null,
            "min_height": null,
            "padding": null,
            "grid_auto_rows": null,
            "grid_gap": null,
            "max_width": null,
            "order": null,
            "_view_module_version": "1.2.0",
            "grid_template_areas": null,
            "object_position": null,
            "object_fit": null,
            "grid_auto_columns": null,
            "margin": null,
            "display": null,
            "left": null
          }
        },
        "5405b31e9ce24823a85dcf0ff3d9b0c4": {
          "model_module": "@jupyter-widgets/controls",
          "model_name": "ProgressStyleModel",
          "model_module_version": "1.5.0",
          "state": {
            "_view_name": "StyleView",
            "_model_name": "ProgressStyleModel",
            "description_width": "",
            "_view_module": "@jupyter-widgets/base",
            "_model_module_version": "1.5.0",
            "_view_count": null,
            "_view_module_version": "1.2.0",
            "bar_color": null,
            "_model_module": "@jupyter-widgets/controls"
          }
        },
        "7f5b40afc74440ffafcf00967545d143": {
          "model_module": "@jupyter-widgets/base",
          "model_name": "LayoutModel",
          "model_module_version": "1.2.0",
          "state": {
            "_view_name": "LayoutView",
            "grid_template_rows": null,
            "right": null,
            "justify_content": null,
            "_view_module": "@jupyter-widgets/base",
            "overflow": null,
            "_model_module_version": "1.2.0",
            "_view_count": null,
            "flex_flow": null,
            "width": null,
            "min_width": null,
            "border": null,
            "align_items": null,
            "bottom": null,
            "_model_module": "@jupyter-widgets/base",
            "top": null,
            "grid_column": null,
            "overflow_y": null,
            "overflow_x": null,
            "grid_auto_flow": null,
            "grid_area": null,
            "grid_template_columns": null,
            "flex": null,
            "_model_name": "LayoutModel",
            "justify_items": null,
            "grid_row": null,
            "max_height": null,
            "align_content": null,
            "visibility": null,
            "align_self": null,
            "height": null,
            "min_height": null,
            "padding": null,
            "grid_auto_rows": null,
            "grid_gap": null,
            "max_width": null,
            "order": null,
            "_view_module_version": "1.2.0",
            "grid_template_areas": null,
            "object_position": null,
            "object_fit": null,
            "grid_auto_columns": null,
            "margin": null,
            "display": null,
            "left": null
          }
        },
        "ce92c19131ac42caa9a18bc19e5abdc7": {
          "model_module": "@jupyter-widgets/controls",
          "model_name": "DescriptionStyleModel",
          "model_module_version": "1.5.0",
          "state": {
            "_view_name": "StyleView",
            "_model_name": "DescriptionStyleModel",
            "description_width": "",
            "_view_module": "@jupyter-widgets/base",
            "_model_module_version": "1.5.0",
            "_view_count": null,
            "_view_module_version": "1.2.0",
            "_model_module": "@jupyter-widgets/controls"
          }
        },
        "dc2745ab0a5a4820b7860e7e709c6197": {
          "model_module": "@jupyter-widgets/base",
          "model_name": "LayoutModel",
          "model_module_version": "1.2.0",
          "state": {
            "_view_name": "LayoutView",
            "grid_template_rows": null,
            "right": null,
            "justify_content": null,
            "_view_module": "@jupyter-widgets/base",
            "overflow": null,
            "_model_module_version": "1.2.0",
            "_view_count": null,
            "flex_flow": null,
            "width": null,
            "min_width": null,
            "border": null,
            "align_items": null,
            "bottom": null,
            "_model_module": "@jupyter-widgets/base",
            "top": null,
            "grid_column": null,
            "overflow_y": null,
            "overflow_x": null,
            "grid_auto_flow": null,
            "grid_area": null,
            "grid_template_columns": null,
            "flex": null,
            "_model_name": "LayoutModel",
            "justify_items": null,
            "grid_row": null,
            "max_height": null,
            "align_content": null,
            "visibility": null,
            "align_self": null,
            "height": null,
            "min_height": null,
            "padding": null,
            "grid_auto_rows": null,
            "grid_gap": null,
            "max_width": null,
            "order": null,
            "_view_module_version": "1.2.0",
            "grid_template_areas": null,
            "object_position": null,
            "object_fit": null,
            "grid_auto_columns": null,
            "margin": null,
            "display": null,
            "left": null
          }
        },
        "2e71158de35c48faa22346ce2033662f": {
          "model_module": "@jupyter-widgets/controls",
          "model_name": "HBoxModel",
          "model_module_version": "1.5.0",
          "state": {
            "_view_name": "HBoxView",
            "_dom_classes": [],
            "_model_name": "HBoxModel",
            "_view_module": "@jupyter-widgets/controls",
            "_model_module_version": "1.5.0",
            "_view_count": null,
            "_view_module_version": "1.5.0",
            "box_style": "",
            "layout": "IPY_MODEL_3c74eb0f98c24f80bdcbb1e3ed954cb2",
            "_model_module": "@jupyter-widgets/controls",
            "children": [
              "IPY_MODEL_109ef3c5737f49c9901eee43ace806cc",
              "IPY_MODEL_63c1b38ad36f4f89953f9fe7bb22509e",
              "IPY_MODEL_7976c9c5b4be4bb4a8f0b5db92d5caa0"
            ]
          }
        },
        "3c74eb0f98c24f80bdcbb1e3ed954cb2": {
          "model_module": "@jupyter-widgets/base",
          "model_name": "LayoutModel",
          "model_module_version": "1.2.0",
          "state": {
            "_view_name": "LayoutView",
            "grid_template_rows": null,
            "right": null,
            "justify_content": null,
            "_view_module": "@jupyter-widgets/base",
            "overflow": null,
            "_model_module_version": "1.2.0",
            "_view_count": null,
            "flex_flow": null,
            "width": null,
            "min_width": null,
            "border": null,
            "align_items": null,
            "bottom": null,
            "_model_module": "@jupyter-widgets/base",
            "top": null,
            "grid_column": null,
            "overflow_y": null,
            "overflow_x": null,
            "grid_auto_flow": null,
            "grid_area": null,
            "grid_template_columns": null,
            "flex": null,
            "_model_name": "LayoutModel",
            "justify_items": null,
            "grid_row": null,
            "max_height": null,
            "align_content": null,
            "visibility": null,
            "align_self": null,
            "height": null,
            "min_height": null,
            "padding": null,
            "grid_auto_rows": null,
            "grid_gap": null,
            "max_width": null,
            "order": null,
            "_view_module_version": "1.2.0",
            "grid_template_areas": null,
            "object_position": null,
            "object_fit": null,
            "grid_auto_columns": null,
            "margin": null,
            "display": null,
            "left": null
          }
        },
        "109ef3c5737f49c9901eee43ace806cc": {
          "model_module": "@jupyter-widgets/controls",
          "model_name": "HTMLModel",
          "model_module_version": "1.5.0",
          "state": {
            "_view_name": "HTMLView",
            "style": "IPY_MODEL_bbfd48ded1bf48b6ad9ed703b7a76938",
            "_dom_classes": [],
            "description": "",
            "_model_name": "HTMLModel",
            "placeholder": "​",
            "_view_module": "@jupyter-widgets/controls",
            "_model_module_version": "1.5.0",
            "value": "Downloading: 100%",
            "_view_count": null,
            "_view_module_version": "1.5.0",
            "description_tooltip": null,
            "_model_module": "@jupyter-widgets/controls",
            "layout": "IPY_MODEL_6228247d34b2443fb845dd26d2354b0f"
          }
        },
        "63c1b38ad36f4f89953f9fe7bb22509e": {
          "model_module": "@jupyter-widgets/controls",
          "model_name": "FloatProgressModel",
          "model_module_version": "1.5.0",
          "state": {
            "_view_name": "ProgressView",
            "style": "IPY_MODEL_96d7ce08669b45ffb07e351548178191",
            "_dom_classes": [],
            "description": "",
            "_model_name": "FloatProgressModel",
            "bar_style": "success",
            "max": 466062,
            "_view_module": "@jupyter-widgets/controls",
            "_model_module_version": "1.5.0",
            "value": 466062,
            "_view_count": null,
            "_view_module_version": "1.5.0",
            "orientation": "horizontal",
            "min": 0,
            "description_tooltip": null,
            "_model_module": "@jupyter-widgets/controls",
            "layout": "IPY_MODEL_8c32f2deddf449438bb94e31df45ba6b"
          }
        },
        "7976c9c5b4be4bb4a8f0b5db92d5caa0": {
          "model_module": "@jupyter-widgets/controls",
          "model_name": "HTMLModel",
          "model_module_version": "1.5.0",
          "state": {
            "_view_name": "HTMLView",
            "style": "IPY_MODEL_502274798cd84406a6048e46be962fe5",
            "_dom_classes": [],
            "description": "",
            "_model_name": "HTMLModel",
            "placeholder": "​",
            "_view_module": "@jupyter-widgets/controls",
            "_model_module_version": "1.5.0",
            "value": " 466k/466k [00:00&lt;00:00, 2.34MB/s]",
            "_view_count": null,
            "_view_module_version": "1.5.0",
            "description_tooltip": null,
            "_model_module": "@jupyter-widgets/controls",
            "layout": "IPY_MODEL_caacf44eb3fc4f7a84995523b85ebac0"
          }
        },
        "bbfd48ded1bf48b6ad9ed703b7a76938": {
          "model_module": "@jupyter-widgets/controls",
          "model_name": "DescriptionStyleModel",
          "model_module_version": "1.5.0",
          "state": {
            "_view_name": "StyleView",
            "_model_name": "DescriptionStyleModel",
            "description_width": "",
            "_view_module": "@jupyter-widgets/base",
            "_model_module_version": "1.5.0",
            "_view_count": null,
            "_view_module_version": "1.2.0",
            "_model_module": "@jupyter-widgets/controls"
          }
        },
        "6228247d34b2443fb845dd26d2354b0f": {
          "model_module": "@jupyter-widgets/base",
          "model_name": "LayoutModel",
          "model_module_version": "1.2.0",
          "state": {
            "_view_name": "LayoutView",
            "grid_template_rows": null,
            "right": null,
            "justify_content": null,
            "_view_module": "@jupyter-widgets/base",
            "overflow": null,
            "_model_module_version": "1.2.0",
            "_view_count": null,
            "flex_flow": null,
            "width": null,
            "min_width": null,
            "border": null,
            "align_items": null,
            "bottom": null,
            "_model_module": "@jupyter-widgets/base",
            "top": null,
            "grid_column": null,
            "overflow_y": null,
            "overflow_x": null,
            "grid_auto_flow": null,
            "grid_area": null,
            "grid_template_columns": null,
            "flex": null,
            "_model_name": "LayoutModel",
            "justify_items": null,
            "grid_row": null,
            "max_height": null,
            "align_content": null,
            "visibility": null,
            "align_self": null,
            "height": null,
            "min_height": null,
            "padding": null,
            "grid_auto_rows": null,
            "grid_gap": null,
            "max_width": null,
            "order": null,
            "_view_module_version": "1.2.0",
            "grid_template_areas": null,
            "object_position": null,
            "object_fit": null,
            "grid_auto_columns": null,
            "margin": null,
            "display": null,
            "left": null
          }
        },
        "96d7ce08669b45ffb07e351548178191": {
          "model_module": "@jupyter-widgets/controls",
          "model_name": "ProgressStyleModel",
          "model_module_version": "1.5.0",
          "state": {
            "_view_name": "StyleView",
            "_model_name": "ProgressStyleModel",
            "description_width": "",
            "_view_module": "@jupyter-widgets/base",
            "_model_module_version": "1.5.0",
            "_view_count": null,
            "_view_module_version": "1.2.0",
            "bar_color": null,
            "_model_module": "@jupyter-widgets/controls"
          }
        },
        "8c32f2deddf449438bb94e31df45ba6b": {
          "model_module": "@jupyter-widgets/base",
          "model_name": "LayoutModel",
          "model_module_version": "1.2.0",
          "state": {
            "_view_name": "LayoutView",
            "grid_template_rows": null,
            "right": null,
            "justify_content": null,
            "_view_module": "@jupyter-widgets/base",
            "overflow": null,
            "_model_module_version": "1.2.0",
            "_view_count": null,
            "flex_flow": null,
            "width": null,
            "min_width": null,
            "border": null,
            "align_items": null,
            "bottom": null,
            "_model_module": "@jupyter-widgets/base",
            "top": null,
            "grid_column": null,
            "overflow_y": null,
            "overflow_x": null,
            "grid_auto_flow": null,
            "grid_area": null,
            "grid_template_columns": null,
            "flex": null,
            "_model_name": "LayoutModel",
            "justify_items": null,
            "grid_row": null,
            "max_height": null,
            "align_content": null,
            "visibility": null,
            "align_self": null,
            "height": null,
            "min_height": null,
            "padding": null,
            "grid_auto_rows": null,
            "grid_gap": null,
            "max_width": null,
            "order": null,
            "_view_module_version": "1.2.0",
            "grid_template_areas": null,
            "object_position": null,
            "object_fit": null,
            "grid_auto_columns": null,
            "margin": null,
            "display": null,
            "left": null
          }
        },
        "502274798cd84406a6048e46be962fe5": {
          "model_module": "@jupyter-widgets/controls",
          "model_name": "DescriptionStyleModel",
          "model_module_version": "1.5.0",
          "state": {
            "_view_name": "StyleView",
            "_model_name": "DescriptionStyleModel",
            "description_width": "",
            "_view_module": "@jupyter-widgets/base",
            "_model_module_version": "1.5.0",
            "_view_count": null,
            "_view_module_version": "1.2.0",
            "_model_module": "@jupyter-widgets/controls"
          }
        },
        "caacf44eb3fc4f7a84995523b85ebac0": {
          "model_module": "@jupyter-widgets/base",
          "model_name": "LayoutModel",
          "model_module_version": "1.2.0",
          "state": {
            "_view_name": "LayoutView",
            "grid_template_rows": null,
            "right": null,
            "justify_content": null,
            "_view_module": "@jupyter-widgets/base",
            "overflow": null,
            "_model_module_version": "1.2.0",
            "_view_count": null,
            "flex_flow": null,
            "width": null,
            "min_width": null,
            "border": null,
            "align_items": null,
            "bottom": null,
            "_model_module": "@jupyter-widgets/base",
            "top": null,
            "grid_column": null,
            "overflow_y": null,
            "overflow_x": null,
            "grid_auto_flow": null,
            "grid_area": null,
            "grid_template_columns": null,
            "flex": null,
            "_model_name": "LayoutModel",
            "justify_items": null,
            "grid_row": null,
            "max_height": null,
            "align_content": null,
            "visibility": null,
            "align_self": null,
            "height": null,
            "min_height": null,
            "padding": null,
            "grid_auto_rows": null,
            "grid_gap": null,
            "max_width": null,
            "order": null,
            "_view_module_version": "1.2.0",
            "grid_template_areas": null,
            "object_position": null,
            "object_fit": null,
            "grid_auto_columns": null,
            "margin": null,
            "display": null,
            "left": null
          }
        },
        "7f64c42c98ae4f1e8fb8bcad09a1b943": {
          "model_module": "@jupyter-widgets/controls",
          "model_name": "HBoxModel",
          "model_module_version": "1.5.0",
          "state": {
            "_view_name": "HBoxView",
            "_dom_classes": [],
            "_model_name": "HBoxModel",
            "_view_module": "@jupyter-widgets/controls",
            "_model_module_version": "1.5.0",
            "_view_count": null,
            "_view_module_version": "1.5.0",
            "box_style": "",
            "layout": "IPY_MODEL_8c31c2ac5615478599dc5be07e180211",
            "_model_module": "@jupyter-widgets/controls",
            "children": [
              "IPY_MODEL_00b4d86449f047c6bea5998690631a5f",
              "IPY_MODEL_50c49d4fe0c9470c84341322221dc461",
              "IPY_MODEL_bf6498f2d4584db9ac93d32541273963"
            ]
          }
        },
        "8c31c2ac5615478599dc5be07e180211": {
          "model_module": "@jupyter-widgets/base",
          "model_name": "LayoutModel",
          "model_module_version": "1.2.0",
          "state": {
            "_view_name": "LayoutView",
            "grid_template_rows": null,
            "right": null,
            "justify_content": null,
            "_view_module": "@jupyter-widgets/base",
            "overflow": null,
            "_model_module_version": "1.2.0",
            "_view_count": null,
            "flex_flow": null,
            "width": null,
            "min_width": null,
            "border": null,
            "align_items": null,
            "bottom": null,
            "_model_module": "@jupyter-widgets/base",
            "top": null,
            "grid_column": null,
            "overflow_y": null,
            "overflow_x": null,
            "grid_auto_flow": null,
            "grid_area": null,
            "grid_template_columns": null,
            "flex": null,
            "_model_name": "LayoutModel",
            "justify_items": null,
            "grid_row": null,
            "max_height": null,
            "align_content": null,
            "visibility": null,
            "align_self": null,
            "height": null,
            "min_height": null,
            "padding": null,
            "grid_auto_rows": null,
            "grid_gap": null,
            "max_width": null,
            "order": null,
            "_view_module_version": "1.2.0",
            "grid_template_areas": null,
            "object_position": null,
            "object_fit": null,
            "grid_auto_columns": null,
            "margin": null,
            "display": null,
            "left": null
          }
        },
        "00b4d86449f047c6bea5998690631a5f": {
          "model_module": "@jupyter-widgets/controls",
          "model_name": "HTMLModel",
          "model_module_version": "1.5.0",
          "state": {
            "_view_name": "HTMLView",
            "style": "IPY_MODEL_932e87f0886d45629316d8390218c7a1",
            "_dom_classes": [],
            "description": "",
            "_model_name": "HTMLModel",
            "placeholder": "​",
            "_view_module": "@jupyter-widgets/controls",
            "_model_module_version": "1.5.0",
            "value": "Downloading: 100%",
            "_view_count": null,
            "_view_module_version": "1.5.0",
            "description_tooltip": null,
            "_model_module": "@jupyter-widgets/controls",
            "layout": "IPY_MODEL_84670e106717468dab16d5a076651018"
          }
        },
        "50c49d4fe0c9470c84341322221dc461": {
          "model_module": "@jupyter-widgets/controls",
          "model_name": "FloatProgressModel",
          "model_module_version": "1.5.0",
          "state": {
            "_view_name": "ProgressView",
            "style": "IPY_MODEL_37a7c1ff1241497791eb0dc79b7e2ddb",
            "_dom_classes": [],
            "description": "",
            "_model_name": "FloatProgressModel",
            "bar_style": "success",
            "max": 28,
            "_view_module": "@jupyter-widgets/controls",
            "_model_module_version": "1.5.0",
            "value": 28,
            "_view_count": null,
            "_view_module_version": "1.5.0",
            "orientation": "horizontal",
            "min": 0,
            "description_tooltip": null,
            "_model_module": "@jupyter-widgets/controls",
            "layout": "IPY_MODEL_52917d3baec6466c802a5ee62e05d03e"
          }
        },
        "bf6498f2d4584db9ac93d32541273963": {
          "model_module": "@jupyter-widgets/controls",
          "model_name": "HTMLModel",
          "model_module_version": "1.5.0",
          "state": {
            "_view_name": "HTMLView",
            "style": "IPY_MODEL_d3dc31fcb9584468abd2733cc092242b",
            "_dom_classes": [],
            "description": "",
            "_model_name": "HTMLModel",
            "placeholder": "​",
            "_view_module": "@jupyter-widgets/controls",
            "_model_module_version": "1.5.0",
            "value": " 28.0/28.0 [00:00&lt;00:00, 952B/s]",
            "_view_count": null,
            "_view_module_version": "1.5.0",
            "description_tooltip": null,
            "_model_module": "@jupyter-widgets/controls",
            "layout": "IPY_MODEL_981944fd4c8a49228aa9cae1fd05fe75"
          }
        },
        "932e87f0886d45629316d8390218c7a1": {
          "model_module": "@jupyter-widgets/controls",
          "model_name": "DescriptionStyleModel",
          "model_module_version": "1.5.0",
          "state": {
            "_view_name": "StyleView",
            "_model_name": "DescriptionStyleModel",
            "description_width": "",
            "_view_module": "@jupyter-widgets/base",
            "_model_module_version": "1.5.0",
            "_view_count": null,
            "_view_module_version": "1.2.0",
            "_model_module": "@jupyter-widgets/controls"
          }
        },
        "84670e106717468dab16d5a076651018": {
          "model_module": "@jupyter-widgets/base",
          "model_name": "LayoutModel",
          "model_module_version": "1.2.0",
          "state": {
            "_view_name": "LayoutView",
            "grid_template_rows": null,
            "right": null,
            "justify_content": null,
            "_view_module": "@jupyter-widgets/base",
            "overflow": null,
            "_model_module_version": "1.2.0",
            "_view_count": null,
            "flex_flow": null,
            "width": null,
            "min_width": null,
            "border": null,
            "align_items": null,
            "bottom": null,
            "_model_module": "@jupyter-widgets/base",
            "top": null,
            "grid_column": null,
            "overflow_y": null,
            "overflow_x": null,
            "grid_auto_flow": null,
            "grid_area": null,
            "grid_template_columns": null,
            "flex": null,
            "_model_name": "LayoutModel",
            "justify_items": null,
            "grid_row": null,
            "max_height": null,
            "align_content": null,
            "visibility": null,
            "align_self": null,
            "height": null,
            "min_height": null,
            "padding": null,
            "grid_auto_rows": null,
            "grid_gap": null,
            "max_width": null,
            "order": null,
            "_view_module_version": "1.2.0",
            "grid_template_areas": null,
            "object_position": null,
            "object_fit": null,
            "grid_auto_columns": null,
            "margin": null,
            "display": null,
            "left": null
          }
        },
        "37a7c1ff1241497791eb0dc79b7e2ddb": {
          "model_module": "@jupyter-widgets/controls",
          "model_name": "ProgressStyleModel",
          "model_module_version": "1.5.0",
          "state": {
            "_view_name": "StyleView",
            "_model_name": "ProgressStyleModel",
            "description_width": "",
            "_view_module": "@jupyter-widgets/base",
            "_model_module_version": "1.5.0",
            "_view_count": null,
            "_view_module_version": "1.2.0",
            "bar_color": null,
            "_model_module": "@jupyter-widgets/controls"
          }
        },
        "52917d3baec6466c802a5ee62e05d03e": {
          "model_module": "@jupyter-widgets/base",
          "model_name": "LayoutModel",
          "model_module_version": "1.2.0",
          "state": {
            "_view_name": "LayoutView",
            "grid_template_rows": null,
            "right": null,
            "justify_content": null,
            "_view_module": "@jupyter-widgets/base",
            "overflow": null,
            "_model_module_version": "1.2.0",
            "_view_count": null,
            "flex_flow": null,
            "width": null,
            "min_width": null,
            "border": null,
            "align_items": null,
            "bottom": null,
            "_model_module": "@jupyter-widgets/base",
            "top": null,
            "grid_column": null,
            "overflow_y": null,
            "overflow_x": null,
            "grid_auto_flow": null,
            "grid_area": null,
            "grid_template_columns": null,
            "flex": null,
            "_model_name": "LayoutModel",
            "justify_items": null,
            "grid_row": null,
            "max_height": null,
            "align_content": null,
            "visibility": null,
            "align_self": null,
            "height": null,
            "min_height": null,
            "padding": null,
            "grid_auto_rows": null,
            "grid_gap": null,
            "max_width": null,
            "order": null,
            "_view_module_version": "1.2.0",
            "grid_template_areas": null,
            "object_position": null,
            "object_fit": null,
            "grid_auto_columns": null,
            "margin": null,
            "display": null,
            "left": null
          }
        },
        "d3dc31fcb9584468abd2733cc092242b": {
          "model_module": "@jupyter-widgets/controls",
          "model_name": "DescriptionStyleModel",
          "model_module_version": "1.5.0",
          "state": {
            "_view_name": "StyleView",
            "_model_name": "DescriptionStyleModel",
            "description_width": "",
            "_view_module": "@jupyter-widgets/base",
            "_model_module_version": "1.5.0",
            "_view_count": null,
            "_view_module_version": "1.2.0",
            "_model_module": "@jupyter-widgets/controls"
          }
        },
        "981944fd4c8a49228aa9cae1fd05fe75": {
          "model_module": "@jupyter-widgets/base",
          "model_name": "LayoutModel",
          "model_module_version": "1.2.0",
          "state": {
            "_view_name": "LayoutView",
            "grid_template_rows": null,
            "right": null,
            "justify_content": null,
            "_view_module": "@jupyter-widgets/base",
            "overflow": null,
            "_model_module_version": "1.2.0",
            "_view_count": null,
            "flex_flow": null,
            "width": null,
            "min_width": null,
            "border": null,
            "align_items": null,
            "bottom": null,
            "_model_module": "@jupyter-widgets/base",
            "top": null,
            "grid_column": null,
            "overflow_y": null,
            "overflow_x": null,
            "grid_auto_flow": null,
            "grid_area": null,
            "grid_template_columns": null,
            "flex": null,
            "_model_name": "LayoutModel",
            "justify_items": null,
            "grid_row": null,
            "max_height": null,
            "align_content": null,
            "visibility": null,
            "align_self": null,
            "height": null,
            "min_height": null,
            "padding": null,
            "grid_auto_rows": null,
            "grid_gap": null,
            "max_width": null,
            "order": null,
            "_view_module_version": "1.2.0",
            "grid_template_areas": null,
            "object_position": null,
            "object_fit": null,
            "grid_auto_columns": null,
            "margin": null,
            "display": null,
            "left": null
          }
        },
        "c766a498085646b1a0c23de7c778abd7": {
          "model_module": "@jupyter-widgets/controls",
          "model_name": "HBoxModel",
          "model_module_version": "1.5.0",
          "state": {
            "_view_name": "HBoxView",
            "_dom_classes": [],
            "_model_name": "HBoxModel",
            "_view_module": "@jupyter-widgets/controls",
            "_model_module_version": "1.5.0",
            "_view_count": null,
            "_view_module_version": "1.5.0",
            "box_style": "",
            "layout": "IPY_MODEL_c8406b0a1e7744a4818278987d0fb138",
            "_model_module": "@jupyter-widgets/controls",
            "children": [
              "IPY_MODEL_1735d0fe8a37439dae2dd5a3f196b628",
              "IPY_MODEL_e2eaada50ed4463594079d9eafee2cd9",
              "IPY_MODEL_1f1a170514ea4425840996557be53a3c"
            ]
          }
        },
        "c8406b0a1e7744a4818278987d0fb138": {
          "model_module": "@jupyter-widgets/base",
          "model_name": "LayoutModel",
          "model_module_version": "1.2.0",
          "state": {
            "_view_name": "LayoutView",
            "grid_template_rows": null,
            "right": null,
            "justify_content": null,
            "_view_module": "@jupyter-widgets/base",
            "overflow": null,
            "_model_module_version": "1.2.0",
            "_view_count": null,
            "flex_flow": null,
            "width": null,
            "min_width": null,
            "border": null,
            "align_items": null,
            "bottom": null,
            "_model_module": "@jupyter-widgets/base",
            "top": null,
            "grid_column": null,
            "overflow_y": null,
            "overflow_x": null,
            "grid_auto_flow": null,
            "grid_area": null,
            "grid_template_columns": null,
            "flex": null,
            "_model_name": "LayoutModel",
            "justify_items": null,
            "grid_row": null,
            "max_height": null,
            "align_content": null,
            "visibility": null,
            "align_self": null,
            "height": null,
            "min_height": null,
            "padding": null,
            "grid_auto_rows": null,
            "grid_gap": null,
            "max_width": null,
            "order": null,
            "_view_module_version": "1.2.0",
            "grid_template_areas": null,
            "object_position": null,
            "object_fit": null,
            "grid_auto_columns": null,
            "margin": null,
            "display": null,
            "left": null
          }
        },
        "1735d0fe8a37439dae2dd5a3f196b628": {
          "model_module": "@jupyter-widgets/controls",
          "model_name": "HTMLModel",
          "model_module_version": "1.5.0",
          "state": {
            "_view_name": "HTMLView",
            "style": "IPY_MODEL_52b5275d2662474482e92ff3d227e075",
            "_dom_classes": [],
            "description": "",
            "_model_name": "HTMLModel",
            "placeholder": "​",
            "_view_module": "@jupyter-widgets/controls",
            "_model_module_version": "1.5.0",
            "value": "Downloading: 100%",
            "_view_count": null,
            "_view_module_version": "1.5.0",
            "description_tooltip": null,
            "_model_module": "@jupyter-widgets/controls",
            "layout": "IPY_MODEL_02c641e90211451bb1ba00f17006ee40"
          }
        },
        "e2eaada50ed4463594079d9eafee2cd9": {
          "model_module": "@jupyter-widgets/controls",
          "model_name": "FloatProgressModel",
          "model_module_version": "1.5.0",
          "state": {
            "_view_name": "ProgressView",
            "style": "IPY_MODEL_d7797f3d936a4571b2d1db1b5f7c9df0",
            "_dom_classes": [],
            "description": "",
            "_model_name": "FloatProgressModel",
            "bar_style": "success",
            "max": 493,
            "_view_module": "@jupyter-widgets/controls",
            "_model_module_version": "1.5.0",
            "value": 493,
            "_view_count": null,
            "_view_module_version": "1.5.0",
            "orientation": "horizontal",
            "min": 0,
            "description_tooltip": null,
            "_model_module": "@jupyter-widgets/controls",
            "layout": "IPY_MODEL_a922a3fc814740419b672f75c4f0f837"
          }
        },
        "1f1a170514ea4425840996557be53a3c": {
          "model_module": "@jupyter-widgets/controls",
          "model_name": "HTMLModel",
          "model_module_version": "1.5.0",
          "state": {
            "_view_name": "HTMLView",
            "style": "IPY_MODEL_15780f93ab2441b582ba9367bd339624",
            "_dom_classes": [],
            "description": "",
            "_model_name": "HTMLModel",
            "placeholder": "​",
            "_view_module": "@jupyter-widgets/controls",
            "_model_module_version": "1.5.0",
            "value": " 493/493 [00:00&lt;00:00, 9.43kB/s]",
            "_view_count": null,
            "_view_module_version": "1.5.0",
            "description_tooltip": null,
            "_model_module": "@jupyter-widgets/controls",
            "layout": "IPY_MODEL_307473fc6c844f7bbeed8143cccae35f"
          }
        },
        "52b5275d2662474482e92ff3d227e075": {
          "model_module": "@jupyter-widgets/controls",
          "model_name": "DescriptionStyleModel",
          "model_module_version": "1.5.0",
          "state": {
            "_view_name": "StyleView",
            "_model_name": "DescriptionStyleModel",
            "description_width": "",
            "_view_module": "@jupyter-widgets/base",
            "_model_module_version": "1.5.0",
            "_view_count": null,
            "_view_module_version": "1.2.0",
            "_model_module": "@jupyter-widgets/controls"
          }
        },
        "02c641e90211451bb1ba00f17006ee40": {
          "model_module": "@jupyter-widgets/base",
          "model_name": "LayoutModel",
          "model_module_version": "1.2.0",
          "state": {
            "_view_name": "LayoutView",
            "grid_template_rows": null,
            "right": null,
            "justify_content": null,
            "_view_module": "@jupyter-widgets/base",
            "overflow": null,
            "_model_module_version": "1.2.0",
            "_view_count": null,
            "flex_flow": null,
            "width": null,
            "min_width": null,
            "border": null,
            "align_items": null,
            "bottom": null,
            "_model_module": "@jupyter-widgets/base",
            "top": null,
            "grid_column": null,
            "overflow_y": null,
            "overflow_x": null,
            "grid_auto_flow": null,
            "grid_area": null,
            "grid_template_columns": null,
            "flex": null,
            "_model_name": "LayoutModel",
            "justify_items": null,
            "grid_row": null,
            "max_height": null,
            "align_content": null,
            "visibility": null,
            "align_self": null,
            "height": null,
            "min_height": null,
            "padding": null,
            "grid_auto_rows": null,
            "grid_gap": null,
            "max_width": null,
            "order": null,
            "_view_module_version": "1.2.0",
            "grid_template_areas": null,
            "object_position": null,
            "object_fit": null,
            "grid_auto_columns": null,
            "margin": null,
            "display": null,
            "left": null
          }
        },
        "d7797f3d936a4571b2d1db1b5f7c9df0": {
          "model_module": "@jupyter-widgets/controls",
          "model_name": "ProgressStyleModel",
          "model_module_version": "1.5.0",
          "state": {
            "_view_name": "StyleView",
            "_model_name": "ProgressStyleModel",
            "description_width": "",
            "_view_module": "@jupyter-widgets/base",
            "_model_module_version": "1.5.0",
            "_view_count": null,
            "_view_module_version": "1.2.0",
            "bar_color": null,
            "_model_module": "@jupyter-widgets/controls"
          }
        },
        "a922a3fc814740419b672f75c4f0f837": {
          "model_module": "@jupyter-widgets/base",
          "model_name": "LayoutModel",
          "model_module_version": "1.2.0",
          "state": {
            "_view_name": "LayoutView",
            "grid_template_rows": null,
            "right": null,
            "justify_content": null,
            "_view_module": "@jupyter-widgets/base",
            "overflow": null,
            "_model_module_version": "1.2.0",
            "_view_count": null,
            "flex_flow": null,
            "width": null,
            "min_width": null,
            "border": null,
            "align_items": null,
            "bottom": null,
            "_model_module": "@jupyter-widgets/base",
            "top": null,
            "grid_column": null,
            "overflow_y": null,
            "overflow_x": null,
            "grid_auto_flow": null,
            "grid_area": null,
            "grid_template_columns": null,
            "flex": null,
            "_model_name": "LayoutModel",
            "justify_items": null,
            "grid_row": null,
            "max_height": null,
            "align_content": null,
            "visibility": null,
            "align_self": null,
            "height": null,
            "min_height": null,
            "padding": null,
            "grid_auto_rows": null,
            "grid_gap": null,
            "max_width": null,
            "order": null,
            "_view_module_version": "1.2.0",
            "grid_template_areas": null,
            "object_position": null,
            "object_fit": null,
            "grid_auto_columns": null,
            "margin": null,
            "display": null,
            "left": null
          }
        },
        "15780f93ab2441b582ba9367bd339624": {
          "model_module": "@jupyter-widgets/controls",
          "model_name": "DescriptionStyleModel",
          "model_module_version": "1.5.0",
          "state": {
            "_view_name": "StyleView",
            "_model_name": "DescriptionStyleModel",
            "description_width": "",
            "_view_module": "@jupyter-widgets/base",
            "_model_module_version": "1.5.0",
            "_view_count": null,
            "_view_module_version": "1.2.0",
            "_model_module": "@jupyter-widgets/controls"
          }
        },
        "307473fc6c844f7bbeed8143cccae35f": {
          "model_module": "@jupyter-widgets/base",
          "model_name": "LayoutModel",
          "model_module_version": "1.2.0",
          "state": {
            "_view_name": "LayoutView",
            "grid_template_rows": null,
            "right": null,
            "justify_content": null,
            "_view_module": "@jupyter-widgets/base",
            "overflow": null,
            "_model_module_version": "1.2.0",
            "_view_count": null,
            "flex_flow": null,
            "width": null,
            "min_width": null,
            "border": null,
            "align_items": null,
            "bottom": null,
            "_model_module": "@jupyter-widgets/base",
            "top": null,
            "grid_column": null,
            "overflow_y": null,
            "overflow_x": null,
            "grid_auto_flow": null,
            "grid_area": null,
            "grid_template_columns": null,
            "flex": null,
            "_model_name": "LayoutModel",
            "justify_items": null,
            "grid_row": null,
            "max_height": null,
            "align_content": null,
            "visibility": null,
            "align_self": null,
            "height": null,
            "min_height": null,
            "padding": null,
            "grid_auto_rows": null,
            "grid_gap": null,
            "max_width": null,
            "order": null,
            "_view_module_version": "1.2.0",
            "grid_template_areas": null,
            "object_position": null,
            "object_fit": null,
            "grid_auto_columns": null,
            "margin": null,
            "display": null,
            "left": null
          }
        },
        "d4f3005f5f834bc99e5ca2a1f71a8090": {
          "model_module": "@jupyter-widgets/controls",
          "model_name": "HBoxModel",
          "model_module_version": "1.5.0",
          "state": {
            "_view_name": "HBoxView",
            "_dom_classes": [],
            "_model_name": "HBoxModel",
            "_view_module": "@jupyter-widgets/controls",
            "_model_module_version": "1.5.0",
            "_view_count": null,
            "_view_module_version": "1.5.0",
            "box_style": "",
            "layout": "IPY_MODEL_3b6d7e2c944340a7afe037a2b9ee4f00",
            "_model_module": "@jupyter-widgets/controls",
            "children": [
              "IPY_MODEL_ecb7648f89a54ba9b8a3188d6cf8dcdf",
              "IPY_MODEL_56c6aba3e9a2421280bfcd8360a2a41e",
              "IPY_MODEL_ef4300167b8841afbf7ae6c1d0c5d222"
            ]
          }
        },
        "3b6d7e2c944340a7afe037a2b9ee4f00": {
          "model_module": "@jupyter-widgets/base",
          "model_name": "LayoutModel",
          "model_module_version": "1.2.0",
          "state": {
            "_view_name": "LayoutView",
            "grid_template_rows": null,
            "right": null,
            "justify_content": null,
            "_view_module": "@jupyter-widgets/base",
            "overflow": null,
            "_model_module_version": "1.2.0",
            "_view_count": null,
            "flex_flow": null,
            "width": null,
            "min_width": null,
            "border": null,
            "align_items": null,
            "bottom": null,
            "_model_module": "@jupyter-widgets/base",
            "top": null,
            "grid_column": null,
            "overflow_y": null,
            "overflow_x": null,
            "grid_auto_flow": null,
            "grid_area": null,
            "grid_template_columns": null,
            "flex": null,
            "_model_name": "LayoutModel",
            "justify_items": null,
            "grid_row": null,
            "max_height": null,
            "align_content": null,
            "visibility": null,
            "align_self": null,
            "height": null,
            "min_height": null,
            "padding": null,
            "grid_auto_rows": null,
            "grid_gap": null,
            "max_width": null,
            "order": null,
            "_view_module_version": "1.2.0",
            "grid_template_areas": null,
            "object_position": null,
            "object_fit": null,
            "grid_auto_columns": null,
            "margin": null,
            "display": null,
            "left": null
          }
        },
        "ecb7648f89a54ba9b8a3188d6cf8dcdf": {
          "model_module": "@jupyter-widgets/controls",
          "model_name": "HTMLModel",
          "model_module_version": "1.5.0",
          "state": {
            "_view_name": "HTMLView",
            "style": "IPY_MODEL_2f28af2361d14d1787ee8d0427a81a53",
            "_dom_classes": [],
            "description": "",
            "_model_name": "HTMLModel",
            "placeholder": "​",
            "_view_module": "@jupyter-widgets/controls",
            "_model_module_version": "1.5.0",
            "value": "Downloading: 100%",
            "_view_count": null,
            "_view_module_version": "1.5.0",
            "description_tooltip": null,
            "_model_module": "@jupyter-widgets/controls",
            "layout": "IPY_MODEL_d5366185fa9f4b39a5078e4c7122d926"
          }
        },
        "56c6aba3e9a2421280bfcd8360a2a41e": {
          "model_module": "@jupyter-widgets/controls",
          "model_name": "FloatProgressModel",
          "model_module_version": "1.5.0",
          "state": {
            "_view_name": "ProgressView",
            "style": "IPY_MODEL_92456fcbd97845e7af58b2544aa6a145",
            "_dom_classes": [],
            "description": "",
            "_model_name": "FloatProgressModel",
            "bar_style": "success",
            "max": 437986065,
            "_view_module": "@jupyter-widgets/controls",
            "_model_module_version": "1.5.0",
            "value": 437986065,
            "_view_count": null,
            "_view_module_version": "1.5.0",
            "orientation": "horizontal",
            "min": 0,
            "description_tooltip": null,
            "_model_module": "@jupyter-widgets/controls",
            "layout": "IPY_MODEL_48e56eef0b7947b9981ea0c343183d06"
          }
        },
        "ef4300167b8841afbf7ae6c1d0c5d222": {
          "model_module": "@jupyter-widgets/controls",
          "model_name": "HTMLModel",
          "model_module_version": "1.5.0",
          "state": {
            "_view_name": "HTMLView",
            "style": "IPY_MODEL_4fd539e2cb9246248dd393d3c4aa9e85",
            "_dom_classes": [],
            "description": "",
            "_model_name": "HTMLModel",
            "placeholder": "​",
            "_view_module": "@jupyter-widgets/controls",
            "_model_module_version": "1.5.0",
            "value": " 438M/438M [00:12&lt;00:00, 36.5MB/s]",
            "_view_count": null,
            "_view_module_version": "1.5.0",
            "description_tooltip": null,
            "_model_module": "@jupyter-widgets/controls",
            "layout": "IPY_MODEL_995fa0d0a1ca4f2480970e3e4ad0d513"
          }
        },
        "2f28af2361d14d1787ee8d0427a81a53": {
          "model_module": "@jupyter-widgets/controls",
          "model_name": "DescriptionStyleModel",
          "model_module_version": "1.5.0",
          "state": {
            "_view_name": "StyleView",
            "_model_name": "DescriptionStyleModel",
            "description_width": "",
            "_view_module": "@jupyter-widgets/base",
            "_model_module_version": "1.5.0",
            "_view_count": null,
            "_view_module_version": "1.2.0",
            "_model_module": "@jupyter-widgets/controls"
          }
        },
        "d5366185fa9f4b39a5078e4c7122d926": {
          "model_module": "@jupyter-widgets/base",
          "model_name": "LayoutModel",
          "model_module_version": "1.2.0",
          "state": {
            "_view_name": "LayoutView",
            "grid_template_rows": null,
            "right": null,
            "justify_content": null,
            "_view_module": "@jupyter-widgets/base",
            "overflow": null,
            "_model_module_version": "1.2.0",
            "_view_count": null,
            "flex_flow": null,
            "width": null,
            "min_width": null,
            "border": null,
            "align_items": null,
            "bottom": null,
            "_model_module": "@jupyter-widgets/base",
            "top": null,
            "grid_column": null,
            "overflow_y": null,
            "overflow_x": null,
            "grid_auto_flow": null,
            "grid_area": null,
            "grid_template_columns": null,
            "flex": null,
            "_model_name": "LayoutModel",
            "justify_items": null,
            "grid_row": null,
            "max_height": null,
            "align_content": null,
            "visibility": null,
            "align_self": null,
            "height": null,
            "min_height": null,
            "padding": null,
            "grid_auto_rows": null,
            "grid_gap": null,
            "max_width": null,
            "order": null,
            "_view_module_version": "1.2.0",
            "grid_template_areas": null,
            "object_position": null,
            "object_fit": null,
            "grid_auto_columns": null,
            "margin": null,
            "display": null,
            "left": null
          }
        },
        "92456fcbd97845e7af58b2544aa6a145": {
          "model_module": "@jupyter-widgets/controls",
          "model_name": "ProgressStyleModel",
          "model_module_version": "1.5.0",
          "state": {
            "_view_name": "StyleView",
            "_model_name": "ProgressStyleModel",
            "description_width": "",
            "_view_module": "@jupyter-widgets/base",
            "_model_module_version": "1.5.0",
            "_view_count": null,
            "_view_module_version": "1.2.0",
            "bar_color": null,
            "_model_module": "@jupyter-widgets/controls"
          }
        },
        "48e56eef0b7947b9981ea0c343183d06": {
          "model_module": "@jupyter-widgets/base",
          "model_name": "LayoutModel",
          "model_module_version": "1.2.0",
          "state": {
            "_view_name": "LayoutView",
            "grid_template_rows": null,
            "right": null,
            "justify_content": null,
            "_view_module": "@jupyter-widgets/base",
            "overflow": null,
            "_model_module_version": "1.2.0",
            "_view_count": null,
            "flex_flow": null,
            "width": null,
            "min_width": null,
            "border": null,
            "align_items": null,
            "bottom": null,
            "_model_module": "@jupyter-widgets/base",
            "top": null,
            "grid_column": null,
            "overflow_y": null,
            "overflow_x": null,
            "grid_auto_flow": null,
            "grid_area": null,
            "grid_template_columns": null,
            "flex": null,
            "_model_name": "LayoutModel",
            "justify_items": null,
            "grid_row": null,
            "max_height": null,
            "align_content": null,
            "visibility": null,
            "align_self": null,
            "height": null,
            "min_height": null,
            "padding": null,
            "grid_auto_rows": null,
            "grid_gap": null,
            "max_width": null,
            "order": null,
            "_view_module_version": "1.2.0",
            "grid_template_areas": null,
            "object_position": null,
            "object_fit": null,
            "grid_auto_columns": null,
            "margin": null,
            "display": null,
            "left": null
          }
        },
        "4fd539e2cb9246248dd393d3c4aa9e85": {
          "model_module": "@jupyter-widgets/controls",
          "model_name": "DescriptionStyleModel",
          "model_module_version": "1.5.0",
          "state": {
            "_view_name": "StyleView",
            "_model_name": "DescriptionStyleModel",
            "description_width": "",
            "_view_module": "@jupyter-widgets/base",
            "_model_module_version": "1.5.0",
            "_view_count": null,
            "_view_module_version": "1.2.0",
            "_model_module": "@jupyter-widgets/controls"
          }
        },
        "995fa0d0a1ca4f2480970e3e4ad0d513": {
          "model_module": "@jupyter-widgets/base",
          "model_name": "LayoutModel",
          "model_module_version": "1.2.0",
          "state": {
            "_view_name": "LayoutView",
            "grid_template_rows": null,
            "right": null,
            "justify_content": null,
            "_view_module": "@jupyter-widgets/base",
            "overflow": null,
            "_model_module_version": "1.2.0",
            "_view_count": null,
            "flex_flow": null,
            "width": null,
            "min_width": null,
            "border": null,
            "align_items": null,
            "bottom": null,
            "_model_module": "@jupyter-widgets/base",
            "top": null,
            "grid_column": null,
            "overflow_y": null,
            "overflow_x": null,
            "grid_auto_flow": null,
            "grid_area": null,
            "grid_template_columns": null,
            "flex": null,
            "_model_name": "LayoutModel",
            "justify_items": null,
            "grid_row": null,
            "max_height": null,
            "align_content": null,
            "visibility": null,
            "align_self": null,
            "height": null,
            "min_height": null,
            "padding": null,
            "grid_auto_rows": null,
            "grid_gap": null,
            "max_width": null,
            "order": null,
            "_view_module_version": "1.2.0",
            "grid_template_areas": null,
            "object_position": null,
            "object_fit": null,
            "grid_auto_columns": null,
            "margin": null,
            "display": null,
            "left": null
          }
        },
        "2058a83f88e947079b10bc355e804056": {
          "model_module": "@jupyter-widgets/controls",
          "model_name": "HBoxModel",
          "model_module_version": "1.5.0",
          "state": {
            "_view_name": "HBoxView",
            "_dom_classes": [],
            "_model_name": "HBoxModel",
            "_view_module": "@jupyter-widgets/controls",
            "_model_module_version": "1.5.0",
            "_view_count": null,
            "_view_module_version": "1.5.0",
            "box_style": "",
            "layout": "IPY_MODEL_857c3e9d83ce47d89b9d2b10f58ef3f9",
            "_model_module": "@jupyter-widgets/controls",
            "children": [
              "IPY_MODEL_84859d64085d46d0b6de5b64bffc35e8",
              "IPY_MODEL_58437bbeaba94a7ba40c40ef0a354034",
              "IPY_MODEL_2450d928c6d44472b25d6cbe6cbc1979"
            ]
          }
        },
        "857c3e9d83ce47d89b9d2b10f58ef3f9": {
          "model_module": "@jupyter-widgets/base",
          "model_name": "LayoutModel",
          "model_module_version": "1.2.0",
          "state": {
            "_view_name": "LayoutView",
            "grid_template_rows": null,
            "right": null,
            "justify_content": null,
            "_view_module": "@jupyter-widgets/base",
            "overflow": null,
            "_model_module_version": "1.2.0",
            "_view_count": null,
            "flex_flow": null,
            "width": null,
            "min_width": null,
            "border": null,
            "align_items": null,
            "bottom": null,
            "_model_module": "@jupyter-widgets/base",
            "top": null,
            "grid_column": null,
            "overflow_y": null,
            "overflow_x": null,
            "grid_auto_flow": null,
            "grid_area": null,
            "grid_template_columns": null,
            "flex": null,
            "_model_name": "LayoutModel",
            "justify_items": null,
            "grid_row": null,
            "max_height": null,
            "align_content": null,
            "visibility": null,
            "align_self": null,
            "height": null,
            "min_height": null,
            "padding": null,
            "grid_auto_rows": null,
            "grid_gap": null,
            "max_width": null,
            "order": null,
            "_view_module_version": "1.2.0",
            "grid_template_areas": null,
            "object_position": null,
            "object_fit": null,
            "grid_auto_columns": null,
            "margin": null,
            "display": null,
            "left": null
          }
        },
        "84859d64085d46d0b6de5b64bffc35e8": {
          "model_module": "@jupyter-widgets/controls",
          "model_name": "HTMLModel",
          "model_module_version": "1.5.0",
          "state": {
            "_view_name": "HTMLView",
            "style": "IPY_MODEL_047a4c72e74e46119ae40869ecc189cb",
            "_dom_classes": [],
            "description": "",
            "_model_name": "HTMLModel",
            "placeholder": "​",
            "_view_module": "@jupyter-widgets/controls",
            "_model_module_version": "1.5.0",
            "value": "Downloading: 100%",
            "_view_count": null,
            "_view_module_version": "1.5.0",
            "description_tooltip": null,
            "_model_module": "@jupyter-widgets/controls",
            "layout": "IPY_MODEL_98e8c4c5304c4210b7f418c722cb24b5"
          }
        },
        "58437bbeaba94a7ba40c40ef0a354034": {
          "model_module": "@jupyter-widgets/controls",
          "model_name": "FloatProgressModel",
          "model_module_version": "1.5.0",
          "state": {
            "_view_name": "ProgressView",
            "style": "IPY_MODEL_76562cb2e41f4e8986e022118ef1dc87",
            "_dom_classes": [],
            "description": "",
            "_model_name": "FloatProgressModel",
            "bar_style": "success",
            "max": 231508,
            "_view_module": "@jupyter-widgets/controls",
            "_model_module_version": "1.5.0",
            "value": 231508,
            "_view_count": null,
            "_view_module_version": "1.5.0",
            "orientation": "horizontal",
            "min": 0,
            "description_tooltip": null,
            "_model_module": "@jupyter-widgets/controls",
            "layout": "IPY_MODEL_5521c188a6cc4edeaf1c9263fa4780a3"
          }
        },
        "2450d928c6d44472b25d6cbe6cbc1979": {
          "model_module": "@jupyter-widgets/controls",
          "model_name": "HTMLModel",
          "model_module_version": "1.5.0",
          "state": {
            "_view_name": "HTMLView",
            "style": "IPY_MODEL_16d36ef50ff24b1bbe1d9b770d0e8389",
            "_dom_classes": [],
            "description": "",
            "_model_name": "HTMLModel",
            "placeholder": "​",
            "_view_module": "@jupyter-widgets/controls",
            "_model_module_version": "1.5.0",
            "value": " 232k/232k [00:00&lt;00:00, 1.84MB/s]",
            "_view_count": null,
            "_view_module_version": "1.5.0",
            "description_tooltip": null,
            "_model_module": "@jupyter-widgets/controls",
            "layout": "IPY_MODEL_af4b0db240da4effa9d308edc9be3772"
          }
        },
        "047a4c72e74e46119ae40869ecc189cb": {
          "model_module": "@jupyter-widgets/controls",
          "model_name": "DescriptionStyleModel",
          "model_module_version": "1.5.0",
          "state": {
            "_view_name": "StyleView",
            "_model_name": "DescriptionStyleModel",
            "description_width": "",
            "_view_module": "@jupyter-widgets/base",
            "_model_module_version": "1.5.0",
            "_view_count": null,
            "_view_module_version": "1.2.0",
            "_model_module": "@jupyter-widgets/controls"
          }
        },
        "98e8c4c5304c4210b7f418c722cb24b5": {
          "model_module": "@jupyter-widgets/base",
          "model_name": "LayoutModel",
          "model_module_version": "1.2.0",
          "state": {
            "_view_name": "LayoutView",
            "grid_template_rows": null,
            "right": null,
            "justify_content": null,
            "_view_module": "@jupyter-widgets/base",
            "overflow": null,
            "_model_module_version": "1.2.0",
            "_view_count": null,
            "flex_flow": null,
            "width": null,
            "min_width": null,
            "border": null,
            "align_items": null,
            "bottom": null,
            "_model_module": "@jupyter-widgets/base",
            "top": null,
            "grid_column": null,
            "overflow_y": null,
            "overflow_x": null,
            "grid_auto_flow": null,
            "grid_area": null,
            "grid_template_columns": null,
            "flex": null,
            "_model_name": "LayoutModel",
            "justify_items": null,
            "grid_row": null,
            "max_height": null,
            "align_content": null,
            "visibility": null,
            "align_self": null,
            "height": null,
            "min_height": null,
            "padding": null,
            "grid_auto_rows": null,
            "grid_gap": null,
            "max_width": null,
            "order": null,
            "_view_module_version": "1.2.0",
            "grid_template_areas": null,
            "object_position": null,
            "object_fit": null,
            "grid_auto_columns": null,
            "margin": null,
            "display": null,
            "left": null
          }
        },
        "76562cb2e41f4e8986e022118ef1dc87": {
          "model_module": "@jupyter-widgets/controls",
          "model_name": "ProgressStyleModel",
          "model_module_version": "1.5.0",
          "state": {
            "_view_name": "StyleView",
            "_model_name": "ProgressStyleModel",
            "description_width": "",
            "_view_module": "@jupyter-widgets/base",
            "_model_module_version": "1.5.0",
            "_view_count": null,
            "_view_module_version": "1.2.0",
            "bar_color": null,
            "_model_module": "@jupyter-widgets/controls"
          }
        },
        "5521c188a6cc4edeaf1c9263fa4780a3": {
          "model_module": "@jupyter-widgets/base",
          "model_name": "LayoutModel",
          "model_module_version": "1.2.0",
          "state": {
            "_view_name": "LayoutView",
            "grid_template_rows": null,
            "right": null,
            "justify_content": null,
            "_view_module": "@jupyter-widgets/base",
            "overflow": null,
            "_model_module_version": "1.2.0",
            "_view_count": null,
            "flex_flow": null,
            "width": null,
            "min_width": null,
            "border": null,
            "align_items": null,
            "bottom": null,
            "_model_module": "@jupyter-widgets/base",
            "top": null,
            "grid_column": null,
            "overflow_y": null,
            "overflow_x": null,
            "grid_auto_flow": null,
            "grid_area": null,
            "grid_template_columns": null,
            "flex": null,
            "_model_name": "LayoutModel",
            "justify_items": null,
            "grid_row": null,
            "max_height": null,
            "align_content": null,
            "visibility": null,
            "align_self": null,
            "height": null,
            "min_height": null,
            "padding": null,
            "grid_auto_rows": null,
            "grid_gap": null,
            "max_width": null,
            "order": null,
            "_view_module_version": "1.2.0",
            "grid_template_areas": null,
            "object_position": null,
            "object_fit": null,
            "grid_auto_columns": null,
            "margin": null,
            "display": null,
            "left": null
          }
        },
        "16d36ef50ff24b1bbe1d9b770d0e8389": {
          "model_module": "@jupyter-widgets/controls",
          "model_name": "DescriptionStyleModel",
          "model_module_version": "1.5.0",
          "state": {
            "_view_name": "StyleView",
            "_model_name": "DescriptionStyleModel",
            "description_width": "",
            "_view_module": "@jupyter-widgets/base",
            "_model_module_version": "1.5.0",
            "_view_count": null,
            "_view_module_version": "1.2.0",
            "_model_module": "@jupyter-widgets/controls"
          }
        },
        "af4b0db240da4effa9d308edc9be3772": {
          "model_module": "@jupyter-widgets/base",
          "model_name": "LayoutModel",
          "model_module_version": "1.2.0",
          "state": {
            "_view_name": "LayoutView",
            "grid_template_rows": null,
            "right": null,
            "justify_content": null,
            "_view_module": "@jupyter-widgets/base",
            "overflow": null,
            "_model_module_version": "1.2.0",
            "_view_count": null,
            "flex_flow": null,
            "width": null,
            "min_width": null,
            "border": null,
            "align_items": null,
            "bottom": null,
            "_model_module": "@jupyter-widgets/base",
            "top": null,
            "grid_column": null,
            "overflow_y": null,
            "overflow_x": null,
            "grid_auto_flow": null,
            "grid_area": null,
            "grid_template_columns": null,
            "flex": null,
            "_model_name": "LayoutModel",
            "justify_items": null,
            "grid_row": null,
            "max_height": null,
            "align_content": null,
            "visibility": null,
            "align_self": null,
            "height": null,
            "min_height": null,
            "padding": null,
            "grid_auto_rows": null,
            "grid_gap": null,
            "max_width": null,
            "order": null,
            "_view_module_version": "1.2.0",
            "grid_template_areas": null,
            "object_position": null,
            "object_fit": null,
            "grid_auto_columns": null,
            "margin": null,
            "display": null,
            "left": null
          }
        },
        "e23c546c885547ef89e651c205573afb": {
          "model_module": "@jupyter-widgets/controls",
          "model_name": "HBoxModel",
          "model_module_version": "1.5.0",
          "state": {
            "_view_name": "HBoxView",
            "_dom_classes": [],
            "_model_name": "HBoxModel",
            "_view_module": "@jupyter-widgets/controls",
            "_model_module_version": "1.5.0",
            "_view_count": null,
            "_view_module_version": "1.5.0",
            "box_style": "",
            "layout": "IPY_MODEL_2f936e23a06448ca8bb7b8f21e3c6827",
            "_model_module": "@jupyter-widgets/controls",
            "children": [
              "IPY_MODEL_f61272df197e4aa3b388e2d64db341ed",
              "IPY_MODEL_0d781371c0bf49549c4c8250baae34d7",
              "IPY_MODEL_70cacb33a8354a0988295dbd041646ac"
            ]
          }
        },
        "2f936e23a06448ca8bb7b8f21e3c6827": {
          "model_module": "@jupyter-widgets/base",
          "model_name": "LayoutModel",
          "model_module_version": "1.2.0",
          "state": {
            "_view_name": "LayoutView",
            "grid_template_rows": null,
            "right": null,
            "justify_content": null,
            "_view_module": "@jupyter-widgets/base",
            "overflow": null,
            "_model_module_version": "1.2.0",
            "_view_count": null,
            "flex_flow": null,
            "width": null,
            "min_width": null,
            "border": null,
            "align_items": null,
            "bottom": null,
            "_model_module": "@jupyter-widgets/base",
            "top": null,
            "grid_column": null,
            "overflow_y": null,
            "overflow_x": null,
            "grid_auto_flow": null,
            "grid_area": null,
            "grid_template_columns": null,
            "flex": null,
            "_model_name": "LayoutModel",
            "justify_items": null,
            "grid_row": null,
            "max_height": null,
            "align_content": null,
            "visibility": null,
            "align_self": null,
            "height": null,
            "min_height": null,
            "padding": null,
            "grid_auto_rows": null,
            "grid_gap": null,
            "max_width": null,
            "order": null,
            "_view_module_version": "1.2.0",
            "grid_template_areas": null,
            "object_position": null,
            "object_fit": null,
            "grid_auto_columns": null,
            "margin": null,
            "display": null,
            "left": null
          }
        },
        "f61272df197e4aa3b388e2d64db341ed": {
          "model_module": "@jupyter-widgets/controls",
          "model_name": "HTMLModel",
          "model_module_version": "1.5.0",
          "state": {
            "_view_name": "HTMLView",
            "style": "IPY_MODEL_d291ba80795743eda38a71f4509262e1",
            "_dom_classes": [],
            "description": "",
            "_model_name": "HTMLModel",
            "placeholder": "​",
            "_view_module": "@jupyter-widgets/controls",
            "_model_module_version": "1.5.0",
            "value": "Downloading: 100%",
            "_view_count": null,
            "_view_module_version": "1.5.0",
            "description_tooltip": null,
            "_model_module": "@jupyter-widgets/controls",
            "layout": "IPY_MODEL_df85f7a1c6c14d1a85b14079a35ac50f"
          }
        },
        "0d781371c0bf49549c4c8250baae34d7": {
          "model_module": "@jupyter-widgets/controls",
          "model_name": "FloatProgressModel",
          "model_module_version": "1.5.0",
          "state": {
            "_view_name": "ProgressView",
            "style": "IPY_MODEL_f5151cf72204481ea0ec553362cd2505",
            "_dom_classes": [],
            "description": "",
            "_model_name": "FloatProgressModel",
            "bar_style": "success",
            "max": 466062,
            "_view_module": "@jupyter-widgets/controls",
            "_model_module_version": "1.5.0",
            "value": 466062,
            "_view_count": null,
            "_view_module_version": "1.5.0",
            "orientation": "horizontal",
            "min": 0,
            "description_tooltip": null,
            "_model_module": "@jupyter-widgets/controls",
            "layout": "IPY_MODEL_ffc8ad56cb5045089498d081af5c8a56"
          }
        },
        "70cacb33a8354a0988295dbd041646ac": {
          "model_module": "@jupyter-widgets/controls",
          "model_name": "HTMLModel",
          "model_module_version": "1.5.0",
          "state": {
            "_view_name": "HTMLView",
            "style": "IPY_MODEL_b5f61a1b7e2b405dac9bd79b50223fb8",
            "_dom_classes": [],
            "description": "",
            "_model_name": "HTMLModel",
            "placeholder": "​",
            "_view_module": "@jupyter-widgets/controls",
            "_model_module_version": "1.5.0",
            "value": " 466k/466k [00:00&lt;00:00, 2.61MB/s]",
            "_view_count": null,
            "_view_module_version": "1.5.0",
            "description_tooltip": null,
            "_model_module": "@jupyter-widgets/controls",
            "layout": "IPY_MODEL_2a92741272de4197b743e611cc49fe42"
          }
        },
        "d291ba80795743eda38a71f4509262e1": {
          "model_module": "@jupyter-widgets/controls",
          "model_name": "DescriptionStyleModel",
          "model_module_version": "1.5.0",
          "state": {
            "_view_name": "StyleView",
            "_model_name": "DescriptionStyleModel",
            "description_width": "",
            "_view_module": "@jupyter-widgets/base",
            "_model_module_version": "1.5.0",
            "_view_count": null,
            "_view_module_version": "1.2.0",
            "_model_module": "@jupyter-widgets/controls"
          }
        },
        "df85f7a1c6c14d1a85b14079a35ac50f": {
          "model_module": "@jupyter-widgets/base",
          "model_name": "LayoutModel",
          "model_module_version": "1.2.0",
          "state": {
            "_view_name": "LayoutView",
            "grid_template_rows": null,
            "right": null,
            "justify_content": null,
            "_view_module": "@jupyter-widgets/base",
            "overflow": null,
            "_model_module_version": "1.2.0",
            "_view_count": null,
            "flex_flow": null,
            "width": null,
            "min_width": null,
            "border": null,
            "align_items": null,
            "bottom": null,
            "_model_module": "@jupyter-widgets/base",
            "top": null,
            "grid_column": null,
            "overflow_y": null,
            "overflow_x": null,
            "grid_auto_flow": null,
            "grid_area": null,
            "grid_template_columns": null,
            "flex": null,
            "_model_name": "LayoutModel",
            "justify_items": null,
            "grid_row": null,
            "max_height": null,
            "align_content": null,
            "visibility": null,
            "align_self": null,
            "height": null,
            "min_height": null,
            "padding": null,
            "grid_auto_rows": null,
            "grid_gap": null,
            "max_width": null,
            "order": null,
            "_view_module_version": "1.2.0",
            "grid_template_areas": null,
            "object_position": null,
            "object_fit": null,
            "grid_auto_columns": null,
            "margin": null,
            "display": null,
            "left": null
          }
        },
        "f5151cf72204481ea0ec553362cd2505": {
          "model_module": "@jupyter-widgets/controls",
          "model_name": "ProgressStyleModel",
          "model_module_version": "1.5.0",
          "state": {
            "_view_name": "StyleView",
            "_model_name": "ProgressStyleModel",
            "description_width": "",
            "_view_module": "@jupyter-widgets/base",
            "_model_module_version": "1.5.0",
            "_view_count": null,
            "_view_module_version": "1.2.0",
            "bar_color": null,
            "_model_module": "@jupyter-widgets/controls"
          }
        },
        "ffc8ad56cb5045089498d081af5c8a56": {
          "model_module": "@jupyter-widgets/base",
          "model_name": "LayoutModel",
          "model_module_version": "1.2.0",
          "state": {
            "_view_name": "LayoutView",
            "grid_template_rows": null,
            "right": null,
            "justify_content": null,
            "_view_module": "@jupyter-widgets/base",
            "overflow": null,
            "_model_module_version": "1.2.0",
            "_view_count": null,
            "flex_flow": null,
            "width": null,
            "min_width": null,
            "border": null,
            "align_items": null,
            "bottom": null,
            "_model_module": "@jupyter-widgets/base",
            "top": null,
            "grid_column": null,
            "overflow_y": null,
            "overflow_x": null,
            "grid_auto_flow": null,
            "grid_area": null,
            "grid_template_columns": null,
            "flex": null,
            "_model_name": "LayoutModel",
            "justify_items": null,
            "grid_row": null,
            "max_height": null,
            "align_content": null,
            "visibility": null,
            "align_self": null,
            "height": null,
            "min_height": null,
            "padding": null,
            "grid_auto_rows": null,
            "grid_gap": null,
            "max_width": null,
            "order": null,
            "_view_module_version": "1.2.0",
            "grid_template_areas": null,
            "object_position": null,
            "object_fit": null,
            "grid_auto_columns": null,
            "margin": null,
            "display": null,
            "left": null
          }
        },
        "b5f61a1b7e2b405dac9bd79b50223fb8": {
          "model_module": "@jupyter-widgets/controls",
          "model_name": "DescriptionStyleModel",
          "model_module_version": "1.5.0",
          "state": {
            "_view_name": "StyleView",
            "_model_name": "DescriptionStyleModel",
            "description_width": "",
            "_view_module": "@jupyter-widgets/base",
            "_model_module_version": "1.5.0",
            "_view_count": null,
            "_view_module_version": "1.2.0",
            "_model_module": "@jupyter-widgets/controls"
          }
        },
        "2a92741272de4197b743e611cc49fe42": {
          "model_module": "@jupyter-widgets/base",
          "model_name": "LayoutModel",
          "model_module_version": "1.2.0",
          "state": {
            "_view_name": "LayoutView",
            "grid_template_rows": null,
            "right": null,
            "justify_content": null,
            "_view_module": "@jupyter-widgets/base",
            "overflow": null,
            "_model_module_version": "1.2.0",
            "_view_count": null,
            "flex_flow": null,
            "width": null,
            "min_width": null,
            "border": null,
            "align_items": null,
            "bottom": null,
            "_model_module": "@jupyter-widgets/base",
            "top": null,
            "grid_column": null,
            "overflow_y": null,
            "overflow_x": null,
            "grid_auto_flow": null,
            "grid_area": null,
            "grid_template_columns": null,
            "flex": null,
            "_model_name": "LayoutModel",
            "justify_items": null,
            "grid_row": null,
            "max_height": null,
            "align_content": null,
            "visibility": null,
            "align_self": null,
            "height": null,
            "min_height": null,
            "padding": null,
            "grid_auto_rows": null,
            "grid_gap": null,
            "max_width": null,
            "order": null,
            "_view_module_version": "1.2.0",
            "grid_template_areas": null,
            "object_position": null,
            "object_fit": null,
            "grid_auto_columns": null,
            "margin": null,
            "display": null,
            "left": null
          }
        },
        "b587e766b759475b94b267e6f27b1bf5": {
          "model_module": "@jupyter-widgets/controls",
          "model_name": "HBoxModel",
          "model_module_version": "1.5.0",
          "state": {
            "_view_name": "HBoxView",
            "_dom_classes": [],
            "_model_name": "HBoxModel",
            "_view_module": "@jupyter-widgets/controls",
            "_model_module_version": "1.5.0",
            "_view_count": null,
            "_view_module_version": "1.5.0",
            "box_style": "",
            "layout": "IPY_MODEL_52c06ed4f7cf4a68bc576c1fde5a0285",
            "_model_module": "@jupyter-widgets/controls",
            "children": [
              "IPY_MODEL_b66f55844e6d44d4b5c00c82f9f764ea",
              "IPY_MODEL_19ad00eac0b8484e9253421f86045561",
              "IPY_MODEL_c1c29af757014ea68898d021d8279bd5"
            ]
          }
        },
        "52c06ed4f7cf4a68bc576c1fde5a0285": {
          "model_module": "@jupyter-widgets/base",
          "model_name": "LayoutModel",
          "model_module_version": "1.2.0",
          "state": {
            "_view_name": "LayoutView",
            "grid_template_rows": null,
            "right": null,
            "justify_content": null,
            "_view_module": "@jupyter-widgets/base",
            "overflow": null,
            "_model_module_version": "1.2.0",
            "_view_count": null,
            "flex_flow": null,
            "width": null,
            "min_width": null,
            "border": null,
            "align_items": null,
            "bottom": null,
            "_model_module": "@jupyter-widgets/base",
            "top": null,
            "grid_column": null,
            "overflow_y": null,
            "overflow_x": null,
            "grid_auto_flow": null,
            "grid_area": null,
            "grid_template_columns": null,
            "flex": null,
            "_model_name": "LayoutModel",
            "justify_items": null,
            "grid_row": null,
            "max_height": null,
            "align_content": null,
            "visibility": null,
            "align_self": null,
            "height": null,
            "min_height": null,
            "padding": null,
            "grid_auto_rows": null,
            "grid_gap": null,
            "max_width": null,
            "order": null,
            "_view_module_version": "1.2.0",
            "grid_template_areas": null,
            "object_position": null,
            "object_fit": null,
            "grid_auto_columns": null,
            "margin": null,
            "display": null,
            "left": null
          }
        },
        "b66f55844e6d44d4b5c00c82f9f764ea": {
          "model_module": "@jupyter-widgets/controls",
          "model_name": "HTMLModel",
          "model_module_version": "1.5.0",
          "state": {
            "_view_name": "HTMLView",
            "style": "IPY_MODEL_afec67dbdb174e0c98942f85dccc0860",
            "_dom_classes": [],
            "description": "",
            "_model_name": "HTMLModel",
            "placeholder": "​",
            "_view_module": "@jupyter-widgets/controls",
            "_model_module_version": "1.5.0",
            "value": "Downloading: 100%",
            "_view_count": null,
            "_view_module_version": "1.5.0",
            "description_tooltip": null,
            "_model_module": "@jupyter-widgets/controls",
            "layout": "IPY_MODEL_f5873234a49c413492012283e42ca6da"
          }
        },
        "19ad00eac0b8484e9253421f86045561": {
          "model_module": "@jupyter-widgets/controls",
          "model_name": "FloatProgressModel",
          "model_module_version": "1.5.0",
          "state": {
            "_view_name": "ProgressView",
            "style": "IPY_MODEL_3392ceea332e4caabfca1d9665b4d0ac",
            "_dom_classes": [],
            "description": "",
            "_model_name": "FloatProgressModel",
            "bar_style": "success",
            "max": 28,
            "_view_module": "@jupyter-widgets/controls",
            "_model_module_version": "1.5.0",
            "value": 28,
            "_view_count": null,
            "_view_module_version": "1.5.0",
            "orientation": "horizontal",
            "min": 0,
            "description_tooltip": null,
            "_model_module": "@jupyter-widgets/controls",
            "layout": "IPY_MODEL_47fefb67e55843c5b33ff4da540b8d7c"
          }
        },
        "c1c29af757014ea68898d021d8279bd5": {
          "model_module": "@jupyter-widgets/controls",
          "model_name": "HTMLModel",
          "model_module_version": "1.5.0",
          "state": {
            "_view_name": "HTMLView",
            "style": "IPY_MODEL_7a9733e9c4b842c5b884f281823fcd9f",
            "_dom_classes": [],
            "description": "",
            "_model_name": "HTMLModel",
            "placeholder": "​",
            "_view_module": "@jupyter-widgets/controls",
            "_model_module_version": "1.5.0",
            "value": " 28.0/28.0 [00:00&lt;00:00, 874B/s]",
            "_view_count": null,
            "_view_module_version": "1.5.0",
            "description_tooltip": null,
            "_model_module": "@jupyter-widgets/controls",
            "layout": "IPY_MODEL_b7ae22df157d45aea21c807118c2fd67"
          }
        },
        "afec67dbdb174e0c98942f85dccc0860": {
          "model_module": "@jupyter-widgets/controls",
          "model_name": "DescriptionStyleModel",
          "model_module_version": "1.5.0",
          "state": {
            "_view_name": "StyleView",
            "_model_name": "DescriptionStyleModel",
            "description_width": "",
            "_view_module": "@jupyter-widgets/base",
            "_model_module_version": "1.5.0",
            "_view_count": null,
            "_view_module_version": "1.2.0",
            "_model_module": "@jupyter-widgets/controls"
          }
        },
        "f5873234a49c413492012283e42ca6da": {
          "model_module": "@jupyter-widgets/base",
          "model_name": "LayoutModel",
          "model_module_version": "1.2.0",
          "state": {
            "_view_name": "LayoutView",
            "grid_template_rows": null,
            "right": null,
            "justify_content": null,
            "_view_module": "@jupyter-widgets/base",
            "overflow": null,
            "_model_module_version": "1.2.0",
            "_view_count": null,
            "flex_flow": null,
            "width": null,
            "min_width": null,
            "border": null,
            "align_items": null,
            "bottom": null,
            "_model_module": "@jupyter-widgets/base",
            "top": null,
            "grid_column": null,
            "overflow_y": null,
            "overflow_x": null,
            "grid_auto_flow": null,
            "grid_area": null,
            "grid_template_columns": null,
            "flex": null,
            "_model_name": "LayoutModel",
            "justify_items": null,
            "grid_row": null,
            "max_height": null,
            "align_content": null,
            "visibility": null,
            "align_self": null,
            "height": null,
            "min_height": null,
            "padding": null,
            "grid_auto_rows": null,
            "grid_gap": null,
            "max_width": null,
            "order": null,
            "_view_module_version": "1.2.0",
            "grid_template_areas": null,
            "object_position": null,
            "object_fit": null,
            "grid_auto_columns": null,
            "margin": null,
            "display": null,
            "left": null
          }
        },
        "3392ceea332e4caabfca1d9665b4d0ac": {
          "model_module": "@jupyter-widgets/controls",
          "model_name": "ProgressStyleModel",
          "model_module_version": "1.5.0",
          "state": {
            "_view_name": "StyleView",
            "_model_name": "ProgressStyleModel",
            "description_width": "",
            "_view_module": "@jupyter-widgets/base",
            "_model_module_version": "1.5.0",
            "_view_count": null,
            "_view_module_version": "1.2.0",
            "bar_color": null,
            "_model_module": "@jupyter-widgets/controls"
          }
        },
        "47fefb67e55843c5b33ff4da540b8d7c": {
          "model_module": "@jupyter-widgets/base",
          "model_name": "LayoutModel",
          "model_module_version": "1.2.0",
          "state": {
            "_view_name": "LayoutView",
            "grid_template_rows": null,
            "right": null,
            "justify_content": null,
            "_view_module": "@jupyter-widgets/base",
            "overflow": null,
            "_model_module_version": "1.2.0",
            "_view_count": null,
            "flex_flow": null,
            "width": null,
            "min_width": null,
            "border": null,
            "align_items": null,
            "bottom": null,
            "_model_module": "@jupyter-widgets/base",
            "top": null,
            "grid_column": null,
            "overflow_y": null,
            "overflow_x": null,
            "grid_auto_flow": null,
            "grid_area": null,
            "grid_template_columns": null,
            "flex": null,
            "_model_name": "LayoutModel",
            "justify_items": null,
            "grid_row": null,
            "max_height": null,
            "align_content": null,
            "visibility": null,
            "align_self": null,
            "height": null,
            "min_height": null,
            "padding": null,
            "grid_auto_rows": null,
            "grid_gap": null,
            "max_width": null,
            "order": null,
            "_view_module_version": "1.2.0",
            "grid_template_areas": null,
            "object_position": null,
            "object_fit": null,
            "grid_auto_columns": null,
            "margin": null,
            "display": null,
            "left": null
          }
        },
        "7a9733e9c4b842c5b884f281823fcd9f": {
          "model_module": "@jupyter-widgets/controls",
          "model_name": "DescriptionStyleModel",
          "model_module_version": "1.5.0",
          "state": {
            "_view_name": "StyleView",
            "_model_name": "DescriptionStyleModel",
            "description_width": "",
            "_view_module": "@jupyter-widgets/base",
            "_model_module_version": "1.5.0",
            "_view_count": null,
            "_view_module_version": "1.2.0",
            "_model_module": "@jupyter-widgets/controls"
          }
        },
        "b7ae22df157d45aea21c807118c2fd67": {
          "model_module": "@jupyter-widgets/base",
          "model_name": "LayoutModel",
          "model_module_version": "1.2.0",
          "state": {
            "_view_name": "LayoutView",
            "grid_template_rows": null,
            "right": null,
            "justify_content": null,
            "_view_module": "@jupyter-widgets/base",
            "overflow": null,
            "_model_module_version": "1.2.0",
            "_view_count": null,
            "flex_flow": null,
            "width": null,
            "min_width": null,
            "border": null,
            "align_items": null,
            "bottom": null,
            "_model_module": "@jupyter-widgets/base",
            "top": null,
            "grid_column": null,
            "overflow_y": null,
            "overflow_x": null,
            "grid_auto_flow": null,
            "grid_area": null,
            "grid_template_columns": null,
            "flex": null,
            "_model_name": "LayoutModel",
            "justify_items": null,
            "grid_row": null,
            "max_height": null,
            "align_content": null,
            "visibility": null,
            "align_self": null,
            "height": null,
            "min_height": null,
            "padding": null,
            "grid_auto_rows": null,
            "grid_gap": null,
            "max_width": null,
            "order": null,
            "_view_module_version": "1.2.0",
            "grid_template_areas": null,
            "object_position": null,
            "object_fit": null,
            "grid_auto_columns": null,
            "margin": null,
            "display": null,
            "left": null
          }
        },
        "46dafb568b954c25992f0e46637b331b": {
          "model_module": "@jupyter-widgets/controls",
          "model_name": "HBoxModel",
          "model_module_version": "1.5.0",
          "state": {
            "_view_name": "HBoxView",
            "_dom_classes": [],
            "_model_name": "HBoxModel",
            "_view_module": "@jupyter-widgets/controls",
            "_model_module_version": "1.5.0",
            "_view_count": null,
            "_view_module_version": "1.5.0",
            "box_style": "",
            "layout": "IPY_MODEL_25af0e3c5453492ca7419dfc6ca76742",
            "_model_module": "@jupyter-widgets/controls",
            "children": [
              "IPY_MODEL_d5a5a2260a8040fdbf84973858cfdcae",
              "IPY_MODEL_15b18bd8666d4d4bb15508ed5b271ac3",
              "IPY_MODEL_74de814f6c5a4d00abc98271dcbcf5bd"
            ]
          }
        },
        "25af0e3c5453492ca7419dfc6ca76742": {
          "model_module": "@jupyter-widgets/base",
          "model_name": "LayoutModel",
          "model_module_version": "1.2.0",
          "state": {
            "_view_name": "LayoutView",
            "grid_template_rows": null,
            "right": null,
            "justify_content": null,
            "_view_module": "@jupyter-widgets/base",
            "overflow": null,
            "_model_module_version": "1.2.0",
            "_view_count": null,
            "flex_flow": null,
            "width": null,
            "min_width": null,
            "border": null,
            "align_items": null,
            "bottom": null,
            "_model_module": "@jupyter-widgets/base",
            "top": null,
            "grid_column": null,
            "overflow_y": null,
            "overflow_x": null,
            "grid_auto_flow": null,
            "grid_area": null,
            "grid_template_columns": null,
            "flex": null,
            "_model_name": "LayoutModel",
            "justify_items": null,
            "grid_row": null,
            "max_height": null,
            "align_content": null,
            "visibility": null,
            "align_self": null,
            "height": null,
            "min_height": null,
            "padding": null,
            "grid_auto_rows": null,
            "grid_gap": null,
            "max_width": null,
            "order": null,
            "_view_module_version": "1.2.0",
            "grid_template_areas": null,
            "object_position": null,
            "object_fit": null,
            "grid_auto_columns": null,
            "margin": null,
            "display": null,
            "left": null
          }
        },
        "d5a5a2260a8040fdbf84973858cfdcae": {
          "model_module": "@jupyter-widgets/controls",
          "model_name": "HTMLModel",
          "model_module_version": "1.5.0",
          "state": {
            "_view_name": "HTMLView",
            "style": "IPY_MODEL_bf9e786c511042ee9a7e2bfba2d8592d",
            "_dom_classes": [],
            "description": "",
            "_model_name": "HTMLModel",
            "placeholder": "​",
            "_view_module": "@jupyter-widgets/controls",
            "_model_module_version": "1.5.0",
            "value": "Downloading: 100%",
            "_view_count": null,
            "_view_module_version": "1.5.0",
            "description_tooltip": null,
            "_model_module": "@jupyter-widgets/controls",
            "layout": "IPY_MODEL_d428ee0708ef4a56bbb3d5f902d48a90"
          }
        },
        "15b18bd8666d4d4bb15508ed5b271ac3": {
          "model_module": "@jupyter-widgets/controls",
          "model_name": "FloatProgressModel",
          "model_module_version": "1.5.0",
          "state": {
            "_view_name": "ProgressView",
            "style": "IPY_MODEL_72c05f5fced74062a9b634d47cdeda2e",
            "_dom_classes": [],
            "description": "",
            "_model_name": "FloatProgressModel",
            "bar_style": "success",
            "max": 492,
            "_view_module": "@jupyter-widgets/controls",
            "_model_module_version": "1.5.0",
            "value": 492,
            "_view_count": null,
            "_view_module_version": "1.5.0",
            "orientation": "horizontal",
            "min": 0,
            "description_tooltip": null,
            "_model_module": "@jupyter-widgets/controls",
            "layout": "IPY_MODEL_b48d851c3069460383e80fcc599e6f53"
          }
        },
        "74de814f6c5a4d00abc98271dcbcf5bd": {
          "model_module": "@jupyter-widgets/controls",
          "model_name": "HTMLModel",
          "model_module_version": "1.5.0",
          "state": {
            "_view_name": "HTMLView",
            "style": "IPY_MODEL_449e0338da99402197b064e9ba6bc4c0",
            "_dom_classes": [],
            "description": "",
            "_model_name": "HTMLModel",
            "placeholder": "​",
            "_view_module": "@jupyter-widgets/controls",
            "_model_module_version": "1.5.0",
            "value": " 492/492 [00:00&lt;00:00, 14.7kB/s]",
            "_view_count": null,
            "_view_module_version": "1.5.0",
            "description_tooltip": null,
            "_model_module": "@jupyter-widgets/controls",
            "layout": "IPY_MODEL_84bfd98958ed4ea59e92b6a8fec0c7c0"
          }
        },
        "bf9e786c511042ee9a7e2bfba2d8592d": {
          "model_module": "@jupyter-widgets/controls",
          "model_name": "DescriptionStyleModel",
          "model_module_version": "1.5.0",
          "state": {
            "_view_name": "StyleView",
            "_model_name": "DescriptionStyleModel",
            "description_width": "",
            "_view_module": "@jupyter-widgets/base",
            "_model_module_version": "1.5.0",
            "_view_count": null,
            "_view_module_version": "1.2.0",
            "_model_module": "@jupyter-widgets/controls"
          }
        },
        "d428ee0708ef4a56bbb3d5f902d48a90": {
          "model_module": "@jupyter-widgets/base",
          "model_name": "LayoutModel",
          "model_module_version": "1.2.0",
          "state": {
            "_view_name": "LayoutView",
            "grid_template_rows": null,
            "right": null,
            "justify_content": null,
            "_view_module": "@jupyter-widgets/base",
            "overflow": null,
            "_model_module_version": "1.2.0",
            "_view_count": null,
            "flex_flow": null,
            "width": null,
            "min_width": null,
            "border": null,
            "align_items": null,
            "bottom": null,
            "_model_module": "@jupyter-widgets/base",
            "top": null,
            "grid_column": null,
            "overflow_y": null,
            "overflow_x": null,
            "grid_auto_flow": null,
            "grid_area": null,
            "grid_template_columns": null,
            "flex": null,
            "_model_name": "LayoutModel",
            "justify_items": null,
            "grid_row": null,
            "max_height": null,
            "align_content": null,
            "visibility": null,
            "align_self": null,
            "height": null,
            "min_height": null,
            "padding": null,
            "grid_auto_rows": null,
            "grid_gap": null,
            "max_width": null,
            "order": null,
            "_view_module_version": "1.2.0",
            "grid_template_areas": null,
            "object_position": null,
            "object_fit": null,
            "grid_auto_columns": null,
            "margin": null,
            "display": null,
            "left": null
          }
        },
        "72c05f5fced74062a9b634d47cdeda2e": {
          "model_module": "@jupyter-widgets/controls",
          "model_name": "ProgressStyleModel",
          "model_module_version": "1.5.0",
          "state": {
            "_view_name": "StyleView",
            "_model_name": "ProgressStyleModel",
            "description_width": "",
            "_view_module": "@jupyter-widgets/base",
            "_model_module_version": "1.5.0",
            "_view_count": null,
            "_view_module_version": "1.2.0",
            "bar_color": null,
            "_model_module": "@jupyter-widgets/controls"
          }
        },
        "b48d851c3069460383e80fcc599e6f53": {
          "model_module": "@jupyter-widgets/base",
          "model_name": "LayoutModel",
          "model_module_version": "1.2.0",
          "state": {
            "_view_name": "LayoutView",
            "grid_template_rows": null,
            "right": null,
            "justify_content": null,
            "_view_module": "@jupyter-widgets/base",
            "overflow": null,
            "_model_module_version": "1.2.0",
            "_view_count": null,
            "flex_flow": null,
            "width": null,
            "min_width": null,
            "border": null,
            "align_items": null,
            "bottom": null,
            "_model_module": "@jupyter-widgets/base",
            "top": null,
            "grid_column": null,
            "overflow_y": null,
            "overflow_x": null,
            "grid_auto_flow": null,
            "grid_area": null,
            "grid_template_columns": null,
            "flex": null,
            "_model_name": "LayoutModel",
            "justify_items": null,
            "grid_row": null,
            "max_height": null,
            "align_content": null,
            "visibility": null,
            "align_self": null,
            "height": null,
            "min_height": null,
            "padding": null,
            "grid_auto_rows": null,
            "grid_gap": null,
            "max_width": null,
            "order": null,
            "_view_module_version": "1.2.0",
            "grid_template_areas": null,
            "object_position": null,
            "object_fit": null,
            "grid_auto_columns": null,
            "margin": null,
            "display": null,
            "left": null
          }
        },
        "449e0338da99402197b064e9ba6bc4c0": {
          "model_module": "@jupyter-widgets/controls",
          "model_name": "DescriptionStyleModel",
          "model_module_version": "1.5.0",
          "state": {
            "_view_name": "StyleView",
            "_model_name": "DescriptionStyleModel",
            "description_width": "",
            "_view_module": "@jupyter-widgets/base",
            "_model_module_version": "1.5.0",
            "_view_count": null,
            "_view_module_version": "1.2.0",
            "_model_module": "@jupyter-widgets/controls"
          }
        },
        "84bfd98958ed4ea59e92b6a8fec0c7c0": {
          "model_module": "@jupyter-widgets/base",
          "model_name": "LayoutModel",
          "model_module_version": "1.2.0",
          "state": {
            "_view_name": "LayoutView",
            "grid_template_rows": null,
            "right": null,
            "justify_content": null,
            "_view_module": "@jupyter-widgets/base",
            "overflow": null,
            "_model_module_version": "1.2.0",
            "_view_count": null,
            "flex_flow": null,
            "width": null,
            "min_width": null,
            "border": null,
            "align_items": null,
            "bottom": null,
            "_model_module": "@jupyter-widgets/base",
            "top": null,
            "grid_column": null,
            "overflow_y": null,
            "overflow_x": null,
            "grid_auto_flow": null,
            "grid_area": null,
            "grid_template_columns": null,
            "flex": null,
            "_model_name": "LayoutModel",
            "justify_items": null,
            "grid_row": null,
            "max_height": null,
            "align_content": null,
            "visibility": null,
            "align_self": null,
            "height": null,
            "min_height": null,
            "padding": null,
            "grid_auto_rows": null,
            "grid_gap": null,
            "max_width": null,
            "order": null,
            "_view_module_version": "1.2.0",
            "grid_template_areas": null,
            "object_position": null,
            "object_fit": null,
            "grid_auto_columns": null,
            "margin": null,
            "display": null,
            "left": null
          }
        },
        "d068953ef9f74fe4857947423c8ea3fb": {
          "model_module": "@jupyter-widgets/controls",
          "model_name": "HBoxModel",
          "model_module_version": "1.5.0",
          "state": {
            "_view_name": "HBoxView",
            "_dom_classes": [],
            "_model_name": "HBoxModel",
            "_view_module": "@jupyter-widgets/controls",
            "_model_module_version": "1.5.0",
            "_view_count": null,
            "_view_module_version": "1.5.0",
            "box_style": "",
            "layout": "IPY_MODEL_226ea8e07d1b4fa8bbaca36d20c70e57",
            "_model_module": "@jupyter-widgets/controls",
            "children": [
              "IPY_MODEL_ccc97a6a213b432ab57f0146862c3316",
              "IPY_MODEL_c70b9013271e4bf2ace94221cc9ce758",
              "IPY_MODEL_b8a05f1802c94f5a9d9d5643f62decbd"
            ]
          }
        },
        "226ea8e07d1b4fa8bbaca36d20c70e57": {
          "model_module": "@jupyter-widgets/base",
          "model_name": "LayoutModel",
          "model_module_version": "1.2.0",
          "state": {
            "_view_name": "LayoutView",
            "grid_template_rows": null,
            "right": null,
            "justify_content": null,
            "_view_module": "@jupyter-widgets/base",
            "overflow": null,
            "_model_module_version": "1.2.0",
            "_view_count": null,
            "flex_flow": null,
            "width": null,
            "min_width": null,
            "border": null,
            "align_items": null,
            "bottom": null,
            "_model_module": "@jupyter-widgets/base",
            "top": null,
            "grid_column": null,
            "overflow_y": null,
            "overflow_x": null,
            "grid_auto_flow": null,
            "grid_area": null,
            "grid_template_columns": null,
            "flex": null,
            "_model_name": "LayoutModel",
            "justify_items": null,
            "grid_row": null,
            "max_height": null,
            "align_content": null,
            "visibility": null,
            "align_self": null,
            "height": null,
            "min_height": null,
            "padding": null,
            "grid_auto_rows": null,
            "grid_gap": null,
            "max_width": null,
            "order": null,
            "_view_module_version": "1.2.0",
            "grid_template_areas": null,
            "object_position": null,
            "object_fit": null,
            "grid_auto_columns": null,
            "margin": null,
            "display": null,
            "left": null
          }
        },
        "ccc97a6a213b432ab57f0146862c3316": {
          "model_module": "@jupyter-widgets/controls",
          "model_name": "HTMLModel",
          "model_module_version": "1.5.0",
          "state": {
            "_view_name": "HTMLView",
            "style": "IPY_MODEL_2f63a9671b3345b4beaeeacb9a7e205b",
            "_dom_classes": [],
            "description": "",
            "_model_name": "HTMLModel",
            "placeholder": "​",
            "_view_module": "@jupyter-widgets/controls",
            "_model_module_version": "1.5.0",
            "value": "Downloading: 100%",
            "_view_count": null,
            "_view_module_version": "1.5.0",
            "description_tooltip": null,
            "_model_module": "@jupyter-widgets/controls",
            "layout": "IPY_MODEL_e25cedb4214544ad835226bb03e90341"
          }
        },
        "c70b9013271e4bf2ace94221cc9ce758": {
          "model_module": "@jupyter-widgets/controls",
          "model_name": "FloatProgressModel",
          "model_module_version": "1.5.0",
          "state": {
            "_view_name": "ProgressView",
            "style": "IPY_MODEL_ecc955f49f85422db9b7d4245e038daa",
            "_dom_classes": [],
            "description": "",
            "_model_name": "FloatProgressModel",
            "bar_style": "success",
            "max": 437983985,
            "_view_module": "@jupyter-widgets/controls",
            "_model_module_version": "1.5.0",
            "value": 437983985,
            "_view_count": null,
            "_view_module_version": "1.5.0",
            "orientation": "horizontal",
            "min": 0,
            "description_tooltip": null,
            "_model_module": "@jupyter-widgets/controls",
            "layout": "IPY_MODEL_8fd3a092002d49e7a1853655b4040c25"
          }
        },
        "b8a05f1802c94f5a9d9d5643f62decbd": {
          "model_module": "@jupyter-widgets/controls",
          "model_name": "HTMLModel",
          "model_module_version": "1.5.0",
          "state": {
            "_view_name": "HTMLView",
            "style": "IPY_MODEL_354a3cf019994e03ad4461263f0d75db",
            "_dom_classes": [],
            "description": "",
            "_model_name": "HTMLModel",
            "placeholder": "​",
            "_view_module": "@jupyter-widgets/controls",
            "_model_module_version": "1.5.0",
            "value": " 438M/438M [00:13&lt;00:00, 35.8MB/s]",
            "_view_count": null,
            "_view_module_version": "1.5.0",
            "description_tooltip": null,
            "_model_module": "@jupyter-widgets/controls",
            "layout": "IPY_MODEL_5385064c344b4d429f6450e0b3ab3712"
          }
        },
        "2f63a9671b3345b4beaeeacb9a7e205b": {
          "model_module": "@jupyter-widgets/controls",
          "model_name": "DescriptionStyleModel",
          "model_module_version": "1.5.0",
          "state": {
            "_view_name": "StyleView",
            "_model_name": "DescriptionStyleModel",
            "description_width": "",
            "_view_module": "@jupyter-widgets/base",
            "_model_module_version": "1.5.0",
            "_view_count": null,
            "_view_module_version": "1.2.0",
            "_model_module": "@jupyter-widgets/controls"
          }
        },
        "e25cedb4214544ad835226bb03e90341": {
          "model_module": "@jupyter-widgets/base",
          "model_name": "LayoutModel",
          "model_module_version": "1.2.0",
          "state": {
            "_view_name": "LayoutView",
            "grid_template_rows": null,
            "right": null,
            "justify_content": null,
            "_view_module": "@jupyter-widgets/base",
            "overflow": null,
            "_model_module_version": "1.2.0",
            "_view_count": null,
            "flex_flow": null,
            "width": null,
            "min_width": null,
            "border": null,
            "align_items": null,
            "bottom": null,
            "_model_module": "@jupyter-widgets/base",
            "top": null,
            "grid_column": null,
            "overflow_y": null,
            "overflow_x": null,
            "grid_auto_flow": null,
            "grid_area": null,
            "grid_template_columns": null,
            "flex": null,
            "_model_name": "LayoutModel",
            "justify_items": null,
            "grid_row": null,
            "max_height": null,
            "align_content": null,
            "visibility": null,
            "align_self": null,
            "height": null,
            "min_height": null,
            "padding": null,
            "grid_auto_rows": null,
            "grid_gap": null,
            "max_width": null,
            "order": null,
            "_view_module_version": "1.2.0",
            "grid_template_areas": null,
            "object_position": null,
            "object_fit": null,
            "grid_auto_columns": null,
            "margin": null,
            "display": null,
            "left": null
          }
        },
        "ecc955f49f85422db9b7d4245e038daa": {
          "model_module": "@jupyter-widgets/controls",
          "model_name": "ProgressStyleModel",
          "model_module_version": "1.5.0",
          "state": {
            "_view_name": "StyleView",
            "_model_name": "ProgressStyleModel",
            "description_width": "",
            "_view_module": "@jupyter-widgets/base",
            "_model_module_version": "1.5.0",
            "_view_count": null,
            "_view_module_version": "1.2.0",
            "bar_color": null,
            "_model_module": "@jupyter-widgets/controls"
          }
        },
        "8fd3a092002d49e7a1853655b4040c25": {
          "model_module": "@jupyter-widgets/base",
          "model_name": "LayoutModel",
          "model_module_version": "1.2.0",
          "state": {
            "_view_name": "LayoutView",
            "grid_template_rows": null,
            "right": null,
            "justify_content": null,
            "_view_module": "@jupyter-widgets/base",
            "overflow": null,
            "_model_module_version": "1.2.0",
            "_view_count": null,
            "flex_flow": null,
            "width": null,
            "min_width": null,
            "border": null,
            "align_items": null,
            "bottom": null,
            "_model_module": "@jupyter-widgets/base",
            "top": null,
            "grid_column": null,
            "overflow_y": null,
            "overflow_x": null,
            "grid_auto_flow": null,
            "grid_area": null,
            "grid_template_columns": null,
            "flex": null,
            "_model_name": "LayoutModel",
            "justify_items": null,
            "grid_row": null,
            "max_height": null,
            "align_content": null,
            "visibility": null,
            "align_self": null,
            "height": null,
            "min_height": null,
            "padding": null,
            "grid_auto_rows": null,
            "grid_gap": null,
            "max_width": null,
            "order": null,
            "_view_module_version": "1.2.0",
            "grid_template_areas": null,
            "object_position": null,
            "object_fit": null,
            "grid_auto_columns": null,
            "margin": null,
            "display": null,
            "left": null
          }
        },
        "354a3cf019994e03ad4461263f0d75db": {
          "model_module": "@jupyter-widgets/controls",
          "model_name": "DescriptionStyleModel",
          "model_module_version": "1.5.0",
          "state": {
            "_view_name": "StyleView",
            "_model_name": "DescriptionStyleModel",
            "description_width": "",
            "_view_module": "@jupyter-widgets/base",
            "_model_module_version": "1.5.0",
            "_view_count": null,
            "_view_module_version": "1.2.0",
            "_model_module": "@jupyter-widgets/controls"
          }
        },
        "5385064c344b4d429f6450e0b3ab3712": {
          "model_module": "@jupyter-widgets/base",
          "model_name": "LayoutModel",
          "model_module_version": "1.2.0",
          "state": {
            "_view_name": "LayoutView",
            "grid_template_rows": null,
            "right": null,
            "justify_content": null,
            "_view_module": "@jupyter-widgets/base",
            "overflow": null,
            "_model_module_version": "1.2.0",
            "_view_count": null,
            "flex_flow": null,
            "width": null,
            "min_width": null,
            "border": null,
            "align_items": null,
            "bottom": null,
            "_model_module": "@jupyter-widgets/base",
            "top": null,
            "grid_column": null,
            "overflow_y": null,
            "overflow_x": null,
            "grid_auto_flow": null,
            "grid_area": null,
            "grid_template_columns": null,
            "flex": null,
            "_model_name": "LayoutModel",
            "justify_items": null,
            "grid_row": null,
            "max_height": null,
            "align_content": null,
            "visibility": null,
            "align_self": null,
            "height": null,
            "min_height": null,
            "padding": null,
            "grid_auto_rows": null,
            "grid_gap": null,
            "max_width": null,
            "order": null,
            "_view_module_version": "1.2.0",
            "grid_template_areas": null,
            "object_position": null,
            "object_fit": null,
            "grid_auto_columns": null,
            "margin": null,
            "display": null,
            "left": null
          }
        },
        "02e397e53f274f109bd1a159111760c5": {
          "model_module": "@jupyter-widgets/controls",
          "model_name": "HBoxModel",
          "model_module_version": "1.5.0",
          "state": {
            "_view_name": "HBoxView",
            "_dom_classes": [],
            "_model_name": "HBoxModel",
            "_view_module": "@jupyter-widgets/controls",
            "_model_module_version": "1.5.0",
            "_view_count": null,
            "_view_module_version": "1.5.0",
            "box_style": "",
            "layout": "IPY_MODEL_9850f38f608a4d1ca49b5573f18bd25b",
            "_model_module": "@jupyter-widgets/controls",
            "children": [
              "IPY_MODEL_f5a547ed530b46548fb08c6f10cff0c9",
              "IPY_MODEL_374126657c384c8a85771ef83b7ec0e9",
              "IPY_MODEL_d393420564c049d398e899b3b9de29a8"
            ]
          }
        },
        "9850f38f608a4d1ca49b5573f18bd25b": {
          "model_module": "@jupyter-widgets/base",
          "model_name": "LayoutModel",
          "model_module_version": "1.2.0",
          "state": {
            "_view_name": "LayoutView",
            "grid_template_rows": null,
            "right": null,
            "justify_content": null,
            "_view_module": "@jupyter-widgets/base",
            "overflow": null,
            "_model_module_version": "1.2.0",
            "_view_count": null,
            "flex_flow": null,
            "width": null,
            "min_width": null,
            "border": null,
            "align_items": null,
            "bottom": null,
            "_model_module": "@jupyter-widgets/base",
            "top": null,
            "grid_column": null,
            "overflow_y": null,
            "overflow_x": null,
            "grid_auto_flow": null,
            "grid_area": null,
            "grid_template_columns": null,
            "flex": null,
            "_model_name": "LayoutModel",
            "justify_items": null,
            "grid_row": null,
            "max_height": null,
            "align_content": null,
            "visibility": null,
            "align_self": null,
            "height": null,
            "min_height": null,
            "padding": null,
            "grid_auto_rows": null,
            "grid_gap": null,
            "max_width": null,
            "order": null,
            "_view_module_version": "1.2.0",
            "grid_template_areas": null,
            "object_position": null,
            "object_fit": null,
            "grid_auto_columns": null,
            "margin": null,
            "display": null,
            "left": null
          }
        },
        "f5a547ed530b46548fb08c6f10cff0c9": {
          "model_module": "@jupyter-widgets/controls",
          "model_name": "HTMLModel",
          "model_module_version": "1.5.0",
          "state": {
            "_view_name": "HTMLView",
            "style": "IPY_MODEL_0e1f51e1d2884ea1a53ea02e50ef8ead",
            "_dom_classes": [],
            "description": "",
            "_model_name": "HTMLModel",
            "placeholder": "​",
            "_view_module": "@jupyter-widgets/controls",
            "_model_module_version": "1.5.0",
            "value": "Updating embeddings: ",
            "_view_count": null,
            "_view_module_version": "1.5.0",
            "description_tooltip": null,
            "_model_module": "@jupyter-widgets/controls",
            "layout": "IPY_MODEL_274e430cf062446eb87f35855314970a"
          }
        },
        "374126657c384c8a85771ef83b7ec0e9": {
          "model_module": "@jupyter-widgets/controls",
          "model_name": "FloatProgressModel",
          "model_module_version": "1.5.0",
          "state": {
            "_view_name": "ProgressView",
            "style": "IPY_MODEL_4e40deaaaaf34127ab0db27aa2b39852",
            "_dom_classes": [],
            "description": "",
            "_model_name": "FloatProgressModel",
            "bar_style": "success",
            "max": 11224,
            "_view_module": "@jupyter-widgets/controls",
            "_model_module_version": "1.5.0",
            "value": 11224,
            "_view_count": null,
            "_view_module_version": "1.5.0",
            "orientation": "horizontal",
            "min": 0,
            "description_tooltip": null,
            "_model_module": "@jupyter-widgets/controls",
            "layout": "IPY_MODEL_aeea95ae36a74c2e91aca2e0fc80617e"
          }
        },
        "d393420564c049d398e899b3b9de29a8": {
          "model_module": "@jupyter-widgets/controls",
          "model_name": "HTMLModel",
          "model_module_version": "1.5.0",
          "state": {
            "_view_name": "HTMLView",
            "style": "IPY_MODEL_606654b660f84df79096a75b8d8efa59",
            "_dom_classes": [],
            "description": "",
            "_model_name": "HTMLModel",
            "placeholder": "​",
            "_view_module": "@jupyter-widgets/controls",
            "_model_module_version": "1.5.0",
            "value": " 20000/? [02:30&lt;00:00, 154.38 Docs/s]",
            "_view_count": null,
            "_view_module_version": "1.5.0",
            "description_tooltip": null,
            "_model_module": "@jupyter-widgets/controls",
            "layout": "IPY_MODEL_1a75dffaa04a4bcdbaa74ae3b208af8b"
          }
        },
        "0e1f51e1d2884ea1a53ea02e50ef8ead": {
          "model_module": "@jupyter-widgets/controls",
          "model_name": "DescriptionStyleModel",
          "model_module_version": "1.5.0",
          "state": {
            "_view_name": "StyleView",
            "_model_name": "DescriptionStyleModel",
            "description_width": "",
            "_view_module": "@jupyter-widgets/base",
            "_model_module_version": "1.5.0",
            "_view_count": null,
            "_view_module_version": "1.2.0",
            "_model_module": "@jupyter-widgets/controls"
          }
        },
        "274e430cf062446eb87f35855314970a": {
          "model_module": "@jupyter-widgets/base",
          "model_name": "LayoutModel",
          "model_module_version": "1.2.0",
          "state": {
            "_view_name": "LayoutView",
            "grid_template_rows": null,
            "right": null,
            "justify_content": null,
            "_view_module": "@jupyter-widgets/base",
            "overflow": null,
            "_model_module_version": "1.2.0",
            "_view_count": null,
            "flex_flow": null,
            "width": null,
            "min_width": null,
            "border": null,
            "align_items": null,
            "bottom": null,
            "_model_module": "@jupyter-widgets/base",
            "top": null,
            "grid_column": null,
            "overflow_y": null,
            "overflow_x": null,
            "grid_auto_flow": null,
            "grid_area": null,
            "grid_template_columns": null,
            "flex": null,
            "_model_name": "LayoutModel",
            "justify_items": null,
            "grid_row": null,
            "max_height": null,
            "align_content": null,
            "visibility": null,
            "align_self": null,
            "height": null,
            "min_height": null,
            "padding": null,
            "grid_auto_rows": null,
            "grid_gap": null,
            "max_width": null,
            "order": null,
            "_view_module_version": "1.2.0",
            "grid_template_areas": null,
            "object_position": null,
            "object_fit": null,
            "grid_auto_columns": null,
            "margin": null,
            "display": null,
            "left": null
          }
        },
        "4e40deaaaaf34127ab0db27aa2b39852": {
          "model_module": "@jupyter-widgets/controls",
          "model_name": "ProgressStyleModel",
          "model_module_version": "1.5.0",
          "state": {
            "_view_name": "StyleView",
            "_model_name": "ProgressStyleModel",
            "description_width": "",
            "_view_module": "@jupyter-widgets/base",
            "_model_module_version": "1.5.0",
            "_view_count": null,
            "_view_module_version": "1.2.0",
            "bar_color": null,
            "_model_module": "@jupyter-widgets/controls"
          }
        },
        "aeea95ae36a74c2e91aca2e0fc80617e": {
          "model_module": "@jupyter-widgets/base",
          "model_name": "LayoutModel",
          "model_module_version": "1.2.0",
          "state": {
            "_view_name": "LayoutView",
            "grid_template_rows": null,
            "right": null,
            "justify_content": null,
            "_view_module": "@jupyter-widgets/base",
            "overflow": null,
            "_model_module_version": "1.2.0",
            "_view_count": null,
            "flex_flow": null,
            "width": null,
            "min_width": null,
            "border": null,
            "align_items": null,
            "bottom": null,
            "_model_module": "@jupyter-widgets/base",
            "top": null,
            "grid_column": null,
            "overflow_y": null,
            "overflow_x": null,
            "grid_auto_flow": null,
            "grid_area": null,
            "grid_template_columns": null,
            "flex": null,
            "_model_name": "LayoutModel",
            "justify_items": null,
            "grid_row": null,
            "max_height": null,
            "align_content": null,
            "visibility": null,
            "align_self": null,
            "height": null,
            "min_height": null,
            "padding": null,
            "grid_auto_rows": null,
            "grid_gap": null,
            "max_width": null,
            "order": null,
            "_view_module_version": "1.2.0",
            "grid_template_areas": null,
            "object_position": null,
            "object_fit": null,
            "grid_auto_columns": null,
            "margin": null,
            "display": null,
            "left": null
          }
        },
        "606654b660f84df79096a75b8d8efa59": {
          "model_module": "@jupyter-widgets/controls",
          "model_name": "DescriptionStyleModel",
          "model_module_version": "1.5.0",
          "state": {
            "_view_name": "StyleView",
            "_model_name": "DescriptionStyleModel",
            "description_width": "",
            "_view_module": "@jupyter-widgets/base",
            "_model_module_version": "1.5.0",
            "_view_count": null,
            "_view_module_version": "1.2.0",
            "_model_module": "@jupyter-widgets/controls"
          }
        },
        "1a75dffaa04a4bcdbaa74ae3b208af8b": {
          "model_module": "@jupyter-widgets/base",
          "model_name": "LayoutModel",
          "model_module_version": "1.2.0",
          "state": {
            "_view_name": "LayoutView",
            "grid_template_rows": null,
            "right": null,
            "justify_content": null,
            "_view_module": "@jupyter-widgets/base",
            "overflow": null,
            "_model_module_version": "1.2.0",
            "_view_count": null,
            "flex_flow": null,
            "width": null,
            "min_width": null,
            "border": null,
            "align_items": null,
            "bottom": null,
            "_model_module": "@jupyter-widgets/base",
            "top": null,
            "grid_column": null,
            "overflow_y": null,
            "overflow_x": null,
            "grid_auto_flow": null,
            "grid_area": null,
            "grid_template_columns": null,
            "flex": null,
            "_model_name": "LayoutModel",
            "justify_items": null,
            "grid_row": null,
            "max_height": null,
            "align_content": null,
            "visibility": null,
            "align_self": null,
            "height": null,
            "min_height": null,
            "padding": null,
            "grid_auto_rows": null,
            "grid_gap": null,
            "max_width": null,
            "order": null,
            "_view_module_version": "1.2.0",
            "grid_template_areas": null,
            "object_position": null,
            "object_fit": null,
            "grid_auto_columns": null,
            "margin": null,
            "display": null,
            "left": null
          }
        },
        "d72c1f50f24f45d0bf8a3c17f2b4a7f9": {
          "model_module": "@jupyter-widgets/controls",
          "model_name": "HBoxModel",
          "model_module_version": "1.5.0",
          "state": {
            "_view_name": "HBoxView",
            "_dom_classes": [],
            "_model_name": "HBoxModel",
            "_view_module": "@jupyter-widgets/controls",
            "_model_module_version": "1.5.0",
            "_view_count": null,
            "_view_module_version": "1.5.0",
            "box_style": "",
            "layout": "IPY_MODEL_68f56167b82f419180aef25282a8e437",
            "_model_module": "@jupyter-widgets/controls",
            "children": [
              "IPY_MODEL_d2f2bd5614424da8aa1fc83cd7f18c7f",
              "IPY_MODEL_1aa37396f4094ffa9bdac6b3756d9fea",
              "IPY_MODEL_adb1ff6b87d441f0900ba847da60310d"
            ]
          }
        },
        "68f56167b82f419180aef25282a8e437": {
          "model_module": "@jupyter-widgets/base",
          "model_name": "LayoutModel",
          "model_module_version": "1.2.0",
          "state": {
            "_view_name": "LayoutView",
            "grid_template_rows": null,
            "right": null,
            "justify_content": null,
            "_view_module": "@jupyter-widgets/base",
            "overflow": null,
            "_model_module_version": "1.2.0",
            "_view_count": null,
            "flex_flow": null,
            "width": null,
            "min_width": null,
            "border": null,
            "align_items": null,
            "bottom": null,
            "_model_module": "@jupyter-widgets/base",
            "top": null,
            "grid_column": null,
            "overflow_y": null,
            "overflow_x": null,
            "grid_auto_flow": null,
            "grid_area": null,
            "grid_template_columns": null,
            "flex": null,
            "_model_name": "LayoutModel",
            "justify_items": null,
            "grid_row": null,
            "max_height": null,
            "align_content": null,
            "visibility": null,
            "align_self": null,
            "height": null,
            "min_height": null,
            "padding": null,
            "grid_auto_rows": null,
            "grid_gap": null,
            "max_width": null,
            "order": null,
            "_view_module_version": "1.2.0",
            "grid_template_areas": null,
            "object_position": null,
            "object_fit": null,
            "grid_auto_columns": null,
            "margin": null,
            "display": null,
            "left": null
          }
        },
        "d2f2bd5614424da8aa1fc83cd7f18c7f": {
          "model_module": "@jupyter-widgets/controls",
          "model_name": "HTMLModel",
          "model_module_version": "1.5.0",
          "state": {
            "_view_name": "HTMLView",
            "style": "IPY_MODEL_40382770adb6416486566eb87f7ad2d6",
            "_dom_classes": [],
            "description": "",
            "_model_name": "HTMLModel",
            "placeholder": "​",
            "_view_module": "@jupyter-widgets/controls",
            "_model_module_version": "1.5.0",
            "value": "Create embeddings: 100%",
            "_view_count": null,
            "_view_module_version": "1.5.0",
            "description_tooltip": null,
            "_model_module": "@jupyter-widgets/controls",
            "layout": "IPY_MODEL_609cd815ebfd470eb12017c85a0185d9"
          }
        },
        "1aa37396f4094ffa9bdac6b3756d9fea": {
          "model_module": "@jupyter-widgets/controls",
          "model_name": "FloatProgressModel",
          "model_module_version": "1.5.0",
          "state": {
            "_view_name": "ProgressView",
            "style": "IPY_MODEL_2f84130a49ee4cb69c063869f2b585b7",
            "_dom_classes": [],
            "description": "",
            "_model_name": "FloatProgressModel",
            "bar_style": "",
            "max": 10000,
            "_view_module": "@jupyter-widgets/controls",
            "_model_module_version": "1.5.0",
            "value": 10000,
            "_view_count": null,
            "_view_module_version": "1.5.0",
            "orientation": "horizontal",
            "min": 0,
            "description_tooltip": null,
            "_model_module": "@jupyter-widgets/controls",
            "layout": "IPY_MODEL_000ec2dccf1f475698a693b51dddfdc2"
          }
        },
        "adb1ff6b87d441f0900ba847da60310d": {
          "model_module": "@jupyter-widgets/controls",
          "model_name": "HTMLModel",
          "model_module_version": "1.5.0",
          "state": {
            "_view_name": "HTMLView",
            "style": "IPY_MODEL_5746779f3a6243f78b252ce9cede00c2",
            "_dom_classes": [],
            "description": "",
            "_model_name": "HTMLModel",
            "placeholder": "​",
            "_view_module": "@jupyter-widgets/controls",
            "_model_module_version": "1.5.0",
            "value": " 10000/10000 [01:23&lt;00:00, 120.18 Docs/s]",
            "_view_count": null,
            "_view_module_version": "1.5.0",
            "description_tooltip": null,
            "_model_module": "@jupyter-widgets/controls",
            "layout": "IPY_MODEL_4c4a8e4c19704bedaa15fc731ef2e843"
          }
        },
        "40382770adb6416486566eb87f7ad2d6": {
          "model_module": "@jupyter-widgets/controls",
          "model_name": "DescriptionStyleModel",
          "model_module_version": "1.5.0",
          "state": {
            "_view_name": "StyleView",
            "_model_name": "DescriptionStyleModel",
            "description_width": "",
            "_view_module": "@jupyter-widgets/base",
            "_model_module_version": "1.5.0",
            "_view_count": null,
            "_view_module_version": "1.2.0",
            "_model_module": "@jupyter-widgets/controls"
          }
        },
        "609cd815ebfd470eb12017c85a0185d9": {
          "model_module": "@jupyter-widgets/base",
          "model_name": "LayoutModel",
          "model_module_version": "1.2.0",
          "state": {
            "_view_name": "LayoutView",
            "grid_template_rows": null,
            "right": null,
            "justify_content": null,
            "_view_module": "@jupyter-widgets/base",
            "overflow": null,
            "_model_module_version": "1.2.0",
            "_view_count": null,
            "flex_flow": null,
            "width": null,
            "min_width": null,
            "border": null,
            "align_items": null,
            "bottom": null,
            "_model_module": "@jupyter-widgets/base",
            "top": null,
            "grid_column": null,
            "overflow_y": null,
            "overflow_x": null,
            "grid_auto_flow": null,
            "grid_area": null,
            "grid_template_columns": null,
            "flex": null,
            "_model_name": "LayoutModel",
            "justify_items": null,
            "grid_row": null,
            "max_height": null,
            "align_content": null,
            "visibility": null,
            "align_self": null,
            "height": null,
            "min_height": null,
            "padding": null,
            "grid_auto_rows": null,
            "grid_gap": null,
            "max_width": null,
            "order": null,
            "_view_module_version": "1.2.0",
            "grid_template_areas": null,
            "object_position": null,
            "object_fit": null,
            "grid_auto_columns": null,
            "margin": null,
            "display": null,
            "left": null
          }
        },
        "2f84130a49ee4cb69c063869f2b585b7": {
          "model_module": "@jupyter-widgets/controls",
          "model_name": "ProgressStyleModel",
          "model_module_version": "1.5.0",
          "state": {
            "_view_name": "StyleView",
            "_model_name": "ProgressStyleModel",
            "description_width": "",
            "_view_module": "@jupyter-widgets/base",
            "_model_module_version": "1.5.0",
            "_view_count": null,
            "_view_module_version": "1.2.0",
            "bar_color": null,
            "_model_module": "@jupyter-widgets/controls"
          }
        },
        "000ec2dccf1f475698a693b51dddfdc2": {
          "model_module": "@jupyter-widgets/base",
          "model_name": "LayoutModel",
          "model_module_version": "1.2.0",
          "state": {
            "_view_name": "LayoutView",
            "grid_template_rows": null,
            "right": null,
            "justify_content": null,
            "_view_module": "@jupyter-widgets/base",
            "overflow": null,
            "_model_module_version": "1.2.0",
            "_view_count": null,
            "flex_flow": null,
            "width": null,
            "min_width": null,
            "border": null,
            "align_items": null,
            "bottom": null,
            "_model_module": "@jupyter-widgets/base",
            "top": null,
            "grid_column": null,
            "overflow_y": null,
            "overflow_x": null,
            "grid_auto_flow": null,
            "grid_area": null,
            "grid_template_columns": null,
            "flex": null,
            "_model_name": "LayoutModel",
            "justify_items": null,
            "grid_row": null,
            "max_height": null,
            "align_content": null,
            "visibility": null,
            "align_self": null,
            "height": null,
            "min_height": null,
            "padding": null,
            "grid_auto_rows": null,
            "grid_gap": null,
            "max_width": null,
            "order": null,
            "_view_module_version": "1.2.0",
            "grid_template_areas": null,
            "object_position": null,
            "object_fit": null,
            "grid_auto_columns": null,
            "margin": null,
            "display": null,
            "left": null
          }
        },
        "5746779f3a6243f78b252ce9cede00c2": {
          "model_module": "@jupyter-widgets/controls",
          "model_name": "DescriptionStyleModel",
          "model_module_version": "1.5.0",
          "state": {
            "_view_name": "StyleView",
            "_model_name": "DescriptionStyleModel",
            "description_width": "",
            "_view_module": "@jupyter-widgets/base",
            "_model_module_version": "1.5.0",
            "_view_count": null,
            "_view_module_version": "1.2.0",
            "_model_module": "@jupyter-widgets/controls"
          }
        },
        "4c4a8e4c19704bedaa15fc731ef2e843": {
          "model_module": "@jupyter-widgets/base",
          "model_name": "LayoutModel",
          "model_module_version": "1.2.0",
          "state": {
            "_view_name": "LayoutView",
            "grid_template_rows": null,
            "right": null,
            "justify_content": null,
            "_view_module": "@jupyter-widgets/base",
            "overflow": null,
            "_model_module_version": "1.2.0",
            "_view_count": null,
            "flex_flow": null,
            "width": null,
            "min_width": null,
            "border": null,
            "align_items": null,
            "bottom": null,
            "_model_module": "@jupyter-widgets/base",
            "top": null,
            "grid_column": null,
            "overflow_y": null,
            "overflow_x": null,
            "grid_auto_flow": null,
            "grid_area": null,
            "grid_template_columns": null,
            "flex": null,
            "_model_name": "LayoutModel",
            "justify_items": null,
            "grid_row": null,
            "max_height": null,
            "align_content": null,
            "visibility": null,
            "align_self": null,
            "height": null,
            "min_height": null,
            "padding": null,
            "grid_auto_rows": null,
            "grid_gap": null,
            "max_width": null,
            "order": null,
            "_view_module_version": "1.2.0",
            "grid_template_areas": null,
            "object_position": null,
            "object_fit": null,
            "grid_auto_columns": null,
            "margin": null,
            "display": null,
            "left": null
          }
        },
        "ef4faa2d247c43b78486bec8047ac7a1": {
          "model_module": "@jupyter-widgets/controls",
          "model_name": "HBoxModel",
          "model_module_version": "1.5.0",
          "state": {
            "_view_name": "HBoxView",
            "_dom_classes": [],
            "_model_name": "HBoxModel",
            "_view_module": "@jupyter-widgets/controls",
            "_model_module_version": "1.5.0",
            "_view_count": null,
            "_view_module_version": "1.5.0",
            "box_style": "",
            "layout": "IPY_MODEL_bcf500d8c25b487b9f663d1624d6f254",
            "_model_module": "@jupyter-widgets/controls",
            "children": [
              "IPY_MODEL_2af390dd6f24405e9529abe814f25dca",
              "IPY_MODEL_c235b0bb25644efcb4c1050de02aba29",
              "IPY_MODEL_12d242c4a9f848feaaa85d2a215757e0"
            ]
          }
        },
        "bcf500d8c25b487b9f663d1624d6f254": {
          "model_module": "@jupyter-widgets/base",
          "model_name": "LayoutModel",
          "model_module_version": "1.2.0",
          "state": {
            "_view_name": "LayoutView",
            "grid_template_rows": null,
            "right": null,
            "justify_content": null,
            "_view_module": "@jupyter-widgets/base",
            "overflow": null,
            "_model_module_version": "1.2.0",
            "_view_count": null,
            "flex_flow": null,
            "width": null,
            "min_width": null,
            "border": null,
            "align_items": null,
            "bottom": null,
            "_model_module": "@jupyter-widgets/base",
            "top": null,
            "grid_column": null,
            "overflow_y": null,
            "overflow_x": null,
            "grid_auto_flow": null,
            "grid_area": null,
            "grid_template_columns": null,
            "flex": null,
            "_model_name": "LayoutModel",
            "justify_items": null,
            "grid_row": null,
            "max_height": null,
            "align_content": null,
            "visibility": null,
            "align_self": null,
            "height": null,
            "min_height": null,
            "padding": null,
            "grid_auto_rows": null,
            "grid_gap": null,
            "max_width": null,
            "order": null,
            "_view_module_version": "1.2.0",
            "grid_template_areas": null,
            "object_position": null,
            "object_fit": null,
            "grid_auto_columns": null,
            "margin": null,
            "display": null,
            "left": null
          }
        },
        "2af390dd6f24405e9529abe814f25dca": {
          "model_module": "@jupyter-widgets/controls",
          "model_name": "HTMLModel",
          "model_module_version": "1.5.0",
          "state": {
            "_view_name": "HTMLView",
            "style": "IPY_MODEL_938e414ccff944e1ab38a859a33bff5e",
            "_dom_classes": [],
            "description": "",
            "_model_name": "HTMLModel",
            "placeholder": "​",
            "_view_module": "@jupyter-widgets/controls",
            "_model_module_version": "1.5.0",
            "value": "Create embeddings:  99%",
            "_view_count": null,
            "_view_module_version": "1.5.0",
            "description_tooltip": null,
            "_model_module": "@jupyter-widgets/controls",
            "layout": "IPY_MODEL_2fdfe5a1716b48b89be80d43309dccd3"
          }
        },
        "c235b0bb25644efcb4c1050de02aba29": {
          "model_module": "@jupyter-widgets/controls",
          "model_name": "FloatProgressModel",
          "model_module_version": "1.5.0",
          "state": {
            "_view_name": "ProgressView",
            "style": "IPY_MODEL_6fc81cf7aac14236b830602d98b31fce",
            "_dom_classes": [],
            "description": "",
            "_model_name": "FloatProgressModel",
            "bar_style": "",
            "max": 1232,
            "_view_module": "@jupyter-widgets/controls",
            "_model_module_version": "1.5.0",
            "value": 1232,
            "_view_count": null,
            "_view_module_version": "1.5.0",
            "orientation": "horizontal",
            "min": 0,
            "description_tooltip": null,
            "_model_module": "@jupyter-widgets/controls",
            "layout": "IPY_MODEL_858c8099e18046719ad95107f73041c6"
          }
        },
        "12d242c4a9f848feaaa85d2a215757e0": {
          "model_module": "@jupyter-widgets/controls",
          "model_name": "HTMLModel",
          "model_module_version": "1.5.0",
          "state": {
            "_view_name": "HTMLView",
            "style": "IPY_MODEL_b1abf8db3862463e9a405a5e22011011",
            "_dom_classes": [],
            "description": "",
            "_model_name": "HTMLModel",
            "placeholder": "​",
            "_view_module": "@jupyter-widgets/controls",
            "_model_module_version": "1.5.0",
            "value": " 1216/1232 [00:10&lt;00:00, 119.26 Docs/s]",
            "_view_count": null,
            "_view_module_version": "1.5.0",
            "description_tooltip": null,
            "_model_module": "@jupyter-widgets/controls",
            "layout": "IPY_MODEL_27875bcf3382441ea48b556afb9591b1"
          }
        },
        "938e414ccff944e1ab38a859a33bff5e": {
          "model_module": "@jupyter-widgets/controls",
          "model_name": "DescriptionStyleModel",
          "model_module_version": "1.5.0",
          "state": {
            "_view_name": "StyleView",
            "_model_name": "DescriptionStyleModel",
            "description_width": "",
            "_view_module": "@jupyter-widgets/base",
            "_model_module_version": "1.5.0",
            "_view_count": null,
            "_view_module_version": "1.2.0",
            "_model_module": "@jupyter-widgets/controls"
          }
        },
        "2fdfe5a1716b48b89be80d43309dccd3": {
          "model_module": "@jupyter-widgets/base",
          "model_name": "LayoutModel",
          "model_module_version": "1.2.0",
          "state": {
            "_view_name": "LayoutView",
            "grid_template_rows": null,
            "right": null,
            "justify_content": null,
            "_view_module": "@jupyter-widgets/base",
            "overflow": null,
            "_model_module_version": "1.2.0",
            "_view_count": null,
            "flex_flow": null,
            "width": null,
            "min_width": null,
            "border": null,
            "align_items": null,
            "bottom": null,
            "_model_module": "@jupyter-widgets/base",
            "top": null,
            "grid_column": null,
            "overflow_y": null,
            "overflow_x": null,
            "grid_auto_flow": null,
            "grid_area": null,
            "grid_template_columns": null,
            "flex": null,
            "_model_name": "LayoutModel",
            "justify_items": null,
            "grid_row": null,
            "max_height": null,
            "align_content": null,
            "visibility": null,
            "align_self": null,
            "height": null,
            "min_height": null,
            "padding": null,
            "grid_auto_rows": null,
            "grid_gap": null,
            "max_width": null,
            "order": null,
            "_view_module_version": "1.2.0",
            "grid_template_areas": null,
            "object_position": null,
            "object_fit": null,
            "grid_auto_columns": null,
            "margin": null,
            "display": null,
            "left": null
          }
        },
        "6fc81cf7aac14236b830602d98b31fce": {
          "model_module": "@jupyter-widgets/controls",
          "model_name": "ProgressStyleModel",
          "model_module_version": "1.5.0",
          "state": {
            "_view_name": "StyleView",
            "_model_name": "ProgressStyleModel",
            "description_width": "",
            "_view_module": "@jupyter-widgets/base",
            "_model_module_version": "1.5.0",
            "_view_count": null,
            "_view_module_version": "1.2.0",
            "bar_color": null,
            "_model_module": "@jupyter-widgets/controls"
          }
        },
        "858c8099e18046719ad95107f73041c6": {
          "model_module": "@jupyter-widgets/base",
          "model_name": "LayoutModel",
          "model_module_version": "1.2.0",
          "state": {
            "_view_name": "LayoutView",
            "grid_template_rows": null,
            "right": null,
            "justify_content": null,
            "_view_module": "@jupyter-widgets/base",
            "overflow": null,
            "_model_module_version": "1.2.0",
            "_view_count": null,
            "flex_flow": null,
            "width": null,
            "min_width": null,
            "border": null,
            "align_items": null,
            "bottom": null,
            "_model_module": "@jupyter-widgets/base",
            "top": null,
            "grid_column": null,
            "overflow_y": null,
            "overflow_x": null,
            "grid_auto_flow": null,
            "grid_area": null,
            "grid_template_columns": null,
            "flex": null,
            "_model_name": "LayoutModel",
            "justify_items": null,
            "grid_row": null,
            "max_height": null,
            "align_content": null,
            "visibility": null,
            "align_self": null,
            "height": null,
            "min_height": null,
            "padding": null,
            "grid_auto_rows": null,
            "grid_gap": null,
            "max_width": null,
            "order": null,
            "_view_module_version": "1.2.0",
            "grid_template_areas": null,
            "object_position": null,
            "object_fit": null,
            "grid_auto_columns": null,
            "margin": null,
            "display": null,
            "left": null
          }
        },
        "b1abf8db3862463e9a405a5e22011011": {
          "model_module": "@jupyter-widgets/controls",
          "model_name": "DescriptionStyleModel",
          "model_module_version": "1.5.0",
          "state": {
            "_view_name": "StyleView",
            "_model_name": "DescriptionStyleModel",
            "description_width": "",
            "_view_module": "@jupyter-widgets/base",
            "_model_module_version": "1.5.0",
            "_view_count": null,
            "_view_module_version": "1.2.0",
            "_model_module": "@jupyter-widgets/controls"
          }
        },
        "27875bcf3382441ea48b556afb9591b1": {
          "model_module": "@jupyter-widgets/base",
          "model_name": "LayoutModel",
          "model_module_version": "1.2.0",
          "state": {
            "_view_name": "LayoutView",
            "grid_template_rows": null,
            "right": null,
            "justify_content": null,
            "_view_module": "@jupyter-widgets/base",
            "overflow": null,
            "_model_module_version": "1.2.0",
            "_view_count": null,
            "flex_flow": null,
            "width": null,
            "min_width": null,
            "border": null,
            "align_items": null,
            "bottom": null,
            "_model_module": "@jupyter-widgets/base",
            "top": null,
            "grid_column": null,
            "overflow_y": null,
            "overflow_x": null,
            "grid_auto_flow": null,
            "grid_area": null,
            "grid_template_columns": null,
            "flex": null,
            "_model_name": "LayoutModel",
            "justify_items": null,
            "grid_row": null,
            "max_height": null,
            "align_content": null,
            "visibility": null,
            "align_self": null,
            "height": null,
            "min_height": null,
            "padding": null,
            "grid_auto_rows": null,
            "grid_gap": null,
            "max_width": null,
            "order": null,
            "_view_module_version": "1.2.0",
            "grid_template_areas": null,
            "object_position": null,
            "object_fit": null,
            "grid_auto_columns": null,
            "margin": null,
            "display": null,
            "left": null
          }
        }
      }
    }
  },
  "cells": [
    {
      "cell_type": "markdown",
      "metadata": {
        "id": "view-in-github",
        "colab_type": "text"
      },
      "source": [
        "<a href=\"https://colab.research.google.com/github/leonardo3108/robustez-query/blob/main/code/gerar_dcg10_por_dense_retrieval_base_passagens_com_julgamento_local.ipynb\" target=\"_parent\"><img src=\"https://colab.research.google.com/assets/colab-badge.svg\" alt=\"Open In Colab\"/></a>"
      ]
    },
    {
      "cell_type": "markdown",
      "metadata": {
        "id": "gpVSZdz6B0vM"
      },
      "source": [
        "# Preparação"
      ]
    },
    {
      "cell_type": "code",
      "metadata": {
        "id": "vCnfkapybk7V"
      },
      "source": [
        "# Install the latest release of Haystack in your own environment \n",
        "! pip install farm-haystack\n",
        "\n",
        "# Alternative installation the latest master of Haystack\n",
        "#!pip install grpcio-tools==1.34.1\n",
        "#!pip install git+https://github.com/deepset-ai/haystack.git\n",
        "\n",
        "# If you run this notebook on Google Colab, you might need to\n",
        "# restart the runtime after installing haystack."
      ],
      "execution_count": null,
      "outputs": []
    },
    {
      "cell_type": "code",
      "metadata": {
        "colab": {
          "base_uri": "https://localhost:8080/"
        },
        "id": "FeYoG8v6Qc9U",
        "outputId": "85bc1d0d-0a57-4a59-c654-0279d6bee670"
      },
      "source": [
        "from haystack.document_store.elasticsearch import ElasticsearchDocumentStore"
      ],
      "execution_count": 1,
      "outputs": [
        {
          "output_type": "stream",
          "name": "stderr",
          "text": [
            "/usr/local/lib/python3.7/dist-packages/ray/autoscaler/_private/cli_logger.py:61: FutureWarning: Not all Ray CLI dependencies were found. In Ray 1.4+, the Ray CLI, autoscaler, and dashboard will only be usable via `pip install 'ray[default]'`. Please update your install command.\n",
            "  \"update your install command.\", FutureWarning)\n"
          ]
        }
      ]
    },
    {
      "cell_type": "markdown",
      "metadata": {
        "id": "wRQnuSDaSlzc"
      },
      "source": [
        "## Instalando e inicializando ElasticSearc"
      ]
    },
    {
      "cell_type": "code",
      "metadata": {
        "id": "39vQ0IP-SqYb"
      },
      "source": [
        "# In Colab / No Docker environments: Start Elasticsearch from source\n",
        "! wget https://artifacts.elastic.co/downloads/elasticsearch/elasticsearch-7.9.2-linux-x86_64.tar.gz -q\n",
        "! tar -xzf elasticsearch-7.9.2-linux-x86_64.tar.gz\n",
        "! chown -R daemon:daemon elasticsearch-7.9.2\n",
        "\n",
        "import os\n",
        "from subprocess import Popen, PIPE, STDOUT\n",
        "es_server = Popen(['elasticsearch-7.9.2/bin/elasticsearch'],\n",
        "                   stdout=PIPE, stderr=STDOUT,\n",
        "                   preexec_fn=lambda: os.setuid(1)  # as daemon\n",
        "                  )\n",
        "# wait until ES has started\n",
        "! sleep 30"
      ],
      "execution_count": 2,
      "outputs": []
    },
    {
      "cell_type": "code",
      "metadata": {
        "colab": {
          "base_uri": "https://localhost:8080/"
        },
        "id": "4aiDXupkn5Or",
        "outputId": "18dfa98e-829b-44ea-e701-ea64e8ce59a4"
      },
      "source": [
        "!curl -X GET \"localhost:9200\""
      ],
      "execution_count": 3,
      "outputs": [
        {
          "output_type": "stream",
          "name": "stdout",
          "text": [
            "{\n",
            "  \"name\" : \"07239d2ca8a9\",\n",
            "  \"cluster_name\" : \"elasticsearch\",\n",
            "  \"cluster_uuid\" : \"mMgt9yQ_TpCcQwLpvZOF4A\",\n",
            "  \"version\" : {\n",
            "    \"number\" : \"7.9.2\",\n",
            "    \"build_flavor\" : \"default\",\n",
            "    \"build_type\" : \"tar\",\n",
            "    \"build_hash\" : \"d34da0ea4a966c4e49417f2da2f244e3e97b4e6e\",\n",
            "    \"build_date\" : \"2020-09-23T00:45:33.626720Z\",\n",
            "    \"build_snapshot\" : false,\n",
            "    \"lucene_version\" : \"8.6.2\",\n",
            "    \"minimum_wire_compatibility_version\" : \"6.8.0\",\n",
            "    \"minimum_index_compatibility_version\" : \"6.0.0-beta1\"\n",
            "  },\n",
            "  \"tagline\" : \"You Know, for Search\"\n",
            "}\n"
          ]
        }
      ]
    },
    {
      "cell_type": "code",
      "metadata": {
        "colab": {
          "base_uri": "https://localhost:8080/"
        },
        "id": "uO6Z_k4rSzfU",
        "outputId": "d5cdac85-f705-4909-f99d-91236c5de119"
      },
      "source": [
        "!curl -X GET \"localhost:9200\""
      ],
      "execution_count": 4,
      "outputs": [
        {
          "output_type": "stream",
          "name": "stdout",
          "text": [
            "{\n",
            "  \"name\" : \"b2fe8e2b2fe7\",\n",
            "  \"cluster_name\" : \"elasticsearch\",\n",
            "  \"cluster_uuid\" : \"M4nvSvHMRYaMAyeD0ccfQg\",\n",
            "  \"version\" : {\n",
            "    \"number\" : \"7.0.0\",\n",
            "    \"build_flavor\" : \"default\",\n",
            "    \"build_type\" : \"tar\",\n",
            "    \"build_hash\" : \"b7e28a7\",\n",
            "    \"build_date\" : \"2019-04-05T22:55:32.697037Z\",\n",
            "    \"build_snapshot\" : false,\n",
            "    \"lucene_version\" : \"8.0.0\",\n",
            "    \"minimum_wire_compatibility_version\" : \"6.7.0\",\n",
            "    \"minimum_index_compatibility_version\" : \"6.0.0-beta1\"\n",
            "  },\n",
            "  \"tagline\" : \"You Know, for Search\"\n",
            "}\n"
          ]
        }
      ]
    },
    {
      "cell_type": "code",
      "metadata": {
        "colab": {
          "base_uri": "https://localhost:8080/"
        },
        "id": "Gsf9wnULSFLk",
        "outputId": "29b88a8f-5198-4c1f-8524-743606978e0d"
      },
      "source": [
        "doc_store = ElasticsearchDocumentStore(\n",
        "    host='localhost',\n",
        "    username='', password='',\n",
        "    index='robustez-query',\n",
        "    similarity='dot_product'\n",
        ")"
      ],
      "execution_count": 4,
      "outputs": [
        {
          "output_type": "stream",
          "name": "stderr",
          "text": [
            "11/09/2021 16:55:34 - INFO - elasticsearch -   HEAD http://localhost:9200/ [status:200 request:0.012s]\n",
            "11/09/2021 16:55:34 - INFO - elasticsearch -   PUT http://localhost:9200/robustez-query [status:200 request:0.334s]\n",
            "11/09/2021 16:55:35 - INFO - elasticsearch -   PUT http://localhost:9200/label [status:200 request:0.195s]\n"
          ]
        }
      ]
    },
    {
      "cell_type": "code",
      "metadata": {
        "id": "Iy_IP6EcYftu"
      },
      "source": [
        "import requests"
      ],
      "execution_count": 5,
      "outputs": []
    },
    {
      "cell_type": "code",
      "metadata": {
        "colab": {
          "base_uri": "https://localhost:8080/"
        },
        "id": "9CjeJPmgYwpt",
        "outputId": "d7f2fd2a-c7e4-44f0-f89c-02110a2b9d2c"
      },
      "source": [
        "requests.get('http://localhost:9200/_cluster/health').json()"
      ],
      "execution_count": 6,
      "outputs": [
        {
          "output_type": "execute_result",
          "data": {
            "text/plain": [
              "{'active_primary_shards': 2,\n",
              " 'active_shards': 2,\n",
              " 'active_shards_percent_as_number': 50.0,\n",
              " 'cluster_name': 'elasticsearch',\n",
              " 'delayed_unassigned_shards': 0,\n",
              " 'initializing_shards': 0,\n",
              " 'number_of_data_nodes': 1,\n",
              " 'number_of_in_flight_fetch': 0,\n",
              " 'number_of_nodes': 1,\n",
              " 'number_of_pending_tasks': 0,\n",
              " 'relocating_shards': 0,\n",
              " 'status': 'yellow',\n",
              " 'task_max_waiting_in_queue_millis': 0,\n",
              " 'timed_out': False,\n",
              " 'unassigned_shards': 2}"
            ]
          },
          "metadata": {},
          "execution_count": 6
        }
      ]
    },
    {
      "cell_type": "code",
      "metadata": {
        "colab": {
          "base_uri": "https://localhost:8080/"
        },
        "id": "gcEdqPoiZiC-",
        "outputId": "98279835-b148-49c1-8ac2-b79935c39acb"
      },
      "source": [
        "requests.get('http://localhost:9200/_cat/indices')"
      ],
      "execution_count": 8,
      "outputs": [
        {
          "output_type": "execute_result",
          "data": {
            "text/plain": [
              "<Response [200]>"
            ]
          },
          "metadata": {},
          "execution_count": 8
        }
      ]
    },
    {
      "cell_type": "markdown",
      "metadata": {
        "id": "eUuUqED06LcM"
      },
      "source": [
        "## Carga do dataset MsMarco Passage"
      ]
    },
    {
      "cell_type": "code",
      "metadata": {
        "id": "9-NBb0z5msSl"
      },
      "source": [
        "#from pyserini.search import SimpleSearcher\n",
        "\n",
        "# `SimpleSearcher` defaults to BM25 scoring function.\n",
        "#searcher = SimpleSearcher.from_prebuilt_index('msmarco-passage')"
      ],
      "execution_count": null,
      "outputs": []
    },
    {
      "cell_type": "markdown",
      "metadata": {
        "id": "SyXBbY7x6Sow"
      },
      "source": [
        "## Carga das queries originais"
      ]
    },
    {
      "cell_type": "code",
      "metadata": {
        "colab": {
          "base_uri": "https://localhost:8080/"
        },
        "id": "_W_9763Uk-09",
        "outputId": "ccd93ead-6e51-4ce0-c65b-102b04d18e47"
      },
      "source": [
        "! wget -nc https://raw.githubusercontent.com/leonardo3108/robustez-query/main/data/passages-with-judment.txt"
      ],
      "execution_count": 9,
      "outputs": [
        {
          "output_type": "stream",
          "name": "stdout",
          "text": [
            "--2021-11-09 17:01:18--  https://raw.githubusercontent.com/leonardo3108/robustez-query/main/data/passages-with-judment.txt\n",
            "Resolving raw.githubusercontent.com (raw.githubusercontent.com)... 185.199.108.133, 185.199.109.133, 185.199.110.133, ...\n",
            "Connecting to raw.githubusercontent.com (raw.githubusercontent.com)|185.199.108.133|:443... connected.\n",
            "HTTP request sent, awaiting response... 200 OK\n",
            "Length: 3844638 (3.7M) [text/plain]\n",
            "Saving to: ‘passages-with-judment.txt’\n",
            "\n",
            "passages-with-judme 100%[===================>]   3.67M  --.-KB/s    in 0.07s   \n",
            "\n",
            "2021-11-09 17:01:19 (53.1 MB/s) - ‘passages-with-judment.txt’ saved [3844638/3844638]\n",
            "\n"
          ]
        }
      ]
    },
    {
      "cell_type": "code",
      "metadata": {
        "id": "fQbAhN6mlaQ9"
      },
      "source": [
        "passages = []\n",
        "\n",
        "for passage in open('passages-with-judment.txt'):\n",
        "    fields = passage.strip().split()\n",
        "    passages.append((fields[0], ' '.join(fields[1:])))"
      ],
      "execution_count": 10,
      "outputs": []
    },
    {
      "cell_type": "code",
      "metadata": {
        "colab": {
          "base_uri": "https://localhost:8080/"
        },
        "id": "QLV1lES5_X7o",
        "outputId": "cb880379-b857-4d44-8ca8-2009a99f1e99"
      },
      "source": [
        "passages[0][0], passages[0][1]"
      ],
      "execution_count": 12,
      "outputs": [
        {
          "output_type": "execute_result",
          "data": {
            "text/plain": [
              "('1020327',\n",
              " 'From U.S. Citizenship and Immigration Services (USCIS) Naturalization Guide to Naturalization Child Citizenship Act Naturalization Test. Laws and Regulations Read the Code of Federal Regulation Chapter 8 Section 319.2, Expeditious Naturalization regulation and read the INA section 319(b). Department of State Employees and Spouses Only')"
            ]
          },
          "metadata": {},
          "execution_count": 12
        }
      ]
    },
    {
      "cell_type": "code",
      "metadata": {
        "id": "5_Nk2kOkpwbH"
      },
      "source": [
        "data_json = [\n",
        "    {\n",
        "        'text': passage[1],\n",
        "        'meta': {\n",
        "            'docid': passage[0],\n",
        "            'source': 'msmarco-passage-with-judment'\n",
        "        }\n",
        "    } for passage in passages\n",
        "]"
      ],
      "execution_count": 18,
      "outputs": []
    },
    {
      "cell_type": "code",
      "metadata": {
        "colab": {
          "base_uri": "https://localhost:8080/"
        },
        "id": "gxtVTM_BpwmA",
        "outputId": "d7d21dbf-dfab-4ae2-fded-044d0d6bc506"
      },
      "source": [
        "data_json[0]"
      ],
      "execution_count": 19,
      "outputs": [
        {
          "output_type": "execute_result",
          "data": {
            "text/plain": [
              "{'meta': {'docid': '1020327', 'source': 'msmarco-passage-with-judment'},\n",
              " 'text': 'From U.S. Citizenship and Immigration Services (USCIS) Naturalization Guide to Naturalization Child Citizenship Act Naturalization Test. Laws and Regulations Read the Code of Federal Regulation Chapter 8 Section 319.2, Expeditious Naturalization regulation and read the INA section 319(b). Department of State Employees and Spouses Only'}"
            ]
          },
          "metadata": {},
          "execution_count": 19
        }
      ]
    },
    {
      "cell_type": "code",
      "metadata": {
        "colab": {
          "base_uri": "https://localhost:8080/"
        },
        "id": "HhRzyL3gpwxH",
        "outputId": "2cc10429-ce3d-4796-981f-500435aa0f00"
      },
      "source": [
        "len(data_json)"
      ],
      "execution_count": 20,
      "outputs": [
        {
          "output_type": "execute_result",
          "data": {
            "text/plain": [
              "11224"
            ]
          },
          "metadata": {},
          "execution_count": 20
        }
      ]
    },
    {
      "cell_type": "code",
      "metadata": {
        "colab": {
          "base_uri": "https://localhost:8080/"
        },
        "id": "9ju8jKvMqsEI",
        "outputId": "d2d9f1ea-8571-41b1-d823-c11f478a4a43"
      },
      "source": [
        "doc_store.write_documents(data_json)"
      ],
      "execution_count": 21,
      "outputs": [
        {
          "output_type": "stream",
          "name": "stderr",
          "text": [
            "11/09/2021 17:07:59 - INFO - elasticsearch -   POST http://localhost:9200/_bulk?refresh=wait_for [status:200 request:1.314s]\n",
            "11/09/2021 17:08:01 - INFO - elasticsearch -   POST http://localhost:9200/_bulk?refresh=wait_for [status:200 request:1.062s]\n",
            "11/09/2021 17:08:02 - INFO - elasticsearch -   POST http://localhost:9200/_bulk?refresh=wait_for [status:200 request:1.014s]\n",
            "11/09/2021 17:08:03 - INFO - elasticsearch -   POST http://localhost:9200/_bulk?refresh=wait_for [status:200 request:1.017s]\n",
            "11/09/2021 17:08:04 - INFO - elasticsearch -   POST http://localhost:9200/_bulk?refresh=wait_for [status:200 request:1.013s]\n",
            "11/09/2021 17:08:05 - INFO - elasticsearch -   POST http://localhost:9200/_bulk?refresh=wait_for [status:200 request:1.012s]\n",
            "11/09/2021 17:08:06 - INFO - elasticsearch -   POST http://localhost:9200/_bulk?refresh=wait_for [status:200 request:1.012s]\n",
            "11/09/2021 17:08:07 - INFO - elasticsearch -   POST http://localhost:9200/_bulk?refresh=wait_for [status:200 request:1.019s]\n",
            "11/09/2021 17:08:08 - INFO - elasticsearch -   POST http://localhost:9200/_bulk?refresh=wait_for [status:200 request:1.000s]\n",
            "11/09/2021 17:08:09 - INFO - elasticsearch -   POST http://localhost:9200/_bulk?refresh=wait_for [status:200 request:1.019s]\n",
            "11/09/2021 17:08:10 - INFO - elasticsearch -   POST http://localhost:9200/_bulk?refresh=wait_for [status:200 request:1.007s]\n",
            "11/09/2021 17:08:11 - INFO - elasticsearch -   POST http://localhost:9200/_bulk?refresh=wait_for [status:200 request:1.019s]\n",
            "11/09/2021 17:08:12 - INFO - elasticsearch -   POST http://localhost:9200/_bulk?refresh=wait_for [status:200 request:0.997s]\n",
            "11/09/2021 17:08:13 - INFO - elasticsearch -   POST http://localhost:9200/_bulk?refresh=wait_for [status:200 request:1.023s]\n",
            "11/09/2021 17:08:14 - INFO - elasticsearch -   POST http://localhost:9200/_bulk?refresh=wait_for [status:200 request:1.006s]\n",
            "11/09/2021 17:08:15 - INFO - elasticsearch -   POST http://localhost:9200/_bulk?refresh=wait_for [status:200 request:1.010s]\n",
            "11/09/2021 17:08:16 - INFO - elasticsearch -   POST http://localhost:9200/_bulk?refresh=wait_for [status:200 request:0.999s]\n",
            "11/09/2021 17:08:17 - INFO - elasticsearch -   POST http://localhost:9200/_bulk?refresh=wait_for [status:200 request:1.011s]\n",
            "11/09/2021 17:08:18 - INFO - elasticsearch -   POST http://localhost:9200/_bulk?refresh=wait_for [status:200 request:1.014s]\n",
            "11/09/2021 17:08:19 - INFO - elasticsearch -   POST http://localhost:9200/_bulk?refresh=wait_for [status:200 request:1.012s]\n",
            "11/09/2021 17:08:20 - INFO - elasticsearch -   POST http://localhost:9200/_bulk?refresh=wait_for [status:200 request:0.989s]\n",
            "11/09/2021 17:08:21 - INFO - elasticsearch -   POST http://localhost:9200/_bulk?refresh=wait_for [status:200 request:1.005s]\n",
            "11/09/2021 17:08:22 - INFO - elasticsearch -   POST http://localhost:9200/_bulk?refresh=wait_for [status:200 request:1.006s]\n"
          ]
        }
      ]
    },
    {
      "cell_type": "code",
      "metadata": {
        "colab": {
          "base_uri": "https://localhost:8080/"
        },
        "id": "GofwKE6Pq70f",
        "outputId": "797a1cfc-283f-40d9-d4fc-834f2cb9ca34"
      },
      "source": [
        "requests.get('http://localhost:9200/robustez-query/_count').json()"
      ],
      "execution_count": 22,
      "outputs": [
        {
          "output_type": "execute_result",
          "data": {
            "text/plain": [
              "{'_shards': {'failed': 0, 'skipped': 0, 'successful': 1, 'total': 1},\n",
              " 'count': 11224}"
            ]
          },
          "metadata": {},
          "execution_count": 22
        }
      ]
    },
    {
      "cell_type": "markdown",
      "metadata": {
        "id": "kpxhPnD6nZSW"
      },
      "source": [
        "## Execução de busca densa\n"
      ]
    },
    {
      "cell_type": "code",
      "metadata": {
        "id": "HSFgDu2xrTie"
      },
      "source": [
        "from haystack.retriever.dense import DensePassageRetriever"
      ],
      "execution_count": 23,
      "outputs": []
    },
    {
      "cell_type": "code",
      "metadata": {
        "colab": {
          "base_uri": "https://localhost:8080/",
          "height": 1000,
          "referenced_widgets": [
            "e4d3578552cd4aa2b780fc64d09f7f8f",
            "372a6b8c099b4fb8b6fa51ffe76e6673",
            "90286cfd68c140b095a57ff5f8177632",
            "5fafb0bde3a745a99a66ff37775325c8",
            "e057724fdf2d426e91742b4b8ddb9b3f",
            "d5ebbeb4d2624c6eb5a8c0e1dda2ab95",
            "43b88bcd5a314f3583d23ec2d6ddaf7b",
            "5405b31e9ce24823a85dcf0ff3d9b0c4",
            "7f5b40afc74440ffafcf00967545d143",
            "ce92c19131ac42caa9a18bc19e5abdc7",
            "dc2745ab0a5a4820b7860e7e709c6197",
            "2e71158de35c48faa22346ce2033662f",
            "3c74eb0f98c24f80bdcbb1e3ed954cb2",
            "109ef3c5737f49c9901eee43ace806cc",
            "63c1b38ad36f4f89953f9fe7bb22509e",
            "7976c9c5b4be4bb4a8f0b5db92d5caa0",
            "bbfd48ded1bf48b6ad9ed703b7a76938",
            "6228247d34b2443fb845dd26d2354b0f",
            "96d7ce08669b45ffb07e351548178191",
            "8c32f2deddf449438bb94e31df45ba6b",
            "502274798cd84406a6048e46be962fe5",
            "caacf44eb3fc4f7a84995523b85ebac0",
            "7f64c42c98ae4f1e8fb8bcad09a1b943",
            "8c31c2ac5615478599dc5be07e180211",
            "00b4d86449f047c6bea5998690631a5f",
            "50c49d4fe0c9470c84341322221dc461",
            "bf6498f2d4584db9ac93d32541273963",
            "932e87f0886d45629316d8390218c7a1",
            "84670e106717468dab16d5a076651018",
            "37a7c1ff1241497791eb0dc79b7e2ddb",
            "52917d3baec6466c802a5ee62e05d03e",
            "d3dc31fcb9584468abd2733cc092242b",
            "981944fd4c8a49228aa9cae1fd05fe75",
            "c766a498085646b1a0c23de7c778abd7",
            "c8406b0a1e7744a4818278987d0fb138",
            "1735d0fe8a37439dae2dd5a3f196b628",
            "e2eaada50ed4463594079d9eafee2cd9",
            "1f1a170514ea4425840996557be53a3c",
            "52b5275d2662474482e92ff3d227e075",
            "02c641e90211451bb1ba00f17006ee40",
            "d7797f3d936a4571b2d1db1b5f7c9df0",
            "a922a3fc814740419b672f75c4f0f837",
            "15780f93ab2441b582ba9367bd339624",
            "307473fc6c844f7bbeed8143cccae35f",
            "d4f3005f5f834bc99e5ca2a1f71a8090",
            "3b6d7e2c944340a7afe037a2b9ee4f00",
            "ecb7648f89a54ba9b8a3188d6cf8dcdf",
            "56c6aba3e9a2421280bfcd8360a2a41e",
            "ef4300167b8841afbf7ae6c1d0c5d222",
            "2f28af2361d14d1787ee8d0427a81a53",
            "d5366185fa9f4b39a5078e4c7122d926",
            "92456fcbd97845e7af58b2544aa6a145",
            "48e56eef0b7947b9981ea0c343183d06",
            "4fd539e2cb9246248dd393d3c4aa9e85",
            "995fa0d0a1ca4f2480970e3e4ad0d513",
            "2058a83f88e947079b10bc355e804056",
            "857c3e9d83ce47d89b9d2b10f58ef3f9",
            "84859d64085d46d0b6de5b64bffc35e8",
            "58437bbeaba94a7ba40c40ef0a354034",
            "2450d928c6d44472b25d6cbe6cbc1979",
            "047a4c72e74e46119ae40869ecc189cb",
            "98e8c4c5304c4210b7f418c722cb24b5",
            "76562cb2e41f4e8986e022118ef1dc87",
            "5521c188a6cc4edeaf1c9263fa4780a3",
            "16d36ef50ff24b1bbe1d9b770d0e8389",
            "af4b0db240da4effa9d308edc9be3772",
            "e23c546c885547ef89e651c205573afb",
            "2f936e23a06448ca8bb7b8f21e3c6827",
            "f61272df197e4aa3b388e2d64db341ed",
            "0d781371c0bf49549c4c8250baae34d7",
            "70cacb33a8354a0988295dbd041646ac",
            "d291ba80795743eda38a71f4509262e1",
            "df85f7a1c6c14d1a85b14079a35ac50f",
            "f5151cf72204481ea0ec553362cd2505",
            "ffc8ad56cb5045089498d081af5c8a56",
            "b5f61a1b7e2b405dac9bd79b50223fb8",
            "2a92741272de4197b743e611cc49fe42",
            "b587e766b759475b94b267e6f27b1bf5",
            "52c06ed4f7cf4a68bc576c1fde5a0285",
            "b66f55844e6d44d4b5c00c82f9f764ea",
            "19ad00eac0b8484e9253421f86045561",
            "c1c29af757014ea68898d021d8279bd5",
            "afec67dbdb174e0c98942f85dccc0860",
            "f5873234a49c413492012283e42ca6da",
            "3392ceea332e4caabfca1d9665b4d0ac",
            "47fefb67e55843c5b33ff4da540b8d7c",
            "7a9733e9c4b842c5b884f281823fcd9f",
            "b7ae22df157d45aea21c807118c2fd67",
            "46dafb568b954c25992f0e46637b331b",
            "25af0e3c5453492ca7419dfc6ca76742",
            "d5a5a2260a8040fdbf84973858cfdcae",
            "15b18bd8666d4d4bb15508ed5b271ac3",
            "74de814f6c5a4d00abc98271dcbcf5bd",
            "bf9e786c511042ee9a7e2bfba2d8592d",
            "d428ee0708ef4a56bbb3d5f902d48a90",
            "72c05f5fced74062a9b634d47cdeda2e",
            "b48d851c3069460383e80fcc599e6f53",
            "449e0338da99402197b064e9ba6bc4c0",
            "84bfd98958ed4ea59e92b6a8fec0c7c0",
            "d068953ef9f74fe4857947423c8ea3fb",
            "226ea8e07d1b4fa8bbaca36d20c70e57",
            "ccc97a6a213b432ab57f0146862c3316",
            "c70b9013271e4bf2ace94221cc9ce758",
            "b8a05f1802c94f5a9d9d5643f62decbd",
            "2f63a9671b3345b4beaeeacb9a7e205b",
            "e25cedb4214544ad835226bb03e90341",
            "ecc955f49f85422db9b7d4245e038daa",
            "8fd3a092002d49e7a1853655b4040c25",
            "354a3cf019994e03ad4461263f0d75db",
            "5385064c344b4d429f6450e0b3ab3712"
          ]
        },
        "id": "cI9-gkDQrRVm",
        "outputId": "2eecd06c-4ee9-4649-d3b1-02a6610e7220"
      },
      "source": [
        "retriever = DensePassageRetriever(\n",
        "    document_store=doc_store,\n",
        "    query_embedding_model='facebook/dpr-question_encoder-single-nq-base',\n",
        "    passage_embedding_model='facebook/dpr-ctx_encoder-single-nq-base',\n",
        "    use_gpu=True,\n",
        "    embed_title=True\n",
        ")"
      ],
      "execution_count": 24,
      "outputs": [
        {
          "output_type": "stream",
          "name": "stderr",
          "text": [
            "11/09/2021 17:10:08 - DEBUG - filelock -   Attempting to acquire lock 139807006850960 on /root/.cache/huggingface/transformers/4ad08b5f983c1384baaf257d8edf51a7a3961fd8c75a1778ac604e3c0b564dd9.d789d64ebfe299b0e416afc4a169632f903f693095b4629a7ea271d5a0cf2c99.lock\n",
            "11/09/2021 17:10:08 - DEBUG - filelock -   Lock 139807006850960 acquired on /root/.cache/huggingface/transformers/4ad08b5f983c1384baaf257d8edf51a7a3961fd8c75a1778ac604e3c0b564dd9.d789d64ebfe299b0e416afc4a169632f903f693095b4629a7ea271d5a0cf2c99.lock\n"
          ]
        },
        {
          "output_type": "display_data",
          "data": {
            "application/vnd.jupyter.widget-view+json": {
              "model_id": "e4d3578552cd4aa2b780fc64d09f7f8f",
              "version_minor": 0,
              "version_major": 2
            },
            "text/plain": [
              "Downloading:   0%|          | 0.00/232k [00:00<?, ?B/s]"
            ]
          },
          "metadata": {}
        },
        {
          "output_type": "stream",
          "name": "stderr",
          "text": [
            "11/09/2021 17:10:08 - DEBUG - filelock -   Attempting to release lock 139807006850960 on /root/.cache/huggingface/transformers/4ad08b5f983c1384baaf257d8edf51a7a3961fd8c75a1778ac604e3c0b564dd9.d789d64ebfe299b0e416afc4a169632f903f693095b4629a7ea271d5a0cf2c99.lock\n",
            "11/09/2021 17:10:08 - DEBUG - filelock -   Lock 139807006850960 released on /root/.cache/huggingface/transformers/4ad08b5f983c1384baaf257d8edf51a7a3961fd8c75a1778ac604e3c0b564dd9.d789d64ebfe299b0e416afc4a169632f903f693095b4629a7ea271d5a0cf2c99.lock\n",
            "11/09/2021 17:10:08 - DEBUG - filelock -   Attempting to acquire lock 139807002201296 on /root/.cache/huggingface/transformers/b305bc9085b3d0ce33551c251b75c11b6c6df1d4d51e5d3439d01cf4bb1abc9d.7f2721073f19841be16f41b0a70b600ca6b880c8f3df6f3535cbc704371bdfa4.lock\n",
            "11/09/2021 17:10:08 - DEBUG - filelock -   Lock 139807002201296 acquired on /root/.cache/huggingface/transformers/b305bc9085b3d0ce33551c251b75c11b6c6df1d4d51e5d3439d01cf4bb1abc9d.7f2721073f19841be16f41b0a70b600ca6b880c8f3df6f3535cbc704371bdfa4.lock\n"
          ]
        },
        {
          "output_type": "display_data",
          "data": {
            "application/vnd.jupyter.widget-view+json": {
              "model_id": "2e71158de35c48faa22346ce2033662f",
              "version_minor": 0,
              "version_major": 2
            },
            "text/plain": [
              "Downloading:   0%|          | 0.00/466k [00:00<?, ?B/s]"
            ]
          },
          "metadata": {}
        },
        {
          "output_type": "stream",
          "name": "stderr",
          "text": [
            "11/09/2021 17:10:09 - DEBUG - filelock -   Attempting to release lock 139807002201296 on /root/.cache/huggingface/transformers/b305bc9085b3d0ce33551c251b75c11b6c6df1d4d51e5d3439d01cf4bb1abc9d.7f2721073f19841be16f41b0a70b600ca6b880c8f3df6f3535cbc704371bdfa4.lock\n",
            "11/09/2021 17:10:09 - DEBUG - filelock -   Lock 139807002201296 released on /root/.cache/huggingface/transformers/b305bc9085b3d0ce33551c251b75c11b6c6df1d4d51e5d3439d01cf4bb1abc9d.7f2721073f19841be16f41b0a70b600ca6b880c8f3df6f3535cbc704371bdfa4.lock\n",
            "11/09/2021 17:10:09 - DEBUG - filelock -   Attempting to acquire lock 139807007628496 on /root/.cache/huggingface/transformers/d5b5f07ee846d5baa7142e121b6ee77d11ac68bd5d4541faab38a1ea76c2954a.20430bd8e10ef77a7d2977accefe796051e01bc2fc4aa146bc862997a1a15e79.lock\n",
            "11/09/2021 17:10:09 - DEBUG - filelock -   Lock 139807007628496 acquired on /root/.cache/huggingface/transformers/d5b5f07ee846d5baa7142e121b6ee77d11ac68bd5d4541faab38a1ea76c2954a.20430bd8e10ef77a7d2977accefe796051e01bc2fc4aa146bc862997a1a15e79.lock\n"
          ]
        },
        {
          "output_type": "display_data",
          "data": {
            "application/vnd.jupyter.widget-view+json": {
              "model_id": "7f64c42c98ae4f1e8fb8bcad09a1b943",
              "version_minor": 0,
              "version_major": 2
            },
            "text/plain": [
              "Downloading:   0%|          | 0.00/28.0 [00:00<?, ?B/s]"
            ]
          },
          "metadata": {}
        },
        {
          "output_type": "stream",
          "name": "stderr",
          "text": [
            "11/09/2021 17:10:09 - DEBUG - filelock -   Attempting to release lock 139807007628496 on /root/.cache/huggingface/transformers/d5b5f07ee846d5baa7142e121b6ee77d11ac68bd5d4541faab38a1ea76c2954a.20430bd8e10ef77a7d2977accefe796051e01bc2fc4aa146bc862997a1a15e79.lock\n",
            "11/09/2021 17:10:09 - DEBUG - filelock -   Lock 139807007628496 released on /root/.cache/huggingface/transformers/d5b5f07ee846d5baa7142e121b6ee77d11ac68bd5d4541faab38a1ea76c2954a.20430bd8e10ef77a7d2977accefe796051e01bc2fc4aa146bc862997a1a15e79.lock\n",
            "11/09/2021 17:10:09 - DEBUG - filelock -   Attempting to acquire lock 139807002201296 on /root/.cache/huggingface/transformers/52774638a790c9ebc5ce11005b260f79cd4cc389abdab9eaa31e8f09d15b4f46.13b559f49587470ab6d85a7dde13174670a0b61c1b942d1489c96023f5d03772.lock\n",
            "11/09/2021 17:10:09 - DEBUG - filelock -   Lock 139807002201296 acquired on /root/.cache/huggingface/transformers/52774638a790c9ebc5ce11005b260f79cd4cc389abdab9eaa31e8f09d15b4f46.13b559f49587470ab6d85a7dde13174670a0b61c1b942d1489c96023f5d03772.lock\n"
          ]
        },
        {
          "output_type": "display_data",
          "data": {
            "application/vnd.jupyter.widget-view+json": {
              "model_id": "c766a498085646b1a0c23de7c778abd7",
              "version_minor": 0,
              "version_major": 2
            },
            "text/plain": [
              "Downloading:   0%|          | 0.00/493 [00:00<?, ?B/s]"
            ]
          },
          "metadata": {}
        },
        {
          "output_type": "stream",
          "name": "stderr",
          "text": [
            "11/09/2021 17:10:09 - DEBUG - filelock -   Attempting to release lock 139807002201296 on /root/.cache/huggingface/transformers/52774638a790c9ebc5ce11005b260f79cd4cc389abdab9eaa31e8f09d15b4f46.13b559f49587470ab6d85a7dde13174670a0b61c1b942d1489c96023f5d03772.lock\n",
            "11/09/2021 17:10:09 - DEBUG - filelock -   Lock 139807002201296 released on /root/.cache/huggingface/transformers/52774638a790c9ebc5ce11005b260f79cd4cc389abdab9eaa31e8f09d15b4f46.13b559f49587470ab6d85a7dde13174670a0b61c1b942d1489c96023f5d03772.lock\n",
            "11/09/2021 17:10:10 - DEBUG - filelock -   Attempting to acquire lock 139807007627344 on /root/.cache/huggingface/transformers/41dac75f5df9070331cb0e4bf318c9fdeaef38d9ffd8ca80993c7db830d0c674.446ee898f4788c3ee90f8e7ee5a50281905f509e698f76dc0b583eb74ef973bd.lock\n",
            "11/09/2021 17:10:10 - DEBUG - filelock -   Lock 139807007627344 acquired on /root/.cache/huggingface/transformers/41dac75f5df9070331cb0e4bf318c9fdeaef38d9ffd8ca80993c7db830d0c674.446ee898f4788c3ee90f8e7ee5a50281905f509e698f76dc0b583eb74ef973bd.lock\n"
          ]
        },
        {
          "output_type": "display_data",
          "data": {
            "application/vnd.jupyter.widget-view+json": {
              "model_id": "d4f3005f5f834bc99e5ca2a1f71a8090",
              "version_minor": 0,
              "version_major": 2
            },
            "text/plain": [
              "Downloading:   0%|          | 0.00/438M [00:00<?, ?B/s]"
            ]
          },
          "metadata": {}
        },
        {
          "output_type": "stream",
          "name": "stderr",
          "text": [
            "11/09/2021 17:10:22 - DEBUG - filelock -   Attempting to release lock 139807007627344 on /root/.cache/huggingface/transformers/41dac75f5df9070331cb0e4bf318c9fdeaef38d9ffd8ca80993c7db830d0c674.446ee898f4788c3ee90f8e7ee5a50281905f509e698f76dc0b583eb74ef973bd.lock\n",
            "11/09/2021 17:10:22 - DEBUG - filelock -   Lock 139807007627344 released on /root/.cache/huggingface/transformers/41dac75f5df9070331cb0e4bf318c9fdeaef38d9ffd8ca80993c7db830d0c674.446ee898f4788c3ee90f8e7ee5a50281905f509e698f76dc0b583eb74ef973bd.lock\n",
            "11/09/2021 17:10:24 - DEBUG - filelock -   Attempting to acquire lock 139807007227344 on /root/.cache/huggingface/transformers/deacb2c219c1bfe83909173f286b60d7cbfd37fc73dc8de723805ca82cabd183.d789d64ebfe299b0e416afc4a169632f903f693095b4629a7ea271d5a0cf2c99.lock\n",
            "11/09/2021 17:10:24 - DEBUG - filelock -   Lock 139807007227344 acquired on /root/.cache/huggingface/transformers/deacb2c219c1bfe83909173f286b60d7cbfd37fc73dc8de723805ca82cabd183.d789d64ebfe299b0e416afc4a169632f903f693095b4629a7ea271d5a0cf2c99.lock\n"
          ]
        },
        {
          "output_type": "display_data",
          "data": {
            "application/vnd.jupyter.widget-view+json": {
              "model_id": "2058a83f88e947079b10bc355e804056",
              "version_minor": 0,
              "version_major": 2
            },
            "text/plain": [
              "Downloading:   0%|          | 0.00/232k [00:00<?, ?B/s]"
            ]
          },
          "metadata": {}
        },
        {
          "output_type": "stream",
          "name": "stderr",
          "text": [
            "11/09/2021 17:10:24 - DEBUG - filelock -   Attempting to release lock 139807007227344 on /root/.cache/huggingface/transformers/deacb2c219c1bfe83909173f286b60d7cbfd37fc73dc8de723805ca82cabd183.d789d64ebfe299b0e416afc4a169632f903f693095b4629a7ea271d5a0cf2c99.lock\n",
            "11/09/2021 17:10:24 - DEBUG - filelock -   Lock 139807007227344 released on /root/.cache/huggingface/transformers/deacb2c219c1bfe83909173f286b60d7cbfd37fc73dc8de723805ca82cabd183.d789d64ebfe299b0e416afc4a169632f903f693095b4629a7ea271d5a0cf2c99.lock\n",
            "11/09/2021 17:10:24 - DEBUG - filelock -   Attempting to acquire lock 139806942621520 on /root/.cache/huggingface/transformers/9a42d18175a45f8dcfd587d7056cbe397e0fe49828bcc543bc3f5b4d2862f7e5.7f2721073f19841be16f41b0a70b600ca6b880c8f3df6f3535cbc704371bdfa4.lock\n",
            "11/09/2021 17:10:24 - DEBUG - filelock -   Lock 139806942621520 acquired on /root/.cache/huggingface/transformers/9a42d18175a45f8dcfd587d7056cbe397e0fe49828bcc543bc3f5b4d2862f7e5.7f2721073f19841be16f41b0a70b600ca6b880c8f3df6f3535cbc704371bdfa4.lock\n"
          ]
        },
        {
          "output_type": "display_data",
          "data": {
            "application/vnd.jupyter.widget-view+json": {
              "model_id": "e23c546c885547ef89e651c205573afb",
              "version_minor": 0,
              "version_major": 2
            },
            "text/plain": [
              "Downloading:   0%|          | 0.00/466k [00:00<?, ?B/s]"
            ]
          },
          "metadata": {}
        },
        {
          "output_type": "stream",
          "name": "stderr",
          "text": [
            "11/09/2021 17:10:24 - DEBUG - filelock -   Attempting to release lock 139806942621520 on /root/.cache/huggingface/transformers/9a42d18175a45f8dcfd587d7056cbe397e0fe49828bcc543bc3f5b4d2862f7e5.7f2721073f19841be16f41b0a70b600ca6b880c8f3df6f3535cbc704371bdfa4.lock\n",
            "11/09/2021 17:10:24 - DEBUG - filelock -   Lock 139806942621520 released on /root/.cache/huggingface/transformers/9a42d18175a45f8dcfd587d7056cbe397e0fe49828bcc543bc3f5b4d2862f7e5.7f2721073f19841be16f41b0a70b600ca6b880c8f3df6f3535cbc704371bdfa4.lock\n",
            "11/09/2021 17:10:25 - DEBUG - filelock -   Attempting to acquire lock 139806982218512 on /root/.cache/huggingface/transformers/70b0d7ed89bb3511a323f99b7cfa4a3e0c35754fda6a3ac74c3458ca8ffb5764.20430bd8e10ef77a7d2977accefe796051e01bc2fc4aa146bc862997a1a15e79.lock\n",
            "11/09/2021 17:10:25 - DEBUG - filelock -   Lock 139806982218512 acquired on /root/.cache/huggingface/transformers/70b0d7ed89bb3511a323f99b7cfa4a3e0c35754fda6a3ac74c3458ca8ffb5764.20430bd8e10ef77a7d2977accefe796051e01bc2fc4aa146bc862997a1a15e79.lock\n"
          ]
        },
        {
          "output_type": "display_data",
          "data": {
            "application/vnd.jupyter.widget-view+json": {
              "model_id": "b587e766b759475b94b267e6f27b1bf5",
              "version_minor": 0,
              "version_major": 2
            },
            "text/plain": [
              "Downloading:   0%|          | 0.00/28.0 [00:00<?, ?B/s]"
            ]
          },
          "metadata": {}
        },
        {
          "output_type": "stream",
          "name": "stderr",
          "text": [
            "11/09/2021 17:10:25 - DEBUG - filelock -   Attempting to release lock 139806982218512 on /root/.cache/huggingface/transformers/70b0d7ed89bb3511a323f99b7cfa4a3e0c35754fda6a3ac74c3458ca8ffb5764.20430bd8e10ef77a7d2977accefe796051e01bc2fc4aa146bc862997a1a15e79.lock\n",
            "11/09/2021 17:10:25 - DEBUG - filelock -   Lock 139806982218512 released on /root/.cache/huggingface/transformers/70b0d7ed89bb3511a323f99b7cfa4a3e0c35754fda6a3ac74c3458ca8ffb5764.20430bd8e10ef77a7d2977accefe796051e01bc2fc4aa146bc862997a1a15e79.lock\n",
            "11/09/2021 17:10:25 - DEBUG - filelock -   Attempting to acquire lock 139806943115920 on /root/.cache/huggingface/transformers/f31ea67434695abc6c4fbe109214416d8b48a44f2fe5a0617e7faa3d6a4f8d05.be8dbf4cc0650b9c5997b3b3bc47d0d6c20749c3871e9285d3b624cd75dd9ee6.lock\n",
            "11/09/2021 17:10:25 - DEBUG - filelock -   Lock 139806943115920 acquired on /root/.cache/huggingface/transformers/f31ea67434695abc6c4fbe109214416d8b48a44f2fe5a0617e7faa3d6a4f8d05.be8dbf4cc0650b9c5997b3b3bc47d0d6c20749c3871e9285d3b624cd75dd9ee6.lock\n"
          ]
        },
        {
          "output_type": "display_data",
          "data": {
            "application/vnd.jupyter.widget-view+json": {
              "model_id": "46dafb568b954c25992f0e46637b331b",
              "version_minor": 0,
              "version_major": 2
            },
            "text/plain": [
              "Downloading:   0%|          | 0.00/492 [00:00<?, ?B/s]"
            ]
          },
          "metadata": {}
        },
        {
          "output_type": "stream",
          "name": "stderr",
          "text": [
            "11/09/2021 17:10:25 - DEBUG - filelock -   Attempting to release lock 139806943115920 on /root/.cache/huggingface/transformers/f31ea67434695abc6c4fbe109214416d8b48a44f2fe5a0617e7faa3d6a4f8d05.be8dbf4cc0650b9c5997b3b3bc47d0d6c20749c3871e9285d3b624cd75dd9ee6.lock\n",
            "11/09/2021 17:10:25 - DEBUG - filelock -   Lock 139806943115920 released on /root/.cache/huggingface/transformers/f31ea67434695abc6c4fbe109214416d8b48a44f2fe5a0617e7faa3d6a4f8d05.be8dbf4cc0650b9c5997b3b3bc47d0d6c20749c3871e9285d3b624cd75dd9ee6.lock\n",
            "11/09/2021 17:10:25 - DEBUG - filelock -   Attempting to acquire lock 139806987874064 on /root/.cache/huggingface/transformers/2623d56adfe8cc7bf9275b0c620a0e271ee4004c335173bde56310dc8ea99d4f.714228ba33c6248205269978fd6d0ca0ef96508cbd4a11d894882e71d45fad7c.lock\n",
            "11/09/2021 17:10:25 - DEBUG - filelock -   Lock 139806987874064 acquired on /root/.cache/huggingface/transformers/2623d56adfe8cc7bf9275b0c620a0e271ee4004c335173bde56310dc8ea99d4f.714228ba33c6248205269978fd6d0ca0ef96508cbd4a11d894882e71d45fad7c.lock\n"
          ]
        },
        {
          "output_type": "display_data",
          "data": {
            "application/vnd.jupyter.widget-view+json": {
              "model_id": "d068953ef9f74fe4857947423c8ea3fb",
              "version_minor": 0,
              "version_major": 2
            },
            "text/plain": [
              "Downloading:   0%|          | 0.00/438M [00:00<?, ?B/s]"
            ]
          },
          "metadata": {}
        },
        {
          "output_type": "stream",
          "name": "stderr",
          "text": [
            "11/09/2021 17:10:39 - DEBUG - filelock -   Attempting to release lock 139806987874064 on /root/.cache/huggingface/transformers/2623d56adfe8cc7bf9275b0c620a0e271ee4004c335173bde56310dc8ea99d4f.714228ba33c6248205269978fd6d0ca0ef96508cbd4a11d894882e71d45fad7c.lock\n",
            "11/09/2021 17:10:39 - DEBUG - filelock -   Lock 139806987874064 released on /root/.cache/huggingface/transformers/2623d56adfe8cc7bf9275b0c620a0e271ee4004c335173bde56310dc8ea99d4f.714228ba33c6248205269978fd6d0ca0ef96508cbd4a11d894882e71d45fad7c.lock\n"
          ]
        }
      ]
    },
    {
      "cell_type": "code",
      "metadata": {
        "colab": {
          "base_uri": "https://localhost:8080/",
          "height": 84,
          "referenced_widgets": [
            "02e397e53f274f109bd1a159111760c5",
            "9850f38f608a4d1ca49b5573f18bd25b",
            "f5a547ed530b46548fb08c6f10cff0c9",
            "374126657c384c8a85771ef83b7ec0e9",
            "d393420564c049d398e899b3b9de29a8",
            "0e1f51e1d2884ea1a53ea02e50ef8ead",
            "274e430cf062446eb87f35855314970a",
            "4e40deaaaaf34127ab0db27aa2b39852",
            "aeea95ae36a74c2e91aca2e0fc80617e",
            "606654b660f84df79096a75b8d8efa59",
            "1a75dffaa04a4bcdbaa74ae3b208af8b",
            "d72c1f50f24f45d0bf8a3c17f2b4a7f9",
            "68f56167b82f419180aef25282a8e437",
            "d2f2bd5614424da8aa1fc83cd7f18c7f",
            "1aa37396f4094ffa9bdac6b3756d9fea",
            "adb1ff6b87d441f0900ba847da60310d",
            "40382770adb6416486566eb87f7ad2d6",
            "609cd815ebfd470eb12017c85a0185d9",
            "2f84130a49ee4cb69c063869f2b585b7",
            "000ec2dccf1f475698a693b51dddfdc2",
            "5746779f3a6243f78b252ce9cede00c2",
            "4c4a8e4c19704bedaa15fc731ef2e843",
            "ef4faa2d247c43b78486bec8047ac7a1",
            "bcf500d8c25b487b9f663d1624d6f254",
            "2af390dd6f24405e9529abe814f25dca",
            "c235b0bb25644efcb4c1050de02aba29",
            "12d242c4a9f848feaaa85d2a215757e0",
            "938e414ccff944e1ab38a859a33bff5e",
            "2fdfe5a1716b48b89be80d43309dccd3",
            "6fc81cf7aac14236b830602d98b31fce",
            "858c8099e18046719ad95107f73041c6",
            "b1abf8db3862463e9a405a5e22011011",
            "27875bcf3382441ea48b556afb9591b1"
          ]
        },
        "id": "IHDJ9--OrhoQ",
        "outputId": "7cb8ee4a-01e8-47e3-c118-616b195caf96"
      },
      "source": [
        "doc_store.update_embeddings(retriever=retriever)"
      ],
      "execution_count": 25,
      "outputs": [
        {
          "output_type": "stream",
          "name": "stderr",
          "text": [
            "11/09/2021 17:11:02 - INFO - elasticsearch -   POST http://localhost:9200/robustez-query/_count [status:200 request:0.016s]\n",
            "11/09/2021 17:11:02 - INFO - haystack.document_store.elasticsearch -   Updating embeddings for all 11224 docs ...\n"
          ]
        },
        {
          "output_type": "display_data",
          "data": {
            "application/vnd.jupyter.widget-view+json": {
              "model_id": "02e397e53f274f109bd1a159111760c5",
              "version_minor": 0,
              "version_major": 2
            },
            "text/plain": [
              "Updating embeddings:   0%|          | 0/11224 [00:00<?, ? Docs/s]"
            ]
          },
          "metadata": {}
        },
        {
          "output_type": "display_data",
          "data": {
            "application/vnd.jupyter.widget-view+json": {
              "model_id": "d72c1f50f24f45d0bf8a3c17f2b4a7f9",
              "version_minor": 0,
              "version_major": 2
            },
            "text/plain": [
              "Create embeddings:   0%|          | 0/10000 [00:00<?, ? Docs/s]"
            ]
          },
          "metadata": {}
        },
        {
          "output_type": "display_data",
          "data": {
            "application/vnd.jupyter.widget-view+json": {
              "model_id": "ef4faa2d247c43b78486bec8047ac7a1",
              "version_minor": 0,
              "version_major": 2
            },
            "text/plain": [
              "Create embeddings:   0%|          | 0/1232 [00:00<?, ? Docs/s]"
            ]
          },
          "metadata": {}
        }
      ]
    },
    {
      "cell_type": "code",
      "metadata": {
        "colab": {
          "base_uri": "https://localhost:8080/"
        },
        "id": "uVgqY2EgriF6",
        "outputId": "28104ca2-d0d3-4749-bcb5-5520eceb561e"
      },
      "source": [
        "docs = retriever.retrieve('Citizenship and Immigration Services', top_k=20)\n",
        "docs"
      ],
      "execution_count": 53,
      "outputs": [
        {
          "output_type": "execute_result",
          "data": {
            "text/plain": [
              "[{'text': \"FOR CONFIDENTIALITY OF CENSUS INFORMATION. Section 642(a) of the Illegal Immigration Reform and Immigrant Responsibility Act of. 1996, which concerns the authority of federal, state, and local government officials and entities. to disclose to the Immigration and Naturalization Service information regarding an individual's.\", 'score': 0.6769241275058455, 'question': None, 'meta': {'docid': '3878669', 'source': 'msmarco-passage-with-judment'}, 'embedding': None, 'id': 'baf8de57193d6cd7724ada81850d2fb9'},\n",
              " {'text': \"Naturalization is the process by which an alien becomes an American citizen. These records can provide a researcher with information such as a person's birth date and location, occupation, immigration year, marital status and spouse information, witnesses' names and addresses, and more.\", 'score': 0.6762501713946443, 'question': None, 'meta': {'docid': '4556933', 'source': 'msmarco-passage-with-judment'}, 'embedding': None, 'id': 'ed450b145ec4c3468d8209d000d2ec40'},\n",
              " {'text': 'Naturalization Records. Naturalization is the process by which an alien becomes an American citizen. It is a voluntary act; naturalization is not required. This article is adapted from Claire Prechtel-Kluskens, The Location of Naturalization Records, The Record, Vol. 3, No. 2, pp. 21-22 (Nov. 1996).', 'score': 0.6754654485043557, 'question': None, 'meta': {'docid': '6688741', 'source': 'msmarco-passage-with-judment'}, 'embedding': None, 'id': '434c56be3f82b69b0891da8648d6d68d'},\n",
              " {'text': 'Naturalization. Naturalization is the process by which a foreign citizen becomes a United States citizen after fulfilling the requirements established by Congress. Naturalization is the end of the immigration process and affords the same benefits, protections, and status as a person who was born a United States citizen.', 'score': 0.6743394416697, 'question': None, 'meta': {'docid': '4577479', 'source': 'msmarco-passage-with-judment'}, 'embedding': None, 'id': '89700bd56b72aff6bb4430c664e7612a'},\n",
              " {'text': 'Naturalization is the process by which an alien becomes an American citizen. It is a voluntary act; naturalization is not required. This article is adapted from Claire Prechtel-Kluskens, The Location of Naturalization Records, The Record, Vol. 3, No. 2, pp. 21-22 (Nov. 1996).', 'score': 0.6740306003197342, 'question': None, 'meta': {'docid': '4556938', 'source': 'msmarco-passage-with-judment'}, 'embedding': None, 'id': '60b1acb36e8402c60fd9b8d4c67c8784'},\n",
              " {'text': 'From U.S. Citizenship and Immigration Services (USCIS) Naturalization Guide to Naturalization Child Citizenship Act Naturalization Test. Laws and Regulations Read the Code of Federal Regulation Chapter 8 Section 319.2, Expeditious Naturalization regulation and read the INA section 319(b). Department of State Employees and Spouses Only', 'score': 0.6734005880571508, 'question': None, 'meta': {'docid': '1020327', 'source': 'msmarco-passage-with-judment'}, 'embedding': None, 'id': '8b8e7231213f483066a5bf2a3135baa'},\n",
              " {'text': 'You may get a new Certificate of Naturalization by submitting an Application for Replacement Naturalization/Citizenship Document (Form N-565) to INS. Contact the U.S. Citizenship and Immigration Services or by calling the INS Forms Line (1 800-870-3676).', 'score': 0.6729218350574596, 'question': None, 'meta': {'docid': '590924', 'source': 'msmarco-passage-with-judment'}, 'embedding': None, 'id': '303f5ecd0de3dd50dee717dde572211a'},\n",
              " {'text': 'In certain cases, spouses of U.S. citizens employed abroad may qualify for naturalization regardless of their time as permanent residents. These spouses may qualify under Section 319(b) of the INA. For more information, see USCIS Policy Manual Citizenship and Naturalization Guidance.', 'score': 0.6726653692050216, 'question': None, 'meta': {'docid': '4951252', 'source': 'msmarco-passage-with-judment'}, 'embedding': None, 'id': '12601d55d5133731e6e7085d3b13441c'},\n",
              " {'text': 'Following are the functions performed by USCIS. 1 USCIS: 2 conducts naturalization ceremonies to swear in the new citizens of the country and on an average day, the agency naturalizes around 3,000 new U.S. citizens. 3 grants permanent resident status to 3,400 people and issues 7,300 green cards, approximately in a day.', 'score': 0.6726402674305378, 'question': None, 'meta': {'docid': '7039668', 'source': 'msmarco-passage-with-judment'}, 'embedding': None, 'id': 'cd2f02aab0d54ade8a93d150c0a1dc24'},\n",
              " {'text': 'United States Citizenship and Immigrant. Status (USCIS) Codes. 12.1 USCIS Documents. When a noncitizen presents an USCIS document, the county must verify the. USCIS status through SAVE. [Refer to â\\x80\\x9cSAVE,â\\x80\\x9d page 14-1.] USCIS documents and Section Codes are used as a tool to determine eligibility for. public benefits.', 'score': 0.6722977718039912, 'question': None, 'meta': {'docid': '794785', 'source': 'msmarco-passage-with-judment'}, 'embedding': None, 'id': 'ea502c2618907f9219bc69316284be03'},\n",
              " {'text': 'From the first naturalization law passed by Congress in 1790 through much of the 20th century, an alien could become naturalized in any court of record. Thus, most people went to the court most convenient to them, usually a county court. The names and types of courts vary from State to State.', 'score': 0.6716294327062922, 'question': None, 'meta': {'docid': '4556941', 'source': 'msmarco-passage-with-judment'}, 'embedding': None, 'id': '6c5dd33ea085d78c7bbf7bb3488a618d'},\n",
              " {'text': \"You can use your birth certificate as proof of citizenship.. A birth certificate is sometimes called a vital record.. Apply Online Apply In Person. A Birth Certificate shows your name at birth, date of birth and your parents' names.\", 'score': 0.6713578865205694, 'question': None, 'meta': {'docid': '4527137', 'source': 'msmarco-passage-with-judment'}, 'embedding': None, 'id': 'd291afadcdd1ccc8ea2a4911d73a751b'},\n",
              " {'text': 'The 1900, 1910, 1920 and 1930 federal census schedules show whether or not an individual was naturalized. Information provided in naturalization records varies, depending on the court and the time period in which the naturalization occurred.', 'score': 0.6709261770149676, 'question': None, 'meta': {'docid': '8010559', 'source': 'msmarco-passage-with-judment'}, 'embedding': None, 'id': '3776097105d228d4c31f94ec0844ba9a'},\n",
              " {'text': 'Certificate or Certificate of Citizenship? To apply to replace your Naturalization Certificate or Certificate of Citizenship issued by USCIS or by the U.S. Immigration and', 'score': 0.6709129298245936, 'question': None, 'meta': {'docid': '8177749', 'source': 'msmarco-passage-with-judment'}, 'embedding': None, 'id': 'e3c0f3a19a12dc81e36822be06c6777f'},\n",
              " {'text': 'The Certificate of U.S. Naturalization (form N-550 or N-570) is a document issued by United States government as proof of a person having obtained U.S. citizenship through naturalization (a legal process of obtaining a new nationality).', 'score': 0.6705396890835003, 'question': None, 'meta': {'docid': '2838462', 'source': 'msmarco-passage-with-judment'}, 'embedding': None, 'id': '84371e06f393a7bc0e53655c499abc35'},\n",
              " {'text': 'Naturalization After 1906. When the INS was created in 1906, other naturalization records were created to process naturalizations and keep track of immigrants in the United States. Copies of these documents are only in the possession of the former INS, now United States Citizenship and Immigration Services (USCIS).', 'score': 0.6704926322206628, 'question': None, 'meta': {'docid': '7845081', 'source': 'msmarco-passage-with-judment'}, 'embedding': None, 'id': '330d66e4f6ff91de6337c2c8d42910f6'},\n",
              " {'text': 'If you were not born on U.S. soil, you might already be a citizen or eligible for naturalization. First, if you are uncertain about your status, you can contact the Department of State. You can also check the status of a citizenship application through an online Self Check system offered by USCIS.his serves as proof of your citizenship. Alternatively, if you immigrated to the United States, you can request a Certificate of Naturalization; if your naturalization application is pending, USCIS can verify its status upon request.', 'score': 0.6694279714308597, 'question': None, 'meta': {'docid': '8336161', 'source': 'msmarco-passage-with-judment'}, 'embedding': None, 'id': 'fcf2358bc5261dec5851bff4791eaf72'},\n",
              " {'text': 'If unavailable, provide two of the following: 1 Birth Certificate Original or certified copy. 2 Baptismal Record Original or certified copy. 3 Passport Issued by a foreign (non-U.S.) government body. 4 Certificate of Naturalization Issued by USCIS. 5 Permanent Resident Card Issued by USCIS.', 'score': 0.6684992051111174, 'question': None, 'meta': {'docid': '1844627', 'source': 'msmarco-passage-with-judment'}, 'embedding': None, 'id': 'aa13b25ef95ea8be9e8fb1695188a13d'},\n",
              " {'text': 'If you do not have the Dutch nationality, in some cases, you can obtain the Dutch nationality by option or naturalization. For more information about option and naturalization visit the website of the Immigration and Naturalization Service (IND) of the Ministry of Security and Justice of the Netherlands: www.ind.nl.', 'score': 0.6682369905881334, 'question': None, 'meta': {'docid': '2934343', 'source': 'msmarco-passage-with-judment'}, 'embedding': None, 'id': '2efc6422787a8c3b73c216d43e8dd183'},\n",
              " {'text': 'The Naturalization Test To become a naturalized U.S. citizen, you must pass the naturalization test. At your naturalization interview, you will be required to answer questions about your application and background.', 'score': 0.6680163658412552, 'question': None, 'meta': {'docid': '8163080', 'source': 'msmarco-passage-with-judment'}, 'embedding': None, 'id': '7175fa47b6847e981c0f0139cc0d8c46'}]"
            ]
          },
          "metadata": {},
          "execution_count": 53
        }
      ]
    },
    {
      "cell_type": "markdown",
      "metadata": {
        "id": "W3Db1houxEG5"
      },
      "source": [
        "Detalhes em https://haystack.deepset.ai/docs/latest/apidatabasemd "
      ]
    },
    {
      "cell_type": "code",
      "metadata": {
        "colab": {
          "base_uri": "https://localhost:8080/"
        },
        "id": "42-OhiaRw8Y3",
        "outputId": "fd227351-7c2b-4606-d333-abb70a87d757"
      },
      "source": [
        "doc_store.get_embedding_count()"
      ],
      "execution_count": 43,
      "outputs": [
        {
          "output_type": "execute_result",
          "data": {
            "text/plain": [
              "11224"
            ]
          },
          "metadata": {},
          "execution_count": 43
        }
      ]
    },
    {
      "cell_type": "code",
      "metadata": {
        "colab": {
          "base_uri": "https://localhost:8080/"
        },
        "id": "QsrKinlsyE5D",
        "outputId": "4dbd5c78-65bd-44b1-93cc-b5846dfec151"
      },
      "source": [
        "doc_store.get_document_by_id('baf8de57193d6cd7724ada81850d2fb9')"
      ],
      "execution_count": 49,
      "outputs": [
        {
          "output_type": "execute_result",
          "data": {
            "text/plain": [
              "{'text': \"FOR CONFIDENTIALITY OF CENSUS INFORMATION. Section 642(a) of the Illegal Immigration Reform and Immigrant Responsibility Act of. 1996, which concerns the authority of federal, state, and local government officials and entities. to disclose to the Immigration and Naturalization Service information regarding an individual's.\", 'score': 0.5312093733737563, 'question': None, 'meta': {'docid': '3878669', 'source': 'msmarco-passage-with-judment'}, 'embedding': None, 'id': 'baf8de57193d6cd7724ada81850d2fb9'}"
            ]
          },
          "metadata": {},
          "execution_count": 49
        }
      ]
    },
    {
      "cell_type": "code",
      "metadata": {
        "colab": {
          "base_uri": "https://localhost:8080/"
        },
        "id": "TcFxVGSWxfon",
        "outputId": "bad7fa83-0eb7-4402-d364-d7a5fe5099dc"
      },
      "source": [
        "doc_store.get_document_count()"
      ],
      "execution_count": 45,
      "outputs": [
        {
          "output_type": "execute_result",
          "data": {
            "text/plain": [
              "11224"
            ]
          },
          "metadata": {},
          "execution_count": 45
        }
      ]
    },
    {
      "cell_type": "code",
      "metadata": {
        "colab": {
          "base_uri": "https://localhost:8080/"
        },
        "id": "wiAAJWu4xJZC",
        "outputId": "998c4a38-a0ca-49ac-d4d7-d2fcdb73ce26"
      },
      "source": [
        "doc_store.describe_documents()"
      ],
      "execution_count": 44,
      "outputs": [
        {
          "output_type": "execute_result",
          "data": {
            "text/plain": [
              "{'chars_max': 1063,\n",
              " 'chars_mean': 332.02940128296507,\n",
              " 'chars_median': 299.0,\n",
              " 'chars_min': 42,\n",
              " 'count': 11224}"
            ]
          },
          "metadata": {},
          "execution_count": 44
        }
      ]
    },
    {
      "cell_type": "code",
      "metadata": {
        "colab": {
          "base_uri": "https://localhost:8080/"
        },
        "id": "hetvKPXPv-dX",
        "outputId": "074603f8-5979-44b3-8852-c6839e261220"
      },
      "source": [
        "type(docs[0]) "
      ],
      "execution_count": 42,
      "outputs": [
        {
          "output_type": "execute_result",
          "data": {
            "text/plain": [
              "haystack.schema.Document"
            ]
          },
          "metadata": {},
          "execution_count": 42
        }
      ]
    },
    {
      "cell_type": "code",
      "metadata": {
        "colab": {
          "base_uri": "https://localhost:8080/"
        },
        "id": "itNwWwMczsaS",
        "outputId": "2b5b0536-386f-4a4e-a210-8967ae93cf13"
      },
      "source": [
        "print(dir(docs[0]))"
      ],
      "execution_count": 60,
      "outputs": [
        {
          "output_type": "stream",
          "name": "stdout",
          "text": [
            "['__class__', '__delattr__', '__dict__', '__dir__', '__doc__', '__eq__', '__format__', '__ge__', '__getattribute__', '__gt__', '__hash__', '__init__', '__init_subclass__', '__le__', '__lt__', '__module__', '__ne__', '__new__', '__reduce__', '__reduce_ex__', '__repr__', '__setattr__', '__sizeof__', '__str__', '__subclasshook__', '__weakref__', '_get_id', 'embedding', 'from_dict', 'id', 'meta', 'question', 'score', 'text', 'to_dict']\n"
          ]
        }
      ]
    },
    {
      "cell_type": "code",
      "metadata": {
        "colab": {
          "base_uri": "https://localhost:8080/"
        },
        "id": "pAogxZkozywC",
        "outputId": "d9adb931-45b9-42e7-ed2b-f76ca38e2563"
      },
      "source": [
        "docs[0].meta['docid'], docs[0].text, docs[0].score"
      ],
      "execution_count": 59,
      "outputs": [
        {
          "output_type": "execute_result",
          "data": {
            "text/plain": [
              "('3878669',\n",
              " \"FOR CONFIDENTIALITY OF CENSUS INFORMATION. Section 642(a) of the Illegal Immigration Reform and Immigrant Responsibility Act of. 1996, which concerns the authority of federal, state, and local government officials and entities. to disclose to the Immigration and Naturalization Service information regarding an individual's.\",\n",
              " 0.6769241275058455)"
            ]
          },
          "metadata": {},
          "execution_count": 59
        }
      ]
    },
    {
      "cell_type": "markdown",
      "metadata": {
        "id": "rHigvTYGuXOZ"
      },
      "source": [
        "## Carga dos julgamentos"
      ]
    },
    {
      "cell_type": "code",
      "metadata": {
        "id": "AtxGe3IcoPUD",
        "colab": {
          "base_uri": "https://localhost:8080/"
        },
        "outputId": "1c07e556-832a-46a0-ddda-d767c705e329"
      },
      "source": [
        "! wget -nc https://trec.nist.gov/data/deep/2020qrels-pass.txt"
      ],
      "execution_count": 27,
      "outputs": [
        {
          "output_type": "stream",
          "name": "stdout",
          "text": [
            "--2021-11-09 17:23:30--  https://trec.nist.gov/data/deep/2020qrels-pass.txt\n",
            "Resolving trec.nist.gov (trec.nist.gov)... 129.6.13.19, 2610:20:6005:13::19\n",
            "Connecting to trec.nist.gov (trec.nist.gov)|129.6.13.19|:443... connected.\n",
            "HTTP request sent, awaiting response... 200 OK\n",
            "Length: 218617 (213K) [text/plain]\n",
            "Saving to: ‘2020qrels-pass.txt’\n",
            "\n",
            "2020qrels-pass.txt  100%[===================>] 213.49K  --.-KB/s    in 0.06s   \n",
            "\n",
            "2021-11-09 17:23:31 (3.30 MB/s) - ‘2020qrels-pass.txt’ saved [218617/218617]\n",
            "\n"
          ]
        }
      ]
    },
    {
      "cell_type": "code",
      "metadata": {
        "id": "AjS7cN7onNRs"
      },
      "source": [
        "judment = {}\n",
        "for i, line in enumerate(open('2020qrels-pass.txt')):\n",
        "    query_nr, _, pid, eval = line.rstrip().split()\n",
        "    judment[(query_nr, pid)] = int(eval)"
      ],
      "execution_count": 28,
      "outputs": []
    },
    {
      "cell_type": "code",
      "metadata": {
        "id": "yOBACgNxolV1"
      },
      "source": [
        "scale = {3:'perfectly relevant', 2:'highly relevant', 1:'related', 0:'Irrelevant'}"
      ],
      "execution_count": 29,
      "outputs": []
    },
    {
      "cell_type": "code",
      "metadata": {
        "colab": {
          "base_uri": "https://localhost:8080/"
        },
        "id": "FjYY48ueAYkl",
        "outputId": "f5c56714-86df-4c5a-c597-258819478ec2"
      },
      "source": [
        "list(judment)[0], judment[list(judment)[0]]"
      ],
      "execution_count": 30,
      "outputs": [
        {
          "output_type": "execute_result",
          "data": {
            "text/plain": [
              "(('23849', '1020327'), 2)"
            ]
          },
          "metadata": {},
          "execution_count": 30
        }
      ]
    },
    {
      "cell_type": "code",
      "metadata": {
        "colab": {
          "base_uri": "https://localhost:8080/"
        },
        "id": "Kb3Sei3dugFl",
        "outputId": "711e4c41-e214-492f-d374-aba5cd70076a"
      },
      "source": [
        "!nvidia-smi"
      ],
      "execution_count": 31,
      "outputs": [
        {
          "output_type": "stream",
          "name": "stdout",
          "text": [
            "Tue Nov  9 17:24:09 2021       \n",
            "+-----------------------------------------------------------------------------+\n",
            "| NVIDIA-SMI 495.44       Driver Version: 460.32.03    CUDA Version: 11.2     |\n",
            "|-------------------------------+----------------------+----------------------+\n",
            "| GPU  Name        Persistence-M| Bus-Id        Disp.A | Volatile Uncorr. ECC |\n",
            "| Fan  Temp  Perf  Pwr:Usage/Cap|         Memory-Usage | GPU-Util  Compute M. |\n",
            "|                               |                      |               MIG M. |\n",
            "|===============================+======================+======================|\n",
            "|   0  Tesla P100-PCIE...  Off  | 00000000:00:04.0 Off |                    0 |\n",
            "| N/A   52C    P0    37W / 250W |   2183MiB / 16280MiB |      0%      Default |\n",
            "|                               |                      |                  N/A |\n",
            "+-------------------------------+----------------------+----------------------+\n",
            "                                                                               \n",
            "+-----------------------------------------------------------------------------+\n",
            "| Processes:                                                                  |\n",
            "|  GPU   GI   CI        PID   Type   Process name                  GPU Memory |\n",
            "|        ID   ID                                                   Usage      |\n",
            "|=============================================================================|\n",
            "|  No running processes found                                                 |\n",
            "+-----------------------------------------------------------------------------+\n"
          ]
        }
      ]
    },
    {
      "cell_type": "markdown",
      "metadata": {
        "id": "TaT8mIH-vDzv"
      },
      "source": [
        "## Carga das queries originais"
      ]
    },
    {
      "cell_type": "code",
      "metadata": {
        "colab": {
          "base_uri": "https://localhost:8080/"
        },
        "id": "5eF2KcntvJ03",
        "outputId": "58364201-920b-4332-8bbb-b30725baf9e6"
      },
      "source": [
        "! wget -nc https://raw.githubusercontent.com/leonardo3108/robustez-query/main/data/queries-originals.txt"
      ],
      "execution_count": 33,
      "outputs": [
        {
          "output_type": "stream",
          "name": "stdout",
          "text": [
            "--2021-11-09 17:26:49--  https://raw.githubusercontent.com/leonardo3108/robustez-query/main/data/queries-originals.txt\n",
            "Resolving raw.githubusercontent.com (raw.githubusercontent.com)... 185.199.108.133, 185.199.109.133, 185.199.110.133, ...\n",
            "Connecting to raw.githubusercontent.com (raw.githubusercontent.com)|185.199.108.133|:443... connected.\n",
            "HTTP request sent, awaiting response... 200 OK\n",
            "Length: 2275 (2.2K) [text/plain]\n",
            "Saving to: ‘queries-originals.txt’\n",
            "\n",
            "\rqueries-originals.t   0%[                    ]       0  --.-KB/s               \rqueries-originals.t 100%[===================>]   2.22K  --.-KB/s    in 0s      \n",
            "\n",
            "2021-11-09 17:26:49 (16.4 MB/s) - ‘queries-originals.txt’ saved [2275/2275]\n",
            "\n"
          ]
        }
      ]
    },
    {
      "cell_type": "code",
      "metadata": {
        "id": "g2eqr0vuuxNK"
      },
      "source": [
        "queries = []\n",
        "\n",
        "for query in open('queries-originals.txt'):\n",
        "    fields = query.strip().split()\n",
        "    queries.append((fields[0], ' '.join(fields[1:])))"
      ],
      "execution_count": 34,
      "outputs": []
    },
    {
      "cell_type": "code",
      "metadata": {
        "colab": {
          "base_uri": "https://localhost:8080/"
        },
        "id": "ds4xflOwvXz_",
        "outputId": "65a28dd2-1156-4399-b7f1-6241a1853089"
      },
      "source": [
        "queries[0]"
      ],
      "execution_count": 35,
      "outputs": [
        {
          "output_type": "execute_result",
          "data": {
            "text/plain": [
              "('23849', 'are naturalization records public information')"
            ]
          },
          "metadata": {},
          "execution_count": 35
        }
      ]
    },
    {
      "cell_type": "code",
      "metadata": {
        "colab": {
          "base_uri": "https://localhost:8080/"
        },
        "id": "S_S4SHVwcnSH",
        "outputId": "acefbd61-e0de-4396-c76d-0bc1bd4a9216"
      },
      "source": [
        "!nvidia-smi"
      ],
      "execution_count": null,
      "outputs": [
        {
          "output_type": "stream",
          "name": "stdout",
          "text": [
            "Tue Nov  9 14:21:38 2021       \n",
            "+-----------------------------------------------------------------------------+\n",
            "| NVIDIA-SMI 495.44       Driver Version: 460.32.03    CUDA Version: 11.2     |\n",
            "|-------------------------------+----------------------+----------------------+\n",
            "| GPU  Name        Persistence-M| Bus-Id        Disp.A | Volatile Uncorr. ECC |\n",
            "| Fan  Temp  Perf  Pwr:Usage/Cap|         Memory-Usage | GPU-Util  Compute M. |\n",
            "|                               |                      |               MIG M. |\n",
            "|===============================+======================+======================|\n",
            "|   0  Tesla T4            Off  | 00000000:00:04.0 Off |                    0 |\n",
            "| N/A   36C    P8     9W /  70W |      0MiB / 15109MiB |      0%      Default |\n",
            "|                               |                      |                  N/A |\n",
            "+-------------------------------+----------------------+----------------------+\n",
            "                                                                               \n",
            "+-----------------------------------------------------------------------------+\n",
            "| Processes:                                                                  |\n",
            "|  GPU   GI   CI        PID   Type   Process name                  GPU Memory |\n",
            "|        ID   ID                                                   Usage      |\n",
            "|=============================================================================|\n",
            "|  No running processes found                                                 |\n",
            "+-----------------------------------------------------------------------------+\n"
          ]
        }
      ]
    },
    {
      "cell_type": "markdown",
      "metadata": {
        "id": "jMXOz5wG1yP4"
      },
      "source": [
        "## Batimento com os julgamentos"
      ]
    },
    {
      "cell_type": "code",
      "metadata": {
        "colab": {
          "base_uri": "https://localhost:8080/"
        },
        "id": "eJWUh69FvlE6",
        "outputId": "608bb1e8-eed5-4941-fb38-06023cbd14ac"
      },
      "source": [
        "for query_number, query_text in queries:\n",
        "    print(query_number, query_text + ':')\n",
        "    for i, result_busca in enumerate(retriever.retrieve(query_text, top_k=10)):\n",
        "      if i >= 10:\n",
        "        raise 'Mudar códido se trouxer mais do que 10'\n",
        "      docid = result_busca.meta['docid']\n",
        "      if (query_number, docid) not in judment:\n",
        "        print(f'{(query_number, docid)} not in judment')\n",
        "      eval = judment.get((query_number, docid), 0)\n",
        "      content = result_busca.text\n",
        "      print(f'\\t{i+1:2} {docid:15} {result_busca.score:.5f}\\t{eval} ({scale[eval]:18})    {content}')             "
      ],
      "execution_count": 61,
      "outputs": [
        {
          "output_type": "stream",
          "name": "stdout",
          "text": [
            "23849 are naturalization records public information:\n",
            "\t 1 2607127         0.69616\t3 (perfectly relevant)    The Certificate of U.S. Naturalization has been issued since October 1, 1991 by the USCIS, and on or before September 30, 1991 by Federal Courts and particular State Courts. The United States Certificate of Naturalization is proof of an individualâs U.S. citizenship through naturalization.he Certificate of United States Naturalization Guide was developed to help naturalized U.S. citizens complete and file their own requests for a copy of their Certificate of Naturalization.\n",
            "\t 2 6688741         0.69545\t1 (related           )    Naturalization Records. Naturalization is the process by which an alien becomes an American citizen. It is a voluntary act; naturalization is not required. This article is adapted from Claire Prechtel-Kluskens, The Location of Naturalization Records, The Record, Vol. 3, No. 2, pp. 21-22 (Nov. 1996).\n",
            "\t 3 2838462         0.69515\t3 (perfectly relevant)    The Certificate of U.S. Naturalization (form N-550 or N-570) is a document issued by United States government as proof of a person having obtained U.S. citizenship through naturalization (a legal process of obtaining a new nationality).\n",
            "\t 4 7186713         0.69333\t3 (perfectly relevant)    Original Certificate of U.S. Naturalization and a Government-Issued Photo I.D. The Certificate of U.S. Naturalization (form N-550 or N-570) is a document issued by the U.S. government (USCIS) as proof of a foreign born person who has obtained U.S. citizenship through naturalization (a legal process of obtaining a new nationality).\n",
            "\t 5 4556933         0.69259\t3 (perfectly relevant)    Naturalization is the process by which an alien becomes an American citizen. These records can provide a researcher with information such as a person's birth date and location, occupation, immigration year, marital status and spouse information, witnesses' names and addresses, and more.\n",
            "\t 6 4556938         0.69056\t0 (Irrelevant        )    Naturalization is the process by which an alien becomes an American citizen. It is a voluntary act; naturalization is not required. This article is adapted from Claire Prechtel-Kluskens, The Location of Naturalization Records, The Record, Vol. 3, No. 2, pp. 21-22 (Nov. 1996).\n",
            "\t 7 8010558         0.69006\t2 (highly relevant   )    Pre-1906 naturalization records (whether they are certificates of naturalizations, declarations of intention, petitions, or oaths and whether the naturalization was granted in state or federal court) provide far less information about the applicant than do the post-1906 records.\n",
            "\t 8 3978767         0.68949\t2 (highly relevant   )    Certificate numbers can be found in a variety of documents in the public domain. Three common examples are below. Certificate numbers are printed in red on all US Certificates of Naturalization or Certificates of Citizenship issued since September 27, 1906. (see example below). Certificate numbers may also be found on some indexes to court naturalization records. Court indices primarily reference court petition and declaration documents.\n",
            "\t 9 590926          0.68947\t3 (perfectly relevant)    Request a Copy of your Certificate of Naturalization. The Certificate of United States Naturalization Guide was developed to help naturalized U.S. citizens complete and file their own requests for a copy of their Certificate of Naturalization.\n",
            "\t10 2647769         0.68905\t3 (perfectly relevant)    Naturalization Record Search The Naturalization and Petition of Record books are available in the Prothonotary Office for public viewing.\n",
            "42255 average salary for dental hygienist in nebraska:\n",
            "\t 1 8746189         0.70927\t3 (perfectly relevant)    Dental Hygienist Salaries by Area. According to the Bureau of Labor Statistics, Dental Hygienists in the state of Nebraska can expect to earn an average of $65,236 annually or $31.36 per hour.\n",
            "\t 2 8746192         0.70511\t0 (Irrelevant        )    Salaries in Nebraska. Dental Assistant Salaries by Area. Dental Assistants in the state of Nebraska are reported by the Bureau of Labor Statistics to earn an average annual salary of $34,022, which is equivalent to $16.36 per hour.\n",
            "\t 3 8746188         0.70469\t3 (perfectly relevant)    In Nebraska, as the number of dental hygienists is growing, the salaries earned by dental hygienists are increasing. Dental hygienists earned a yearly mean salary of $58,410 in 2006. They earned a yearly mean salary of $64,440 in 2010.\n",
            "\t 4 8746197         0.70455\t3 (perfectly relevant)    Average Dental Hygienist Yearly Salary in Nebraska. Dental Hygienists earn a median salary of $66,370 per year. Salaries typically start from $50,050 and go up to $80,510. Learn more about the Dental Hygienist job market for salaries of real jobs in your area. Alternatively, see what Dental Hygienists earn in other states.\n",
            "\t 5 2799685         0.69988\t0 (Irrelevant        )    Average Dental Hygienist Yearly Salary in Kansas Dental Hygienists earn a median salary of $68,780 per year. Salaries typically start from $51,590 and go up to $92,710.\n",
            "\t 6 1606221         0.69722\t0 (Irrelevant        )    The cost of living in Nebraska (NE) is lower than the nationwide average. The average yearly pay in Nebraska is $39,965.00, which is lower than the U.S. average annual salary by $9,843.00.\n",
            "\t 7 8405342         0.69527\t0 (Irrelevant        )    Research Salaries in Nebraska. According to the Nebraska Department of Education, the average salary for a Nebraska certified teacher is $47,402. However, 47% percent of Nebraskaâs teachers have a masterâs degree and an average of 15.2 years of teaching experience.\n",
            "\t 8 2799681         0.69506\t0 (Irrelevant        )    Average Dental Hygienist Yearly Salary in Kansas. Dental Hygienists earn a median salary of $68,780 per year. Salaries typically start from $51,590 and go up to $92,710. Source: U.S. Department of Labor Bureau of Labor Statistics. Learn more about the Dental Hygienist job market for salaries of real jobs in your area.\n",
            "\t 9 8690589         0.69448\t0 (Irrelevant        )    Average Occupational Therapist Yearly Salary in Nebraska. Occupational Therapists earn a median salary of $72,200 per year. Salaries typically start from $51,470 and go up to $104,620. Learn more about the Occupational Therapist job market for salaries of real jobs in your area. Alternatively, see what Occupational Therapists earn in other states.\n",
            "\t10 2799683         0.69374\t0 (Irrelevant        )    Average Dental Hygienist Hourly Wage in Kansas Dental Hygienists earn a median hourly wage of $33.07. Hourly wages typically start from $24.80 and go up to $44.57.\n",
            "47210 average wedding dress alteration cost:\n",
            "\t 1 2546001         0.69949\t3 (perfectly relevant)    In 2015, the average cost of a wedding dress alteration is between $184 - $255. 1 The complexity of the dress details and degree of difficulty will ultimately determine the cost of your alteration.\n",
            "\t 2 2546002         0.69822\t3 (perfectly relevant)    $219. In 2015, the average cost of a wedding dress alteration is between $184 - $255. 1 The complexity of the dress details and degree of difficulty will ultimately determine the cost of your alteration.\n",
            "\t 3 2545998         0.69756\t3 (perfectly relevant)    $219. In 2015, the average cost of a wedding dress alteration is between $184 - $255. 1 The complexity of the dress details and degree of difficulty will ultimately determine the cost of your alteration. 2 As a rule of thumb, all alterations should be completed at least six to eight weeks before the wedding.\n",
            "\t 4 2546005         0.69679\t3 (perfectly relevant)    In 2015, the average cost of a wedding dress alteration is between $184 - $255.\n",
            "\t 5 2546007         0.69220\t3 (perfectly relevant)    - Bridal shops offering alteration services are the best option since they have the expertise and the experience. $219. In 2015, the average cost of a wedding dress alteration is between $184 - $255.\n",
            "\t 6 2042918         0.69041\t3 (perfectly relevant)    - Bridal shops offering alteration services are the best option since they have the expertise and the experience. $219. In 2015, the average cost of a wedding dress alteration is between $184 - $255.1 The complexity of the dress details and degree of difficulty will ultimately determine the cost of your alteration. 2 As a rule of thumb, all alterations should be completed at least six to eight weeks before the wedding. Bridal shops offering alteration services are the best option since they have the expertise and the experience. $219. In 2015, the average cost of a wedding dress alteration is between $184 - $255.\n",
            "\t 7 5207323         0.69018\t0 (Irrelevant        )    Wedding Dress Alterations Cost. The cost of alterations varies widely, depending on the style of the dress and complexity of the work. The three alterations most likely to be done are hemming, bodice alterations and shortening of sleeves.\n",
            "\t 8 5207326         0.68960\t0 (Irrelevant        )    How Much Do Wedding Dress Alterations Cost? The cost of alterations varies widely, depending on the style of the dress and complexity of the work. The three alterations most likely to be done are hemming, bodice alterations and shortening of sleeves.\n",
            "\t 9 4924263         0.68960\t0 (Irrelevant        )    Average Cost Of A Wedding Cake Average Cost Of Wedding Flowers Average Cost Of A Wedding DJ Average Cost Of A Wedding Reception Average Cost Of A Wedding Ring Average Cost Of A Wedding Band Average Cost Of A Wedding Venue Average Cost Of A Wedding Videographer\n",
            "\t10 1764823         0.68831\t0 (Irrelevant        )    Average Cost of a Wedding Dress. In 2014, the average amount spent on a wedding dress was $1,357, according to a survey of brides done by TheKnot. This cost was about 4% of the total average wedding budget of $31,213.\n",
            "67316 can fever cause miscarriage early pregnancy:\n",
            "\t 1 450309          0.71038\t0 (Irrelevant        )    A miscarriage in the early stages of pregnancy can cause low hCG levels in the body. A miscarriage happens in early pregnancy when the fertilised egg fails to develop as expected after attaching itself to the wall of the uterus.\n",
            "\t 2 450305          0.71026\t0 (Irrelevant        )    Miscarriage. A miscarriage in the early stages of pregnancy can cause low hCG levels in the body. A miscarriage happens in early pregnancy when the fertilised egg fails to develop as expected after attaching itself to the wall of the uterus.\n",
            "\t 3 1920786         0.70973\t1 (related           )    The cause of a miscarriage cannot always be determined. The most common known causes of miscarriage in the first third of pregnancy (1st trimester) are chromosomal abnormalities, collagen vascular disease (such as lupus), diabetes, other hormonal problems, infection, and congenital (present at birth) abnormalities of the uterus. Chromosomal abnormalities.\n",
            "\t 4 450306          0.70923\t0 (Irrelevant        )    Miscarriage is the spontaneous loss of a pregnancy before 20 weeks gestation, according to the Mayo Clinic. Miscarriage may result in low hCG levels. A pregnancy that fails to develop a placenta may not excrete higher levels of hCG.\n",
            "\t 5 8003840         0.70895\t0 (Irrelevant        )    Problems that can cause bleeding in early pregnancy include infection, early pregnancy loss, and ectopic pregnancy. Loss of a pregnancy during the first 13 weeks of pregnancy is called early pregnancy loss or miscarriage. It happens in about 10% of known pregnancies.\n",
            "\t 6 7389433         0.70786\t0 (Irrelevant        )    Pregnancy Early symptoms of pregnancy include a missed period, morning sickness, breast swelling, fatigue, and more. Chickenpox (varicella) Chickenpox is an illness that causes a red, itchy rash, fever, headache, sore throat, and body aches.\n",
            "\t 7 6957398         0.70716\t0 (Irrelevant        )    Complications may include bleeding problems, testicular swelling, and inflammation of nerves. Infection during early pregnancy may result in a child born with congenital rubella syndrome (CRS) or miscarriage. Symptoms of CRS include problems with the eyes such as cataracts, ears such as deafness, heart, and brain. Problems are rare after the 20th week of pregnancy.\n",
            "\t 8 6764675         0.70512\t0 (Irrelevant        )    Miscarriage. Because miscarriage is most common during the first 12 weeks of pregnancy, it tends to be one of the biggest concerns with first trimester bleeding.n rare cases, the tissue is cancerous and can spread to other parts of the body. Other symptoms of molar pregnancy are severe nausea and vomiting, and rapid enlargement of the uterus. Additional causes of bleeding in early pregnancy include: 1 Cervical changes. 2 During pregnancy, extra blood flows to the cervix.\n",
            "\t 9 2784534         0.70487\t0 (Irrelevant        )    Miscarriage or ectopic pregnancy. Spotting or bleeding in the first trimester, especially if accompanied by abdominal pain or cramping, can be an early sign of miscarriage or an ectopic pregnancy (when the embryo implants outside the uterus, usually in one of the fallopian tubes).\n",
            "\t10 8161992         0.70427\t1 (related           )    Symptoms of illness include fever, headache, nausea, and diarrhea. The bacteria also can spread into the bloodstream or nervous system, leading to meningitis * . Pregnant women are at the greatest risk for listeriosis, and the disease can cause miscarriage * , stillbirth * , or serious illness in the newborn.\n",
            "118440 define bmt medical:\n",
            "\t 1 1569787         0.70510\t0 (Irrelevant        )    Medical Definition of BMT. 1 1bachelor of medical technology. 2 2bone marrow transplant; bone marrow transplantation.\n",
            "\t 2 1569786         0.69913\t3 (perfectly relevant)    Medical Definition of BMT. BMT: Bone marrow transplantation, a procedure in which doctors replace bone marrow that is diseased (or damaged) with healthy bone marrow. The bone marrow to be replaced may be deliberately destroyed by high doses of chemotherapy and/or radiation therapy.\n",
            "\t 3 1445685         0.69538\t1 (related           )    BMT is widely used as first-line treatment in hematologic malignancies, such as leukemias, lymphomas, and multiple myeloma, and is being studied extensively in solid tumors, such as colon and breast cancer, autoimmune diseases, and inherited blood disorders.\n",
            "\t 4 1445681         0.69004\t0 (Irrelevant        )    BMT [Internet]; Aug 10, 2016 [cited 2016 Aug 10]. Available from: http://www.allacronyms.com/_medical/BMT. 'BMT', All Acronyms, 10 August 2016, <http://www.allacronyms.com/_medical/BMT> [accessed 10 August 2016] All Acronyms, BMT (Aug. 10, 2016, 11:08 PM), available at http://www.allacronyms.com/_medical/BMT.\n",
            "\t 5 1841633         0.68862\t0 (Irrelevant        )    Medical Definition of Vital bodily function. Vital bodily function: 1. An essential bodily function. 2. A key function for life. 3. A function required by most, if not all, people. The definition of vital bodily functions is prerequisite to the determination of death.\n",
            "('118440', '6493523') not in judment\n",
            "\t 6 6493523         0.68536\t0 (Irrelevant        )    Medical Definition of natural. 1 1: having, constituting, or relating to a classification based on features existing in nature. 2 2: of or relating to nature as an object of study and research. 3 3: relating to or being natural food.\n",
            "\t 7 6382751         0.68478\t0 (Irrelevant        )    Biomedical Equipment Technician. A Biomedical Engineering/Equipment Technician/Technologist ('BMET') or Biomedical Engineering/Equipment Specialist (BES or BMES) is typically an electro-mechanical technician or technologist who ensures that medical equipment is well-maintained, properly configured, and safely functional.\n",
            "\t 8 6744366         0.68286\t0 (Irrelevant        )    BMT or BTm. trcksilky. My husband is 66 and had triple bypass in 1996. Just had a ICD put it last of July of this year. He has high blood pressure and is a diabetic(takes shot in am & pm). Just got out of hospital in Sept. 2008 with heart attack.\n",
            "('118440', '1087304') not in judment\n",
            "\t 9 1087304         0.68273\t0 (Irrelevant        )    Clinical case definition. In epidemiology, a clinical case definition, a clinical definition, or simply a case definition lists the clinical criteria by which public health professionals determine whether a person's illness is included as a case in an outbreak investigationâthat is, whether a person is considered directly affected by an outbreak.\n",
            "('118440', '6765686') not in judment\n",
            "\t10 6765686         0.68159\t0 (Irrelevant        )    Basics. Symptoms. Treatment. Another type, called toxic nodular goiter, results when one or more nodules, or adenomas, develop in the thyroid and trigger excess production of thyroid hormone. In short, a goiter is any enlargement of the thyroid gland.A goiter may be a temporary problem that will remedy itself over time without medical intervention, or a symptom of another, possibly severe, thyroid condition that requires medical attention.asics. Symptoms. Treatment. Another type, called toxic nodular goiter, results when one or more nodules, or adenomas, develop in the thyroid and trigger excess production of thyroid hormone. In short, a goiter is any enlargement of the thyroid gland.\n",
            "121171 define etruscans:\n",
            "\t 1 259436          0.70346\t1 (related           )    Definition of Etruscan. : of, relating to, or characteristic of Etruria, the Etruscans, or the Etruscan language.\n",
            "\t 2 451175          0.70339\t2 (highly relevant   )    Etruscan civilization (/É¨ËtrÊskÉn/) is the modern name given to a civilization of ancient Italy in the area corresponding roughly to Tuscany, western Umbria, and northern Lazio. The ancient Romans called its creators the Tusci or Etrusci.t its maximum extent, during the foundational period of Rome and the Roman kingdom, Etruscan civilization flourished in three confederacies of cities: of Etruria, of the Po valley with the eastern Alps, and of Latium and Campania.\n",
            "\t 3 451170          0.70309\t2 (highly relevant   )    Etruscan civilization (/É¨ËtrÊskÉn/) is the modern name given to a civilization of ancient Italy in the area corresponding roughly to Tuscany, western Umbria, and northern Lazio. The ancient Romans called its creators the Tusci or Etrusci.he Etruscans, like the contemporary cultures of Ancient Greece and Ancient Rome, had a significant military tradition. In addition to marking the rank and power of certain individuals in Etruscan culture, warfare was a considerable economic advantage to Etruscan civilization.\n",
            "\t 4 2550811         0.70285\t2 (highly relevant   )    Etruscan, member of an ancient people of Etruria, Italy, between the Tiber and Arno rivers west and south of the Apennines, whose urban civilization reached its height in the 6th century bce. Many features of Etruscan culture were adopted by the Romans, their successors to power in the peninsula. 1 A brief treatment of the Etruscans follows. 2 The origin of the Etruscans has been a subject of debate since antiquity. 3 In any event, by the middle of the 7th century bce the chief Etruscan towns had been founded.\n",
            "\t 5 8260192         0.70276\t1 (related           )    Define Etruscans. Etruscans synonyms, Etruscans pronunciation, Etruscans translation, English dictionary definition of Etruscans. Italic people who invaded from Asia Minor and settled between the Arno and Tiber rivers. By the 6th century BC they had achieved a high cultural level.\n",
            "\t 6 5809831         0.70094\t1 (related           )    Etruscan Civilization, culture created and developed on the Italian Peninsula by the ancient people of Etruria during the 1st millennium BC. At the time of its greatest power, between the 7th and 5th centuries BC, Etruria probably embraced all Italy from the Alps to the Tiber River.\n",
            "\t 7 1278921         0.70022\t1 (related           )    Wiktionary(0.00 / 0 votes)Rate this definition: Etruria(ProperNoun) An ancient country located between the Arno and Tiber rivers, corresponding to modern day Tuscany in Western Italy; the home of Etruscans.\n",
            "\t 8 5809834         0.69987\t1 (related           )    Etruscans were also noted for their figurative sculpture made from stone, terracotta, such as the Apollo of Velo (c.500 BCE), as well as bronze sculpture like the Capitoline Wolf (c.500 BCE), Chariot (c.550-525 BCE) and the Chimera of Arezzo (c.450 BCE).\n",
            "\t 9 8260194         0.69961\t2 (highly relevant   )    The Etruscans lived in what is modern Tuscany, in the area bounded by the Tiber and Arno rivers, the Apennines and the Tyrrhenian Sea. The Etruscan economy was based on agriculture, trade (especially with the Greeks and Carthage), and mineral resources.\n",
            "\t10 8260188         0.69849\t1 (related           )    The Etruscans lived in what is modern Tuscany, in the area bounded by the Tiber and Arno rivers, the Apennines and the Tyrrhenian Sea. 1 The Etruscan economy was based on agriculture, trade (especially with the Greeks and Carthage), and mineral resources.\n",
            "135802 definition of laudable:\n",
            "\t 1 8692619         0.70012\t2 (highly relevant   )    Laudable definition: Something that is laudable deserves to be praised or admired . | Meaning, pronunciation, translations and examples\n",
            "\t 2 8692623         0.69000\t2 (highly relevant   )    laudable definition: The definition of laudable refers to something or someone who does the right thing or the morally proper action. (adjective) An example of laudable is a person who donates to charity and wants to save the world....\n",
            "\t 3 8692628         0.68722\t2 (highly relevant   )    The definition of laudable refers to something or someone who does the right thing or the morally proper action. An example of laudable is a person who donates to charity and wants to save the world. YourDictionary definition and usage example.\n",
            "\t 4 8692626         0.68304\t2 (highly relevant   )    The definition of laudable refers to something or someone who does the right thing or the morally proper action. An example of laudable is a person who donates to charity and wants to save the world. laudable\n",
            "\t 5 2739069         0.68164\t1 (related           )    Webster Dictionary(0.00 / 0 votes)Rate this definition: Laud(verb) high commendation; praise; honor; exaltation; glory. Laud(verb) a part of divine worship, consisting chiefly of praise; -- usually in the pl. Laud(verb) music or singing in honor of any one.\n",
            "\t 6 520345          0.68020\t0 (Irrelevant        )    Definition of superlative. 1 1a : the superlative degree of comparison in a languageb : a superlative form of an adjective or adverb. 2 2 : the superlative or utmost degree of something : acme. 3 3 : a superlative person or thing. 4 : an admiring sometimes exaggerated expression especially of praise.\n",
            "\t 7 7075501         0.67870\t1 (related           )    Synonyms for creditable in Free Thesaurus. Antonyms for creditable. 27 synonyms for creditable: praiseworthy, worthy, respectable, admirable, honourable, exemplary, reputable, commendable, laudable, meritorious, estimable.... What are synonyms for creditable?\n",
            "\t 8 5782629         0.67833\t0 (Irrelevant        )    Define commend. commend synonyms, commend pronunciation, commend translation, English dictionary definition of commend. tr.v. comÂ·mendÂ·ed , comÂ·mendÂ·ing , comÂ·mends 1. To express approval of; praise: commended the volunteers for their hard work. See Synonyms at praise. 2.\n",
            "\t 9 2739063         0.67798\t0 (Irrelevant        )    The definition of laud is praise. An example of laud is a teacher letting a student know how great they did on an assignment. YourDictionary definition and usage example.\n",
            "\t10 8736160         0.67764\t0 (Irrelevant        )    Definition of action - the fact or process of doing something, typically to achieve an aim, a thing done; an act, the way in which something works or mov Definition of action - the fact or process of doing something, typically to achieve an aim, a thing done; an act, the way in which something works or mov dictionary thesaurus\n",
            "141630 describe how muscles and bones work together to produce movement:\n",
            "\t 1 5921140         0.70296\t1 (related           )    This system describes how bones are connected to other bones and muscle fibers via connective tissue such as tendons and ligaments. The bones provide stability to the body. Muscles keep bones in place and also play a role in the movement of bones.To allow motion, different bones are connected by joints.Cartilage prevents the bone ends from rubbing directly onto each other. Muscles contract to move the bone attached at the joint.he bones provide stability to the body. Muscles keep bones in place and also play a role in the movement of bones. To allow motion, different bones are connected by joints. Cartilage prevents the bone ends from rubbing directly onto each other.\n",
            "\t 2 4101951         0.70290\t1 (related           )    Relationship of skeletal muscles to bones. - Muscles are attached to bones by tendons known as the origins and insertions. - Skeletal muscles produce movements by pulling on bones. - Bones serve as levers, and joints act as fulcrums for the levers. - Muscles that move a body part often do not cover the moving part.\n",
            "\t 3 2265942         0.70289\t1 (related           )    Muscles provide the tug on the bones needed to bend, straighten, and support joints. Muscles can pull on bones, but they can't push them back to their original position, so the muscles work in pairs of flexors and extensors. The extensor muscle relaxes and stretches as the flexor muscle contracts to bend the joint.\n",
            "\t 4 5271691         0.70236\t1 (related           )    A tendon is a band of connective tissue that connects muscle to bone. The tendons and muscles work together to control joint movement. When a muscle contracts, it pulls on the tendon, which then pulls the bone to cause movement.he other end the tendon connects to bone. Contraction of the muscle pulls on the tendon, causing the tendon to pull the bone. In this way, tendons play an important role in muscle control of the body. Tendons are made of parallel collagen fibers running the length of the tendon.\n",
            "\t 5 7107466         0.70180\t1 (related           )    Bodily movement is made possible by the interaction of the muscular and skeletal systems. For this reason, they are often grouped together as the musculoskeletal system. Muscles are connected to bones by tendons. Bones are connected to each other by ligaments. Where bones meet one another is called a joint.\n",
            "\t 6 1157245         0.70179\t1 (related           )    This system describes how bones are connected to other bones and muscle fibers via connective tissue such as tendons and ligaments. The bones provide stability to the body. Muscles keep bones in place and also play a role in the movement of bones.To allow motion, different bones are connected by joints.Cartilage prevents the bone ends from rubbing directly onto each other. Muscles contract to move the bone attached at the joint.he musculoskeletal system provides form, support, stability, and movement to the body. It is made up of the bones of the skeleton, muscles, cartilage, tendons, ligaments, joints, and other connective tissue that supports and binds tissues and organs together.\n",
            "\t 7 340875          0.70174\t1 (related           )    Bones, ligaments, and muscles are the structures that form levers in the body to create human movement. In simple terms, a joint (where two or more bones join together) forms the axis (or fulcrum), and the muscles crossing the joint apply the force to move a weight or resistance.\n",
            "\t 8 1889340         0.70153\t1 (related           )    Bodily movement is carried out by the interaction of the muscular and skeletal systems. For this reason, they are often grouped together as the musculo-skeletal system. Muscle is attached to bone by tendons and other tissues, and exerts force by converting chemical energy into tension and contraction. Skeletal muscles which cause movement of a joint are connected to two different bones and contract to pull them together.\n",
            "\t 9 6319711         0.70149\t2 (highly relevant   )    Movement is made possible because of the way that bones, muscles, tendons and ligaments work together. Bones are rigid tissues that can support weight without bending.Muscle is tissue that can contract and relax to cause movement. Tendons are strong, fibrous, flexible connective tissue that joins muscles to bone.ur skeletal-muscular system enables us to move and exercise. Our joints are adapted to allow smooth movement and to resist wear and tear. Cartilage, for example, prevents bones from rubbing together. Sometimes, however, injuries do occur.\n",
            "\t10 2173072         0.70145\t1 (related           )    This system describes how bones are connected to other bones and muscle fibers via connective tissue such as tendons and ligaments. The bones provide stability to the body. Muscles keep bones in place and also play a role in the movement of bones.To allow motion, different bones are connected by joints.Cartilage prevents the bone ends from rubbing directly onto each other. Muscles contract to move the bone attached at the joint.uscles keep bones in place and also play a role in the movement of bones. To allow motion, different bones are connected by joints. Cartilage prevents the bone ends from rubbing directly onto each other. Muscles contract to move the bone attached at the joint.\n",
            "156498 do google docs auto save:\n",
            "\t 1 1439275         0.70265\t0 (Irrelevant        )    Automatically save your edits and modifications periodically. Auto backup Photoshop 7, CS and CS 2, MS Office 97, 2000, 2002 and 2003 include Word, Excel, PowerPoint documents before auto saving. Almost all kinds of editors, text editor, graphics editor and other kinds of editors (Dreamweaver), can be automatically saved by AutoSave.\n",
            "\t 2 1118223         0.70036\t0 (Irrelevant        )    Google offers an extension for Google Chrome, Save to Google Drive, that allows users to save web content to Google Drive through a browser action or through the context menu. While documents and images can be saved directly, webpages can be saved in the form of a screenshot (as an image of the visible part of the page or the entire page), or as a raw HTML, MHTML, or Google Docs file.\n",
            "\t 3 104803          0.69995\t1 (related           )    Allow Google Docs save and sync your changes automatically. In the offline application, Google Drive automatically saves changes made to a document every few seconds. When your computer connects to the internet, the Google Drive application will function like its online counterpart.\n",
            "\t 4 1575718         0.69655\t0 (Irrelevant        )    Google Docs allows users to send and receive documents, modify them and share them with friends, family and co-workers. With a few clicks of the mouse, you can import your excel sheets into Google Docs so you can share, modify and export them again. Go to the Google Docs website. Log into your Google account using your email address and password. Click the Sign in button to proceed.\n",
            "\t 5 1439277         0.69484\t0 (Irrelevant        )    By using AutoSave, you can easily protect your work from forgetting saving your work manually. Key features: Automatically save your work periodically. Auto backup your Photoshop, MS Office (Word, Excel and PowerPoint) documents before auto saving. Backup file count can be confined from 1 to unlimited. Features include intuitive interface, easy to use, fast enable/disable auto save, and export/import saved files.\n",
            "\t 6 8615228         0.69383\t0 (Irrelevant        )    The Save To location for Google Drive (it will default to the root of your Google Drive) Save As file format (.png, .html, .mht, or Google Doc) Convert saved link to Google editor format; Using Save to Google Drive. Save to Google Drive is simple to use. When you're on a page you want to save, left-click the extension icon and the file will be saved.\n",
            "\t 7 4273410         0.69371\t1 (related           )    You can't disable auto saving, but you can have it happen offline. Make sure that you have offline Google Docs enabled and that your document is downloaded. Then, disconnect the internet.Start editing that document. Now, you will be editing the offline version. At this point, you can safely reconnect to the internet.ou should see an 'Actions' dropdown appear to the right. If you click on that you should be given the option to 'download' the file. Now you can work on your document locally on your office computer and when you are done for the day just upload it back to Google Docs. :).\n",
            "\t 8 1434098         0.69282\t0 (Irrelevant        )    You can use Google Drive to create and store files. Files created in Google Drive, Google-format files, can be edited collaboratively. Files stored in Drive cannot (though you can use the Office Editing for Docs, Sheets & Slides Chrome extension to make basic edits in Chrome to Office files). To gain the features of Google Docs for your Office files, convert them:\n",
            "\t 9 752504          0.69255\t0 (Irrelevant        )    Finding and using the temporary and auto save files. The default auto save time for word documents is 10 minutes. You can control this time in Options under the Save tab. The auto save files are placed in one of the following two locations, which is where you should look to recover the data.\n",
            "\t10 3852379         0.69251\t0 (Irrelevant        )    Open Google Docs (see link in Resources), and then log in to your Google account, if required. Locate the document you want to save. By default, Google Docs displays a list of recent docs when you access the page. To view all your files, click My Drive.. Check the box to the left of the file you want to download to select it. To download several files, select all of them.\n",
            "169208 does mississippi have an income tax:\n",
            "\t 1 6413011         0.69872\t0 (Irrelevant        )    In Mississippi, citizens receive $2.34 in return for every dollar paid in federal income tax, which ranks fourth highest in America. A whopping 43.68% of Mississippi's state revenue is comprised of federal funding, the highest such rate in the country.\n",
            "\t 2 2888366         0.69781\t0 (Irrelevant        )    Mississippi's median income is $45,925 per year, so the median yearly property tax paid by Mississippi residents amounts to approximately % of their yearly income. Mississippi is ranked 46th of the 50 states for property taxes as a percentage of median income.\n",
            "\t 3 4859433         0.69770\t2 (highly relevant   )    The Mississippi Income Tax. Mississippi collects a state income tax at a maximum marginal tax rate of %, spread across tax brackets. Unlike the Federal Income Tax, Mississippi's state income tax does not provide couples filing jointly with expanded income tax brackets. Notably, Mississippi has the highest maximum marginal tax bracket in the United States.\n",
            "\t 4 4580133         0.69700\t3 (perfectly relevant)    Mississippi collects income taxes from its residents utilizing three tax brackets. For single taxpayers: 1 3 percent on the first $5,000 of taxable income. 2 4 percent on taxable income between $5,001 and $10,000. 3 5 percent on taxable income of $10,001 and above.ississippi has three state income tax rates: 3 percent, 4 percent and 5 percent.\n",
            "\t 5 4762140         0.69681\t0 (Irrelevant        )    Interest income from federal securities and obligations of Mississippi and its political subdivisions is exempt. Gains on the sale of stock of a Mississippi corporation are exempt from Mississippi income tax. The stateâs income tax rates are 3%, 4%, and 5%. The first $5,000 of taxable income is taxed at 3%, the second $5,000 at 4%, and all above $10,000 is taxed at 5%.\n",
            "\t 6 4859437         0.69667\t3 (perfectly relevant)    The Mississippi state government collects several types of taxes. The most significant are its income and sales taxes. While the personal income tax, which has a top rate of 5%, is slightly lower than the national average for state income taxes, the statewide sales tax of 7% is slightly above the national average.\n",
            "\t 7 4859436         0.69620\t0 (Irrelevant        )    Mississippi's Sales Tax By The Numbers: Mississippi has a higher-than-average sales tax, including when local sales taxes from Mississippi's 2 local tax jurisdictions are taken into account. Mississippi has a statewide sales tax rate of 7.00%, which has been in place since 1930. Municipal governments in Mississippi are also allowed to collect a local-option sales tax that ranges from 0.00% to 1.00% across the state, with an average local tax of 0.052% (for a total of 7.052% when combined with the state sales tax). The maximum local tax rate allowed by Mississippi law is 1.00%.\n",
            "\t 8 85989           0.69566\t0 (Irrelevant        )    Interest income from federal securities and obligations of Mississippi and its political subdivisions are all exempt. The stateâs income tax rates are 3%, 4%, and 5%. The first $5,000 of taxable income is taxed at 3%, the second $5,000 at 4%, and all above $10,000 is taxed at 5%.\n",
            "\t 9 7169064         0.69525\t0 (Irrelevant        )    Mississippi has state sales tax of 7.00%, and allows local governments to collect a local option sales tax of up to 1.00%. There are a total of 2 local tax jurisdictions across the state, collecting an average local tax of 0.056%.\n",
            "\t10 4580131         0.69510\t1 (related           )    Mississippi has three state income tax rates: 3 percent, 4 percent and 5 percent.These rates are the same for individuals, all filing statuses, as well as for businesses. More on Mississippi taxes can be found in the tabbed pages below.1 Income. 2 Sales.ississippi has three state income tax rates: 3 percent, 4 percent and 5 percent.\n",
            "174463 dog day afternoon meaning:\n",
            "\t 1 470712          0.68876\t2 (highly relevant   )    Definition of dog day. 1a dog days plural : the period between early July and early September when the hot sultry weather of summer usually occurs b : a day in dog days : a hot sultry day. 2 dog days plural : a period marked by dull lack of progress the dog days following any major upheaval.\n",
            "\t 2 470708          0.68859\t2 (highly relevant   )    Definition of dog day. 1 1a dog days plural : the period between early July and early September when the hot sultry weather of summer usually occurs b : a day in dog days : a hot sultry day. 2 2 dog days plural : a period marked by dull lack of progress the dog days following any major upheaval.\n",
            "\t 3 6094016         0.68799\t2 (highly relevant   )    dog days. 1. the sultry part of the summer, supposed to occur during the period that Sirius, the Dog Star, rises at the same time as the sun: now often reckoned from July 3 to August 11. 2. a period marked by lethargy, inactivity, or indolence. dog days. 1.\n",
            "\t 4 1567955         0.68663\t1 (related           )    The English phrase dog days, which entered the language in the 1500s, is a direct translation from the Latin term caniculares dies, which refers to this specific seasonal phenomenon and is modeled after the same term in Hellenistic Greek.\n",
            "\t 5 1835370         0.68572\t2 (highly relevant   )    Definition of dog days. 1 1 : the period between early July and early September when the hot sultry weather of summer usually occurs in the northern hemisphere. 2 2 : a period of stagnation or inactivity.\n",
            "\t 6 1835377         0.68557\t2 (highly relevant   )    Definition of dog days. 1 : the period between early July and early September when the hot sultry weather of summer usually occurs in the northern hemisphere.\n",
            "\t 7 5264564         0.68438\t1 (related           )    When Are the Dogs Days of Summer? The official âdog daysâ of summer begin on July 3 and end on August 11. So how did this time frame earn its canine nickname? It turns out the phrase has nothing to do with the poor pooches who are forever seeking shade in the July heat, and everything to do with the nighttime sky.\n",
            "\t 8 2533624         0.68401\t2 (highly relevant   )    Dog days definition, the sultry part of the summer, supposed to occur during the period that Sirius, the Dog Star, rises at the same time as the sun: now often reckoned from July 3 to August 11. See more.\n",
            "\t 9 7089624         0.68359\t0 (Irrelevant        )    Dog Day Afternoon is a 1975 American crime drama film directed by Sidney Lumet, written by Frank Pierson, and produced by Martin Bregman and Martin Elfand. The film stars Al Pacino, John Cazale, Charles Durning, Chris Sarandon, Penelope Allen, James Broderick, Lance Henriksen, and Carol Kane.\n",
            "\t10 1835371         0.68357\t2 (highly relevant   )    dog days, name for the most sultry period of summer, from about July 3 to Aug. 11. Named in early times by observers in countries bordering the Mediterranean, the period was reckoned as extending from 20 days before to 20 days after the conjunctionconjunction, in astronomy, alignment of two celestial bodies as seen from the earth.\n",
            "258062 how long does it take to remove wisdom tooth:\n",
            "\t 1 3189004         0.70777\t0 (Irrelevant        )    Wisdom tooth extraction recovery takes approximately five to seven days, with the gum area being fully healed in approximately three to four weeks. If the jaw is damaged during tooth extraction, full recovery may take up to six months.\n",
            "\t 2 5463138         0.70376\t0 (Irrelevant        )    Wisdom tooth extraction recovery takes approximately five to seven days, with the gum area being fully healed in approximately three to four weeks. If the jaw is damaged during tooth extraction, full recovery may take up to six months. Once you have undergone the surgical extraction procedure, there are several steps to take to ensure proper healing and recovery from the procedure. During the first 24 hours after wisdom teeth removal, you can expect some bleeding. To control bleeding, a moist, clean piece of gauze can be placed over the extraction site. Biting pressure applied for 45 minutes should stop the bleeding.\n",
            "\t 3 3016095         0.70373\t0 (Irrelevant        )    Wisdom Tooth Extraction Recovery. Wisdom tooth extraction recovery takes approximately five to seven days, with the gum area being fully healed in approximately three to four weeks. If the jaw is damaged during tooth extraction, full recovery may take up to six months.\n",
            "\t 4 1311741         0.70352\t2 (highly relevant   )    Having your wisdom teeth removed is classified as tooth extraction, and is therefore a form of major dental surgery. General or local anesthesia may be used, depending on the individual case. The procedure can take 30 minutes to 3 hours, but dentists recommend at least 3 days off work after the procedure.\n",
            "\t 5 8694161         0.70264\t3 (perfectly relevant)    How long does it take to remove a wisdom tooth - Please tell me how long it takes for to get one wisdom tooth removed? Dependson difficulty. It depends on the age of the patient and the difficulty of the extraction. Surgical time only may be from 5-30 minutes/tooth.\n",
            "\t 6 2909753         0.70235\t0 (Irrelevant        )    If wisdom tooth is removed properly the swelling and pain goes down within 5 days, and if there is remaining of any part of the root or if there is infection in the cavity then swelling and pain may increase due to infection, and you need some antibiotics to control infection.\n",
            "\t 7 3195767         0.70076\t0 (Irrelevant        )    It takes to recover after wisdom teeth removal generally three to four days, although it can be as long as two weeks. However, pain should be lessening by the second day. But it varies from person to person, and also depends on how easy or difficult the tooth removal procedure was.\n",
            "\t 8 3404351         0.70060\t0 (Irrelevant        )    The initial recovery and healing from wisdom tooth extraction usually occurs over about three to five days. It is normal to have slight bleeding (oozing) from the site considering the surgical procedure performed. The minor bleeding (oozing) after extraction should start to ease after the first 24 hours.\n",
            "\t 9 2510542         0.70054\t0 (Irrelevant        )    Wisdom tooth extraction recovery takes approximately five to seven days, with the gum area being fully healed in approximately three to four weeks. If the jaw is damaged during tooth extraction, full recovery may take up to six months. Once you have undergone the surgical extraction procedure, there are several steps to take to ensure proper healing and recovery from the procedure. During the first 24 hours after wisdom teeth removal, you can expect some bleeding.\n",
            "\t10 3404354         0.70048\t0 (Irrelevant        )    Wisdom Tooth Extraction Recovery. Wisdom tooth extraction recovery takes approximately five to seven days, with the gum area being fully healed in approximately three to four weeks. If the jaw is damaged during tooth extraction, full recovery may take up to six months. Once you have undergone the surgical extraction procedure, there are several steps to take to ensure proper healing and recovery from the procedure. During the first 24 hours after wisdom teeth removal, you can expect some bleeding.\n",
            "324585 how much money do motivational speakers make:\n",
            "\t 1 8310499         0.69350\t3 (perfectly relevant)    Motivational or keynote speakers vary in price range based on their experience and the length of the conference or event. In general, professional speakers (non-celebrities) range from $1,500 to $30,000 for an event. For example, Pro Speak has most of its speakers available in the $5,000 to $10,000 range.\n",
            "\t 2 8290314         0.69268\t3 (perfectly relevant)    How much do motivational speakers earn? A: According to the job website Indeed, the average motivational speaker makes around $88,000 per year as of 2013. Motivational speakers' salaries can vary greatly depending on location, level of fame, number of speeches given annually, merchandising and other factors.\n",
            "\t 3 8500121         0.69170\t3 (perfectly relevant)    Motivational or Keynote Speaker Cost. Typical costs: 1 Motivational or keynote speakers vary in price range based on their experience and the length of the conference or event. In general, professional speakers (non-celebrities) range from $1,500 to $30,000 for an event.\n",
            "\t 4 8500123         0.68506\t3 (perfectly relevant)    1 Motivational or keynote speakers vary in price range based on their experience and the length of the conference or event. In general, professional speakers (non-celebrities) range from $1,500 to $30,000 for an event. For example, Pro Speak has most of its speakers available in the $5,000 to $10,000 range.\n",
            "\t 5 1536988         0.68307\t3 (perfectly relevant)    1 Motivational or keynote speakers vary in price range based on their experience and the length of the conference or event. 2 In general, professional speakers (non-celebrities) range from $1,500 to $30,000 for an event.\n",
            "\t 6 8310502         0.68294\t3 (perfectly relevant)    Typical costs: 1 Motivational or keynote speakers vary in price range based on their experience and the length of the conference or event. 2 In general, professional speakers (non-celebrities) range from $1,500 to $30,000 for an event. For example, Pro Speak has most of its speakers available in the $5,000 to $10,000 range.\n",
            "\t 7 8310496         0.68132\t0 (Irrelevant        )    How Much Do Motivational Speakers Cost? Motivational speaker rates vary as much as car prices â¦ from a beat-up, 24 year old Ford Pinto to a top of the line brand-spankinâ-new Mercedes. But there are some guidelines and ball-park ranges that can get you started.\n",
            "\t 8 1536995         0.68057\t3 (perfectly relevant)    1 For example, Pro Speak has most of its speakers available in the $5,000 to $10,000 range. 2 This list includes published authors, business gurus and Olympic champions, among other speakers who are experienced at delivering a motivational or keynote speech.\n",
            "\t 9 8290309         0.67989\t3 (perfectly relevant)    Credit: CherryPoint CC-BY-2.0. Motivational speakers' salaries vary substantially by state and region, with the highest paying states including New York at $106,000 per year, Washington, D.C., at $104,000 per year and California at $95,000 per year. Many speakers are self-employed and dictate their own salaries based on their profits.\n",
            "\t10 8310498         0.67964\t3 (perfectly relevant)    Typical costs: 1 Motivational or keynote speakers vary in price range based on their experience and the length of the conference or event. 2 In general, professional speakers (non-celebrities) range from $1,500 to $30,000 for an event. 3 Celebrities and accomplished authors often charge $50,000 or more to speak at an event.\n",
            "330975 how much would it cost to install my own wind turbine:\n",
            "\t 1 7074784         0.69815\t3 (perfectly relevant)    The cost to maintain a wind turbine is estimated to be about 2% of the original investment per year. The cost of a wind turbine is $50,000.\n",
            "\t 2 482131          0.69252\t0 (Irrelevant        )    The costs for a utility scale wind turbine range from about $1.3 million to $2.2 million per MW of nameplate capacity installed. Most of the commercial-scale turbines installed today are 2 MW in size and cost roughly $3-$4 million installed.\n",
            "\t 3 233949          0.69193\t0 (Irrelevant        )    the costs for a utility scale wind turbine range from about $ 1 3 million to $ 2 2 million per mw of nameplate capacity installed most of the commercial scale turbines installed today are 2 mw in size and cost roughly $ 3 $ 4 million installed\n",
            "\t 4 1547513         0.69188\t0 (Irrelevant        )    A wind turbine will typically pay for itself in 4 to 7 years, with the next 13 to 16 years generating pure profit.\n",
            "\t 5 4392140         0.69146\t2 (highly relevant   )    A 10 kW wind turbine costs approximately $48,000 â 65,000 to install. The equipment cost is about $40,000 (see 10 kW GridTek System ) and the rest is shipping and installation. Towers without guy wires are more expensive than guyed towers.\n",
            "\t 6 6559225         0.69146\t1 (related           )    A 10 kW wind turbine costs approximately $48,000 â 65,000 to install. The equipment cost is about $40,000 (see 10 kW GridTek System) and the rest is shipping and installation. Towers without guy wires are more expensive than guyed towers.\n",
            "\t 7 4408865         0.69085\t0 (Irrelevant        )    <b>What does it cost to build a wind turbine?</b> Capital costs for wind projects are $1,500 - $2,000 per kilowatt of nameplate capacity.\n",
            "\t 8 6693239         0.69019\t3 (perfectly relevant)    The estimated cost of installing a wind turbine is $8000 - $10000 for a small turbine and up to $20000 for a larger one. The average wind speed will also determine how expensiâ¦ve a model is required.\n",
            "\t 9 6310762         0.68953\t2 (highly relevant   )    The purchase and installation of very small (<1-kW) off-grid turbines generally cost $4,000 to $9,000, and a 100-kW turbine can cost $350,000. The federal government and many states have rebate and tax credit programs to encourage investment in small wind.\n",
            "\t10 5393804         0.68946\t2 (highly relevant   )    A 10 kW wind turbine costs approximately $48,000 â 65,000 to install. The equipment cost is about $40,000 (see 10 kW GridTek System) and the rest is shipping and installation. Towers without guy wires are more expensive than guyed towers. wind turbine is a relatively large device and it is not suitable for urban or small-lot suburban homes. We recommend a property size of one acre or more. The economics of a wind system are determined by the average wind speed in the area, the availability of rebates or tax credits, and the cost of electricity.\n",
            "332593 how often to button quail lay eggs:\n",
            "\t 1 6528408         0.68712\t0 (Irrelevant        )    Quail incubation periods vary by species. Bobwhite hatch in 23 to 24 days, Coturnix in just 17, for example. Eggs need to be placed in the incubator with the large end slightly elevated.\n",
            "\t 2 931417          0.68217\t1 (related           )    Best Answer: It depends on which quail species are you waiting for to hatch. Here is list of quails and the number of days in when these quails hatch: Elegant Quail:22 days. Blue Scaled Quail:23 days. Bobwhite Quail:22-23 days. Button Quail:16 days.\n",
            "\t 3 3336842         0.68177\t0 (Irrelevant        )    Quail incubation periods vary by species. Bobwhite hatch in 23 to 24 days, Coturnix in just 17, for example. Eggs need to be placed in the incubator with the large end slightly elevated.Then, the egg needs to be turned on its axis five to seven times per day.umidity. The humidity in the incubator needs to be maintained between 55% and 60% relative humidity. The development of the embryo relies on liquid in the egg evaporating over the incubation period. Too much humidity and the albumen will not dry sufficiently and the developing chick will drown.\n",
            "\t 4 8091681         0.68048\t1 (related           )    Provide a small water dish filled with marbles for the chicks to prevent drowning. Button Quail eggs hatch after twelve to thirteen days and the chicks are able to fly after two weeks. Choose extra small gauge weld mesh, as the chicks are tiny and can jump through the holes in the wire.Seven millimetres is ideal.uails nest on the ground and lay six to twelve eggs. They sit on them for thirteen days and if the amount of eggs is too large for the hen, the cock will join her on the nest. Chicks are tiny, but are able to feed themselves straight away.\n",
            "\t 5 6007045         0.68042\t1 (related           )    Provide a small water dish filled with marbles for the chicks to prevent drowning. Button Quail eggs hatch after twelve to thirteen days and the chicks are able to fly after two weeks. Choose extra small gauge weld mesh, as the chicks are tiny and can jump through the holes in the wire. Seven millimetres is ideal.\n",
            "\t 6 8434874         0.67816\t2 (highly relevant   )    Quails nest on the ground and lay six to twelve eggs. They sit on them for thirteen days and if the amount of eggs is too large for the hen, the cock will join her on the nest. Chicks are tiny, but are able to feed themselves straight away. If you wish to breed quails, provide a secluded area for them.\n",
            "\t 7 8434871         0.67774\t3 (perfectly relevant)    Like chickens, button quail can lay one egg a day every day, for almost her entire life. Without special attention, this practice can very quickly deplete the female of her bone calcium and other essential nutrients, leading to a very early death.\n",
            "\t 8 1650687         0.67676\t2 (highly relevant   )    How many eggs does a quail lay? Bobwhite quails lay an average of 12 eggs per clutch, though they can lay as many as 20; they only lay one egg a day. They lay a large number of eggs because they often lose their nests. It takes nearly a month for the quail to hatch.\n",
            "\t 9 4431500         0.67669\t0 (Irrelevant        )    Bobwhite quail hens do not lay as many eggs as the coturnix, averaging 150 to 200 eggs annually. In contrast to the coturnix, bobwhite eggs take between 23 and 24 days to hatch.\n",
            "\t10 4614346         0.67669\t3 (perfectly relevant)    The nests tend to be large because of the number of eggs they must accommodate. Female quail can lay up to 16 eggs, but more often they lay 12 to 13 eggs. Quail, especially chicks, have a high mortality rate, with only 5 to 30 percent growing into adults. After about three weeks, the eggs hatch into chicks. These chicks are instantly mobile and able to leave the nest.\n",
            "336901 how old is vanessa redgrave:\n",
            "\t 1 8528675         0.67183\t3 (perfectly relevant)    Vanessa Redgrave was born on January 30, 1937 in London. She will be missed but not forgotten. Hundreds of fans immediately started writing their messages of condolence on the Facebook page, expressing their sadness that the talented 79-year-old actress was dead.\n",
            "\t 2 8130980         0.67131\t0 (Irrelevant        )    Vanessa Redgrave is the doyenne of the renowned Redgrave family; Vanessa Hudgens, the young actor and singer from High School Musical is a more youthful bearer. On TV there have been Vanessas on The Cosby Show, Gossip Girl and Vampire Diaries.\n",
            "\t 3 6555430         0.66772\t0 (Irrelevant        )    There are 180,671 people in the U.S. with the first name Vanessa. Statistically the 361st most popular first name. More than 99.9 percent of people with the first name Vanessa are female. Names similar to Vanessa: Van. Vanna. There are 23,309 people in the U.S. with the last name Angel.\n",
            "\t 4 8528679         0.66642\t0 (Irrelevant        )    Vanessa Redgrave to announce retirement at age 79. News of actress Vanessa Redgraveâs death spread quickly earlier this week causing concern among fans across the world. However the August 2016 report has now been confirmed as a complete hoax and just the latest in a string of fake celebrity death reports.\n",
            "\t 5 6555424         0.66550\t0 (Irrelevant        )    Vanessa : Angel: There are 181,188 people in the U.S. with the first name Vanessa. Statistically the 361st most popular first name. More than 99.9 percent of people with the first name Vanessa are female. Names similar to Vanessa: Van; Vanna : There are 23,376 people in the U.S. with the last name Angel. Statistically the 1704th most popular last name. Famous people with the last name Angel: Vanessa Angel; Heather Angel\n",
            "\t 6 3330854         0.66410\t0 (Irrelevant        )    Pictured above, from left,Vanessa, her sister Lynn (1943-2010), and their parents Michael Redgrave (1908-1985) and Rachel Kempson (1910-2003). Absent from this picture is Vanessa's brother Corin (1939-2010). This photo was taken in 1960, on the occasion of Michael and Rachel's silver wedding anniversary. Michael's parents, Roy Redgrave (1873-1922) and Margaret Scudamore (1884-1958), were also actors.\n",
            "\t 7 6017280         0.66372\t0 (Irrelevant        )    Natasha Richardson Dies at 45. Acclaimed actress Natasha Richardson, the wife of actor Liam Neeson and daughter of acting legend Vanessa Redgrave, died Wednesday of a critical head injury resulting from a skiing accident; she was 45.\n",
            "\t 8 8130987         0.66321\t0 (Irrelevant        )    Vanessa is a girl's name. Vanessa's origin is Literary invention; also a species of butterfly. Vanessa is ranked 197 by popularity.\n",
            "\t 9 2722274         0.66224\t0 (Irrelevant        )    Vanessa Marcil. Vanessa Marcil was born on October 15, 1968, in Indio, California, to Peter Ortiz, a contractor, and Patricia Marcil Ortiz, an herbalist. She grew up in Palm Desert with her parents and her two older sisters Tina (born October 20, 1959) and Sherry (born September 7, 1962) and her older brother Sam (born November 16, 1958). When Vanessa was 8 she ...\n",
            "\t10 7836258         0.66125\t0 (Irrelevant        )    Vanessa could hardly grow up to be an accountant after that. It was Jemma Redgrave's grandmother, Rachel Kempson, who took her â aged five â to her first play, Peter Brook's RSC production of A Midsummer Night's Dream, followed by more Shakespeare, watching her father in Julius Caesar and Antony and Cleopatra.\n",
            "390360 ia suffix meaning:\n",
            "\t 1 425021          0.70846\t0 (Irrelevant        )    Suffix meaning a process, condition, or state, usually abnormal or diseased; production or increase, physiologic or pathologic; an invasion or infestation; in the latter sense, it is similar to and often interchangeable with Greek -iasis, as seen in trichinosis, trichiniasis.\n",
            "\t 2 8630614         0.69905\t3 (perfectly relevant)    -ia, suffix meaning a specified condition of a disease or process: athrombia, phrenoblabia, pontobulbia.\n",
            "\t 3 4619218         0.69890\t3 (perfectly relevant)    a noun suffix having restricted application in various fields, as in names of diseases (malaria; anemia), place names (Italia; Romania), names of Roman feasts (Lupercalia), Latin or Latinizing plurals (Amphibia; insignia; Reptilia), and in other loanwords from Latin (militia). Origin of -ia Expand.\n",
            "\t 4 804816          0.69753\t0 (Irrelevant        )    The suffix ar is a variant of al, another adjective-forming suffix, and is from the Latin root aris, meaning of, near or pertaining to something. The suffix ar is used with words in which a...\n",
            "\t 5 1378337         0.69668\t0 (Irrelevant        )    Iasis is defined as a medical condition. An example of the âiasis suffix is psoriasis, a skin condition caused by an autoimmune disease. process or condition.\n",
            "\t 6 1093726         0.69666\t1 (related           )    Emia is suffix used in the English Language to denote something as referring to blood. Its variants include -emia, -hemia, -aemia and -haemia. The suffix emia is taken from the New Latin and originally comes from the Greek word haima meaning blood.\n",
            "\t 7 8630618         0.69625\t3 (perfectly relevant)    -ia. suffix forming nouns. 1. occurring in place names: Albania; Columbia. 2. (Pathology) occurring in names of diseases and pathological disorders: pneumonia; aphasia. 3. occurring in words denoting condition or quality: utopia. 4. (Botany) occurring in names of botanical genera: acacia; poinsettia.\n",
            "\t 8 804813          0.69621\t0 (Irrelevant        )    A: The suffix ar is a variant of al, another adjective-forming suffix, and is from the Latin root aris, meaning of, near or pertaining to something.. The suffix ar is used with words in which a lowercase l precedes the suffix, such as singular, lunar and circular.\n",
            "\t 9 8630609         0.69574\t3 (perfectly relevant)    The ending-ia has limited productivity as an English suffix, forming names of disorders (hypoxia) or plural or collective nouns (militaria; psychedelia; suburbia).\n",
            "\t10 1378333         0.69431\t0 (Irrelevant        )    Iasis is defined as a medical condition. An example of the âiasis suffix is psoriasis, a skin condition caused by an autoimmune disease. 1 process or condition. pathological or morbid condition: hypochondriasis.\n",
            "405163 is caffeine an narcotic:\n",
            "\t 1 1655999         0.71835\t0 (Irrelevant        )    Caffeine is a central nervous system (CNS) stimulant of the methylxanthine class of psychoactive drugs. It is the world's most widely consumed psychoactive drug, but unlike many other psychoactive substances, it is legal and unregulated in nearly all parts of the world.\n",
            "\t 2 1506457         0.71825\t0 (Irrelevant        )    Caffeine is a central nervous system (CNS) stimulant of the methylxanthine class. It is the world's most widely consumed psychoactive drug. Unlike many other psychoactive substances, it is legal and unregulated in nearly all parts of the world.\n",
            "\t 3 7454159         0.71718\t0 (Irrelevant        )    Caffeine is a central nervous system (CNS) stimulant of the methylxanthine class.[10] It is the world's most widely consumed psychoactive drug. Unlike many other psychoactive substances, it is legal and unregulated in nearly all parts of the world.\n",
            "\t 4 2902930         0.71710\t0 (Irrelevant        )    Caffeine is a central nervous system (CNS) stimulant of the methylxanthine class. It is the world's most widely consumed psychoactive drug. Unlike many other psychoactive substances, it is legal and unregulated in nearly all parts of the world. There are several known mechanisms of action to explain the effects of caffeine.\n",
            "\t 5 2407799         0.71682\t0 (Irrelevant        )    Caffeine is a central nervous system (CNS) stimulant of the methylxanthine class of psychoactive drugs. It is the world's most widely consumed psychoactive drug, but unlike many other psychoactive substances, it is legal and unregulated in nearly all parts of the world.affeine can have both positive and negative health effects. It can be used to treat bronchopulmonary dysplasia of prematurity, and to prevent apnea of prematurity: caffeine citrate was placed on the WHO Model List of Essential Medicines in 2007.\n",
            "\t 6 7044515         0.71563\t0 (Irrelevant        )    Caffeine is one of the worldâs mostcommonly used drugs. It is a bitter,naturally occurring substance foundin coffee and cocoa beans, tea leaves,kola nuts, and other plants. It can beingested when consuming coffee, tea,soft drinks, or chocolate.affeine is one of the worldâs mostcommonly used drugs. It is a bitter,naturally occurring substance foundin coffee and cocoa beans, tea leaves,kola nuts, and other plants. It can beingested when consuming coffee, tea,soft drinks, or chocolate.\n",
            "\t 7 1234964         0.71539\t0 (Irrelevant        )    For other uses, see Caffeine (disambiguation). Caffeine is a central nervous system (CNS) stimulant of the methylxanthine class. It is the world's most widely consumed psychoactive drug. Unlike many other psychoactive substances, it is legal and unregulated in nearly all parts of the world.\n",
            "\t 8 3918981         0.71537\t0 (Irrelevant        )    Caffeine is a central nervous system (CNS) stimulant of the methylxanthine class of psychoactive drugs. It is the world's most widely consumed psychoactive drug, but unlike many other psychoactive substances, it is legal and unregulated in nearly all parts of the world.roducts containing caffeine are coffee, tea, soft drinks (colas), energy drinks, other beverages, chocolate, caffeine tablets, other oral products, and inhalation.\n",
            "\t 9 1844775         0.71535\t0 (Irrelevant        )    For other uses, see Caffeine (disambiguation). Caffeine is a central nervous system (CNS) stimulant of the methylxanthine class. It is the world's most widely consumed psychoactive drug. Unlike many other psychoactive substances, it is legal and unregulated in nearly all parts of the world. There are several known mechanisms of action to explain the effects of caffeine.\n",
            "\t10 2139588         0.71333\t0 (Irrelevant        )    Caffeine is a stimulant obtained from over 60 different types of plants worldwide. The scientific name for caffeine is 1,3,7-trimethylxanthine. Caffeine is considered to be the most commonly used psychoactive drug in the world. Coffee, soda, and tea are the most common sources of caffeine in the American diet. Discontinuation of regular caffeine use may produce withdrawal symptoms. The effects of caffeine persist for about three hours or less. Caffeine is found in some combination medications and weight control products.\n",
            "555530 what are best foods to lower cholesterol:\n",
            "\t 1 448525          0.69624\t1 (related           )    Foods that can help to lower cholesterol those foods which are low in saturated fat, high in fiber, and low in carbohydrates. These include oats, fish and omega-3 fatty acids such as trout and salmon. Walnuts, almonds and other nuts can reduce cholesterol.\n",
            "\t 2 6434719         0.69367\t2 (highly relevant   )    Foods that Lower cholesterol Naturally for Snacks. For snacks choose fruits: currants, grapes, strawberries, blackberries, raspberries, including their seeds (vitamin C, carotenoids and ellagic acid); citrus fruits (vitamin C, folic acid and soluble fibre) and apples (vitamin C and soluble fibre).\n",
            "\t 3 6936082         0.69345\t1 (related           )    Foods that can help lower cholesterol: Fiber (oats, legumes, berries), healthy fats (olive oil, avocados, nuts), and plant stanols or sterols (found in small amounts in vegetable oil, nuts, legumes, whole grains, fruits, and vegetables and are also added to foods) have all been shown to help lower cholesterol.\n",
            "\t 4 1754584         0.69297\t1 (related           )    Foods that Lower cholesterol Naturally for Snacks For snacks choose fruits: currants, grapes, strawberries, blackberries, raspberries, including their seeds (vitamin C, carotenoids and ellagic acid); citrus fruits (vitamin C, folic acid and soluble fibre) and apples (vitamin C and soluble fibre).\n",
            "\t 5 1897718         0.69203\t1 (related           )    More specifically, there are some foods that are always good for the diet of a person with high cholesterol. Fish, whole grains, oat bran, oatmeal, blueberries, avocados, olives, olive oil, flaxseed oil and yogurt with live active cultures are all good options if you want to keep your cholesterol levels down.s mentioned before, itâs important to steer clear of foods with high cholesterol, saturated fat and trans fat levels if you want to lower your cholesterol. The most common examples of these foods include butter, fatty meats and ice cream.\n",
            "\t 6 6078228         0.69201\t2 (highly relevant   )    the best foods for lowering cholesterol are oatmeal fish walnuts and other nuts olive oil and foods fortified with sterols or stanols substances found in plants that help block the absorption of cholesterol such as corn beans peanut butter almonds oranges apples and avocados\n",
            "\t 7 5846397         0.69175\t1 (related           )    Oatmeal, salmon, walnuts, almonds and olive oil are among the foods used to lower cholesterol, according to Mayo Clinic. Foods containing plant stanols or sterols have also been shown to reduce... Oatmeal, salmon, walnuts, almonds and olive oil are among the foods used to lower cholesterol, according to Mayo Clinic. Foods containing plant stanols or sterols have also been shown to reduce...\n",
            "\t 8 3703992         0.69077\t0 (Irrelevant        )    Certain foods are better for lowering cholesterol than others. If you like yogurt, opt for a fat-free or low-fat version that contains live active cultures or plant stanols for the best cholesterol-lowering potential.\n",
            "\t 9 6938328         0.68922\t0 (Irrelevant        )    Foods high in soluble fiber, like oatmeal, beans and peas, barley, and many fruits and vegetables (such as apples, oranges, and carrots) are now recommended to help lower cholesterol levels. As you may know, there are two types of cholesterol-HDL or good cholesterol and LDL or bad cholesterol.\n",
            "\t10 6966037         0.68908\t0 (Irrelevant        )    Certain foods have been shown to decrease heart disease risk by lowering LDL (bad) cholesterol levels and raising HDL (good) cholesterol.\n",
            "583468 what carvedilol used for:\n",
            "\t 1 7744348         0.68694\t3 (perfectly relevant)    Carvedilol is used to treat high blood pressure and heart failure. It is also used after a heart attack to improve the chance of survival if your heart is not pumping well.\n",
            "\t 2 3466607         0.68633\t3 (perfectly relevant)    Carvedilol is usually used to help lower blood pressure in people with hypertension, or as an additional treatment for people with heart failure. As a result of the way it works, reducing the heart rate and blood pressure, carvedilol is a good option for people with high blood pressure to reduce the load on the heart.\n",
            "\t 3 8144448         0.68550\t2 (highly relevant   )    Carvedilol is also used to prevent further worsening of congestive heart failure. It is also used to treat left ventricular dysfunction after a heart attack. Left ventricular dysfunction occurs when the left ventricle (the main pumping chamber of the heart) stiffens and enlarges and can cause the lungs to fill with blood.\n",
            "\t 4 119352          0.68500\t3 (perfectly relevant)    Carvedilol is used to treat high blood pressure and heart failure. It is also used after a heart attack to improve the chance of survival if your heart is not pumping well. Lowering high blood pressure helps prevent strokes, heart attacks, and kidney problems.\n",
            "\t 5 8326076         0.68471\t1 (related           )    Carvedilol is a prescription drug and can only be obtained from a veterinarian or by prescription from a veterinarian. This drug is not approved for use in animals by the Food and Drug Administration but it is prescribed legally by veterinarians as an extra-label drug.\n",
            "\t 6 7491702         0.68166\t1 (related           )    carvedilol warnings if you are prescribed carvedilol you should never stop taking it without first speaking to your doctor if your physician decides to take you off carvedilol he she may gradually decrease your dose over one to two weeksarvedilol is designed to relax the blood vessels and slow the heart rate so that your blood flow improves and your blood pressure goes down approved by the food and drug administration fda in 1995 carvedilol is sold under the brand names coreg and coreg cr\n",
            "\t 7 7491704         0.68164\t3 (perfectly relevant)    what carvedilol is and what it is used for carvedilol belongs to a group of medicines called beta blockers that work by relaxing and widening the blood vessels this makes it easier for your heart to pump blood around the body and reduces blood pressure and strain on your hearthat carvedilol is and what it is used for carvedilol belongs to a group of medicines called beta blockers that work by relaxing and widening the blood vessels this makes it easier for your heart to pump blood around the body and reduces blood pressure and strain on your heart\n",
            "\t 8 7706121         0.68146\t1 (related           )    Carvedilol is a racemic mixture with the following structure: Carvedilol is a white to off-white, oval-shaped, biconvex, film-coated tablet containing 3.125 mg, 6.25 mg, 12.5 mg, or 25 mg of carvedilol.\n",
            "\t 9 1675564         0.68133\t3 (perfectly relevant)    Carvedilol is used to treat heart failure (condition in which the heart cannot pump enough blood to all parts of the body) and high blood pressure. It also is used to treat people who have had a heart attack. Carvedilol is often used in combination with other medications. Carvedilol is in a class of medications called beta-blockers. High blood pressure is a common condition and when not treated, can cause damage to the brain, heart, blood vessels, kidneys and other parts of the body.\n",
            "\t10 7450725         0.68052\t3 (perfectly relevant)    Carvedilol is used very often for specific cases of congestive heart failure, high blood pressure, and treatment after a heart attack. Carvedilol is a beta blocker used to treat, but not cure, congestive heart failure. Beta blockers lessen the work that the heart has to do and, by doing so, help maintain a regular heartbeat. In this way, carvedilol helps to lessen the progression and symptoms of congestive heart failure.\n",
            "640502 what does it mean if your tsh is low:\n",
            "\t 1 8462353         0.69789\t3 (perfectly relevant)    The finding of an elevated TSH and low FT4 or FTI indicates primary hypothyroidism due to disease in the thyroid gland. A low TSH and low FT4 or FTI indicates hypothyroidism due to a problem involving the pituitary gland. A low TSH with an elevated FT4 or FTI is found in individuals who have hyperthyroidism.\n",
            "\t 2 6702955         0.69773\t3 (perfectly relevant)    If the TSH is too high you have a condition called hypothyroidism, or an under-functioning thyroid gland. If itâs extremely low, you have an overactive thyroid gland, or hyperthyroidism.\n",
            "\t 3 8451476         0.69711\t0 (Irrelevant        )    Combining the TSH test with the FT4 or FTI accurately determines how the thyroid gland is functioning. The finding of an elevated TSH and low FT4 or FTI indicates primary hypothyroidism due to disease in the thyroid gland. A low TSH and low FT4 or FTI indicates hypothyroidism due to a problem involving the pituitary gland. A low TSH with an elevated FT4 or FTI is found in individuals who have hyperthyroidism. T3 TESTS\n",
            "\t 4 1775697         0.69538\t0 (Irrelevant        )    Using the typical reference range, a TSH under 0.5 (a low TSH) may be indicative of hyperthyroidism (an overactive thyroid), and a TSH over 4.5/5.0 (a high TSH) may indicate hypothyroidism (an underactive thyroid.)\n",
            "\t 5 3551380         0.69531\t3 (perfectly relevant)    What do low TSH levels mean? According to About.com, low levels of TSH, or thyroid-stimulating hormone, occur when the pituitary gland shuts down TSH production due to high levels of thyroid hormone in the blood. The low levels of TSH are the pituitary gland's attempt to keep thyroid hormone levels normal within the body. What are some symptoms associated with high TSH levels? According to WebMD, high TSH (thyroid-stimulating hormone) levels indicate an underactive thyroid gland (hypothyroidism). Common symptoms include feeling weak, tired or depressed, sensitivity to cold, constipation, brittle nails, memory problems, and heavy or irregular periods.\n",
            "\t 6 218503          0.69441\t3 (perfectly relevant)    Whether high or low, an abnormal TSH indicates an excess or deficiency in the amount of thyroid hormone available to the body, but it does not indicate the reason why. An abnormal TSH test result is usually followed by additional testing to investigate the cause of the increase or decrease.\n",
            "\t 7 941128          0.69298\t1 (related           )    Normally, low levels (less than 5 units) of TSH are sufficient to keep the normal thyroid gland functioning properly. When the thyroid gland becomes inefficient such as in early hypothyroidism, the TSH becomes elevated even though the T4 and T3 may still be within the normal range.\n",
            "\t 8 1186733         0.69251\t3 (perfectly relevant)    Measurement of Pituitary Production of TSH. Pituitary production of TSH is measured by a method referred to as IRMA (immunoradiometric assay). Normally, low levels (less than 5 units) of TSH are sufficient to keep the normal thyroid gland functioning properly. When the thyroid gland becomes inefficient such as in early hypothyroidism, the TSH becomes elevated even though the T4 and T3 may still be within the normal range.\n",
            "\t 9 6621552         0.69250\t1 (related           )    Subclinical hypothyroidism refers to abnormally low thyroid function. When TSH (thyroid-stimulating hormone) is slightly high or almost high, but blood levels of thyroid hormones are normal. Up to 8% of the general population has subclinical hypothyroidism. Women have it more often than men, and it becomes more common as we age. When thyroid hormone production drops, TSH typically increases, as the pituitary gland, which makes TSH, signals the thyroid to make more hormone.\n",
            "\t10 3263516         0.69208\t3 (perfectly relevant)    LOW TSH HAS MANY CAUSES. A low serum TSH level, ie, less than 0.4 Î¼IU/mL (Î¼IU/mL = Î¼U/mL = mIU/L = mU/L) can result from a variety of conditions that must be included in the differential diagnosisânot just overt or subclinical hyperthyroidism (FIGURE 1). In diagnosing the correct cause, patience is a virtue.\n",
            "673670 what is a alm:\n",
            "\t 1 1511459         0.70398\t3 (perfectly relevant)    Alms (/ ÉË m z /, / ÉË l m z /) or almsgiving involves giving to others as an act of virtue, either materially or in the sense of providing capabilities (e.g. education) free. It exists in a number of religions and regions.\n",
            "\t 2 3345266         0.70264\t0 (Irrelevant        )    ALMS; ALMSGIVING. ams, ams-giv'-ing: The English word alms is an abridged form of the Greek word, eleemosune (compare eleemosynary), appearing in gradually reduced forms in German Almosen, Wyclif's Almesse, Scotch Aw'mons, and our alms.\n",
            "\t 3 3345263         0.70251\t0 (Irrelevant        )    alms; almsgiving ams, ams-giv'-ing: The English word alms is an abridged form of the Greek word, eleemosune (compare eleemosynary), appearing in gradually reduced forms in German Almosen, Wyclif's Almesse, Scotch Aw'mons, and our alms.\n",
            "\t 4 7257303         0.69296\t0 (Irrelevant        )    See words that rhyme with alms Thesaurus: All synonyms and antonyms for alms Spanish Central: Translation of alms Nglish: Translation of alms for Spanish speakers Britannica English: Translation of alms for Arabic speakers\n",
            "\t 5 7257301         0.69252\t3 (perfectly relevant)    Define alms: something (such as money or food) given freely to relieve the poor; charity â alms in a sentence something (such as money or food) given freely to relieve the poor; charityâ¦ See the full definition\n",
            "\t 6 1511452         0.69175\t3 (perfectly relevant)    Woman giving alms by JÃ¡nos Thorma. Alms (/ÉËmz/, /ÉËlmz/) or almsgiving involves giving to others as an act of virtue, either materially or in the sense of providing capabilities (e.g. education) free. It exists in a number of religions and regions.\n",
            "\t 7 8632360         0.68593\t0 (Irrelevant        )    ALM is a set of pre-defined processes that start somewhere in the business as an idea, a need, a challenge or a risk and then pass through different development phases such as requirements definition, design, development, testing, deployment, release and maintenance spanning across an entire lifecycle of a product.\n",
            "\t 8 1511458         0.68370\t1 (related           )    Alms-giving is held as a noble deed in Hinduism, to be done without expectation of any return from those who receive the charity. Some texts reason, referring to the nature of social life, that charity is a form of good karma that affects one's future circumstances and environment, and that good charitable deeds leads to good future life because of the reciprocity principle.\n",
            "\t 9 3345262         0.68357\t0 (Irrelevant        )    What is Alms; Almsgiving? Definition and meaning:ALMS; ALMSGIVING ams, ams-giv'-ing: The English word 'alms' is an abridged form of the Greek word, eleemosune (compare 'eleemosynary'), app. Toggle navigation Read Toggle Dropdown\n",
            "\t10 8735640         0.68324\t0 (Irrelevant        )    Acral Lentiginous Melanoma. Acral lentiginous melanoma (ALM) is a form of lentiginous melanoma that typically originates on the feet, hands, toenails, fingernails, and inside mucous membranes. ALM accounts for only 5% of melanoma cases in the United States, but is the leading cause of skin cancer deaths.\n",
            "701453 what is a statutory deed:\n",
            "\t 1 8626145         0.70119\t1 (related           )    Definition of Statutory Warranty Deed. A warranty deed is a document that transfers the title to a property from the seller to the buyer. It protects the buyer from the chance that someone will come along and lay claim to the property by saying the seller had no right to sell it.\n",
            "\t 2 5923938         0.70064\t0 (Irrelevant        )    The definition of statutory is something mandated by or related to statutes, which are laws or bills passed by the legislature. An example of statutory law is the law found in the Clean Air Act, a federal statute. statutory. statutory.\n",
            "\t 3 688615          0.69977\t3 (perfectly relevant)    Statutory Deed Law and Legal Definition. A statutory deed generally is a deed whose format is defined by a state statute. 93.850. The true consideration for this conveyance is $___. Dated this ___ day of ___, 19__. (a) It shall convey the entire interest in the described property at the date of the deed which the deed purports to convey.\n",
            "\t 4 688614          0.69881\t3 (perfectly relevant)    A statutory deed generally is a deed whose format is defined by a state statute. The following is an example of a state statute dealing with statutory deeds: 93.850. (1) Warranty deeds may be in the following form:\n",
            "\t 5 8626140         0.69731\t2 (highly relevant   )    A statutory warrant deed is an abbreviated version of a warranty deed written in accordance with state law. Deed. A typical warranty deed names the seller of the property, called the grantor, and the buyer, called the grantee.\n",
            "\t 6 831755          0.69662\t0 (Irrelevant        )    Statutory interpretation refers to the process by which a court looks at a statute and determines what it means. A statute, which is a bill or law passed by the legislature, imposes obligations and rules on the people.\n",
            "\t 7 5923932         0.69625\t0 (Irrelevant        )    Statutory Law is the term used to define written laws, usually enacted by a legislative body. Statutory laws vary from regulatory or administrative laws that are passed by executive agencies, and common law, or the law created by prior court decisions. Unlike common law, which is subject to interpretation in its application by the court, statutory laws are generally strictly construed by courts.\n",
            "\t 8 871170          0.69599\t0 (Irrelevant        )    Not to be confused with Statutory power, see Statute. A statutory authority is a body set up by law which is authorised to enact legislation on behalf of the relevant country or state.\n",
            "\t 9 4355649         0.69553\t2 (highly relevant   )    Statutory Warranty Deed. A statutory warranty deed is a type of warranty deed that is available in some states. It is called a statutory warranty deed because the form and duration of the deed are provided for in state statutes.hares & Saves. Save. A statutory warranty deed is a method for conveying real property. To convey property means to sell the property, or to transfer property from the grantor (seller) to the grantee (buyer).\n",
            "\t10 7779213         0.69513\t0 (Irrelevant        )    Statutory law in the United States consists of the laws passed by the legislature. For the federal government, then, the statutory law is the acts passed by the United States Congress.These acts are designated as Public Laws or Private Laws.tatutory law in the United States consists of the laws passed by the legislature. For the federal government, then, the statutory law is the acts passed by the United States Congress.\n",
            "730539 what is chronometer who invented it:\n",
            "\t 1 8577877         0.69222\t3 (perfectly relevant)    The term chronometer was coined by Jeremy Thacker of Beverley, England in 1714, referring to his invention of a clock ensconced in a vacuum chamber. The term chronometer is also used to describe a marine chronometer used for celestial navigation and determination of longitude. The marine chronometer was invented by John Harrison in 1730. This was the first of a series of chronometers that enabled accurate marine navigation. From then on, an accurate chronometer was essential to deep sea marine or air navigation out of sight of land.\n",
            "\t 2 2666444         0.69185\t2 (highly relevant   )    The chronometer is an instrument that accurately measures time. The first one invented was a marine chronometer, and it was created out of the necessity to have an accurate timekeeper for sea travel. John Harrison, a British clockmaker, invented this device in 1737.\n",
            "\t 3 4885113         0.69045\t0 (Irrelevant        )    Who invented the thermometer. The first recorded thermometer was produced by the Italian, Santorio Santorio (1561-1636) who was one of a group of Venetian scientists working at the end of the Sixteenth Century.As with many inventions the thermometer came about through the work of many scientists and was improved upon by many others.alileo Galilei is often claimed to be the inventor of the thermometer. However the instrument he invented could not strictly be called a thermometer: to be a thermometer an instrument must measure temperature differences; Galileo's instrument did not do this, but merely indicated temperature differences.\n",
            "\t 4 1520038         0.69003\t0 (Irrelevant        )    Who invented the thermometer. The first recorded thermometer was produced by the Italian, Santorio Santorio (1561-1636) who was one of a group of Venetian scientists working at the end of the Sixteenth Century. As with many inventions the thermometer came about through the work of many scientists and was improved upon by many others.\n",
            "\t 5 2666436         0.68799\t1 (related           )    The invention of the chronometer was a fundamental building block for modern times. But the marine chronometer was then redesigned by John Arnold. He based his design on Harrisonâs clock, but he simplified it enough to produce accurate marine chronometers in large quantities during the late 1700s.\n",
            "\t 6 4920719         0.68685\t0 (Irrelevant        )    In 1450, the Italian art architect Leon Battista Alberti invented the first mechanical anemometer; in 1664 it was re-invented by Robert Hooke (who is often mistakenly considered the inventor of the first anemometer).n anemometer is a device used for measuring wind speed, and is a common weather station instrument.\n",
            "\t 7 4605022         0.68672\t2 (highly relevant   )    John Harrison. For other people named John Harrison, see John Harrison (disambiguation). John Harrison (3 April [O.S. 24 March] 1693 â 24 March 1776) was a self-educated English carpenter and clockmaker who invented the marine chronometer, a long-sought-after device for solving the problem of calculating longitude while at sea.\n",
            "\t 8 2299740         0.68557\t0 (Irrelevant        )    The earliest thermometers were very simple in design. In 1593, an early water thermoscope was invented by Galileo Galilei. In 1612, the first crude clinical thermometer was invented by an Italian inventor Santorio Santorio. Both the thermometers were not very accurate. In 1714, Daniel Gabriel Fahrenheit invented the first modern thermometer. It was the mercury thermometer with a standardized scale.\n",
            "\t 9 8276218         0.68544\t2 (highly relevant   )    The term chronometer is also used to describe a marine chronometer used for celestial navigation and determination of longitude. The marine chronometer was invented by John Harrison in 1730. This was the first of a series of chronometers that enabled accurate marine navigation. From then on, an accurate chronometer was essential to deep sea marine or air navigation out of sight of land.\n",
            "\t10 4885121         0.68498\t0 (Irrelevant        )    Galileo Galilei invented the thermometer in late 1593, well before many of his other inventions and discoveries, which occurred for the most part after 1600.ater Developments. One problem with the thermometer was that there were no numbers on its face. Santorio Santorio, a colleague of Galileo, created the numerical scale and was the first person to measure human temperature with a thermometer.\n",
            "768208 what is mamey:\n",
            "\t 1 52159           0.69819\t1 (related           )    What is a Mamey Tree? Growing mamey fruit trees are indigenous to areas of the Caribbean, West Indies, Central America and Northern South America. Mamey tree planting for the purposes of cultivation does occur, but is rare. The tree is more commonly found in garden landscapes.\n",
            "\t 2 52158           0.69565\t1 (related           )    Another possibility for the definition of a mamey is a different type of fruit known as Mammea American, or simply mamey. This fruit differs as it is generally larger, more round, and found on taller trees than the sapote version of the fruit.\n",
            "\t 3 52161           0.69517\t2 (highly relevant   )    The fruit of the mamey is pink, and roughly oblong to circular in size. Large specimens can measure around 10 inches (25 centimeters) in length. The seed is toxic, and found in the center of the fruit; toxic extracts from the sapote seed are used in a variety of applications, including as an insecticide.\n",
            "\t 4 52157           0.69447\t3 (perfectly relevant)    Mamey, known sometimes as mamey sapote or just sapote, is a type of tropical fruit native to the Caribbean and Central America. It is cultivated in tropical regions in the Americas including Southern Florida, and is very popular among many Caribbean and Central American peoples.\n",
            "\t 5 52163           0.69160\t0 (Irrelevant        )    Mammea americana L. The mamey stands almost midway between major and minor tropical fruits and is unique in remaining virtually static in the past 40 years, receiving little attention at home or abroad. Botanically, it is identified as Mammea americana L., of the family Guttiferae, and therefore related to the mangosteen, q.v.\n",
            "\t 6 52155           0.69064\t3 (perfectly relevant)    Mamey Sapote. Mamey Sapote (Pouteria sapota) (simply Mamey to beloved fans) is a meaty fruit with a brown skin, orange flesh, and large black pit. Mamey is believed to be an antiseptic, and is also eaten to help calm an upset stomach.\n",
            "\t 7 8525683         0.69013\t3 (perfectly relevant)    The mamey sapote grows into a handsome, open tree with a thick central trunk and a few large limbs. The fruit is a large, shaped like a football, varying in length from 6-9 inches depending of the cultivar. The skin is thick and woody with a russet brown scruffy surface. The pulp of a mature fruit is salmon pink to red, soft and smooth in texture. The flavor is a sweet, almond like, unique flavor. The fruit will weigh from 1 to 6 pounds. The mamey sapote is usually eaten fresh by hand or to make milkshakes or ice cream. It is also excellent for use in jellies, pastes and conserves.\n",
            "\t 8 8436330         0.68769\t0 (Irrelevant        )    Mami is a Spanish slang term that can mean a few things, but when guys use it with a girl, it's similar to girl/baby/sexy/honey. Other similar terms are chula, mamacita, mamita, ma.\n",
            "\t 9 52154           0.68686\t1 (related           )    Selecting fruit. There are two varieties of mamey sapote that most commonly grow in Florida. The larger, pointed, football shaped Magana with its dark, salmon colored flesh, and the smaller, round, Pantin, or Key West with its flesh colored a brighter salmon, and a bit sweeter flavor.\n",
            "\t10 701872          0.68461\t0 (Irrelevant        )    Mami. {{IS A SPANISH WORD}}Mainly used by Dominicans, Puerto Ricans,Cubans & Other. These are the countries that originally used this as more of a slang term.Can be used with kids,Partner{female}.Similar 2 Hun,Boo,Girl,Baby .{males Refer to females:Mami}{females refer to males: Papi}.\n",
            "877809 what metal are hip replacements made of:\n",
            "\t 1 4888932         0.70599\t3 (perfectly relevant)    As a result, some of these implants have been recalled. Implants may be made of a variety of materials including metal (usually titanium), ceramic or polyethylene (a type of hard plastic). Ongoing research and enabling technology will determine new directions in materials used in hip replacement surgery.\n",
            "\t 2 1550610         0.70509\t3 (perfectly relevant)    A prosthetic made of metal and plastic are the most commonly used hip replacement implants. Both the ball and the socket of the hip joint are replaced with a metal implant, and a plastic spacer is placed in between. The most commonly used metals used include titanium and stainless steel.\n",
            "\t 3 1550613         0.70294\t3 (perfectly relevant)    The Many Different Materials Used in Hip Replacement Devices. Hip replacement devices break into a few big categories: Metal on Metal (MOM) â These are what they sound like. Both the socket and the ball are made of stainless steel, titanium, chromium, cobalt or some combination of these.\n",
            "\t 4 4888929         0.70237\t3 (perfectly relevant)    Metal and Plastic Implants. A prosthetic made of metal and plastic are the most commonly used hip replacement implants. Both the ball and the socket of the hip joint are replaced with a metal implant, and a plastic spacer is placed in between. The most commonly used metals used include titanium and stainless steel.\n",
            "\t 5 7906970         0.70221\t1 (related           )    In a traditional total hip replacement, the head of the thighbone (femoral head) and the damaged socket (acetabulum) are both removed and replaced with metal, plastic, or ceramic components. In hip resurfacing, the femoral head is not removed, but is instead trimmed and capped with a smooth metal covering.\n",
            "\t 6 4888926         0.70128\t3 (perfectly relevant)    Hip replacements are among the most common orthopedic procedures. When a hip replacement is performed, the arthritic, damaged hip joint is removed. The ball-and-socket hip joint is then replaced with an artificial implant. Hare are brief descriptions of some of the most commonly used hip replacement implants. Not all implants are options for all patients. A prosthetic made of metal and plastic are the most commonly used hip replacement implants. Both the ball and the socket of the hip joint are replaced with a metal implant, and a plastic spacer is placed in between. The most commonly used metals used include titanium and stainless steel.\n",
            "\t 7 1030813         0.70082\t1 (related           )    Hip replacement surgery is a procedure in which a doctor surgically removes a painful hip joint with arthritis and replaces it with an artificial joint often made from metal and plastic components. It usually is done when all other treatment options have failed to provide adequate pain relief.\n",
            "\t 8 1030818         0.70080\t0 (Irrelevant        )    Hip joint replacement is surgery to replace all or part of the hip joint with a man-made joint. The artificial joint is called a prosthesis. Your hip joint is made up of two major parts. One or both parts may be replaced during surgery: The hip socket (a part of the pelvic bone called the acetabulum)\n",
            "\t 9 3328098         0.70058\t1 (related           )    During hip replacement, a surgeon removes the damaged sections of your hip joint and replaces them with parts usually constructed of metal, ceramic and very hard plastic. This artificial joint (prosthesis) helps reduce pain and improve function.\n",
            "\t10 1335170         0.70006\t3 (perfectly relevant)    Some prosthesis, like hip and knee joints made of cobalt chrome, contain some trace of nickel and for patients with allergies to this may have to go with Titanium joints.\n",
            "911232 what type of conflict does della face in o, henry the gift of the magi:\n",
            "\t 1 6928655         0.67998\t2 (highly relevant   )    Della sells her hair. The conflict is supposedly the moment where the problem in the story appears, but this story began right from the first with a problem. In Gift of the Magi the point of conflict actually solves the first problem and replaces it with a second.\n",
            "\t 2 8816622         0.67780\t3 (perfectly relevant)    What internal conflict occurs for both Jim and della in the gift of the magi? Neither of these financially-struggling newlyweds can afford a meaningful Christmas gift for the other, so each -- independently -- is faced with the need to sell off their moâ¦st prized possession in order to afford a present.\n",
            "\t 3 8816620         0.67372\t2 (highly relevant   )    Della sells her hair. The conflict is supposedly the moment where the problem in the story appears, but this story began right from the first with a problem. In Gift of the Magi the point of conflict actually solves the first problem and replaces it with a second. By selling her hair, Della gets the money to buy Jim a great present, eliminating the first problem through decisive action.\n",
            "\t 4 4967299         0.67131\t1 (related           )    He sold his watch to buy Della's combs, he explains. He recommends they put away their presents and have dinner. As they do so, the narrator brings the story to a close by pronouncing that Della and Jim are the wisest of everyone who gives gifts. They are the magi.\n",
            "\t 5 1879470         0.66789\t0 (Irrelevant        )    Best Answer: The movie is called The Gift of the Magi by O. Henry (it was originally a short story). Jim and Della Dillingham Young are a couple who are very much in love with each other, but can barely afford their one-room apartment opposite the elevated train due to their very bad economic condition.\n",
            "\t 6 1879472         0.66666\t0 (Irrelevant        )    The Gift of the Magi is a short story written by O. Henry (a pen name for William Sydney Porter), about a young married couple and how they deal with the challenge of buying secret Christmas gifts for each other with very little money.\n",
            "\t 7 6928649         0.66581\t1 (related           )    (1). The story's opening sentences confront us right away with the problem: Della only has $1.87 to buy a Christmas present, and it's Christmas Eve. After the first paragraph, the narrator gives us a bit more fleshing out of the situation.\n",
            "\t 8 4967294         0.66490\t1 (related           )    The story opens with $1.87. That's all Della Dillingham Young has to buy a present for her beloved husband, Jim. And the next day is Christmas. Faced with such a situation, Della promptly bursts into tears on the couch, which gives the narrator the opportunity to tell us a bit more about the situation of Jim and Della.\n",
            "\t 9 8605567         0.66347\t0 (Irrelevant        )    Bianca, recognizing a woman's handkerchief, jealously suspects that Cassio has a new love. Desdemona's straightforward trust contrasts with Othello's sulky suspicion. Emilia's view of jealousy as a natural characteristic of irrational men contrasts with Othello's real personal sufferings of the previous scene.\n",
            "\t10 1879474         0.66270\t0 (Irrelevant        )    3,199 pages on this wiki. The Gift of the Magi is a short story written by O. Henry (a pen name for William Sydney Porter), about a young married couple and how they deal with the challenge of buying secret Christmas gifts for each other with very little money.\n",
            "914916 what type of tissue are bronchioles:\n",
            "\t 1 5784911         0.70282\t0 (Irrelevant        )    Bronchi (plural of bronchus) are tubes that branch off from the trachea into each lung. Bronchioles are smaller tubes that branch off from each bronchus.\n",
            "\t 2 3170839         0.70091\t1 (related           )    The bronchioles are part of the airway passages in the lungs. They are located at the end of the bronchi, the larger, branching airway passages in the lungs, and terminate in the alveoli, tiny circular sacs where oxygen is exchanged with carbon dioxide in the blood.\n",
            "\t 3 8772521         0.70044\t3 (perfectly relevant)    They are branches of the bronchi, and are part of the conducting zone of the respiratory system. The bronchioles divide further into smaller terminal bronchioles which are still in the conducting zone and these then divide into the smaller respiratory bronchioles which mark the beginning of the respiratory region.he diameter of the bronchioles is often said to be less than 1 mm, though this value can actually range from 5 mm to 0.3 mm. As stated, these bronchioles do not have hyaline cartilage to maintain their patency. Instead, they rely on elastic fibers attached to the surrounding lung tissue for support.\n",
            "\t 4 4482576         0.69831\t1 (related           )    Bronchioles are small airways that branch off the bronchi in the lungs. Their role is to transport air to the alveoli where gas exchange can take place.\n",
            "\t 5 1183905         0.69711\t1 (related           )    bronchiole definition : bronchiole The bronchioles or bronchioli are the passageways by which air passes through the nose or mouth to the alveoli (air sacs) of the lungs, in which branches no longer contain cartilage or glands in their submucosa.\n",
            "\t 6 1593795         0.69654\t1 (related           )    The bronchi themselves branch many times into smaller airways, ending in the narrowest airways (bronchioles), which are as small as one half of a millimeter across. The airways resemble an upside-down tree, which is why this part of the respiratory system is often called the bronchial tree. Large airways are held open by semiflexible, fibrous connective tissue called cartilage.\n",
            "\t 7 5730352         0.69606\t2 (highly relevant   )    It divides into two principle bronchi, tubes which conduct air into the lungs, and they divide into two lobar bronchi for the left lung, and into four lobar bronchi for the right lung. These further divide into smaller bronchi and bronchioles within the lung tissue. The structure of the larger bronchi is identical to that of the trachea. On the smaller bronchi the C-shaped cartilage rings are gradually replaced by irregular plaques of cartilage. Bronchioles have no cartilage at all. The bronchioles are less than 1mm in diameter, and undergo further divisions, the last of which is characterised by the loss of goblet cells.\n",
            "\t 8 306319          0.69527\t1 (related           )    The bronchial tree is an essential part of the respiratory system. It consists of several interacting structures, such as the bronchi, bronchioles, and alveoli. These structures work together to provide a network system between the lungs and the trachea.Without this system, a person could not breathe properly.he primary bronchi also branch off, forming two smaller bronchial tubes known as the lobar bronchi, or secondary bronchi. There are three lobar bronchi on the right side and two on the left. The bronchiole treeâs parts continue reducing in size as these secondary bronchi become smaller tubes known as the bronchioles.\n",
            "\t 9 1545740         0.69510\t3 (perfectly relevant)    b respiratory bronchiole;al. d alveolar duct;a. s alveolar sac;'a' alveolus; A pulmonary lobule is the portion of the lung ventilated by one bronchiole. Bronchioles are approximately 1mm or less in diameter and their walls consist of ciliated cuboidal epithelium and a layer of smooth muscle. Bronchioles divide into even smaller bronchioles, called terminal, which are 0.5mm or less in diameter.\n",
            "\t10 7081903         0.69469\t1 (related           )    What are Bronchioles. The smallest airways within the lungs that are not encircled by any cartilage are called bronchioles [1]. Once the trachea divides into the left and right primary bronchi, they then branch into smaller and smaller divisions to lead to bronchioles.\n",
            "938400 when did family feud come out?:\n",
            "\t 1 7004406         0.69399\t3 (perfectly relevant)    Family Feud is an American television game show created by Mark Goodson where two families compete to name the most popular responses to survey questions in order to win cash and prizes. The series premiered on ABC on July 12, 1976, and ran as part of its daytime schedule until June 14, 1985.\n",
            "\t 2 4956064         0.69305\t3 (perfectly relevant)    Family Feud is an American television game show created by Mark Goodson where two families compete to name the most popular responses to survey questions in order to win cash and prizes. The program premiered on ABC on July 12, 1976, and ran as part of its daytime schedule until June 14, 1985.\n",
            "\t 3 3353755         0.68450\t2 (highly relevant   )    The first host of Family Feud was Richard Dawson from 1976-1985, and again from 1994-1995.\n",
            "\t 4 2532047         0.68270\t1 (related           )    Family Feud won the Daytime Emmy Award for Outstanding Game/Audience Participation Show in 1977, and the show has twice won the Daytime Emmy for Outstanding Game Show Host, once with Dawson (1978) and again with Harvey (2014).\n",
            "\t 5 2958107         0.68058\t3 (perfectly relevant)    Family Feud TV Show Watchlist. Two families of five try to guess what the `survey said' in polls conducted with 100 people in this durable game show. It premiered in 1977 and has had several versions since then, including an hourlong network edition titled `The Family Feud Challenge.'.\n",
            "\t 6 3088748         0.67980\t3 (perfectly relevant)    Family Feud Makeover. Two families of five try to guess what the `survey said' in polls conducted with 100 people in this durable game show. It premiered in 1977 and has had several versions since then, including an hourlong network edition titled `The Family Feud Challenge.'. Available to Stream.\n",
            "\t 7 3088746         0.67893\t3 (perfectly relevant)    Family Feud TV Show Watchlist. Two families of five try to guess what the `survey said' in polls conducted with 100 people in this durable game show. It premiered in 1977 and has had several versions since then, including an hourlong network edition titled `The Family Feud Challenge.'. Rating: TV-PG. TV Guide Rating:(175 ratings)\n",
            "\t 8 4956057         0.67866\t3 (perfectly relevant)    Family Feud TV Show Watchlist. Two families of five try to guess what the `survey said' in polls conducted with 100 people in this durable game show. It premiered in 1977 and has had several versions since then, including an hourlong network edition titled `The Family Feud Challenge.'. Rating: TV-PG.\n",
            "\t 9 3914686         0.67847\t3 (perfectly relevant)    In 1975, during his tenure as one of Match Game's regular panellists, Dawson was hired by Goodson to host an upcoming project titled Family Feud, which debuted on 12 July 1976 on ABC's daytime schedule. Family Feud was a break-out hit, eventually surpassing the ratings of Match Game in late 1977.\n",
            "\t10 2958099         0.67825\t1 (related           )    Family Feud is an American television game show created by Mark Goodson where two families compete to name the most popular responses to survey questions in order to win cash and prizes.\n",
            "940547 when did rock n roll begin?:\n",
            "\t 1 4696640         0.69344\t1 (related           )    Rock 'n' roll originated from the evolution of rhythm and blues. The term rock and roll was coined by Alan Fried, a Cleveland, Ohio USA disc jockey. Although difficult tâ¦o nail down to an exact year, it is safe to say that rock and roll began in the mid fifties in the United States.\n",
            "\t 2 5118373         0.69076\t1 (related           )    Rock and roll (often written as rock & roll or rock 'n' roll) is a genre of popular music that originated and evolved in the United States during the late 1940s and early 1950s, from a combination of African-American genres such as blues, boogie-woogie, jump blues, jazz, and gospel music, together with Western swing and country music.\n",
            "\t 3 4800891         0.68981\t0 (Irrelevant        )    Rock 'n' roll originated from the evolution of rhythm and blues. The term rock and roll was coined by Alan Fried, a Cleveland, Ohio USA disc jockey.\n",
            "\t 4 61071           0.68948\t1 (related           )    Rock and roll (often written as rock & roll or rock 'n' roll) is a genre of popular music that originated and evolved in the United States during the late 1940s and early 1950s, from African American musical styles such as gospel, Jump blues, jazz, boogie woogie, and rhythm and blues, along with country music.\n",
            "\t 5 7259157         0.68948\t1 (related           )    Rock and roll (often written as rock & roll or rock 'n' roll) is a genre of popular music that originated and evolved in the United States during the late 1940s and early 1950s, from African American musical styles such as gospel, jump blues, jazz, boogie woogie, and rhythm and blues, along with country music.\n",
            "\t 6 4664997         0.68891\t1 (related           )    Rock and roll developed in the early 1950s from a kind of music called rhythm and blues performed by black singers and musicians. At first, this music was popular only with African-Americans. In the later 1950s and in the 1960s, rock and roll became popular across the United States and in Europe.\n",
            "\t 7 5118376         0.68593\t1 (related           )    Rock and roll can refer either to the first wave of music that originated in the US in the 1950s prior to its development into rock music, or more broadly to rock music and culture. For the purpose of differentiation, this article deals with the first definition.\n",
            "\t 8 8219249         0.68535\t2 (highly relevant   )    Many people believe rock and roll began with Elvis Presley in 1954. However, you can't give credit to Elvis without recognizing the role his producer, Sam Phillips, played in discovering this young talent in Memphis, Tennessee. Elvis certainly made rock and roll more popular, but even he didn't claim to have invented rock and roll.\n",
            "\t 9 61068           0.68499\t1 (related           )    How Did Rock & Roll Music Begin? Rock & roll music began in the 1950s. It was a fusion of different musical styles from across America--blues, gospel, jazz, rhythm & blues, country and swing. The social and economic changes that took place in America during and just after the Second World War contributed to its birth.\n",
            "\t10 61062           0.68282\t1 (related           )    According to Greg Kot, rock and roll can refer either to a style of popular music originating in the U.S. in the 1950s prior to its development by the mid-1960s into the more encompassing international style known as rock music.\n",
            "997622 where is the show shameless filmed:\n",
            "\t 1 73462           0.68987\t3 (perfectly relevant)    Shameless is an American comedy-drama television series developed by John Wells that debuted on Showtime on January 9, 2011. It is a remake of the British series of the same name created by Paul Abbott. The series features an ensemble cast, led by William H. Macy and Emmy Rossum. Set in Chicago, the series is filmed in Los Angeles, with the exterior scenes shot in Chicago. The series has been renewed for a ninth season.\n",
            "\t 2 72291           0.68942\t3 (perfectly relevant)    Shameless is an American television comedy-drama which airs on Showtime. This remake of the award-winning British series is set in Chicago 's Canaryville neighborhood on the South Side, although filmed in Los Angeles, with the exterior scenes filmed in Chicago.\n",
            "\t 3 73460           0.68171\t3 (perfectly relevant)    Shameless (U.S. TV series) Shameless is an American comedy-drama television series which airs on Showtime. This remake of the British series is set in Chicago, although filmed in Los Angeles, with the exterior scenes shot in Chicago.[1]\n",
            "\t 4 4543867         0.68113\t3 (perfectly relevant)    The Showtime series Shameless, which is primarily filmed in Los Angeles, is headed back to Chicago next week to film exterior scenes for the upcoming season. 4 Star Casting is currently looki.. 1 Chicago. 2 Daily Filming Locations.\n",
            "\t 5 406412          0.68079\t1 (related           )    Shameless is a British comedy-drama series set in Manchester on the fictional Chatsworth council estate. Produced by Company Pictures for Channel 4, the series aired from 13 January 2004 to 28 May 2013.\n",
            "\t 6 4700298         0.68027\t1 (related           )    Shameless is a British adult comedy-drama series set in Manchester on the fictional Chatsworth council estate. Produced by Company Pictures for Channel 4, the series aired from 13 January 2004 to 28 May 2013.\n",
            "\t 7 8684996         0.68010\t1 (related           )    Shameless is a BAFTA award winning British drama television series set in the fictional Chatsworth Council Estate, Stretford, Greater Manchester in England. Produced by Company Pictures for Channel 4, the first seven episode series started airing on 13 January 2004.\n",
            "\t 8 4518222         0.67862\t3 (perfectly relevant)    (See Shameless UK TV Series). The show first aired on Showtime on January 9, 2011, and is currently renewed for season 6 which is set to premiere in January, 2016. Although filmed in Los Angeles, Shameless is set in Chicagoâs Canaryville neighborhood on the South Side.\n",
            "\t 9 4643397         0.67841\t3 (perfectly relevant)    According to a new casting call, Shameless will return to Chicago next week for a five day shoot. The show is primarily filmed in Los Angeles but they spend a week or two each season filming ..\n",
            "\t10 8533348         0.67757\t3 (perfectly relevant)    Shameless. Chicago and Los Angeles filming locations from the Showtime series âShamelessâ with William H. Macy and Emmy Rossum. UPDATE 3-7-15: Season 5 Episode 2 locations have been updated here. Been pretty busy of late. More season 5 locations will be added soon, once I get some time. NOTE: It has been noted by several readers that the area(s) where they film in Chicago are not the safest of neighborhoods, so I wouldnât recommend going to check them out without the benefit of a police escort.\n",
            "1030303 who is aziz hashim:\n",
            "\t 1 6054030         0.69859\t0 (Irrelevant        )    Aziz Ansari was born in Columbia, South Carolina, to a Tamil Muslim family from Tamil Nadu, India. His mother, Fatima, works in a medical office, and his father, Shoukath, is a gastroenterologist.\n",
            "\t 2 6939430         0.69236\t0 (Irrelevant        )    Al-Aziz is one of the names of God in Islam, and the word is also used in reference to the king of Egypt (pharaoh) in the quranic Surah-e-Yusuf. In Bible, Aziz is referred to as Potiphar.ziz (Arabic: Ø¹Ø²ÙØ² â, Ê¿azÄ«z, [ÊaziËz]) was originally a Northwest Semitic Phoenician / Aramaic / Hebrew / Arabic word, but is now much more commonly (but not exclusively) known as a Central Semitic Arabic male name. The feminine form of both the adjective and the given name is Aziza.\n",
            "\t 3 7284047         0.69084\t0 (Irrelevant        )    Aziz Ansari is a stand-up comedian and actor Who is Aziz Ansari? Aziz Ismail Ansari, 34, was born February 23, 1983 and is an American actor, comedian, and filmmaker. He began his career performing stand-up comedy in New York City in mid-2000 while attending New York University.\n",
            "\t 4 1905988         0.69067\t0 (Irrelevant        )    AZIZ Ø¹Ø²ÛØ² m Arabic, Persian, Urdu, Uzbek. Means powerful, respected, beloved, derived from Arabic Ø¹Ø²Ù ('azza) meaning to be powerful or to be cherished. In Islamic tradition Ø§ÙØ¹Ø²ÙØ² (al-'Aziz) is one of the 99 names of Allah. A notable bearer of the name was Al-'Aziz, a 10th-century Fatimid caliph.\n",
            "\t 5 6939426         0.68887\t0 (Irrelevant        )    Abdul Aziz (Arabic: Ø¹Ø¨Ø¯ Ø§ÙØ¹Ø²ÙØ² â) is a male Muslim given name and in modern usage, surname. It is built from the Arabic words Abd, al-and Aziz.The name means servant of the Almighty, Al-AzÄ«z being one of the names of God in the Qur'an, which give rise to the Muslim theophoric names.bdul Aziz (Arabic: Ø¹Ø¨Ø¯ Ø§ÙØ¹Ø²ÙØ² â) is a male Muslim given name and in modern usage, surname. It is built from the Arabic words Abd, al-and Aziz.\n",
            "\t 6 6939423         0.68739\t0 (Irrelevant        )    Aziz /az-iz/ [2 sylls.] as a boys' name is of Arabic origin, and the meaning of Aziz is the All-Powerful.In Islam, one the ninety-nine attribute names of Allah. A familiar name in the Muslim world. Kreatif forms: Auaziz, Azizau.ziz is an uncommon first name for men but a very popular surname for all people (#6604 out of 150436, Top 4%). (2000 U.S. Census).\n",
            "\t 7 8726437         0.68517\t3 (perfectly relevant)    Aziz Hashim is one of the worldâs leading experts on franchising and a highly regarded executive in the U.S. and international franchise space. He is the Founder and Managing Partner of NRD Capital (NRD), the first business fund both sponsored and managed by a former multi-unit franchisee.\n",
            "\t 8 6939428         0.68114\t0 (Irrelevant        )    Aziz is an uncommon first name for men but a very popular surname for all people (#6604 out of 150436, Top 4%). (2000 U.S. Census).Presented below is the birth name popularity of Aziz for boys.Aziz has yet to be ranked in the Top 1000 thus far. (2014 Birth Statistics).ziz is an uncommon first name for men but a very popular surname for all people (#6604 out of 150436, Top 4%). (2000 U.S. Census).\n",
            "\t 9 3302252         0.68100\t0 (Irrelevant        )    The Aziz mansion is registered not under the name of its owner, who is the stepson of the Malaysian Prime Minister and son of Rosmah Mansor, but a company called 912 North Hillcrest Road (BH) LLC, registered in Delaware, which is a well-known corporate tax haven.\n",
            "\t10 1269099         0.67995\t0 (Irrelevant        )    Hamza Ali Abbasi is a Pakistani theater, film and television actor, model and director.He is best known for his role as Afzal in drama serial Pyarey Afzal and Azam in drama serial Meray Dard Ko Jo Zuban Miley.hile in filmography he made his debut in a short film Glorious Resolve (2010), a direction of Bilal Lashari. In 2013, he appeared in feature films of Pakistani Cinema, Main Hoon Shahid Afridi and Waar for which he received Best Star Debut Male and Best Supporting Actor at 1st ARY Film Awards, respectively.\n",
            "1037496 who is rep scalise?:\n",
            "\t 1 4760912         0.67142\t3 (perfectly relevant)    Steven Joseph Steve Scalise (b. October 6, 1965, in New Orleans, La.) is a Republican member of the U.S. House of Representatives representing Louisiana's 1st Congressional District. Scalise was first elected to the House in a 2008 special election to fill the vacancy caused by the resignation of Rep. Bobby Jindal.\n",
            "\t 2 4760908         0.67020\t2 (highly relevant   )    Scalise was elected to his fourth term in the House on Nov. 4, the same day that Republicans across the country rolled up their biggest House majority since the late 1940s. As whip, his job is to line up votes on the House floor in support of legislation advanced by the Republican leadership.\n",
            "\t 3 3725934         0.66884\t3 (perfectly relevant)    Stephen Joseph Steve Scalise (born October 6, 1965) is the current United States House of Representatives Majority Whip and representative for Louisiana's 1st congressional district, serving since 2008. He is a member of the Republican Party and the chairman of the conservative House Republican Study Committee. Prior to his congressional tenure, Scalise served for four months in the Louisiana State Senate and twelve years in the Louisiana House of Representatives.\n",
            "\t 4 7766583         0.66839\t3 (perfectly relevant)    Stephen Joseph Steve Scalise (born October 6, 1965) is the current United States House of Representatives Majority Whip and representative for Louisiana's 1st congressional district, serving since 2008. He is a member of the Republican Party and the chairman of the conservative House Republican Study Committee. Prior to his congressional tenure, Scalise served for four months in the Louisiana State Senate and twelve years in the Louisiana House of Representatives. On June 19, 2014, Scalise was elected by his Republican colleagues to serve as Majority Whip of the United States House of Representatives.\n",
            "\t 5 4760907         0.66392\t3 (perfectly relevant)    Below is an abbreviated outline of Scalise's academic, professional and political career: 1 2008-Present: U.S. Representative from Louisiana's 1st Congressional District. 2 2008: Louisiana State Senate. 3 1995-2007: Louisiana House of Representatives.\n",
            "\t 6 4760915         0.66367\t3 (perfectly relevant)    On June 14, 2017, Scalise was shot and wounded by a gunman while at a congressional baseball practice in Alexandria, Va. Over 50 rounds were reported to have been fired, wounding members of the Capitol Hill police and congressional staffers. Scalise won re-election in 2016. He is the current House majority whip. He beat out Marlin Stutzman (R-IN) and Peter Roskam (R-IL) for the position. The whip post became open when Kevin McCarthy (R-CA) took over for Eric Cantor as majority leader.\n",
            "\t 7 4912160         0.66336\t3 (perfectly relevant)    He is a member of the Republican Party and the chairman of the conservative House Republican Study Committee. Prior to his congressional tenure, Scalise served for four months in the Louisiana State Senate and twelve years in the Louisiana House of Representatives. On June 19, 2014, Scalise was elected by his Republican colleagues to serve as Majority Whip of the United States House of Representatives.\n",
            "\t 8 4187307         0.66010\t3 (perfectly relevant)    Scalise is a former systems engineer. The Congressmanâs commitment to service began early as he was twice elected Speaker of LSUâs Student Government Association. He was a member of the Louisiana House and the Louisiana Senate from 1996 to 2008.\n",
            "\t 9 3725936         0.65975\t3 (perfectly relevant)    Scalise was born in New Orleans, one of three children of Alfred Joseph Scalise, a real estate broker who died on October 8, 2015 at the age of seventy-seven, and the former Carol Schilleci. His siblings are Glenn and Tara Scalise.\n",
            "('1037496', '4691526') not in judment\n",
            "\t10 4691526         0.65961\t0 (Irrelevant        )    Aziz Ansari (Tamil: à® à®à¯à®¸à¯ à® à®©à¯à®à®¾à®°à®¿; born February 23, 1983) is an American actor and comedian. He is known for his roles as Tom Haverford on the NBC series Parks and Recreation (2009â2015) and as Dev Shah on the Netflix series Master of None, which debuted in 2015 and Ansari created, writes, and stars in. The New York Times called the latter show the year's best comedy straight out of the gate.\n",
            "1043135 who killed nicholas ii of russia:\n",
            "\t 1 4881715         0.70015\t0 (Irrelevant        )    Rasputin swallowed enough poison to kill four horses. He was shot several times, stabbed, strangled, assaulted, castrated, and he was drowned in the Neva river in St. Petersburg. Three days later Rasputin was dead. Rasputin's murder was a death sentence for Czar Nicholas II and his family.\n",
            "\t 2 1536025         0.69633\t0 (Irrelevant        )    The death of Rasputin - December, 1916. One hundred years ago on 30 December 1916, Grigori Rasputin, the Russian mystic who became a confidant of Tsar Nicholas II and his wife, was brutally killed. After supposedly being poisoned, shot and beaten, he was thrown into the freezing waters of St. Petersburgâs Neva River by aristocrats fearful of the influence he wielded over the Romanov court.\n",
            "\t 3 5119432         0.69558\t0 (Irrelevant        )    Rasputin murdered. Grigory Rasputin, a self-fashioned Russian holy man, is murdered by Russian nobles eager to end his sway over the royal family.Rasputin won the favor of Czar Nicholas II and Czarina Alexandra through his ability to stop the bleeding of their hemophiliac son, Alexei.\n",
            "\t 4 3878603         0.69432\t2 (highly relevant   )    In the early morning hours of July 17, 1918, Czar Nicholas IIâthe last monarch of the Romanov dynasty, which ruled Russia for 304 yearsâwas reportedly executed along with his wife, Alexandra, and their five children by their Bolshevik captors in the basement of a house in Yekaterinburg.\n",
            "\t 5 1637693         0.69358\t1 (related           )    The czar and his family were gunned down and stabbed by members of the Red Guard early on the morning of July 17, 1918, but persistent rumors have maintained that two of the children, the Grand Duchess Anastasia and her brother Alexei, survived, perhaps because the diamonds sewn into their clothes blocked attempts to kill them.\n",
            "\t 6 8632895         0.69129\t0 (Irrelevant        )    12:01AM BST 19 Sep 2004. Rasputin, the Russian monk who became the confidant of Alexandra, the Tsarina, and her husband, Tsar Nicholas II, was killed by a British agent, according to a documentary to be broadcast next month.\n",
            "\t 7 8696957         0.69102\t1 (related           )    Czar Nicholas II and his family were kidnapped and killed on July 17, 1918. The Czar, his wife Tsarina Alexandra and their five children Olga, Tatiana, Maria, Anastasia, a â¦ nd Alexei, along with others that followed them into exile were rounded up and shot.\n",
            "\t 8 8696961         0.69003\t2 (highly relevant   )    How was tsar nicholas II of russia killed? Along with his family, Tsar Nicholas II was shot by firing squad in the year of 1918, in a house in Ekaterinburg. The Romanovs' bodies were buried near the location of t â¦ heir death but have since been exhumed and venerated in the Peter-and-Paul Cathedral in St. Petersburg, Russia as martyred saints.\n",
            "\t 9 8696958         0.68947\t0 (Irrelevant        )    In 1881, Nicholasâ father, Alexander III, became czar (emperor) of Russia after his father, Alexander II, was killed by an assassin's bomb. Nicholas, at twelve, witnessed his grandfather's death when the czar, horribly maimed, was carried back to the palace.\n",
            "\t10 7137852         0.68931\t1 (related           )    Despite being informed that the entire family suffered the same fate as its head, the Bolsheviks only announced Nicholas's death, with the official press release that Nicholas Romanov's wife and son have been sent to a secure place.\n",
            "1051399 who sings monk theme song:\n",
            "\t 1 3943228         0.69301\t2 (highly relevant   )    It's a Jungle Out There is a song written by Randy Newman, and used as the theme song for the TV series Monk starting in its second season. In 2004, it won an Emmy Award for Outstanding Main Title Theme Music.\n",
            "\t 2 69818           0.68664\t3 (perfectly relevant)    Confidence votes 140. The Monk theme song is It's a Jungle Out There by Randy Newman. The Monk theme song is It's a Jungle Out There by Randy Newman.\n",
            "\t 3 4426187         0.68428\t3 (perfectly relevant)    This is a reference to the minor controversy that brewed among Monk fans over the introduction of the new theme song It's A Jungle Out There written and performed by Randy Newman in the second season of Monk.\n",
            "\t 4 69813           0.68310\t3 (perfectly relevant)    exists and is an alternate of . The Monk theme song is It's a Jungle Out There by Randy Newman. The Monk theme song is It's a Jungle Out There by Randy Newman.\n",
            "\t 5 4426182         0.68240\t1 (related           )    In _Monk (2002) Mr. Monk and His Biggest Fan (#6.01)_, Sarah Silverman again appears as Marci Maven. At the end we again hear the original theme song by Jeff Beal.\n",
            "\t 6 3943224         0.68160\t2 (highly relevant   )    Randy Newman also wrote a new song for the final episode, Mr. Monk and the End, entitled When I'm Gone. The song won the 2010 Emmy Award for Outstanding Original Music and Lyrics. The song has yet to be released on CD or to download.\n",
            "\t 7 4426188         0.67899\t1 (related           )    At the end of the episode Marci Maven asks Adrian Monk to promise that if he ever gets his own show, he won't ever change the theme song. When Monk agrees to the promise, the original theme song by Jeff Beal begins to play as the scene fades to credits.\n",
            "\t 8 69812           0.67465\t1 (related           )    Monk is an American comedy-drama detective mystery television series created by Andy Breckman and starring Tony Shalhoub as the eponymous character, Adrian Monk.\n",
            "\t 9 745839          0.67462\t1 (related           )    Monk (TV series) Monk is an American comedy-drama detective mystery television series created by Andy Breckman and starring Tony Shalhoub as the eponymous character, Adrian Monk.\n",
            "\t10 2250224         0.67381\t0 (Irrelevant        )    The album is the Monkees' first collection of original material since 1997's JustUs, and it will feature new songs by Noel Gallagher, Rivers Cuomo, Ben Gibbard and many more. Adam Schlesinger of Fountains of Wayne serves as producer on the new LP.\n",
            "1064670 why do hunters pattern their shotguns?:\n",
            "\t 1 8680904         0.69895\t2 (highly relevant   )    Why do hunters pattern their shotguns? to decide what animal to hunt to select ammunition with the best performance to compete against other hunters to identify the best shooting position to use in the field\n",
            "\t 2 3561216         0.68888\t0 (Irrelevant        )    The bolt-action rifle has remained a primary hunting and target shooting tool for more than a century. While the basic concept has stayed the same, some turnbolt designs stand out from the rest. Bolt-action rifles became popular with military forces in the early twentieth century, and hunters soon began using sporterized versions of these early military arms for taking game of all sizes. Since that time, the bolt-action has become the most popular choice for big game hunting for a number of reasons.\n",
            "\t 3 8680905         0.68885\t1 (related           )    You now know what patterning a shotgun means, but why do hunters pattern their shotguns in the first place? When you shoot a shotgun while hunting, you want to make sure that you are familiarized with how it works, don't you?\n",
            "\t 4 8680897         0.68757\t1 (related           )    Why do hunters pattern their shotguns? 1. Understanding the Importance of Cartridge and Choke Performance. Thereâs no difference between zeroing the rifle and patterning the shotgun. The process is both easy and beneficial. When hunting, itâs important to adopt humane methods to capture the animal.\n",
            "\t 5 8680903         0.68405\t2 (highly relevant   )    This is called âpatterning your shotgun.â All shotgun hunters need to pattern their firearms to determine which brands of shells, shot sizes, and loads perform best and at what range. A shotgun may have a good pattern (high density of hits), but shoot off target. If this is the case, you will need to have the stock adjusted by a gunsmith. â Previous\n",
            "\t 6 7556558         0.68375\t0 (Irrelevant        )    A shotgun (also known as a scattergun and peppergun, or historically as a fowling piece) is a firearm that is usually designed to be fired from the shoulder, which uses the energy of a fixed shell to fire a number of small spherical pellets called shot, or a solid projectile called a slug. backpacker shotgun has a short barrel and either a full-size stock or pistol grip, depending on legislation in intended markets. The overall length of these weapons is frequently less than 90 cm (35 in), with some measuring up at less than 63 cm (25 in).\n",
            "\t 7 6098427         0.68359\t0 (Irrelevant        )    Hunters calibrate the scope for their rifle and cartridge, and an MOA-adjusted dot for exact hold over is generated. Rangefinding riflescopes take the guesswork out of shooting at long distances, making it easier to hit targets from more than 700 yds. away.\n",
            "\t 8 4217682         0.68253\t0 (Irrelevant        )    A Shotgun is a weapon designed chiefly to fire rounds loaded with multiple small metal projectiles at once. Other types of ammunition have been adapted and manufactured for them, including solid slugs, sub-caliber saboted projectiles, flechettes, and a slew of âless-lethalâ rounds loaded with rubber projectiles or chemical projectiles.\n",
            "\t 9 6878678         0.68216\t0 (Irrelevant        )    Devoted to the use of muzzleloading shotguns for hunting, Trap, Skeet and other shooting sports. For most shooters, the phrase muzzle loader is synonymous with a muzzle loading rifle. However, there are a surprising number of shooters who, at least occasionally, shoot a muzzle loading shotgun.\n",
            "\t10 6824285         0.68190\t1 (related           )    In firearms, a choke is a tapered constriction of a shotgun barrel's bore at the muzzle end. Chokes are almost always used with modern hunting and target shotguns, to improve performance. Their purpose is to shape the spread of the shot in order to gain better range and accuracy.\n",
            "1071750 why is pete rose banned from hall of fame:\n",
            "\t 1 3928913         0.68221\t1 (related           )    Pete Rose still banned from baseball after MLB rejects application for reinstatement. Pete Rose is still ineligible for the baseball Hall of Fame. Pete Rose is still ineligible for the baseball Hall of Fame. Baseball's all-time hit leader has struck out in what appears to be his final shot at the Hall of Fame. Pete Rose was denied reinstatement to Major League Baseball by Commissioner Rob Manfred on Monday. The Hall of Fame does not consider for induction any party on baseball's restricted list.\n",
            "\t 2 8698273         0.68156\t1 (related           )    Pete Rose's ban from baseball remains in place. MLB unconvinced Rose has changed his ways (2:23)T.J. Quinn explains why MLB commissioner Rob Manfred decided to uphold Pete Rose's lifetime ban from baseball. Pete Rose remains banned for life from Major League Baseball.\n",
            "\t 3 6508493         0.67987\t1 (related           )    The case of Pete Rose remains an enduring scandal 25 years after the Cincinnati Reds player and manager agreed to a lifetime ban from Major League Baseball on August 23, 1989. In 2014, the conversation about him often harkens back to images of Roseâs grit and on-field excellence during the 1970s.\n",
            "\t 4 4717395         0.67731\t0 (Irrelevant        )    Share this: Pete Rose Biography. Pete Rose is one of the greatest professional baseball players in the history of the game â and also one of the most controversial. Rose began playing professionally for the Cincinnati Reds in 1963, where he quickly earned the nickname âCharlie Hustleâ for his work ethic and boundless enthusiasm.\n",
            "\t 5 3719926         0.67612\t2 (highly relevant   )    Pete Rose's No. 14 retired by Reds. The Cincinnati Reds officially retired Pete Rose's No. 14 on Sunday in a pregame ceremony. It's official. Big crowds filled Great American Ball Park for the three days of celebration, which had to be approved by Major League Baseball because of Rose's lifetime ban for betting on his team.\n",
            "\t 6 4094989         0.67576\t0 (Irrelevant        )    Pete Rose may still be banned from Major League Baseball, but heâs a little bit luckier at home. The former Cincinnati Reds standout is engaged to Kiana Kim, a former Playboy model and commercial actress. Rose was nicknamed âCharlie Hustleâ and played professional baseball from 1963 to 1986, and then managed from 1984 to 1989.\n",
            "\t 7 8698275         0.67568\t3 (perfectly relevant)    Despite Rose âs serious violation of a bevy of Major League Baseball rules and regulations , many fans â and Rose himself â believe he should be reinstated and allowed a place in the Hall of Fame : The two seemingly go hand in hand , as the Hall of Fame added a clause to its eligibility rules in 1990 , stating that players who were on the ineligible ...\n",
            "\t 8 6508491         0.67522\t1 (related           )    The Dowd Report asserted that Pete Rose bet on 52 Reds games in 1987, at a minimum of $10,000 a day. Rose, facing a very harsh punishment, along with his attorney and agent, Reuven Katz, decided to seek a compromise with Major League Baseball. On August 24, 1989, Rose agreed to a voluntary lifetime ban from baseball.\n",
            "\t 9 8698272         0.67486\t1 (related           )    The Hall of Fame's board of directors voted in 1991 to ban those on the permanently ineligible list from the Baseball Writers' Association of America ballot. Manfred said Rose can continue to make appearances in ceremonial activities connected to MLB.\n",
            "\t10 8378390         0.67357\t2 (highly relevant   )    Former Baltimore Orioles star Cal Ripken Jr. said on SI Now on Thursday that he believes Pete Rose should be inducted into the Baseball Hall of Fame. Rose, 73, was banned from baseball for life in 1989 for betting on games.\n",
            "1105792 define: geon:\n",
            "\t 1 8201614         0.68900\t2 (highly relevant   )    Definition of the noun GEON. What does GEON mean as a name of something? noun [physics] A hypothetical electromagnetic or gravitational wave held together in a confined region by the gravitational attraction of its own field energy.\n",
            "\t 2 8201612         0.68571\t2 (highly relevant   )    Geon may refer to: Geon (geology), a time interval. Geon (physics), a hypothetical gravitational wave packet. Geon (psychology), a geometrical primitive out of which everyday objects can be represented. Geon, short for geonim, rabbis in the medieval era.\n",
            "\t 3 4769651         0.68051\t0 (Irrelevant        )    There are four different types of geo-characteristic: ... 1. Static geo-characteristics. A static geo-characteristic is a characteristic that describes a surface (polygon), whose geographical coordinates rarely change. Country and region are examples of static geo-characteristics.ata from areas or polygons are stored in Shapefiles that define the geometry and the attributes of the geo-characteristics. 2. Dynamic geo-characteristics. A dynamic geo-characteristic is a characteristic that describes a location (information in point form), whose geographical coordinates can change more frequently.\n",
            "\t 4 8201615         0.67828\t1 (related           )    A typical geon is a cylinder. Groups of geons can be combined by relating several of them to one another in ways familiar from Tinkertoy sets. A combination of geons plus selected relations among them (e.g. âside-attachedâ) can be recognized ...\n",
            "\t 5 8699816         0.67827\t2 (highly relevant   )    A shape is the form of an object or its external boundary, outline, or external surface, as opposed to other properties such as color, texture, or material composition.Psychologists have theorized that humans mentally break down images into simple geometric shapes called geons.n example of the different definitions of shape. The two triangles on the left are congruent, while the third is similar to them. The last triangle is neither similar nor congruent to any of the others, but it is homeomorphic.\n",
            "\t 6 7102720         0.67767\t2 (highly relevant   )    A shape is the form of an object or its external boundary, outline, or external surface, as opposed to other properties such as color, texture or material composition. Psychologists have theorized that humans mentally break down images into simple geometric shapes called geons. Examples of geons include cones and spheres.\n",
            "\t 7 342876          0.67740\t1 (related           )    A shape is the form of an object or its external boundary, outline, or external surface, as opposed to other properties such as color, texture, or material composition. Psychologists have theorized that humans mentally break down images into simple geometric shapes called geons.\n",
            "\t 8 6876090         0.67546\t0 (Irrelevant        )    noun, Biology. 1. oriented movement of a motile organism toward or away from a gravitational force. Origin of geotaxis. 1960-1965.\n",
            "\t 9 8201611         0.67298\t2 (highly relevant   )    Geon may refer to: Geon (geology), a time interval; Geon (physics), a hypothetical gravitational wave packet; Geon (psychology), a geometrical primitive out of which everyday objects can be represented; Geon, short for geonim, rabbis in the medieval era; Geon, a character from the King of the Monsters series of video games\n",
            "\t10 996676          0.67276\t0 (Irrelevant        )    geothermal. adjective geoÂ·therÂ·mal \\-ËthÉr-mÉl\\. Tweet. : of, relating to, or using the natural heat produced inside the Earth; also: produced by such heat.ull Definition of GEOTHERMAL. â geoÂ·therÂ·malÂ·ly \\-mÉ-lÄ\\ adverb. See geothermal defined for English-language learners. See geothermal defined for kids. ADVERTISEMENT.\n",
            "1106979 define pareto chart in statistics:\n",
            "\t 1 799359          0.70984\t2 (highly relevant   )    Pareto chart. A Pareto chart, named after Vilfredo Pareto, is a type of chart that contains both bars and a line graph, where individual values are represented in descending order by bars, and the cumulative total is represented by the line.\n",
            "\t 2 8190134         0.70609\t2 (highly relevant   )    The Pareto Chart: The Pareto chart can also be known as, the Pareto diagram. There can be two types of Pareto Charts such as, a weighted Pareto chart or a comparative Pareto Chart. A Pareto chart is a special bar graph, where the lengths are represented by frequency or cost, time or money that are arranged with the longest bars on the left and the shortest to the right side.\n",
            "\t 3 2306620         0.70231\t2 (highly relevant   )    Pareto charts: A Pareto chart is a bar graph where the bars are drawn in decreasing order of frequency or relative. frequency and is used to graphically summarize and display the relative importance of the differences. between groups of data.\n",
            "\t 4 7557632         0.70016\t0 (Irrelevant        )    Pareto chart practice assume you are working on a project. Pareto Chart Practice Assume you are working on a project to improve customer service. Create a Pareto chart based on the information on the following table. Use the Pareto chart template so that your resulting chart loo ...\n",
            "\t 5 348054          0.69895\t2 (highly relevant   )    Purpose of a Pareto Chart A pareto chart is used to graphically summarize and display the relative importance of the differences between groups of data. Sample Pareto Chart Depiction How to Construct a Pareto Chart\n",
            "\t 6 348055          0.69574\t1 (related           )    A pareto chart is used to graphically summarize and display the relative importance of the differences between groups of data. Learn when it's appropriate to use a pareto chart, histogram and bar chart, and what the differences are.\n",
            "\t 7 8190137         0.69515\t2 (highly relevant   )    The Pareto Chart Help in Statistics The Pareto Chart is based on The Pareto principles of Italian Economist Vilfredo Pareto in 19th centaury. The Pareto principles state that the most effects are the result of relatively of few causes that is, 80 % of effects come from 20 % of the possible causes.\n",
            "\t 8 2375316         0.69295\t1 (related           )    According to Pareto efficiency, however, any allocation of the $100 would be optimal â including the distribution you would likely prefer: keeping all $100 for yourself. Pareto efficiency says that an allocation is efficient if an action makes some individual better off and no individual worse off. The concept was developed by Vilfredo Pareto, an\n",
            "\t 9 3290646         0.69169\t2 (highly relevant   )    Histogram versus Pareto Chart. There are number of charts used to evaluate and analyze quality results within a project. Two charts that are similar and often confused are the histogram and Pareto chart. A histogram is a type of bar chart showing a distribution of variables. A histogram represents each attribute or characteristic as a column and the frequency of each attribute or characteristic occurring as the height of the column.\n",
            "\t10 348057          0.69144\t2 (highly relevant   )    Purpose of a Pareto Chart. A pareto chart is used to graphically summarize and display the relative importance of the differences between groups of data. Sample Pareto Chart Depiction. How to Construct a Pareto Chart. A pareto chart can be constructed by segmenting the range of the data into groups (also called segments, bins or categories).\n",
            "1108651 what the best way to get clothes white:\n",
            "\t 1 2141333         0.68184\t3 (perfectly relevant)    Laundry bluing is a product used to wash white fabric items that have become slightly off-white over time. The blue dye in the product gives fabric the appearance of regaining a pure white color. Bluing is somewhat less common in areas where products that keep white clothing very white exist, but it is still used by some people to refresh white clothing.\n",
            "\t 2 8175406         0.68181\t1 (related           )    Wash white clothes in warm water if the fabrics are synthetic, a combination of natural and manmade fabrics, or are moderately soiled; Wash white clothes in cold water if the fabric is sheer or delicate (such as lingerie and swimsuits), is stained with blood, wine, or coffee (which may set if washed in warm or hot water, regardless of fabric), or is only lightly soiled.\n",
            "\t 3 2745683         0.68146\t3 (perfectly relevant)    What to Do. Wash whites separately. The best way to retain whiteness is to launder white items together in the hottest water the fabric will tolerate (water that is at least 120 degrees is most effective at removing soil). Choose detergent with a bleach alternative and/or enzymes, using the maximum amount recommended.\n",
            "\t 4 370201          0.67874\t3 (perfectly relevant)    Laundry bluing is a product used to wash white fabric items that have become slightly off-white over time. The blue dye in the product gives fabric the appearance of regaining a pure white color.\n",
            "\t 5 6254868         0.67836\t1 (related           )    Bluing liquid, also called laundry bluing (or just bluing) is a substance used in the rinse cycle to make white clothes appear whiter. Since its creation bluing liquid has found other uses including personal care and science projects. Features Bluing liquid is basically two ingredients mixed together (though more ingredients may be added depending on the recipe): Prussian blue (ferric ferrocyanide) and water.\n",
            "\t 6 5330512         0.67834\t2 (highly relevant   )    (Warm water wash temperature is 90 degrees F.; 32 degrees C.) Use a laundry detergent with bleach alternative, which doesn't contain any chlorines bleach so it is safe for all washable fabrics, and is designed to keep white clothes white.\n",
            "\t 7 6522183         0.67786\t3 (perfectly relevant)    Add 1 1/2 cups to a rinse cycle to keep an entire load of whites white. To restore whiteness to specific parts of clothing, soak individual items overnight in hot water that has had white, distilled vinegar poured into it. The process can be repeated for especially stubborn stains.\n",
            "\t 8 3102788         0.67765\t2 (highly relevant   )    (Warm water wash temperature is 90 degrees F.; 32 degrees C.) Use a laundry detergent with bleach alternative, which doesn't contain any chlorines bleach so it is safe for all washable fabrics, and is designed to keep white clothes white. Dry the white cottons on high; synthetics on medium and low.\n",
            "\t 9 3381621         0.67705\t2 (highly relevant   )    Bleach is a chemical that whitens clothing. The bleaching process has been known for millennia, but the chemicals currently used for bleaching resulted from the work of several 18th century scientists.\n",
            "\t10 7654965         0.67696\t2 (highly relevant   )    Removing Permanent Marker From Fabrics. 1 1. Use bleach to remove permanent marker from white fabrics. Dilute a small amount of bleach in water and dip the stained part of the clothing into the liquid. 2 2. Use a mixture of vinegar, milk, borax and lemon juice for satin.\n",
            "1109707 what medium do radio waves travel through:\n",
            "\t 1 7566102         0.70409\t2 (highly relevant   )    Radio waves travel at the speed of light. When passing through an object, they are slowed according to that object's permeability and permittivity. The wavelength is the distance from one peak of the wave's electric field to the next, and is inversely proportional to the frequency of the wave.\n",
            "\t 2 7566104         0.70363\t0 (Irrelevant        )    Radio waves form part of the electromagnetic spectrum (which includes all light). They therefore travel at the same speed as x rays, microwaves, and visible light, which is 18 â¦ 6 thousand miles per second or 3 million meters per second.\n",
            "\t 3 1823563         0.70286\t1 (related           )    Radio waves travel at the speed of light. When passing through an object, they are slowed according to that object's permeability and permittivity. The wavelength is the distance from one peak of the wave's electric field (wave's peak/crest) to the next, and is inversely proportional to the frequency of the wave.\n",
            "\t 4 7566105         0.70215\t0 (Irrelevant        )    Radio waves are a type of electromagnetic radiation with wavelengths in the electromagnetic spectrum longer than infrared light. Radio waves have frequencies from 300 GHz to as low as 3 kHz, and corresponding wavelengths ranging from 1 millimeter (0.039 in) to 100 kilometers (62 mi). Like all other electromagnetic waves, they travel at the speed of light. Naturally occurring radio waves are made by lightning, or by astronomical objects.\n",
            "\t 5 5232985         0.70130\t0 (Irrelevant        )    Radio waves are a type of electromagnetic radiation. The best-known use of radio waves is for communication.\n",
            "\t 6 8363279         0.70128\t2 (highly relevant   )    Radio waves are the lowest-energy, lowest-frequency and longest-wavelength electromagnetic waves. They are produced when an alternating current flows in an aerial and they spread out and travel through the atmosphere. They are not strongly absorbed by the atmosphere.\n",
            "\t 7 8695932         0.70104\t0 (Irrelevant        )    Radio Waves Radio waves have frequencies ranging from 3*10 1 to 3*10 9 Hz (30 Hz to 3 GHz) and wavelengths from 10 -1 m to 10 7 m (100 mm to 10,000 km). Radio waves are produced from the alternating current of an LC circuit. Radio waves carry information through modulation.\n",
            "\t 8 8564593         0.70045\t2 (highly relevant   )    Various frequencies of radio waves are used for television and FM and AM radio broadcasts, military communications, mobile phones, ham radio, wireless computer networks, and numerous other communications applications. Most radio waves pass freely through Earth's atmosphere.\n",
            "\t 9 1671350         0.70018\t2 (highly relevant   )    Radio propagation. Radio propagation is the behavior of radio waves as they travel, or are propagated, from one point to another, or into various parts of the atmosphere. As a form of electromagnetic radiation, like light waves, radio waves are affected by the phenomena of reflection, refraction, diffraction, absorption, polarization, and scattering.\n",
            "\t10 1950475         0.69955\t0 (Irrelevant        )    Radio waves generally are utilized by antennas of appropriate size (according to the principle of resonance), with wavelengths ranging from hundreds of meters to about one millimeter. They are used for transmission of data, via modulation,television,mobile phones,wireless networking, Radio waves can be made to carry information by varying a combination of the amplitude, frequency, and phase of the wave within a frequency band.\n",
            "1110678 what is the un fao:\n",
            "\t 1 2713707         0.69083\t1 (related           )    FAO coordinates major global initiatives and projects to tackle food waste and loss, partnering with international organisations, the private sector and civil society.\n",
            "\t 2 741943          0.68948\t1 (related           )    The FAO is the Food and Agriculture Organization of the United Nations. The minimum amount of agricultural land necessary for sustainable food security, with a diversified diet similar to those of North America and Western Europe (hence including meat), is 0.5 of a hectare per person.\n",
            "\t 3 8541271         0.68742\t1 (related           )    FAO is concerned with the effect of agriculture on climate change, the impact of climate change on agriculture and with the role that agriculture can play in mitigating climate change. Historically, land-use conversion and soil cultivation have been an important source of greenhouse gases (GHGs) to the atmosphere.\n",
            "\t 4 2096160         0.68708\t0 (Irrelevant        )    FAO would like to thank the following donors for their generous support to its activities in. Mozambique: Belgium, Canada, Denmark, European Union, France, Italy, Japan, Netherlands, South Africa, Sweeden, UN CERF, United Kingdom, and those not. mentioned by name.\n",
            "\t 5 3898227         0.68651\t1 (related           )    FAO contributes to international policy through the work of its Commission on Genetic Resources for Food and Agriculture and the International Treaty on Plant Genetic Resources for Food and Agriculture.\n",
            "\t 6 7643065         0.68357\t0 (Irrelevant        )    FIFA Associations and Confederations. With 209 associations affiliated to FIFA today, world football's governing body has been dubbed the United Nations of Football .\n",
            "\t 7 8155912         0.68254\t2 (highly relevant   )    Role of the FAO. The Food and Agriculture Organization of the United Nations is an agency of the United Nations that leads international efforts to defeat hunger. Serving both developed and developing countries, FAO acts as a neutral forum where all nations meet as equals to negotiate agreements and debate policy.\n",
            "\t 8 2713711         0.68215\t1 (related           )    Joint FAO/WHO Expert Committee on Food Additives (JECFA) WHO/K.Petersen JECFA is an international scientific expert committee administered jointly by the Food and Agriculture Organization of the United Nations (FAO) and WHO.\n",
            "\t 9 6717765         0.68138\t1 (related           )    FAO's role in aquaculture. About 567 aquatic species are currently farmed all over the world, representing a wealth of genetic diversity both within and among species.\n",
            "\t10 2713708         0.68096\t0 (Irrelevant        )    FAO: Fleet Administration Office (US Navy) FAO: Fondation pour les AÃ®nÃ©s de l'Outaouais (French: Foundation for Seniors in Ottawa; Ottawa, Canada) FAO: Fonderies et Ateliers de l'Ouest (French: Foundries and Workshops of the West) FAO: For Addressee Only: FAO: Forward Area Officer (UK) FAO: Forward Artillery Observer (army) FAO\n",
            "1113256 what is reba mcentire's net worth:\n",
            "\t 1 7561111         0.70640\t3 (perfectly relevant)    Reba McEntire is a popular American singer with an estimated net worth of $95 million. She was born Reba Nell McEntire on March 28, 1955 in McAlest Share On Facebook\n",
            "\t 2 7561115         0.70296\t3 (perfectly relevant)    Wondering how much Reba McEntire is worth? Or maybe youâre curious about Reba McEntireâs salary this year? Fortunately for you, weâve got the details on Reba McEntireâs net worth for 2018. In 2018, Reba McEntireâs net worth was estimated to be $95 Million. Who Is Reba McEntire?\n",
            "\t 3 7561120         0.70162\t3 (perfectly relevant)    Reba Mcentire. Reba Mcentire Net Worth is $65 Million. Reba McEntire is a country music star and actress, originally from Oklahoma, with an estimated net worth of $65 million dollars. Reba McEntire began performing on the rodeo circuit and was discovered by Red Ste. Reba Nell McEntire (born Mar...\n",
            "\t 4 7561114         0.69761\t3 (perfectly relevant)    Reba McEntire Net Worth is $95 Million Reba McEntire Biography. Reba Nell McEntire was born on 28th March 1955, in McAlester, Oklahoma USA. She is a well known country music singer, songwriter and one of the best selling artists of all time. What is more, Reba has been engaged in acting and is a nominee for the Golden Globe Award.\n",
            "\t 5 7561113         0.69611\t3 (perfectly relevant)    About Reba McEntire. Reba McEntire is a popular American singer with an estimated net worth of $95 million. She was born Reba Nell McEntire on March 28, 1955 in McAlester, Oklahoma. She has had great success as a songwriter, singer, and actress.\n",
            "\t 6 8130530         0.69287\t3 (perfectly relevant)    About Reba McEntire Reba McEntire is a popular American singer with an estimated net worth of $95 million. She was born Reba Nell McEntire on March 28, 1955 in McAlester, Oklahoma.\n",
            "\t 7 3914040         0.69127\t0 (Irrelevant        )    $80 Million Per Year. Taylor Swift net worth: Taylor Swift is an American singer and songwriter who has a net worth of $240 million.\n",
            "\t 8 7561117         0.68954\t2 (highly relevant   )    Well, let's get to know more about her net worth and salary. Stay with us, here is the detail: Reba McEntireâs Net Worth and Annual Income. The queen of the music industry, Reba McEntire is one of the most loved music-star who has a massive fan following in the country. She is the woman who has broken more than 90 million records and won numerous awards in that honor. Reba McEntire, Source: Billboard\n",
            "\t 9 8130529         0.68952\t2 (highly relevant   )    Is Reba McEntire secretly gay and hiding in the closet? It's been a rough year for the singer, but at least she has her millions of dollars to ease the pain. 62-year-old Reba McEntire has taken the No. 1 spot on People With Moneyâs top 10 highest-paid singers for 2018 with an estimated $58 million in combined earnings. UPDATE 11/02/2018 : This story seems to be false.\n",
            "\t10 8130535         0.68947\t3 (perfectly relevant)    About Reba Mcentire . It has been estimated that the total amount of Reba McEntire net worth currently is as much as 65 million dollars. Reba McEntire has been a very popular name in music industry where she is a country music singer and song writer. In addition to her involvement into music, Reba McEntire is also known into cinema world, where she is an actress. Thus, her involvement into show business has been the main one when it comes to increasing the overall amount of Reba McEntire net worth. The singer was born in Oklahoma in 1955.\n",
            "1115210 what is chaff and flare:\n",
            "\t 1 8111878         0.67112\t1 (related           )    Chaff and flares are used by fighter and bomber units over a wide range of altitudes and flight maneuvers or tactics. Deployment of chaff and flares does not interfere with the flight characteristics of the dispensing aircraft.\n",
            "\t 2 1419213         0.66985\t0 (Irrelevant        )    flare - am unwanted reflection in an optical system (or the fogging of an image that is caused by such a reflection) interreflection - reciprocal reflection between two reflecting surfaces; there was interreflection between the two surfaces of the lens.\n",
            "\t 3 4189777         0.66798\t0 (Irrelevant        )    Flaring is the controlled burning of natural gas and a common practice in oil/gas exploration, production and processing. operations. A flare system consists of a flare stack and pipes that feed gas to the stack. Flare size and brightness are. related to the type and amount of gas or liquids in the flare stack.\n",
            "\t 4 8111879         0.66773\t3 (perfectly relevant)    Flare (countermeasure) A flare or decoy flare is an aerial infrared countermeasure used by a plane or helicopter to counter an infrared homing (heat-seeking) surface-to-air missile or air-to-air missile. Flares are commonly composed of a pyrotechnic composition based on magnesium or another hot-burning metal, with burning temperature equal to or hotter than engine exhaust.\n",
            "\t 5 845828          0.66753\t0 (Irrelevant        )    A flare is a tube packed with explosive chemicals that burn very brightly or give off smoke, usually to attract attention in an emergency. The two main kinds are handheld flares (which operate on the ground) and rocket flares (which are fired into the air). Handheld flares also come in two kinds.\n",
            "\t 6 845826          0.66716\t0 (Irrelevant        )    Some flares release red stars. Another kind of rocket flare is fired from a specially designed flare gun or Very pistol.These flares are aluminum tubes about 3cm (just over an inch) in diameter and 30cm (12inches) or so long. When they're fired, they shoot rapidly to a height of about 300m (1000ft).\n",
            "\t 7 5903116         0.66644\t0 (Irrelevant        )    Flaring is the controlled burning of natural gas and a common practice in oil/gas exploration, production and processing. operations. A flare system consists of a flare stack and pipes that feed gas to the stack. Flare size and brightness are. related to the type and amount of gas or liquids in the flare stack. Flares generate heat and noise. Large flares can be quite. noisy because of the volume and velocity of the gas going through the flare stack. Because natural gas is valuable, companies would rather. capture than flare it.\n",
            "\t 8 845827          0.66629\t0 (Irrelevant        )    Flaring is the controlled burning of natural gas and a common practice in oil/gas exploration, production and processing. operations. A flare system consists of a flare stack and pipes that feed gas to the stack. Flare size and brightness are. related to the type and amount of gas or liquids in the flare stack. Flares generate heat and noise. Large flares can be quite. noisy because of the volume and velocity of the gas going through the flare stack.\n",
            "\t 9 3031185         0.66623\t0 (Irrelevant        )    The sun emitted a solar flare that erupted on its left side, which was then followed by many more flares. Flaring is the term given to the controlled burning of process gases from the top of a flare stack.\n",
            "\t10 8111885         0.66552\t1 (related           )    Chaff & Flare Products for Military Aircraft Esterline Defense Technologies has more than 40 years of experience in expendable air countermeasures and is part of the highly respected company\n",
            "1116380 what is a nonconformity? earth science:\n",
            "\t 1 8100546         0.68351\t0 (Irrelevant        )    A Dictionary of Earth Sciences. Â© A Dictionary of Earth Sciences 1999, originally published by Oxford University Press 1999. non-conformity (heterolithic unconformity) An unconformity in which younger, sedimentary rocks rest unconformably on older, igneous or metamorphic rocks.\n",
            "\t 2 8100548         0.68031\t0 (Irrelevant        )    Definition of non-conformity â Our online dictionary has non-conformity information from A Dictionary of Earth Sciences dictionary. Encyclopedia.com: English, psychology and medical dictionaries\n",
            "\t 3 8100543         0.67893\t0 (Irrelevant        )    A Dictionary of Earth Sciences Â© A Dictionary of Earth Sciences 1999, originally published by Oxford University Press 1999. non-conformity (heterolithic unconformity) An unconformity in which younger, sedimentary rocks rest unconformably on older, igneous or metamorphic rocks.\n",
            "\t 4 1242073         0.67804\t0 (Irrelevant        )    Nonconformity: Nonconformity is the refusal to conform to accepted standards or rules. During the Puritans time it was common of all people to act the same way, believe in the same ideas, and follow the same rules. Today in pop-culture numerous people,literature, and poems show that being a nonconformist is a good thing.\n",
            "\t 5 1537448         0.67639\t0 (Irrelevant        )    Unconformities Are Gaps in the Geological Record. Gaps in the geological record, like those discovered in 2005, are called unconformities because they do not conform to typical geological expectations. The concept of an unconformity arises from two of the oldest principles of geology, first stated in 1669 by Nicholas Steno: 1 The Law of Original Horizontality: Layers of sedimentary rock (strata) are originally laid down flat, parallel to the Earth's surface. 2 The Law of Superposition.\n",
            "\t 6 8113949         0.67579\t0 (Irrelevant        )    nonconformance; nonconformity. Hypernyms (nonconformity is a kind of...): failure (an act that fails) Hyponyms (each of the following is a kind of nonconformity): nonobservance (a lack of conformity with law or custom or practice etc.) Antonym: conformity (acting according to certain accepted standards)\n",
            "\t 7 2302570         0.67486\t0 (Irrelevant        )    (plural disconformities) ( 1 geology) A type of unconformity in which erosion or lack of deposition has occurred between two parallel sedimentary strata. ( 2 religion) nonconformity.\n",
            "\t 8 4118339         0.67473\t0 (Irrelevant        )    The notion of the general incompleteness of the geologic record is an important one to keep in mind while interpreting Earth history from the rock record. Types of Unconformities. There are three principal types of unconformity, namely, the disconformity, the nonconformity, and the angular unconformity [Fig. 1]. The disconformity (alternately referred to as the paraconformity) is an erosional surface which exists between and parallel to layers of parallel strata.\n",
            "\t 9 1422760         0.67335\t0 (Irrelevant        )    Definition of UNCONFORMITY. 1. archaic: lack of conformity. 2. a: lack of continuity in deposition between rock strata in contact corresponding to a period of nondeposition, weathering, or erosion b: the surface of contact between unconformable strata.\n",
            "\t10 2626979         0.67311\t0 (Irrelevant        )    Definition of nonconformity. 1 1a : failure or refusal to conform to an established churchb often capitalized : the movement or principles of English Protestant dissentc often capitalized : the body of English Nonconformists. 2 2 : refusal to conform to an established or conventional creed, rule, or practice. 3 3 : absence of agreement or correspondence.\n",
            "1121353 what can you do about discrimination in the workplace in oklahoma city:\n",
            "\t 1 8053108         0.68743\t2 (highly relevant   )    Your Rights Filing a Discrimination Claim - Oklahoma Employment discrimination is the practice of unfairly treating a person or group of people differently from other people or groups of other people at work, because of their membership in a legally protected category such as race, sex, age, or religion.\n",
            "\t 2 8053109         0.68553\t2 (highly relevant   )    Your Rights Filing a Discrimination Claim - Oklahoma. Employment discrimination is the practice of unfairly treating a person or group of people differently from other people or groups of other people at work, because of their membership in a legally protected category such as race, sex, age, or religion.\n",
            "\t 3 1188941         0.68316\t0 (Irrelevant        )    Discrimination. o Title IX requires schools to adopt and publish procedures for students to file grievance. complaints of sex discrimination, including complaints of sexual harassment or sexual violence. Schools can use general disciplinary procedures to address complaints of sex discrimination.\n",
            "\t 4 710825          0.68171\t1 (related           )    Discrimination in the Workplace. Discrimination means unequal treatment. Title VII of The Civil Rights Act of 1964 says that no person employed or seeking employment by a business with more than 15 employees may be discriminated against due to his or her race, color, religion, sex, or national origin.\n",
            "\t 5 7191734         0.68157\t1 (related           )    The U.S. Equal Employment Opportunity Commission (EEOC) enforces all of these laws and provides oversight and coordination of all federal equal employment opportunity regulations, practices, and policies. More About Discrimination: How to File an Employment Discrimination Claim | Age Discrimination in the Workplace\n",
            "\t 6 3405327         0.68150\t1 (related           )    results for In What Ways Have Laws Been Used To Enforce Discrimination Provide Examples These Laws Were Intended Against Which Racial Minorities.mployment Law: Workplace Racial Discrimination October 3, 2011 Employment Law: Workplace Racial Discrimination A number of federal and state laws prohibit racial discrimination. Racial discrimination is the practice of letting a person's race or skin color unfairly become a factor when...\n",
            "\t 7 7538287         0.68088\t1 (related           )    Employment Discrimination Types and Examples. Job Searching. Employment discrimination happens when an employee or job applicant is treated unfavorably because of his or her race, skin color, national origin, gender, disability, religion, or age. It is illegal to discriminate in any facet of employment, so workplace discrimination extends beyond hiring and firing.\n",
            "\t 8 4828747         0.68051\t1 (related           )    If you believe that you have been discriminated against at work because of your race, color, religion, sex (including pregnancy, gender identity, and sexual orientation), national origin, age (40 or older), disability or genetic information, you can file a Charge of Discrimination.\n",
            "\t 9 8261242         0.68005\t1 (related           )    Dealing with discrimination in the workplace can be stressful, frustrating, and emotionally traumatic, and deciding whether or not to report it is a highly personal choice. Let's look at what you can do if you feel that you're a victim of discrimination.enerally, discrimination can be defined as the unfavorable treatment of someone based on having or not having a certain characteristic, cultural history, or other perceived difference. But, the groups that are legally protected against discrimination vary widely around the world.\n",
            "\t10 2403262         0.67805\t1 (related           )    Gender discrimination in the workplace refers to discrimination by management in personnel decisions based on an employeeâs sex. Under FEHA, an employer of five or more employees can be liable for discrimination, but for liability for harassment an employer only needs to have one or more employees.\n",
            "1122767 what amino produces carnitine:\n",
            "\t 1 2019367         0.70193\t3 (perfectly relevant)    While it is often categorized as an amino acid, L-carnitine isn't technically an amino. It is considered a vitamin-like and amino acid-like compound that is related to the B vitamins. When it was first studied back in the 1950s, L-carnitine was referred to as vitamin BT. L-carnitine is formed in the liver and kidneys from the amino acids lysine and methionine. However, it is stored elsewhere in the body, primarily in muscle (including the heart), the brain, and even in sperm. In the diet, it mainly comes from meat and other animal products.\n",
            "\t 2 2019371         0.70026\t3 (perfectly relevant)    But before I get into the details of this flawed study, let's first take a closer look at carnitine and what it does in your body. The Transporter. L-carnitine, or just carnitine (the L refers to the configuration of the carnitine molecule that is biologically active) is often referred to as an amino acid, but it is not a true amino acid. Carnitine is an amino acid-like compound that is made in the body from the amino acids lysine and methionine. Its name is derived from the Greek word for flesh or meat, carnus. Not so coincidentally, it's abundant in red meat and dairy products, but it can also be found in various nuts, grains, and green vegetables.\n",
            "\t 3 1901639         0.70006\t3 (perfectly relevant)    In this case, carnitine substitution (food supplementation) is certainly worthwhile. Carnitine is a biocarrier (transport substance), which is synthesised in the liver â and its precursor in the kidneys â from the two essential amino acids lysine and methionine.\n",
            "\t 4 5877499         0.69684\t1 (related           )    Acetyl-L-carnitine, ALCAR or ALC, is an acetylated form of L-carnitine. It is naturally produced by the body, although it is often taken as a dietary supplement. Acetylcarnitine is broken down in the blood by plasma esterases to carnitine which is used by the body to transport fatty acids into the mitochondria for breakdown.\n",
            "\t 5 4550504         0.69616\t3 (perfectly relevant)    Carnitine biosynthesis and metabolism. Carnitine, a branched non-essential amino acid, is synthesized from the essential amino acids lysine and methionine. Ascorbic acid, ferrous iron, pyroxidine and niacin are also necessary cofactors [1] and deficiencies of any of these can lead to carnitine deficiency.\n",
            "\t 6 6179207         0.69531\t1 (related           )    Carnitine, derived from an amino acid, is found in nearly all cells of the body. Its name is derived from the Latin carnus or flesh, as the compound was isolated from meat.Carnitine is the generic term for a number of compounds that include L-carnitine, acetyl-L-carnitine, and propionyl-L-carnitine [ 1-2 ].arnitine plays a critical role in energy production. It transports long-chain fatty acids into the mitochondria so they can be oxidized (burned) to produce energy. It also transports the toxic compounds generated out of this cellular organelle to prevent their accumulation.\n",
            "\t 7 2859900         0.69445\t1 (related           )    Carnitine plays a critical role in energy production. It transports long-chain fatty acids into the mitochondria so they can be oxidized (burned) to produce energy. It also transports the toxic compounds generated out of this cellular organelle to prevent their accumulation.\n",
            "\t 8 468959          0.69338\t2 (highly relevant   )    As a building block for protein, amino acids like L-lysine are necessary for normal growth and development. In particular, L-lysine is needed by the body to manufacture carnitine, a substance that is used in the conversion of fatty acids into energy.\n",
            "\t 9 3407781         0.69296\t2 (highly relevant   )    Carnitine, derived from an amino acid, is found in nearly all cells of the body. Its name is derived from the Latin carnus or flesh, as the compound was isolated from meat. Carnitine is the generic term for a number of compounds that include L-carnitine, acetyl-L-carnitine, and propionyl-L-carnitine [1-2]. Carnitine plays a critical role in energy production.\n",
            "\t10 2859904         0.69213\t1 (related           )    Carnitine, derived from an amino acid, is found in nearly all cells of the body. Its name is derived from the Latin carnus or flesh, as the compound was isolated from meat. Carnitine is the generic term for a number of compounds that include L-carnitine, acetyl-L-carnitine, and propionyl-L-carnitine [1-2].\n",
            "1127540 meaning of shebang:\n",
            "\t 1 8726960         0.68712\t1 (related           )    Word Origin and History for shebang Expand n. 1862, hut, shed, shelter, popularized among soldiers in the U.S. Civil War, but like other Civil War slang (e.g. skedaddle) of uncertain origin.\n",
            "\t 2 8726961         0.68454\t2 (highly relevant   )    shebang definition: Shebang is slang for a situation, or a set of facts or things. (noun) An example of shebang is someone paying for the entire check for a large group dinner; paying for the whole shebang....\n",
            "\t 3 8726955         0.68109\t1 (related           )    [Shebang] used even yet by students of Yale College and elsewhere to designate their rooms, or a theatrical or other performance in a public hall, has its origin probably in a corruption of the French cabane, a hut, familiar to the troops that came from Louisiana, and constantly used in the Confederate camp for the simple huts, which they built with such alacrity and skill for their winter quarters.\n",
            "\t 4 2044368         0.68075\t3 (perfectly relevant)    Definition of shebang. : everything involved in what is under consideration âusually used in the phrase the whole shebang.\n",
            "\t 5 8726954         0.68019\t3 (perfectly relevant)    Shebang is slang for a situation, or a set of facts or things. An example of shebang is someone paying for the entire check for a large group dinner; paying for the whole shebang. YourDictionary definition and usage example. shebang.\n",
            "\t 6 8726956         0.67919\t3 (perfectly relevant)    Shebang is slang for a situation, or a set of facts or things. An example of shebang is someone paying for the entire check for a large group dinner; paying for the whole shebang. shebang\n",
            "\t 7 2044364         0.67756\t1 (related           )    In computing, a shebang is the character sequence consisting of the characters number sign and exclamation mark (#!) at the beginning of a script. It is also called sha-bang, hashbang, pound-bang, or hash-pling.\n",
            "\t 8 8726963         0.67469\t1 (related           )    Origin. First seen in 1862 meaning a âtemporary shelter . For instance in the US Civil War (1860-65), the small self-constructed shelters made by Union soldiers in the Confederate Prisoner-of-War camp at Andersonsville, south of Atlanta, Georgia, were known as Shebangs.\n",
            "\t 9 2044366         0.67119\t2 (highly relevant   )    shebang - an entire system; used in the phrase `the whole shebang'. system, scheme - a group of independent but interrelated elements comprising a unified whole; a vast system of production and distribution and consumption keep the country going. Translations.\n",
            "\t10 8726962         0.67054\t1 (related           )    Origin First seen in 1862 meaning a âtemporary shelter . For instance in the US Civil War (1860-65), the small self-constructed shelters made by Union soldiers in the Confederate Prisoner-of-War camp at Andersonsville, south of Atlanta, Georgia, were known as Shebangs.\n",
            "1131069 how many sons robert kraft has:\n",
            "\t 1 8432050         0.69660\t3 (perfectly relevant)    Robert and Myra Kraft's four sons are: Jonathan Kraft Daniel Kraft Joshua Kraft David Kraft.\n",
            "\t 2 6907808         0.67989\t3 (perfectly relevant)    They had four sons: 1 Jonathan A. Kraft, born March 4, 1964, is president of The Kraft Group and the New England Patriots. 2 Daniel A. Kraft is president of International Forest Products founded in 1972 by his father. 3 Joshua Kraft is president and CEO of the Boys & Girls Clubs of Boston. 4 David Kraft.\n",
            "\t 3 2805726         0.67849\t3 (perfectly relevant)    They had four sons: 1 Jonathan A. Kraft, born March 4, 1964, is president of The Kraft Group and the New England Patriots. 2 Daniel A. Kraft is president of International Forest Products founded in 1972 by his father. 3 Joshua Kraft is president and CEO of the Boys & Girls Clubs of Boston. David Kraft.\n",
            "\t 4 5211648         0.67843\t0 (Irrelevant        )    However, Ellen predeceases her father and leaves two sons, David and George. Since Ellen is not alive to take her share, there would be a per stirpes division of Robert's estate, which means that Ellen's share of $100,000 would be divided equally between David and George, and each would receive $50,000.\n",
            "\t 5 1780968         0.67641\t0 (Irrelevant        )    After serving a quarter-century as his fatherâs right-hand man and fiercest defender, Kraft has stepped farther than ever out of the 73-year-old patriarchâs shadow, closer to the day when he alone represents the face of the familyâs global empire.\n",
            "\t 6 6809703         0.67639\t0 (Irrelevant        )    Robert Kraft is a Massachusetts-born businessman with an estimated net worth of $1.4 billion dollars. Robert Kraft made his fortune as Chairman and CEO of The Kraft Group, which holds assets in everything from paper to real estate.\n",
            "('1131069', '3016745') not in judment\n",
            "\t 7 3016745         0.67626\t0 (Irrelevant        )    John had a child, John Michael Carpenter, from his first marriage who was adopted with the last name of Merrill. John Carpenter had three grandchildren from his first marriage and six great grandchildren.\n",
            "\t 8 6809697         0.67597\t0 (Irrelevant        )    What is Robert Kraft Net Worth? Robert Kraft is a Massachusetts-born businessman with an estimated net worth of $1.4 billion dollars. Robert Kraft made his fortune as Chairman and CEO of The Kraft Group, which holds assets in everything from paper to real estate.\n",
            "\t 9 1780970         0.67569\t0 (Irrelevant        )    Robert Kraft is a well-known name in the American business world. Born on 5 June 1941, he is the CEO of The Kraft Group. The Group is into a number of industries like paper, packaging, equity, sports, entertainment and real estate development. Other than this, Kraft is a keen enthusiast of sports.\n",
            "\t10 6809696         0.67548\t0 (Irrelevant        )    Robert Kraft Family Net Worth. Kraft has been rated on the 122nd position on the Forbes Top 400 list. His net worth amounts to $ 4 million. Kraftâs equity group has funded a number of films, theatre, and television productions. To promote minority groups, he has assisted a number of minority groups to buy WNEV â TV.\n",
            "1132532 average annual income data analyst:\n",
            "\t 1 5053525         0.69604\t2 (highly relevant   )    HOW MUCH DO DATA ANALYSTS MAKE? This depends on experience and what type of data analyst you are. According to the Bureau of Labor Statistics (BLS) financial analysts made a median hourly rate of $35.75, or $74,350 annually in 2010.\n",
            "\t 2 40091           0.69359\t2 (highly relevant   )    This depends on experience and what type of data analyst you are. According to the Bureau of Labor Statistics (BLS) financial analysts made a median hourly rate of $35.75, or $74,350 annually in 2010.\n",
            "\t 3 23966           0.69160\t0 (Irrelevant        )    On average, financial analysts are much better paid than the typical worker. According to data from the U.S. Bureau of Labor Statistics (BLS), the median annual income for financial analysts across all experience levels, as of May 2012, was $76,950. Financial analysts at the big Wall Street firms often make much more, even during the first year.\n",
            "\t 4 7508952         0.69096\t0 (Irrelevant        )    For example the median expected annual pay for a typical Forecast Analyst in the United States is $56,227 so 50% of the people who perform the job of Forecast Analyst in the United States are expected to make less than $56,227. Source: HR Reported data as of October 2015. Median $56,227.\n",
            "\t 5 1258885         0.69086\t2 (highly relevant   )    Financial Analysts Salary. Financial Analysts average salary is $102,431, median salary is $95,000 with a salary range from $26,000 to $720,000. Financial Analysts salaries are collected from government agencies and companies. Each salary is associated with a real job position.\n",
            "\t 6 1258886         0.69079\t2 (highly relevant   )    Financial Analysts average salary is $102,431, median salary is $95,000 with a salary range from $26,000 to $720,000.\n",
            "\t 7 1554004         0.68986\t0 (Irrelevant        )    For example the median expected annual pay for a typical Financial Systems Analyst in the United States is $78,634, so 50% of the people who perform the job of Financial Systems Analyst in the United States are expected to make less than $78,634. Source: HR Reported data as of August 2016. view as graph view as table.\n",
            "\t 8 5130842         0.68980\t2 (highly relevant   )    data analyst i median $86,000 1 ; senior payments operations analyst median $85,862 1 ; quantitative analyst, strategic finance median $85,862 1 ; web analyst median $85,738 1\n",
            "\t 9 3469358         0.68972\t0 (Irrelevant        )    Financial Analyst Salaries. The BLS reports that the average annual wage for financial analyst jobs in May 2012 was $76,950. The upper 10 percent earned more than $148,430, and the lowest 10 percent earned less than $47,130.\n",
            "\t10 8307656         0.68956\t3 (perfectly relevant)    Average Data Analyst salary: $69,672 per year. Data comes from 29,596 real salaries collected directly from employees and jobs on Indeed.\n",
            "1133579 how does granulation tissue start:\n",
            "\t 1 1817055         0.70360\t3 (perfectly relevant)    Granulation Tissue. in Pathology. After tissue damage, repair process starts. It can begin as early as 24 hours. Fibroblasts and endothelial cells begin proliferating to form a specialized type of tissue that is the hallmark of healing called granulation tissue.The term derives from its pink, soft, granular appearance on surface of wound but its histological features are:t can begin as early as 24 hours. Fibroblasts and endothelial cells begin proliferating to form a specialized type of tissue that is the hallmark of healing called granulation tissue. The term derives from its pink, soft, granular appearance on surface of wound but its histological features are:\n",
            "\t 2 733206          0.69223\t1 (related           )    Granulation tissue is formed at the site of an injury and is composed of rich collagen. Slowly as the injury tries to heal, this tissue fills up the space and leaves a mark or scar at the place of injury.\n",
            "\t 3 4931641         0.69201\t2 (highly relevant   )    Granulation tissue is formed at the site of an injury and is composed of rich collagen. Slowly as the injury tries to heal, this tissue fills up the space and leaves a mark or scar at the place of injury.This scar many times fades away or can be dimmed by using various scar removing or lightening creams.ranulation tissue is mostly composed of new blood vessels and fibroblasts and also tissue matrix due to which it can support different cell types. Fibroblasts is the main modifier of granulation tissue and at the start comprises of type III collagen network which is mostly weak.\n",
            "\t 4 4274865         0.69138\t2 (highly relevant   )    The process of granulation provides the early scaffolding necessary to promote healing from the edges of the wound. Granulation tissue does not mature into epithelium; instead, granulation tissue is eventually covered by a layer of epidermal tissue.Granulation tissue is subject to injury by outside forces, including dry/adherent dressings, pressure, high-intensity irrigation of the wound and overzealous wound packing.he process of granulation provides the early scaffolding necessary to promote healing from the edges of the wound. Granulation tissue does not mature into epithelium; instead, granulation tissue is eventually covered by a layer of epidermal tissue.\n",
            "\t 5 6252755         0.69082\t1 (related           )    Granulation tissue is new connective tissue and microscopic blood vessels that form on the surfaces of a wound during the healing process. Granulation tissue typically grows from the base of a wound and is able to fill wounds of almost any size.\n",
            "\t 6 4931644         0.69050\t1 (related           )    Granulation tissue is mostly composed of new blood vessels and fibroblasts and also tissue matrix due to which it can support different cell types. Fibroblasts is the main modifier of granulation tissue and at the start comprises of type III collagen network which is mostly weak.ranulation tissue is mostly composed of new blood vessels and fibroblasts and also tissue matrix due to which it can support different cell types. Fibroblasts is the main modifier of granulation tissue and at the start comprises of type III collagen network which is mostly weak.\n",
            "\t 7 733202          0.69014\t1 (related           )    Granulation tissue is new connective tissue and tiny blood vessels that form on the surfaces of a wound during the healing process. Granulation tissue typically grows from the base of a wound and is able to fill wounds of almost any size.\n",
            "\t 8 8500467         0.68974\t0 (Irrelevant        )    Granulation is the act or process of forming or crystallizing into grains.\n",
            "\t 9 4057642         0.68927\t2 (highly relevant   )    Granulation tissue can be noted from the healthy wound buds that protrude from the wound base. During wound healing, granulation tissue usually appears during the proliferative phase. Angiogenesis is the process by which new blood vessels form, bringing in tiny capilarry buds that appear as granular tissue.\n",
            "\t10 6252757         0.68873\t1 (related           )    Granulation tissue typically consists of an abundance of blood vessels. mixed with fibrous connective tissue. Granulation tissue grows from. the base of a wound and is able to fill the wound, facilitating eventual. epithelialisation and wound closure. Continued wound healing will.\n",
            "1136043 difference between a hotel and motel:\n",
            "\t 1 8728077         0.69330\t1 (related           )    Difference Between Hotel and motel Definition of the term hotel: A Hotel or Inn may be defined as an establishment whose primary business is providing lodging facilities for the general public, and which furnishes one or more of the following services.\n",
            "\t 2 1634131         0.69148\t2 (highly relevant   )    Definition of motel: Motor hotel. In general, roadside overnight accommodation facility that offers little or no amenities (such as attached bathroom or room service) other than parking space. Dictionary Term of Day Articles Subjects Sign Up\n",
            "\t 3 8728069         0.69035\t1 (related           )    The difference between hotels and article about difference between motel and hotel or definition of hotel and motel. History and difference between hotel industry and motel industry. Services and a hotel consist of guest rooms, restaurants, a pool, meeting space and business services.\n",
            "\t 4 8728076         0.68942\t2 (highly relevant   )    Difference Between Hotel and motel. Definition of the term hotel: A Hotel or Inn may be defined as an establishment whose primary business is providing lodging facilities for the general public, and which furnishes one or more of the following services. Additionally according to the category of the hotel they provide different level of personalised service .\n",
            "\t 5 3028339         0.68842\t0 (Irrelevant        )    A hotel/motel is a building regularly used and kept open for the lodging of guests, including bed and breakfasts, inns, etc. The State Occupancy Fee is imposed on the room rentals that are currently subject to the 7% New Jersey sales tax and is in addition to the sales tax.\n",
            "\t 6 1056537         0.68708\t1 (related           )    Hotels and hostels both provide accommodations to travelers, but while the two provide a dry place to stay, the similarities end there. In most cases, hotels are the more luxurious of the two and, therefore, more expensive. At a hotel, a traveler can have his own room and bathroom as well as maid service and other amenities.\n",
            "\t 7 8728073         0.68617\t0 (Irrelevant        )    Difference between resort and hotel . , . . . . It be true that both the hotel and the resort offer temporary lodging resorts are places or towns or commerci...\n",
            "\t 8 4882508         0.68526\t1 (related           )    A motel is a hotel designed for motorists and usually has a parking area for motor vehicles. Entering dictionaries after World War II, the word motel, coined as a portmanteau contraction of motor hotel, originates from the Milestone Mo-Tel of San Luis Obispo, California (now called the Motel Inn of San Luis Obispo), which was built in 1925.\n",
            "\t 9 1634128         0.68517\t1 (related           )    A hotel is an establishment that provides paid lodging on a short-term basis. Facilities provided may range from a modest-quality mattress in a small room to large suites with bigger, higher-quality beds, a dresser, a refrigerator and other kitchen facilities, upholstered chairs, a flatscreen television and en-suite bathrooms.\n",
            "\t10 160039          0.68504\t1 (related           )    A hotel is an establishment that provides paid lodging on a short-term basis. Facilities provided may range from a modest-quality mattress in a small room to large suites with bigger, higher-quality beds, a dresser, a fridge and other kitchen facilities, upholstered chairs, a flatscreen television and en-suite bathrooms.\n",
            "1136047 difference between a company's strategy and business model is:\n",
            "\t 1 6499345         0.70012\t2 (highly relevant   )    Corporate Strategy vs Business Strategy. Difference between corporate strategy and business strategy is that the corporate strategy is concerned with the overall purpose of the organization while business strategy is concerned about a particular business unit and the way it should be planned to be more competitive in the market.\n",
            "\t 2 4803702         0.69803\t1 (related           )    The business strategy of a single-business company is similar to that of a business unit of a diversified company except that the business strategy must support corporate strategic initiatives aimed at the single business.he three levels of strategy for a company are corporate, business and functional. Corporate strategy focuses on determining which businesses the company should be in. Business strategy develops competitive advantages within a businesses segment.\n",
            "\t 3 3775376         0.69770\t0 (Irrelevant        )    A company's strategy typically evolves over time, emerging from a blend of (1) proactive and purposeful actions on the part of company managers and (2) as-needed reactions to unanticipated developments and fresh market conditions. Closely related to the concept of strategy is the concept of a company's business model.\n",
            "\t 4 272464          0.69686\t0 (Irrelevant        )    In the broadest sense, âstrategyâ is a plan for how to achieve a goal. In business, strategy bridges the gap between policy (guidelines governing action) and tactics (a set of techniques). Strategy is what a company develops to differentiate itself from competitorsâ actual or predicted moves.\n",
            "\t 5 8724031         0.69632\t3 (perfectly relevant)    The difference between a... 6. The difference between a company's business model and a company's strategy is that: a. a company's business model is its game plan for achieving operating efficiency while its strategy is management's game plan for winning a sustainable competitive advantage. b.\n",
            "\t 6 180409          0.69609\t0 (Irrelevant        )    The principles guiding how a business uses its resources to achieve its goals. A strategy states a business's focus and indicates the basic steps the business will use to achieve it. The ultimate aim of any strategy is to make money, but each company takes a different (sometimes very different) approach to achieve this goal.\n",
            "\t 7 8724033         0.69593\t1 (related           )    a company's business model relates to delivering capital gains and dividend increases to shareholders whereas its strategy concerns delivering value to customers at the lowest possible price. c. the business model concerns how to operate profitably and the strategy concerns how to please customers.\n",
            "\t 8 1302603         0.69581\t0 (Irrelevant        )    Competitive Strategy. Definition: Competitive Strategy. Competitive Strategy is defined as the long term plan of a particular company in order to gain competitive advantage over its competitors in the industry. It is aimed at creating defensive position in an industry and generating a superior ROI (Return on Investment).\n",
            "\t 9 1240507         0.69489\t1 (related           )    The definition of business strategy is a long term plan of action designed to achieve a particular goal or set of goals or objectives. Strategy is management's game plan for strengthening the performance of the enterprise. It states how business should be conduct to achieve the desired goals.\n",
            "\t10 8022372         0.69479\t0 (Irrelevant        )    Definition: Competitive Strategy Competitive Strategy is defined as the long term plan of a particular company in order to gain competitive advantage over its competitors in the industry. It is aimed at creating defensive position in an industry and generating a superior ROI (Return on Investment).\n",
            "1136962 why did the ancient egyptians call their land kemet, or black land?:\n",
            "\t 1 6185711         0.71814\t3 (perfectly relevant)    Kemet (keh-MET) is the term ancient Egyptians used as the official name of their country. (Sometimes they also called it Ta-mery, or beloved land.) Kemet translates as Black Land, in reference to the fertile banks and fields surrounding the Nile (black from the soil).he name Kemet is refers to the the Land of the Black people! Some white researchers claim that the name Kemet refers to the rich dark soil that was deposited along the banks if the Nile!\n",
            "\t 2 596001          0.71708\t3 (perfectly relevant)    The ancient Egyptian name as transliterated from hieroglyphs is km.t, and was probably pronounced Kemet or Kumat. This means black land, and refers to the fertile black soil around the Nile as distinct from the red sand of the desert. The name is still used today in Coptic - the Copts call themselves rem en khÄmi, People of Egypt. The name Egypt comes from the Greek Aigyptos, and ultimately from the Egyptian Hikuptah.\n",
            "\t 3 5471438         0.71600\t3 (perfectly relevant)    In the early Old Kingdom, Egypt was simply known as 'Kemet' which means 'Black Land' so named for the rich, dark soil along the Nile River where the first settlements began. Later, the country was known simply as Misr which means 'country', a name still in use by Egyptians for their nation in the present day.\n",
            "\t 4 3293337         0.71532\t3 (perfectly relevant)    Egypt is of the countries in Africa and the Middle East. The ancient name for Egypt is Kemet meaning 'black land'. It had obtained its name owing to the fertile black soil found on the plains of the Nile river which flows through Egypt.\n",
            "\t 5 7631079         0.71419\t3 (perfectly relevant)    Kemet (keh-MET) is the term ancient Egyptians used as the official name of their country. (Sometimes they also called it Ta-mery, or beloved land.) Kemet translates as Black Land, in reference to the fertile banks and fields surrounding the Nile (black from the soil). just now. Report Abuse. To most white professionals KEMET my mean black land but the facts of genetics strongly suggest that the amount of Melanin levels found in the tissue of the ancient African mummies are never found in the white and yellow groups and this is absolute ...\n",
            "\t 6 6211004         0.71089\t3 (perfectly relevant)    In the early Old Kingdom, Egypt was simply known as 'Kemet' which means 'Black Land' so named for the rich, dark soil along the Nile River where the first settlements began. Later, the country was known simply as Misr which means 'country', a name still in use by Egyptians for their nation in the present day.n the early Old Kingdom, Egypt was simply known as 'Kemet' which means 'Black Land' so named for the rich, dark soil along the Nile River where the first settlements began. Later, the country was known simply as Misr which means 'country', a name still in use by Egyptians for their nation in the present day.\n",
            "\t 7 6185714         0.70800\t3 (perfectly relevant)    Kemet means black land, and Deshret means red land.. Kemet refers to the land that is flooded every year by the Nile, giving it vital nutrients and a dark color.Deshret is â¦ the desert, which is red obviously.8 people found this useful.uote from the Related Link: 'Kemet' (keh-MET) is the term ancient Egyptians used as the official name of their country. (Sometimes they also called it Ta-mery, or 'beloved land.').\n",
            "\t 8 4088981         0.70699\t3 (perfectly relevant)    Egypt is of the countries in Africa and the Middle East. The ancient name for Egypt is Kemet meaning 'black land'. It had obtained its name owing to the fertile black soil found on the plains of the Nile river which flows through Egypt. Egypt is also known for its historical monuments like the Giza pyramid complex and even the Egyptian civilization holds a lot of importance.\n",
            "\t 9 6842810         0.70586\t3 (perfectly relevant)    Ancient Egyptians divided their country into two types of land: the red land, which meant desert, and the black land,: which was the fertile Nile Valley region.\n",
            "\t10 4589728         0.70443\t3 (perfectly relevant)    As in modern Egypt, this was both a name for the administrative center of Egypt, what we call Memphis today, as well as the name of the country as a whole. Egypt, as many people of the world refer to the country today, is a derivative of this ancient name.n the early period of Egypt, during the Old Kingdom, Egypt was referred to as Kemet (Kermit), or simply Kmt, which means the Black land. They called themselves remetch en Kermet, which means the People of the Black Land. The term refers to the rich soil found in the Nile Valley and Delta.\n"
          ]
        }
      ]
    },
    {
      "cell_type": "markdown",
      "metadata": {
        "id": "JySQsOIT13vn"
      },
      "source": [
        "# Cálculo de DCG@10"
      ]
    },
    {
      "cell_type": "code",
      "metadata": {
        "id": "9feaVm8ZCpzX"
      },
      "source": [
        "import math"
      ],
      "execution_count": 62,
      "outputs": []
    },
    {
      "cell_type": "code",
      "metadata": {
        "colab": {
          "base_uri": "https://localhost:8080/"
        },
        "id": "QmS5HFJd29BQ",
        "outputId": "b6fa13fe-630b-4025-f032-96b67c501900"
      },
      "source": [
        "dcg10 = {}\n",
        "\n",
        "for query_number, query_text in queries:\n",
        "    dcg = 0\n",
        "    for i, result_busca in enumerate(retriever.retrieve(query_text, top_k=10)):\n",
        "      if i >= 10:\n",
        "        raise 'Mudar códido se trouxer mais do que 10'\n",
        "      docid = result_busca.meta['docid']\n",
        "      if (query_number, docid) not in judment:\n",
        "        print(f'{(query_number, docid)} not in judment')\n",
        "      eval = judment.get((query_number, docid), 0)\n",
        "      dcg += (2**int(eval)-1) / math.log2(i+2)\n",
        "    dcg10[query_number] = dcg       \n",
        "    print(f'{query_number}: {dcg}')"
      ],
      "execution_count": 64,
      "outputs": [
        {
          "output_type": "stream",
          "name": "stdout",
          "text": [
            "23849: 22.93069369495727\n",
            "42255: 13.514735906513751\n",
            "47210: 23.132664141911903\n",
            "67316: 0.7890648263178879\n",
            "('118440', '6493523') not in judment\n",
            "('118440', '1087304') not in judment\n",
            "('118440', '6765686') not in judment\n",
            "118440: 4.9165082750002025\n",
            "121171: 8.268831952706009\n",
            "135802: 8.405005075502428\n",
            "141630: 5.145619329416308\n",
            "156498: 0.8333333333333333\n",
            "169208: 7.297251042587794\n",
            "174463: 11.199568244459641\n",
            "258062: 3.999999324861971\n",
            "324585: 29.471582033285088\n",
            "330975: 12.495304212257356\n",
            "332593: 7.820262428119193\n",
            "336901: 7.0\n",
            "390360: 12.713258765089428\n",
            "405163: 0.0\n",
            "555530: 5.6122735206797065\n",
            "583468: 23.45376613984866\n",
            "640502: 21.48399948612078\n",
            "673670: 12.516884837183675\n",
            "701453: 9.57838431520932\n",
            "730539: 11.182732054940859\n",
            "768208: 11.273479298838678\n",
            "877809: 23.469364411727177\n",
            "911232: 9.995983043192659\n",
            "914916: 9.0164059787389\n",
            "938400: 25.486467060270733\n",
            "940547: 4.674489091659804\n",
            "997622: 25.346555400563034\n",
            "1030303: 2.3333333333333335\n",
            "('1037496', '4691526') not in judment\n",
            "1037496: 27.257742568107375\n",
            "1043135: 3.2476752714631285\n",
            "1051399: 16.336546755855604\n",
            "1064670: 5.380299806094905\n",
            "1071750: 7.1085108600117906\n",
            "1105792: 8.789069122140733\n",
            "1106979: 10.995304212257356\n",
            "1108651: 20.651152458279945\n",
            "1109707: 6.418106178673197\n",
            "1110678: 4.1342774332557095\n",
            "1113256: 27.005602543486248\n",
            "1115210: 4.303800732831639\n",
            "1116380: 0.0\n",
            "1121353: 7.30541884523126\n",
            "1122767: 20.88324444782376\n",
            "1127540: 13.449898151054967\n",
            "('1131069', '3016745') not in judment\n",
            "1131069: 14.916508275000202\n",
            "1132532: 10.091817658324464\n",
            "1133579: 12.691507568777368\n",
            "1136043: 5.946585820810172\n",
            "1136047: 6.9732627332105634\n",
            "1136962: 31.80491536661842\n"
          ]
        }
      ]
    },
    {
      "cell_type": "markdown",
      "metadata": {
        "id": "Rt8zS5X94R82"
      },
      "source": [
        "## Salvando resultado"
      ]
    },
    {
      "cell_type": "code",
      "metadata": {
        "id": "gTCAKX4A2-du"
      },
      "source": [
        "w = open('dcg10_dense_dpr_mmpr_com_julgamento.csv', 'w')\n",
        "w.write('query, dcg@10\\n')\n",
        "for query in dcg10.keys():\n",
        "    w.write('{}, {}\\n'.format(query, dcg10[query]))\n",
        "w.close()"
      ],
      "execution_count": 65,
      "outputs": []
    },
    {
      "cell_type": "code",
      "metadata": {
        "id": "JXvaa09U4sdw"
      },
      "source": [
        ""
      ],
      "execution_count": null,
      "outputs": []
    }
  ]
}