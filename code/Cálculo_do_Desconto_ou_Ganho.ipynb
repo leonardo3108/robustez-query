{
  "nbformat": 4,
  "nbformat_minor": 0,
  "metadata": {
    "colab": {
      "name": "Cálculo_do_Desconto_ou_Ganho.ipynb",
      "provenance": [],
      "collapsed_sections": [],
      "authorship_tag": "ABX9TyN7VsZ7rOtDPPi/7jdFq2n5",
      "include_colab_link": true
    },
    "kernelspec": {
      "name": "python3",
      "display_name": "Python 3"
    },
    "language_info": {
      "name": "python"
    }
  },
  "cells": [
    {
      "cell_type": "markdown",
      "metadata": {
        "id": "view-in-github",
        "colab_type": "text"
      },
      "source": [
        "<a href=\"https://colab.research.google.com/github/leonardo3108/robustez-query/blob/main/code/C%C3%A1lculo_do_Desconto_ou_Ganho.ipynb\" target=\"_parent\"><img src=\"https://colab.research.google.com/assets/colab-badge.svg\" alt=\"Open In Colab\"/></a>"
      ]
    },
    {
      "cell_type": "code",
      "metadata": {
        "colab": {
          "base_uri": "https://localhost:8080/"
        },
        "id": "wJZyEUUEF4Fs",
        "outputId": "909a6a12-7bf5-4bb3-85f3-a11463a92bf1"
      },
      "source": [
        "! wget -nc https://raw.githubusercontent.com/leonardo3108/robustez-query/main/code/local/util_bd_dataframe.py\n",
        "! wget -nc https://raw.githubusercontent.com/leonardo3108/robustez-query/main/data/tab_calculated_metric.csv -P data\n",
        "! wget -nc https://raw.githubusercontent.com/leonardo3108/robustez-query/main/data/tab_noise_kind.csv -P data\n",
        "! wget -nc https://raw.githubusercontent.com/leonardo3108/robustez-query/main/data/tab_search_context.csv -P data\n",
        "! wget -nc https://raw.githubusercontent.com/leonardo3108/robustez-query/main/data/tab_original_query.csv -P data"
      ],
      "execution_count": null,
      "outputs": [
        {
          "output_type": "stream",
          "name": "stdout",
          "text": [
            "--2021-11-25 01:14:03--  https://raw.githubusercontent.com/leonardo3108/robustez-query/main/code/local/util_bd_dataframe.py\n",
            "Resolving raw.githubusercontent.com (raw.githubusercontent.com)... 185.199.108.133, 185.199.109.133, 185.199.110.133, ...\n",
            "Connecting to raw.githubusercontent.com (raw.githubusercontent.com)|185.199.108.133|:443... connected.\n",
            "HTTP request sent, awaiting response... 200 OK\n",
            "Length: 12040 (12K) [text/plain]\n",
            "Saving to: ‘util_bd_dataframe.py’\n",
            "\n",
            "\rutil_bd_dataframe.p   0%[                    ]       0  --.-KB/s               \rutil_bd_dataframe.p 100%[===================>]  11.76K  --.-KB/s    in 0s      \n",
            "\n",
            "2021-11-25 01:14:03 (55.0 MB/s) - ‘util_bd_dataframe.py’ saved [12040/12040]\n",
            "\n",
            "--2021-11-25 01:14:04--  https://raw.githubusercontent.com/leonardo3108/robustez-query/main/data/tab_calculated_metric.csv\n",
            "Resolving raw.githubusercontent.com (raw.githubusercontent.com)... 185.199.108.133, 185.199.109.133, 185.199.110.133, ...\n",
            "Connecting to raw.githubusercontent.com (raw.githubusercontent.com)|185.199.108.133|:443... connected.\n",
            "HTTP request sent, awaiting response... 200 OK\n",
            "Length: 283747 (277K) [text/plain]\n",
            "Saving to: ‘data/tab_calculated_metric.csv’\n",
            "\n",
            "tab_calculated_metr 100%[===================>] 277.10K  --.-KB/s    in 0.03s   \n",
            "\n",
            "2021-11-25 01:14:04 (8.43 MB/s) - ‘data/tab_calculated_metric.csv’ saved [283747/283747]\n",
            "\n",
            "--2021-11-25 01:14:04--  https://raw.githubusercontent.com/leonardo3108/robustez-query/main/data/tab_noise_kind.csv\n",
            "Resolving raw.githubusercontent.com (raw.githubusercontent.com)... 185.199.108.133, 185.199.109.133, 185.199.110.133, ...\n",
            "Connecting to raw.githubusercontent.com (raw.githubusercontent.com)|185.199.108.133|:443... connected.\n",
            "HTTP request sent, awaiting response... 200 OK\n",
            "Length: 382 [text/plain]\n",
            "Saving to: ‘data/tab_noise_kind.csv’\n",
            "\n",
            "tab_noise_kind.csv  100%[===================>]     382  --.-KB/s    in 0s      \n",
            "\n",
            "2021-11-25 01:14:04 (19.6 MB/s) - ‘data/tab_noise_kind.csv’ saved [382/382]\n",
            "\n",
            "--2021-11-25 01:14:04--  https://raw.githubusercontent.com/leonardo3108/robustez-query/main/data/tab_search_context.csv\n",
            "Resolving raw.githubusercontent.com (raw.githubusercontent.com)... 185.199.108.133, 185.199.111.133, 185.199.110.133, ...\n",
            "Connecting to raw.githubusercontent.com (raw.githubusercontent.com)|185.199.108.133|:443... connected.\n",
            "HTTP request sent, awaiting response... 200 OK\n",
            "Length: 262 [text/plain]\n",
            "Saving to: ‘data/tab_search_context.csv’\n",
            "\n",
            "tab_search_context. 100%[===================>]     262  --.-KB/s    in 0s      \n",
            "\n",
            "2021-11-25 01:14:05 (9.73 MB/s) - ‘data/tab_search_context.csv’ saved [262/262]\n",
            "\n",
            "--2021-11-25 01:14:05--  https://raw.githubusercontent.com/leonardo3108/robustez-query/main/data/tab_original_query.csv\n",
            "Resolving raw.githubusercontent.com (raw.githubusercontent.com)... 185.199.111.133, 185.199.110.133, 185.199.108.133, ...\n",
            "Connecting to raw.githubusercontent.com (raw.githubusercontent.com)|185.199.111.133|:443... connected.\n",
            "HTTP request sent, awaiting response... 200 OK\n",
            "Length: 3302 (3.2K) [text/plain]\n",
            "Saving to: ‘data/tab_original_query.csv’\n",
            "\n",
            "tab_original_query. 100%[===================>]   3.22K  --.-KB/s    in 0s      \n",
            "\n",
            "2021-11-25 01:14:05 (44.6 MB/s) - ‘data/tab_original_query.csv’ saved [3302/3302]\n",
            "\n"
          ]
        }
      ]
    },
    {
      "cell_type": "markdown",
      "metadata": {
        "id": "vhJ0sObhnVDr"
      },
      "source": [
        "# Obtenção da Base de dados"
      ]
    },
    {
      "cell_type": "code",
      "metadata": {
        "colab": {
          "base_uri": "https://localhost:8080/",
          "height": 424
        },
        "id": "tnWyumbeG34Y",
        "outputId": "b7480d4e-cbdc-485a-abb4-e1a843cbfe17"
      },
      "source": [
        "import util_bd_dataframe  as util_bd_pandas\n",
        "\n",
        "df_calculated_metric = util_bd_pandas.read_df_calculated_metric_with_label()[['search_context','cod_metric','noise_kind', 'value','cod_original_query']]\n",
        "df_calculated_metric"
      ],
      "execution_count": null,
      "outputs": [
        {
          "output_type": "execute_result",
          "data": {
            "text/html": [
              "<div>\n",
              "<style scoped>\n",
              "    .dataframe tbody tr th:only-of-type {\n",
              "        vertical-align: middle;\n",
              "    }\n",
              "\n",
              "    .dataframe tbody tr th {\n",
              "        vertical-align: top;\n",
              "    }\n",
              "\n",
              "    .dataframe thead th {\n",
              "        text-align: right;\n",
              "    }\n",
              "</style>\n",
              "<table border=\"1\" class=\"dataframe\">\n",
              "  <thead>\n",
              "    <tr style=\"text-align: right;\">\n",
              "      <th></th>\n",
              "      <th>search_context</th>\n",
              "      <th>cod_metric</th>\n",
              "      <th>noise_kind</th>\n",
              "      <th>value</th>\n",
              "      <th>cod_original_query</th>\n",
              "    </tr>\n",
              "  </thead>\n",
              "  <tbody>\n",
              "    <tr>\n",
              "      <th>0</th>\n",
              "      <td>TREC 2020 Judment-BM25</td>\n",
              "      <td>DCG@10</td>\n",
              "      <td>No changes in the text</td>\n",
              "      <td>1.746141</td>\n",
              "      <td>23849</td>\n",
              "    </tr>\n",
              "    <tr>\n",
              "      <th>1</th>\n",
              "      <td>TREC 2020 Judment-BM25</td>\n",
              "      <td>DCG@10</td>\n",
              "      <td>No changes in the text</td>\n",
              "      <td>7.000000</td>\n",
              "      <td>42255</td>\n",
              "    </tr>\n",
              "    <tr>\n",
              "      <th>2</th>\n",
              "      <td>TREC 2020 Judment-BM25</td>\n",
              "      <td>DCG@10</td>\n",
              "      <td>No changes in the text</td>\n",
              "      <td>24.412392</td>\n",
              "      <td>47210</td>\n",
              "    </tr>\n",
              "    <tr>\n",
              "      <th>3</th>\n",
              "      <td>TREC 2020 Judment-BM25</td>\n",
              "      <td>DCG@10</td>\n",
              "      <td>No changes in the text</td>\n",
              "      <td>7.315465</td>\n",
              "      <td>67316</td>\n",
              "    </tr>\n",
              "    <tr>\n",
              "      <th>4</th>\n",
              "      <td>TREC 2020 Judment-BM25</td>\n",
              "      <td>DCG@10</td>\n",
              "      <td>No changes in the text</td>\n",
              "      <td>3.014736</td>\n",
              "      <td>118440</td>\n",
              "    </tr>\n",
              "    <tr>\n",
              "      <th>...</th>\n",
              "      <td>...</td>\n",
              "      <td>...</td>\n",
              "      <td>...</td>\n",
              "      <td>...</td>\n",
              "      <td>...</td>\n",
              "    </tr>\n",
              "    <tr>\n",
              "      <th>4855</th>\n",
              "      <td>TREC 2020 Judment-ReRank@100</td>\n",
              "      <td>nDCG@10</td>\n",
              "      <td>With one typographical error</td>\n",
              "      <td>0.665893</td>\n",
              "      <td>1030303</td>\n",
              "    </tr>\n",
              "    <tr>\n",
              "      <th>4856</th>\n",
              "      <td>TREC 2020 Judment-ReRank@100</td>\n",
              "      <td>nDCG@10</td>\n",
              "      <td>With one typographical error</td>\n",
              "      <td>0.456374</td>\n",
              "      <td>1037496</td>\n",
              "    </tr>\n",
              "    <tr>\n",
              "      <th>4857</th>\n",
              "      <td>TREC 2020 Judment-ReRank@100</td>\n",
              "      <td>nDCG@10</td>\n",
              "      <td>With one typographical error</td>\n",
              "      <td>0.772823</td>\n",
              "      <td>1043135</td>\n",
              "    </tr>\n",
              "    <tr>\n",
              "      <th>4858</th>\n",
              "      <td>TREC 2020 Judment-ReRank@100</td>\n",
              "      <td>nDCG@10</td>\n",
              "      <td>With one typographical error</td>\n",
              "      <td>0.594450</td>\n",
              "      <td>1051399</td>\n",
              "    </tr>\n",
              "    <tr>\n",
              "      <th>4859</th>\n",
              "      <td>TREC 2020 Judment-ReRank@100</td>\n",
              "      <td>nDCG@10</td>\n",
              "      <td>With one typographical error</td>\n",
              "      <td>0.852928</td>\n",
              "      <td>1131069</td>\n",
              "    </tr>\n",
              "  </tbody>\n",
              "</table>\n",
              "<p>4860 rows × 5 columns</p>\n",
              "</div>"
            ],
            "text/plain": [
              "                    search_context cod_metric  ...      value  cod_original_query\n",
              "0           TREC 2020 Judment-BM25     DCG@10  ...   1.746141               23849\n",
              "1           TREC 2020 Judment-BM25     DCG@10  ...   7.000000               42255\n",
              "2           TREC 2020 Judment-BM25     DCG@10  ...  24.412392               47210\n",
              "3           TREC 2020 Judment-BM25     DCG@10  ...   7.315465               67316\n",
              "4           TREC 2020 Judment-BM25     DCG@10  ...   3.014736              118440\n",
              "...                            ...        ...  ...        ...                 ...\n",
              "4855  TREC 2020 Judment-ReRank@100    nDCG@10  ...   0.665893             1030303\n",
              "4856  TREC 2020 Judment-ReRank@100    nDCG@10  ...   0.456374             1037496\n",
              "4857  TREC 2020 Judment-ReRank@100    nDCG@10  ...   0.772823             1043135\n",
              "4858  TREC 2020 Judment-ReRank@100    nDCG@10  ...   0.594450             1051399\n",
              "4859  TREC 2020 Judment-ReRank@100    nDCG@10  ...   0.852928             1131069\n",
              "\n",
              "[4860 rows x 5 columns]"
            ]
          },
          "metadata": {},
          "execution_count": 2
        }
      ]
    },
    {
      "cell_type": "markdown",
      "metadata": {
        "id": "IAk3TMr1pKvK"
      },
      "source": [
        "# Dicionário guardando os valores de nDCG@10 para as queries originais, sem ruído"
      ]
    },
    {
      "cell_type": "code",
      "metadata": {
        "id": "ILWS0d7fdq69",
        "colab": {
          "base_uri": "https://localhost:8080/"
        },
        "outputId": "c8a82ffe-e7f6-45cf-9d71-3210d7e2b76f"
      },
      "source": [
        "nDCG10_original = df_calculated_metric.query('cod_metric == \"nDCG@10\" and noise_kind == \"No changes in the text\"').set_index(['cod_original_query', 'search_context'])[['value']].to_dict()['value']\n",
        "list(nDCG10_original.items())[:10]"
      ],
      "execution_count": null,
      "outputs": [
        {
          "output_type": "execute_result",
          "data": {
            "text/plain": [
              "[((23849, 'TREC 2020 Judment-BM25'), 0.05490162180062975),\n",
              " ((42255, 'TREC 2020 Judment-BM25'), 0.37291464931616275),\n",
              " ((47210, 'TREC 2020 Judment-BM25'), 0.8662197873089202),\n",
              " ((67316, 'TREC 2020 Judment-BM25'), 0.27246345699710156),\n",
              " ((118440, 'TREC 2020 Judment-BM25'), 0.09478836436955079),\n",
              " ((121171, 'TREC 2020 Judment-BM25'), 0.07336392209936006),\n",
              " ((135802, 'TREC 2020 Judment-BM25'), 0.8630084885045989),\n",
              " ((141630, 'TREC 2020 Judment-BM25'), 0.3310440361812822),\n",
              " ((156498, 'TREC 2020 Judment-BM25'), 0.3408937879601314),\n",
              " ((169208, 'TREC 2020 Judment-BM25'), 0.29495549945770944)]"
            ]
          },
          "metadata": {},
          "execution_count": 3
        }
      ]
    },
    {
      "cell_type": "markdown",
      "metadata": {
        "id": "booc4pd1pbuI"
      },
      "source": [
        "# Função para calcular o Desconto ou Ganho de uma query em um contexto de busca"
      ]
    },
    {
      "cell_type": "code",
      "metadata": {
        "colab": {
          "base_uri": "https://localhost:8080/"
        },
        "id": "BYJKb3RMh1vB",
        "outputId": "c40f5844-c043-4501-dc05-d1a763ab5702"
      },
      "source": [
        "def calcular_desconto_ganho(cod_original_query, search_context, value):\n",
        "    base = nDCG10_original[(cod_original_query, search_context)]\n",
        "    if base:\n",
        "        return value / base - 1\n",
        "    return float(\"NaN\")\n",
        "\n",
        "# teste    \n",
        "calcular_desconto_ganho(1030303, 'TREC 2020 Full-ReRank@1000', 0.676534)"
      ],
      "execution_count": null,
      "outputs": [
        {
          "output_type": "execute_result",
          "data": {
            "text/plain": [
              "-0.0456676209736564"
            ]
          },
          "metadata": {},
          "execution_count": 4
        }
      ]
    },
    {
      "cell_type": "markdown",
      "metadata": {
        "id": "E2lNbw-cpo9D"
      },
      "source": [
        "# Cálculo de todos os valores de Desconto ou Ganho e armazenamento em um dataframe"
      ]
    },
    {
      "cell_type": "code",
      "metadata": {
        "colab": {
          "base_uri": "https://localhost:8080/",
          "height": 424
        },
        "id": "46YPcRIDkuf4",
        "outputId": "9423e5eb-a93e-4045-994b-a3bd6ad21740"
      },
      "source": [
        "df_dg_nDCG10 = df_calculated_metric.query('cod_metric == \"nDCG@10\"')[['search_context', 'noise_kind', 'cod_original_query']]\n",
        "df_dg_nDCG10['cod_metric'] = 'DG:nDCG@10'\n",
        "df_dg_nDCG10['value'] = df_calculated_metric.query('cod_metric == \"nDCG@10\"').apply(lambda row:calcular_desconto_ganho(row.cod_original_query, row.search_context, row.value), axis = 1)\n",
        "df_dg_nDCG10.dropna(inplace=True)\n",
        "df_dg_nDCG10"
      ],
      "execution_count": null,
      "outputs": [
        {
          "output_type": "execute_result",
          "data": {
            "text/html": [
              "<div>\n",
              "<style scoped>\n",
              "    .dataframe tbody tr th:only-of-type {\n",
              "        vertical-align: middle;\n",
              "    }\n",
              "\n",
              "    .dataframe tbody tr th {\n",
              "        vertical-align: top;\n",
              "    }\n",
              "\n",
              "    .dataframe thead th {\n",
              "        text-align: right;\n",
              "    }\n",
              "</style>\n",
              "<table border=\"1\" class=\"dataframe\">\n",
              "  <thead>\n",
              "    <tr style=\"text-align: right;\">\n",
              "      <th></th>\n",
              "      <th>search_context</th>\n",
              "      <th>noise_kind</th>\n",
              "      <th>cod_original_query</th>\n",
              "      <th>cod_metric</th>\n",
              "      <th>value</th>\n",
              "    </tr>\n",
              "  </thead>\n",
              "  <tbody>\n",
              "    <tr>\n",
              "      <th>54</th>\n",
              "      <td>TREC 2020 Judment-BM25</td>\n",
              "      <td>No changes in the text</td>\n",
              "      <td>23849</td>\n",
              "      <td>DG:nDCG@10</td>\n",
              "      <td>0.000000</td>\n",
              "    </tr>\n",
              "    <tr>\n",
              "      <th>55</th>\n",
              "      <td>TREC 2020 Judment-BM25</td>\n",
              "      <td>No changes in the text</td>\n",
              "      <td>42255</td>\n",
              "      <td>DG:nDCG@10</td>\n",
              "      <td>0.000000</td>\n",
              "    </tr>\n",
              "    <tr>\n",
              "      <th>56</th>\n",
              "      <td>TREC 2020 Judment-BM25</td>\n",
              "      <td>No changes in the text</td>\n",
              "      <td>47210</td>\n",
              "      <td>DG:nDCG@10</td>\n",
              "      <td>0.000000</td>\n",
              "    </tr>\n",
              "    <tr>\n",
              "      <th>57</th>\n",
              "      <td>TREC 2020 Judment-BM25</td>\n",
              "      <td>No changes in the text</td>\n",
              "      <td>67316</td>\n",
              "      <td>DG:nDCG@10</td>\n",
              "      <td>0.000000</td>\n",
              "    </tr>\n",
              "    <tr>\n",
              "      <th>58</th>\n",
              "      <td>TREC 2020 Judment-BM25</td>\n",
              "      <td>No changes in the text</td>\n",
              "      <td>118440</td>\n",
              "      <td>DG:nDCG@10</td>\n",
              "      <td>0.000000</td>\n",
              "    </tr>\n",
              "    <tr>\n",
              "      <th>...</th>\n",
              "      <td>...</td>\n",
              "      <td>...</td>\n",
              "      <td>...</td>\n",
              "      <td>...</td>\n",
              "      <td>...</td>\n",
              "    </tr>\n",
              "    <tr>\n",
              "      <th>4855</th>\n",
              "      <td>TREC 2020 Judment-ReRank@100</td>\n",
              "      <td>With one typographical error</td>\n",
              "      <td>1030303</td>\n",
              "      <td>DG:nDCG@10</td>\n",
              "      <td>0.023385</td>\n",
              "    </tr>\n",
              "    <tr>\n",
              "      <th>4856</th>\n",
              "      <td>TREC 2020 Judment-ReRank@100</td>\n",
              "      <td>With one typographical error</td>\n",
              "      <td>1037496</td>\n",
              "      <td>DG:nDCG@10</td>\n",
              "      <td>-0.506072</td>\n",
              "    </tr>\n",
              "    <tr>\n",
              "      <th>4857</th>\n",
              "      <td>TREC 2020 Judment-ReRank@100</td>\n",
              "      <td>With one typographical error</td>\n",
              "      <td>1043135</td>\n",
              "      <td>DG:nDCG@10</td>\n",
              "      <td>-0.001899</td>\n",
              "    </tr>\n",
              "    <tr>\n",
              "      <th>4858</th>\n",
              "      <td>TREC 2020 Judment-ReRank@100</td>\n",
              "      <td>With one typographical error</td>\n",
              "      <td>1051399</td>\n",
              "      <td>DG:nDCG@10</td>\n",
              "      <td>-0.279501</td>\n",
              "    </tr>\n",
              "    <tr>\n",
              "      <th>4859</th>\n",
              "      <td>TREC 2020 Judment-ReRank@100</td>\n",
              "      <td>With one typographical error</td>\n",
              "      <td>1131069</td>\n",
              "      <td>DG:nDCG@10</td>\n",
              "      <td>0.042723</td>\n",
              "    </tr>\n",
              "  </tbody>\n",
              "</table>\n",
              "<p>2340 rows × 5 columns</p>\n",
              "</div>"
            ],
            "text/plain": [
              "                    search_context  ...     value\n",
              "54          TREC 2020 Judment-BM25  ...  0.000000\n",
              "55          TREC 2020 Judment-BM25  ...  0.000000\n",
              "56          TREC 2020 Judment-BM25  ...  0.000000\n",
              "57          TREC 2020 Judment-BM25  ...  0.000000\n",
              "58          TREC 2020 Judment-BM25  ...  0.000000\n",
              "...                            ...  ...       ...\n",
              "4855  TREC 2020 Judment-ReRank@100  ...  0.023385\n",
              "4856  TREC 2020 Judment-ReRank@100  ... -0.506072\n",
              "4857  TREC 2020 Judment-ReRank@100  ... -0.001899\n",
              "4858  TREC 2020 Judment-ReRank@100  ... -0.279501\n",
              "4859  TREC 2020 Judment-ReRank@100  ...  0.042723\n",
              "\n",
              "[2340 rows x 5 columns]"
            ]
          },
          "metadata": {},
          "execution_count": 5
        }
      ]
    },
    {
      "cell_type": "markdown",
      "metadata": {
        "id": "eq1qAQf3p0Wf"
      },
      "source": [
        "# TODO: guardar na base de dados"
      ]
    },
    {
      "cell_type": "code",
      "metadata": {
        "id": "VC0azZPDj1lg"
      },
      "source": [
        "### util_bd_pandas.save_calculated_metric(dict_val:dict, cod_search_context:int, cod_noise_kind:int)"
      ],
      "execution_count": null,
      "outputs": []
    },
    {
      "cell_type": "code",
      "metadata": {
        "id": "tFgYaMzqJbqO"
      },
      "source": [
        ""
      ],
      "execution_count": null,
      "outputs": []
    }
  ]
}